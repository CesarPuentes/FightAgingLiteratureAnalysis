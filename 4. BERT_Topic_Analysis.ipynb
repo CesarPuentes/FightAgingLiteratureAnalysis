{
 "cells": [
  {
   "cell_type": "code",
   "execution_count": 1,
   "id": "fea6d3c1",
   "metadata": {},
   "outputs": [
    {
     "name": "stderr",
     "output_type": "stream",
     "text": [
      "/media/flan/Bodega4T1/CodeProjects/AgingLiterature/.venv/lib/python3.10/site-packages/tqdm/auto.py:21: TqdmWarning: IProgress not found. Please update jupyter and ipywidgets. See https://ipywidgets.readthedocs.io/en/stable/user_install.html\n",
      "  from .autonotebook import tqdm as notebook_tqdm\n"
     ]
    },
    {
     "name": "stdout",
     "output_type": "stream",
     "text": [
      "DataFrame not found or is empty. Loading from database...\n",
      "✅ Successfully loaded 18753 articles from 'fightaging_articles.db'.\n",
      "\n",
      "Starting data preprocessing...\n",
      "\n",
      "--- 🚀 FULL DATASET MODE ---\n",
      "Full date range: 2002-11-01 to 2025-09-19\n",
      "\n",
      "✅ Data ready for modeling: 18753 documents.\n"
     ]
    }
   ],
   "source": [
    "# Cell 1: Data Loading and Cleaning (Refactored)\n",
    "\n",
    "import pandas as pd\n",
    "import numpy as np\n",
    "import matplotlib.pyplot as plt\n",
    "import seaborn as sns\n",
    "from sklearn.feature_extraction.text import CountVectorizer\n",
    "from bertopic import BERTopic\n",
    "from bertopic.representation import KeyBERTInspired\n",
    "import os\n",
    "import nltk\n",
    "from nltk.corpus import stopwords\n",
    "from nltk.tokenize import word_tokenize\n",
    "import re\n",
    "import random\n",
    "import sqlite3\n",
    "\n",
    "# --- NLTK resource download (if necessary) ---\n",
    "try:\n",
    "    nltk.data.find('corpora/stopwords')\n",
    "except nltk.downloader.DownloadError:\n",
    "    nltk.download('stopwords', quiet=True)\n",
    "try:\n",
    "    nltk.data.find('tokenizers/punkt')\n",
    "except nltk.downloader.DownloadError:\n",
    "    nltk.download('punkt', quiet=True)\n",
    "\n",
    "# ==============================================================================\n",
    "# --- HYPERPARAMETERS AND CONSTANTS ---\n",
    "# ==============================================================================\n",
    "MODEL_PATH = \"aging_topics.bertopic\"\n",
    "DB_NAME = \"fightaging_articles.db\"\n",
    "\n",
    "# --- Sampling Control ---\n",
    "# True: Uses only a portion of the data for quick testing.\n",
    "# False: Uses the full dataset for final analysis.\n",
    "use_sample = False\n",
    "SAMPLE_DAYS = 730  # 2 years. Only used if use_sample = True.\n",
    "\n",
    "# ==============================================================================\n",
    "# --- HELPER FUNCTIONS ---\n",
    "# ==============================================================================\n",
    "def load_data_from_db(db_name=\"fightaging_articles.db\"):\n",
    "    \"\"\"Loads all articles from the SQLite database into a DataFrame.\"\"\"\n",
    "    try:\n",
    "        conn = sqlite3.connect(db_name)\n",
    "        df = pd.read_sql_query(\"SELECT * FROM articles\", conn)\n",
    "        conn.close()\n",
    "        df['publish_date'] = pd.to_datetime(df['publish_date'])\n",
    "        print(f\"✅ Successfully loaded {len(df)} articles from '{db_name}'.\")\n",
    "        return df\n",
    "    except Exception as e:\n",
    "        print(f\"❌ Could not load data from the database. Error: {e}\")\n",
    "        return pd.DataFrame()\n",
    "\n",
    "def simple_clean_text(text):\n",
    "    \"\"\"Cleans the text: lowercase, removes punctuation/numbers, etc.\"\"\"\n",
    "    if pd.isna(text):\n",
    "        return \"\"\n",
    "    text = str(text).lower()\n",
    "    text = re.sub(r'[^a-z\\s]', '', text)  # Only keeps letters and spaces\n",
    "    tokens = word_tokenize(text)\n",
    "    filtered_tokens = [word for word in tokens if len(word) > 2]\n",
    "    return \" \".join(filtered_tokens)\n",
    "\n",
    "# ==============================================================================\n",
    "# --- MAIN LOADING AND PREPROCESSING LOGIC (REFACTORED) ---\n",
    "# ==============================================================================\n",
    "\n",
    "# 1. Load data if it's not already in memory\n",
    "# This structure ensures `articles_df` is always defined, satisfying the linter.\n",
    "if 'articles_df' not in locals() or not isinstance(articles_df, pd.DataFrame) or articles_df.empty:\n",
    "    print(\"DataFrame not found or is empty. Loading from database...\")\n",
    "    articles_df = load_data_from_db(DB_NAME)\n",
    "else:\n",
    "    print(f\"Using pre-existing 'articles_df' with {len(articles_df)} rows.\")\n",
    "\n",
    "# Initialize final variables to ensure they exist even if processing fails\n",
    "documents, timestamps = [], []\n",
    "\n",
    "# 2. Proceed with processing only if the DataFrame has data\n",
    "if not articles_df.empty:\n",
    "    try:\n",
    "        print(\"\\nStarting data preprocessing...\")\n",
    "        processed_df = articles_df.copy() # Work on a copy to preserve the original\n",
    "        \n",
    "        # Text and date preprocessing\n",
    "        processed_df['full_text'] = processed_df['title'].astype(str) + ' ' + processed_df['body'].astype(str)\n",
    "        processed_df['cleaned_text'] = processed_df['full_text'].apply(simple_clean_text)\n",
    "        processed_df.dropna(subset=['cleaned_text', 'publish_date'], inplace=True)\n",
    "        processed_df.sort_values(by='publish_date', inplace=True, ascending=True)\n",
    "\n",
    "        # Data selection (Sample vs. Full)\n",
    "        if use_sample:\n",
    "            print(f\"\\n--- 🧪 SAMPLE MODE ACTIVATED ---\")\n",
    "            start_date = processed_df['publish_date'].min()\n",
    "            end_date = start_date + pd.Timedelta(days=SAMPLE_DAYS)\n",
    "            df_final = processed_df[processed_df['publish_date'] <= end_date]\n",
    "            print(f\"Sample date range: {df_final['publish_date'].min().date()} to {df_final['publish_date'].max().date()}\")\n",
    "        else:\n",
    "            print(f\"\\n--- 🚀 FULL DATASET MODE ---\")\n",
    "            df_final = processed_df\n",
    "            print(f\"Full date range: {df_final['publish_date'].min().date()} to {df_final['publish_date'].max().date()}\")\n",
    "\n",
    "        # List preparation for the model\n",
    "        documents = df_final['cleaned_text'].tolist()\n",
    "        timestamps = df_final['publish_date'].tolist()\n",
    "\n",
    "        if not documents:\n",
    "            print(\"❌ ERROR: The list of documents is empty after filtering.\")\n",
    "        else:\n",
    "            print(f\"\\n✅ Data ready for modeling: {len(documents)} documents.\")\n",
    "\n",
    "    except Exception as e:\n",
    "        print(f\"❌ An error occurred during preprocessing: {e}\")\n",
    "else:\n",
    "    print(\"DataFrame is empty. Cannot continue with processing.\")"
   ]
  },
  {
   "cell_type": "code",
   "execution_count": 2,
   "id": "8038c368",
   "metadata": {},
   "outputs": [
    {
     "name": "stdout",
     "output_type": "stream",
     "text": [
      "\n",
      "▶️ Starting topic modeling process on 18753 documents.\n",
      "--- 🚀 FULL MODE: Model will be saved to 'aging_topics_full.bertopic' ---\n",
      "\n",
      "Generating document embeddings (this may take a while)...\n"
     ]
    },
    {
     "name": "stderr",
     "output_type": "stream",
     "text": [
      "Batches: 100%|██████████| 587/587 [00:37<00:00, 15.57it/s]\n"
     ]
    },
    {
     "name": "stdout",
     "output_type": "stream",
     "text": [
      "✅ Embeddings generated with shape: (18753, 384)\n",
      "\n",
      "Loading existing model from 'aging_topics_full.bertopic'...\n",
      "✅ Model loaded successfully.\n",
      "\n",
      "Assigning topics to documents...\n",
      "✅ Topics assigned successfully.\n"
     ]
    }
   ],
   "source": [
    "# Cell 2: Topic Training and Assignment\n",
    "\n",
    "from sentence_transformers import SentenceTransformer\n",
    "import os # Added for os.path.exists()\n",
    "from sklearn.feature_extraction.text import CountVectorizer\n",
    "from bertopic import BERTopic\n",
    "from bertopic.representation import KeyBERTInspired\n",
    "\n",
    "\n",
    "# Only execute if Cell 1 loaded data correctly\n",
    "if 'documents' in locals() and documents:\n",
    "    # --- Confirmation of data size ---\n",
    "    print(f\"\\n▶️ Starting topic modeling process on {len(documents)} documents.\")\n",
    "\n",
    "    # --- a. Configuration and Paths ---\n",
    "    if use_sample:\n",
    "        MODEL_PATH = \"aging_topics_sample.bertopic\"\n",
    "        print(f\"--- 🧪 SAMPLE MODE: Model will be saved to '{MODEL_PATH}' ---\")\n",
    "    else:\n",
    "        MODEL_PATH = \"aging_topics_full.bertopic\"\n",
    "        print(f\"--- 🚀 FULL MODE: Model will be saved to '{MODEL_PATH}' ---\")\n",
    "\n",
    "    # --- b. Pre-calculation of Embeddings ---\n",
    "    print(\"\\nGenerating document embeddings (this may take a while)...\")\n",
    "    embedding_model = SentenceTransformer(\"all-MiniLM-L6-v2\")\n",
    "    embeddings = embedding_model.encode(documents, show_progress_bar=True)\n",
    "    print(f\"✅ Embeddings generated with shape: {embeddings.shape}\")\n",
    "\n",
    "    # --- c. Load or Train the Model ---\n",
    "    if os.path.exists(MODEL_PATH):\n",
    "        print(f\"\\nLoading existing model from '{MODEL_PATH}'...\")\n",
    "        topic_model = BERTopic.load(MODEL_PATH)\n",
    "        print(\"✅ Model loaded successfully.\")\n",
    "    else:\n",
    "        print(\"\\nModel not found. Training a new BERTopic model...\")\n",
    "        vectorizer_model = CountVectorizer(ngram_range=(1, 3), stop_words=\"english\")\n",
    "        keybert_representation = KeyBERTInspired()\n",
    "        representation_model = {\"KeyBERT_Phrases\": keybert_representation}\n",
    "        \n",
    "        topic_model = BERTopic(\n",
    "            embedding_model=embedding_model,\n",
    "            language=\"english\",\n",
    "            verbose=True,\n",
    "            vectorizer_model=vectorizer_model,\n",
    "            representation_model=representation_model,\n",
    "        )\n",
    "        topic_model.fit(documents, embeddings) # Use fit() since we transform later\n",
    "        topic_model.save(MODEL_PATH)\n",
    "        print(f\"\\n✅ New model trained and saved to '{MODEL_PATH}'!\")\n",
    "\n",
    "    # --- d. Topic Assignment ---\n",
    "    print(\"\\nAssigning topics to documents...\")\n",
    "    topics, _ = topic_model.transform(documents, embeddings)\n",
    "    print(\"✅ Topics assigned successfully.\")\n",
    "\n",
    "else:\n",
    "    print(\"❌ No data to train the model. Run Cell 1 first.\")"
   ]
  },
  {
   "cell_type": "code",
   "execution_count": 3,
   "id": "6619cb5e",
   "metadata": {},
   "outputs": [
    {
     "name": "stdout",
     "output_type": "stream",
     "text": [
      "✅ Loading pre-calculated results from 'inference_results'...\n",
      "Results loaded successfully!\n",
      "\n",
      "--- Results ready for analysis and visualization. ---\n"
     ]
    }
   ],
   "source": [
    "# Cell 3: Synchronization and Loading/Calculation of Results\n",
    "\n",
    "import numpy as np\n",
    "import pandas as pd\n",
    "import os\n",
    "\n",
    "if 'topic_model' in locals() and 'documents' in locals() and 'embeddings' in locals():\n",
    "    # --- a. Define File Paths ---\n",
    "    RESULTS_DIR = \"inference_results\"\n",
    "    os.makedirs(RESULTS_DIR, exist_ok=True) # Creates the directory if it doesn't exist\n",
    "\n",
    "    # Dynamic paths based on whether we are using the sample or the full dataset\n",
    "    if use_sample:\n",
    "        topics_path = os.path.join(RESULTS_DIR, \"topics_sample.npy\")\n",
    "        time_path = os.path.join(RESULTS_DIR, \"topics_over_time_sample.csv\")\n",
    "    else:\n",
    "        topics_path = os.path.join(RESULTS_DIR, \"topics_full.npy\")\n",
    "        time_path = os.path.join(RESULTS_DIR, \"topics_over_time_full.csv\")\n",
    "\n",
    "    # --- b. Loading or Calculation Logic ---\n",
    "    # Check if the results files already exist\n",
    "    if os.path.exists(topics_path) and os.path.exists(time_path):\n",
    "        # --- FAST TRACK: Load from disk ---\n",
    "        # ✅ Loading pre-calculated results from '{RESULTS_DIR}'...\n",
    "        print(f\"✅ Loading pre-calculated results from '{RESULTS_DIR}'...\")\n",
    "        \n",
    "        topics = np.load(topics_path)\n",
    "        topics_over_time = pd.read_csv(time_path, parse_dates=['Timestamp'])\n",
    "        \n",
    "        # Results loaded successfully!\n",
    "        print(\"Results loaded successfully!\")\n",
    "\n",
    "    else:\n",
    "        # --- SLOW TRACK: Calculate and then Save ---\n",
    "        # ❌ Pre-calculated results not found. Calculating now (this may take a while)...\n",
    "        print(\"❌ Pre-calculated results not found. Calculating now (this may take a while)...\")\n",
    "        \n",
    "        # 1. Synchronize topics (uses the GPU)\n",
    "        # Assigning topics to documents...\n",
    "        print(\"Assigning topics to documents...\")\n",
    "        topics, _ = topic_model.transform(documents, embeddings)\n",
    "        \n",
    "        # 2. Calculate temporal evolution\n",
    "        # Calculating topic evolution over time...\n",
    "        print(\"Calculating topic evolution over time...\")\n",
    "        topics_over_time = topic_model.topics_over_time(\n",
    "            docs=documents, \n",
    "            timestamps=timestamps, \n",
    "            topics=topics,\n",
    "            nr_bins=20\n",
    "        )\n",
    "        # ✅ Calculations completed.\n",
    "        print(\"✅ Calculations completed.\")\n",
    "        \n",
    "        # 3. Save the new results for next time\n",
    "        # Saving new results to '{RESULTS_DIR}'...\n",
    "        print(f\"Saving new results to '{RESULTS_DIR}'...\")\n",
    "        np.save(topics_path, topics)\n",
    "        topics_over_time.to_csv(time_path, index=False)\n",
    "        # ✅ Results saved for future sessions!\n",
    "        print(\"✅ Results saved for future sessions!\")\n",
    "\n",
    "    # At the end of this cell, 'topics' and 'topics_over_time' will always be available\n",
    "    # \\n--- Results ready for analysis and visualization. ---\n",
    "    print(\"\\n--- Results ready for analysis and visualization. ---\")\n",
    "\n",
    "else:\n",
    "    # ❌ The model, documents, or embeddings are not available. Run previous cells first.\n",
    "    print(\"❌ The model, documents, or embeddings are not available. Run previous cells first.\")"
   ]
  },
  {
   "cell_type": "code",
   "execution_count": 4,
   "id": "750392aa",
   "metadata": {},
   "outputs": [
    {
     "name": "stdout",
     "output_type": "stream",
     "text": [
      "\n",
      "--- Topic Frequency Chart ---\n"
     ]
    },
    {
     "data": {
      "application/vnd.plotly.v1+json": {
       "config": {
        "plotlyServerURL": "https://plot.ly"
       },
       "data": [
        {
         "marker": {
          "color": "#D55E00"
         },
         "orientation": "h",
         "type": "bar",
         "x": [
          0.005755680594582525,
          0.0061796830836952,
          0.00653273290878769,
          0.013041754439951946,
          0.01671732961773401
         ],
         "xaxis": "x",
         "y": [
          "dna  ",
          "mitochondrial dna  ",
          "mtdna  ",
          "mitochondria  ",
          "mitochondrial  "
         ],
         "yaxis": "y"
        },
        {
         "marker": {
          "color": "#0072B2"
         },
         "orientation": "h",
         "type": "bar",
         "x": [
          0.006632613279590118,
          0.007037944854383692,
          0.00902315729237093,
          0.011657613379040753,
          0.02517349190855147
         ],
         "xaxis": "x2",
         "y": [
          "vitrification  ",
          "preservation  ",
          "cryopreservation  ",
          "alcor  ",
          "cryonics  "
         ],
         "yaxis": "y2"
        },
        {
         "marker": {
          "color": "#CC79A7"
         },
         "orientation": "h",
         "type": "bar",
         "x": [
          0.002607269550831871,
          0.0029320704723671326,
          0.003308734205402084,
          0.004167943631015341,
          0.006967987678490551
         ],
         "xaxis": "x3",
         "y": [
          "metabolism  ",
          "slow  ",
          "research  ",
          "damage  ",
          "aging  "
         ],
         "yaxis": "y3"
        },
        {
         "marker": {
          "color": "#E69F00"
         },
         "orientation": "h",
         "type": "bar",
         "x": [
          0.00798849448420443,
          0.009143577772947843,
          0.011587263783483688,
          0.015973803886204584,
          0.017793588552184242
         ],
         "xaxis": "x4",
         "y": [
          "sasp  ",
          "cells  ",
          "senescence  ",
          "senescent cells  ",
          "senescent  "
         ],
         "yaxis": "y4"
        },
        {
         "marker": {
          "color": "#56B4E9"
         },
         "orientation": "h",
         "type": "bar",
         "x": [
          0.016100269775744476,
          0.016404746742341342,
          0.018794846277556218,
          0.022707651947243595,
          0.023183168024893435
         ],
         "xaxis": "x5",
         "y": [
          "telomere length  ",
          "length  ",
          "telomerase  ",
          "telomeres  ",
          "telomere  "
         ],
         "yaxis": "y5"
        },
        {
         "marker": {
          "color": "#009E73"
         },
         "orientation": "h",
         "type": "bar",
         "x": [
          0.0100303805739908,
          0.010469080791006976,
          0.011703413515360016,
          0.015686139124773835,
          0.018686511062358354
         ],
         "xaxis": "x6",
         "y": [
          "stem cell  ",
          "embryonic  ",
          "cells  ",
          "stem cells  ",
          "stem  "
         ],
         "yaxis": "y6"
        },
        {
         "marker": {
          "color": "#F0E442"
         },
         "orientation": "h",
         "type": "bar",
         "x": [
          0.00928059493501897,
          0.0094348080595113,
          0.01021297965861163,
          0.017720920941383007,
          0.019671092361730435
         ],
         "xaxis": "x7",
         "y": [
          "atherosclerotic  ",
          "ldl  ",
          "plaque  ",
          "atherosclerosis  ",
          "cholesterol  "
         ],
         "yaxis": "y7"
        },
        {
         "marker": {
          "color": "#D55E00"
         },
         "orientation": "h",
         "type": "bar",
         "x": [
          0.010810368484265417,
          0.01685688314578211,
          0.01823983496758499,
          0.020802039384877603,
          0.028542847648034077
         ],
         "xaxis": "x8",
         "y": [
          "gut microbiota  ",
          "gut microbiome  ",
          "microbiota  ",
          "microbiome  ",
          "gut  "
         ],
         "yaxis": "y8"
        },
        {
         "marker": {
          "color": "#0072B2"
         },
         "orientation": "h",
         "type": "bar",
         "x": [
          0.004369239006536215,
          0.007008697198208588,
          0.0150144605429563,
          0.016678321010699992,
          0.02134795815460635
         ],
         "xaxis": "x9",
         "y": [
          "research  ",
          "sens  ",
          "aubrey grey  ",
          "aubrey  ",
          "grey  "
         ],
         "yaxis": "y9"
        },
        {
         "marker": {
          "color": "#CC79A7"
         },
         "orientation": "h",
         "type": "bar",
         "x": [
          0.011287940478234601,
          0.011288314647388619,
          0.012115268078135845,
          0.0131657163814329,
          0.013853022786142566
         ],
         "xaxis": "x10",
         "y": [
          "research foundation  ",
          "sens research foundation  ",
          "sens research  ",
          "foundation  ",
          "sens  "
         ],
         "yaxis": "y10"
        },
        {
         "marker": {
          "color": "#E69F00"
         },
         "orientation": "h",
         "type": "bar",
         "x": [
          0.009478418559218696,
          0.009779621897420173,
          0.011660851869816184,
          0.011983142294686373,
          0.020831419617131624
         ],
         "xaxis": "x11",
         "y": [
          "physical activity  ",
          "cognitive  ",
          "physical  ",
          "brain  ",
          "exercise  "
         ],
         "yaxis": "y11"
        },
        {
         "marker": {
          "color": "#56B4E9"
         },
         "orientation": "h",
         "type": "bar",
         "x": [
          0.009563859530530096,
          0.010088083230746685,
          0.014331667453594056,
          0.01707899608826217,
          0.025599271301420302
         ],
         "xaxis": "x12",
         "y": [
          "stem cell  ",
          "cells  ",
          "stem cells  ",
          "stem  ",
          "heart  "
         ],
         "yaxis": "y12"
        },
        {
         "marker": {
          "color": "#009E73"
         },
         "orientation": "h",
         "type": "bar",
         "x": [
          0.005953064189970606,
          0.006053713523987868,
          0.0061021737812858405,
          0.006637845596468658,
          0.007133391395694184
         ],
         "xaxis": "x13",
         "y": [
          "investors  ",
          "longevity  ",
          "company  ",
          "companies  ",
          "industry  "
         ],
         "yaxis": "y13"
        },
        {
         "marker": {
          "color": "#F0E442"
         },
         "orientation": "h",
         "type": "bar",
         "x": [
          0.012113109194195422,
          0.01569002369818305,
          0.019388323068736984,
          0.023289973530167225,
          0.02338952193870501
         ],
         "xaxis": "x14",
         "y": [
          "embryonic  ",
          "stem  ",
          "stem cell  ",
          "cell research  ",
          "stem cell research  "
         ],
         "yaxis": "y14"
        },
        {
         "marker": {
          "color": "#D55E00"
         },
         "orientation": "h",
         "type": "bar",
         "x": [
          0.010907140436943448,
          0.01129280036671057,
          0.012187930738680817,
          0.026261458314909617,
          0.026783764688311205
         ],
         "xaxis": "x15",
         "y": [
          "strength  ",
          "mass  ",
          "muscle mass  ",
          "sarcopenia  ",
          "muscle  "
         ],
         "yaxis": "y15"
        },
        {
         "marker": {
          "color": "#0072B2"
         },
         "orientation": "h",
         "type": "bar",
         "x": [
          0.012376022140822758,
          0.012721416660100201,
          0.017871927856421232,
          0.019883824590486,
          0.024768172223814413
         ],
         "xaxis": "x16",
         "y": [
          "dna methylation  ",
          "clock  ",
          "methylation  ",
          "clocks  ",
          "epigenetic  "
         ],
         "yaxis": "y16"
        },
        {
         "marker": {
          "color": "#CC79A7"
         },
         "orientation": "h",
         "type": "bar",
         "x": [
          0.009200575304858473,
          0.009910355399237385,
          0.010147551893841495,
          0.011160096003536306,
          0.02294904194204667
         ],
         "xaxis": "x17",
         "y": [
          "regenerative  ",
          "regenerate  ",
          "zebrafish  ",
          "salamanders  ",
          "regeneration  "
         ],
         "yaxis": "y17"
        },
        {
         "marker": {
          "color": "#E69F00"
         },
         "orientation": "h",
         "type": "bar",
         "x": [
          0.010348078371993806,
          0.011189915904776446,
          0.012868762602119076,
          0.017110647465245415,
          0.0222079318820917
         ],
         "xaxis": "x18",
         "y": [
          "obesity  ",
          "bmi  ",
          "overweight  ",
          "weight  ",
          "fat  "
         ],
         "yaxis": "y18"
        },
        {
         "marker": {
          "color": "#56B4E9"
         },
         "orientation": "h",
         "type": "bar",
         "x": [
          0.005805338503663257,
          0.006411682222335308,
          0.011535039991224525,
          0.012558233930253807,
          0.0142759787331667
         ],
         "xaxis": "x19",
         "y": [
          "association  ",
          "genes  ",
          "longevity  ",
          "variants  ",
          "genetic  "
         ],
         "yaxis": "y19"
        },
        {
         "marker": {
          "color": "#009E73"
         },
         "orientation": "h",
         "type": "bar",
         "x": [
          0.0045688949474404356,
          0.005607582149869253,
          0.006258042254363715,
          0.010087476064109898,
          0.020645361542174803
         ],
         "xaxis": "x20",
         "y": [
          "memory cells  ",
          "immunity  ",
          "cells  ",
          "immunosenescence  ",
          "immune  "
         ],
         "yaxis": "y20"
        },
        {
         "marker": {
          "color": "#F0E442"
         },
         "orientation": "h",
         "type": "bar",
         "x": [
          0.006623234942770622,
          0.008697109876100827,
          0.0092392644753851,
          0.009643420178441418,
          0.018963531956318922
         ],
         "xaxis": "x21",
         "y": [
          "immune  ",
          "chronic inflammation  ",
          "chronic  ",
          "inflammatory  ",
          "inflammation  "
         ],
         "yaxis": "y21"
        },
        {
         "marker": {
          "color": "#D55E00"
         },
         "orientation": "h",
         "type": "bar",
         "x": [
          0.010555071875294184,
          0.01183892018252528,
          0.01374323409545415,
          0.01684508032034907,
          0.021513046937579855
         ],
         "xaxis": "x22",
         "y": [
          "somatic  ",
          "damage  ",
          "mutations  ",
          "dna damage  ",
          "dna  "
         ],
         "yaxis": "y22"
        },
        {
         "marker": {
          "color": "#0072B2"
         },
         "orientation": "h",
         "type": "bar",
         "x": [
          0.007787541385060675,
          0.010009818864453993,
          0.010020831130077276,
          0.0228898397035005,
          0.036715844256889396
         ],
         "xaxis": "x23",
         "y": [
          "bone loss  ",
          "osteoclasts  ",
          "osteoblasts  ",
          "osteoporosis  ",
          "bone  "
         ],
         "yaxis": "y23"
        },
        {
         "marker": {
          "color": "#CC79A7"
         },
         "orientation": "h",
         "type": "bar",
         "x": [
          0.008028810193519349,
          0.008117533973761455,
          0.009422723014143621,
          0.016285273765900866,
          0.04015791878776022
         ],
         "xaxis": "x24",
         "y": [
          "neurodegenerative  ",
          "inflammatory  ",
          "brain  ",
          "microglial  ",
          "microglia  "
         ],
         "yaxis": "y24"
        },
        {
         "marker": {
          "color": "#E69F00"
         },
         "orientation": "h",
         "type": "bar",
         "x": [
          0.005769337024774346,
          0.0068009548760075925,
          0.015645596171639735,
          0.016105268223694374,
          0.0335477725535571
         ],
         "xaxis": "x25",
         "y": [
          "sirtris  ",
          "sir  ",
          "sirtuin  ",
          "sirtuins  ",
          "sirt  "
         ],
         "yaxis": "y25"
        },
        {
         "marker": {
          "color": "#56B4E9"
         },
         "orientation": "h",
         "type": "bar",
         "x": [
          0.0098546596493341,
          0.011958897883531104,
          0.012808123198589013,
          0.013087783621348222,
          0.022161564142486878
         ],
         "xaxis": "x26",
         "y": [
          "advanced glycation  ",
          "rage  ",
          "glycation  ",
          "glucosepane  ",
          "ages  "
         ],
         "yaxis": "y26"
        },
        {
         "marker": {
          "color": "#009E73"
         },
         "orientation": "h",
         "type": "bar",
         "x": [
          0.01090726475965439,
          0.015553293492841024,
          0.018260824450458225,
          0.0188485375187577,
          0.019430169883490896
         ],
         "xaxis": "x27",
         "y": [
          "mortality  ",
          "activity  ",
          "exercise  ",
          "physical activity  ",
          "physical  "
         ],
         "yaxis": "y27"
        },
        {
         "marker": {
          "color": "#F0E442"
         },
         "orientation": "h",
         "type": "bar",
         "x": [
          0.006474864683991948,
          0.008128443954937954,
          0.016626810817547966,
          0.018566721217407534,
          0.02216768497299943
         ],
         "xaxis": "x28",
         "y": [
          "fund  ",
          "mprize  ",
          "foundation  ",
          "methuselah foundation  ",
          "methuselah  "
         ],
         "yaxis": "y28"
        },
        {
         "marker": {
          "color": "#D55E00"
         },
         "orientation": "h",
         "type": "bar",
         "x": [
          0.01995075811209261,
          0.020373649024810734,
          0.028627767021813955,
          0.029809148305376485,
          0.03560024623793289
         ],
         "xaxis": "x29",
         "y": [
          "stem  ",
          "stem cells  ",
          "cancer  ",
          "cancer stem cells  ",
          "cancer stem  "
         ],
         "yaxis": "y29"
        },
        {
         "marker": {
          "color": "#0072B2"
         },
         "orientation": "h",
         "type": "bar",
         "x": [
          0.008486689499252903,
          0.010238860537150202,
          0.014419905878632311,
          0.015422394058683897,
          0.02120894185057004
         ],
         "xaxis": "x30",
         "y": [
          "cells  ",
          "cell  ",
          "stem cell  ",
          "stem cells  ",
          "stem  "
         ],
         "yaxis": "y30"
        }
       ],
       "layout": {
        "annotations": [
         {
          "font": {
           "size": 16
          },
          "showarrow": false,
          "text": "Topic 0",
          "x": 0.0875,
          "xanchor": "center",
          "xref": "paper",
          "y": 1,
          "yanchor": "bottom",
          "yref": "paper"
         },
         {
          "font": {
           "size": 16
          },
          "showarrow": false,
          "text": "Topic 1",
          "x": 0.36250000000000004,
          "xanchor": "center",
          "xref": "paper",
          "y": 1,
          "yanchor": "bottom",
          "yref": "paper"
         },
         {
          "font": {
           "size": 16
          },
          "showarrow": false,
          "text": "Topic 2",
          "x": 0.6375000000000001,
          "xanchor": "center",
          "xref": "paper",
          "y": 1,
          "yanchor": "bottom",
          "yref": "paper"
         },
         {
          "font": {
           "size": 16
          },
          "showarrow": false,
          "text": "Topic 3",
          "x": 0.9125,
          "xanchor": "center",
          "xref": "paper",
          "y": 1,
          "yanchor": "bottom",
          "yref": "paper"
         },
         {
          "font": {
           "size": 16
          },
          "showarrow": false,
          "text": "Topic 4",
          "x": 0.0875,
          "xanchor": "center",
          "xref": "paper",
          "y": 0.8687499999999999,
          "yanchor": "bottom",
          "yref": "paper"
         },
         {
          "font": {
           "size": 16
          },
          "showarrow": false,
          "text": "Topic 5",
          "x": 0.36250000000000004,
          "xanchor": "center",
          "xref": "paper",
          "y": 0.8687499999999999,
          "yanchor": "bottom",
          "yref": "paper"
         },
         {
          "font": {
           "size": 16
          },
          "showarrow": false,
          "text": "Topic 6",
          "x": 0.6375000000000001,
          "xanchor": "center",
          "xref": "paper",
          "y": 0.8687499999999999,
          "yanchor": "bottom",
          "yref": "paper"
         },
         {
          "font": {
           "size": 16
          },
          "showarrow": false,
          "text": "Topic 7",
          "x": 0.9125,
          "xanchor": "center",
          "xref": "paper",
          "y": 0.8687499999999999,
          "yanchor": "bottom",
          "yref": "paper"
         },
         {
          "font": {
           "size": 16
          },
          "showarrow": false,
          "text": "Topic 8",
          "x": 0.0875,
          "xanchor": "center",
          "xref": "paper",
          "y": 0.7375,
          "yanchor": "bottom",
          "yref": "paper"
         },
         {
          "font": {
           "size": 16
          },
          "showarrow": false,
          "text": "Topic 9",
          "x": 0.36250000000000004,
          "xanchor": "center",
          "xref": "paper",
          "y": 0.7375,
          "yanchor": "bottom",
          "yref": "paper"
         },
         {
          "font": {
           "size": 16
          },
          "showarrow": false,
          "text": "Topic 10",
          "x": 0.6375000000000001,
          "xanchor": "center",
          "xref": "paper",
          "y": 0.7375,
          "yanchor": "bottom",
          "yref": "paper"
         },
         {
          "font": {
           "size": 16
          },
          "showarrow": false,
          "text": "Topic 11",
          "x": 0.9125,
          "xanchor": "center",
          "xref": "paper",
          "y": 0.7375,
          "yanchor": "bottom",
          "yref": "paper"
         },
         {
          "font": {
           "size": 16
          },
          "showarrow": false,
          "text": "Topic 12",
          "x": 0.0875,
          "xanchor": "center",
          "xref": "paper",
          "y": 0.60625,
          "yanchor": "bottom",
          "yref": "paper"
         },
         {
          "font": {
           "size": 16
          },
          "showarrow": false,
          "text": "Topic 13",
          "x": 0.36250000000000004,
          "xanchor": "center",
          "xref": "paper",
          "y": 0.60625,
          "yanchor": "bottom",
          "yref": "paper"
         },
         {
          "font": {
           "size": 16
          },
          "showarrow": false,
          "text": "Topic 14",
          "x": 0.6375000000000001,
          "xanchor": "center",
          "xref": "paper",
          "y": 0.60625,
          "yanchor": "bottom",
          "yref": "paper"
         },
         {
          "font": {
           "size": 16
          },
          "showarrow": false,
          "text": "Topic 15",
          "x": 0.9125,
          "xanchor": "center",
          "xref": "paper",
          "y": 0.60625,
          "yanchor": "bottom",
          "yref": "paper"
         },
         {
          "font": {
           "size": 16
          },
          "showarrow": false,
          "text": "Topic 16",
          "x": 0.0875,
          "xanchor": "center",
          "xref": "paper",
          "y": 0.475,
          "yanchor": "bottom",
          "yref": "paper"
         },
         {
          "font": {
           "size": 16
          },
          "showarrow": false,
          "text": "Topic 17",
          "x": 0.36250000000000004,
          "xanchor": "center",
          "xref": "paper",
          "y": 0.475,
          "yanchor": "bottom",
          "yref": "paper"
         },
         {
          "font": {
           "size": 16
          },
          "showarrow": false,
          "text": "Topic 18",
          "x": 0.6375000000000001,
          "xanchor": "center",
          "xref": "paper",
          "y": 0.475,
          "yanchor": "bottom",
          "yref": "paper"
         },
         {
          "font": {
           "size": 16
          },
          "showarrow": false,
          "text": "Topic 19",
          "x": 0.9125,
          "xanchor": "center",
          "xref": "paper",
          "y": 0.475,
          "yanchor": "bottom",
          "yref": "paper"
         },
         {
          "font": {
           "size": 16
          },
          "showarrow": false,
          "text": "Topic 20",
          "x": 0.0875,
          "xanchor": "center",
          "xref": "paper",
          "y": 0.34374999999999994,
          "yanchor": "bottom",
          "yref": "paper"
         },
         {
          "font": {
           "size": 16
          },
          "showarrow": false,
          "text": "Topic 21",
          "x": 0.36250000000000004,
          "xanchor": "center",
          "xref": "paper",
          "y": 0.34374999999999994,
          "yanchor": "bottom",
          "yref": "paper"
         },
         {
          "font": {
           "size": 16
          },
          "showarrow": false,
          "text": "Topic 22",
          "x": 0.6375000000000001,
          "xanchor": "center",
          "xref": "paper",
          "y": 0.34374999999999994,
          "yanchor": "bottom",
          "yref": "paper"
         },
         {
          "font": {
           "size": 16
          },
          "showarrow": false,
          "text": "Topic 23",
          "x": 0.9125,
          "xanchor": "center",
          "xref": "paper",
          "y": 0.34374999999999994,
          "yanchor": "bottom",
          "yref": "paper"
         },
         {
          "font": {
           "size": 16
          },
          "showarrow": false,
          "text": "Topic 24",
          "x": 0.0875,
          "xanchor": "center",
          "xref": "paper",
          "y": 0.21249999999999997,
          "yanchor": "bottom",
          "yref": "paper"
         },
         {
          "font": {
           "size": 16
          },
          "showarrow": false,
          "text": "Topic 25",
          "x": 0.36250000000000004,
          "xanchor": "center",
          "xref": "paper",
          "y": 0.21249999999999997,
          "yanchor": "bottom",
          "yref": "paper"
         },
         {
          "font": {
           "size": 16
          },
          "showarrow": false,
          "text": "Topic 26",
          "x": 0.6375000000000001,
          "xanchor": "center",
          "xref": "paper",
          "y": 0.21249999999999997,
          "yanchor": "bottom",
          "yref": "paper"
         },
         {
          "font": {
           "size": 16
          },
          "showarrow": false,
          "text": "Topic 27",
          "x": 0.9125,
          "xanchor": "center",
          "xref": "paper",
          "y": 0.21249999999999997,
          "yanchor": "bottom",
          "yref": "paper"
         },
         {
          "font": {
           "size": 16
          },
          "showarrow": false,
          "text": "Topic 28",
          "x": 0.0875,
          "xanchor": "center",
          "xref": "paper",
          "y": 0.08124999999999999,
          "yanchor": "bottom",
          "yref": "paper"
         },
         {
          "font": {
           "size": 16
          },
          "showarrow": false,
          "text": "Topic 29",
          "x": 0.36250000000000004,
          "xanchor": "center",
          "xref": "paper",
          "y": 0.08124999999999999,
          "yanchor": "bottom",
          "yref": "paper"
         }
        ],
        "height": 2000,
        "hoverlabel": {
         "bgcolor": "white",
         "font": {
          "family": "Rockwell",
          "size": 16
         }
        },
        "showlegend": false,
        "template": {
         "data": {
          "bar": [
           {
            "error_x": {
             "color": "#2a3f5f"
            },
            "error_y": {
             "color": "#2a3f5f"
            },
            "marker": {
             "line": {
              "color": "white",
              "width": 0.5
             },
             "pattern": {
              "fillmode": "overlay",
              "size": 10,
              "solidity": 0.2
             }
            },
            "type": "bar"
           }
          ],
          "barpolar": [
           {
            "marker": {
             "line": {
              "color": "white",
              "width": 0.5
             },
             "pattern": {
              "fillmode": "overlay",
              "size": 10,
              "solidity": 0.2
             }
            },
            "type": "barpolar"
           }
          ],
          "carpet": [
           {
            "aaxis": {
             "endlinecolor": "#2a3f5f",
             "gridcolor": "#C8D4E3",
             "linecolor": "#C8D4E3",
             "minorgridcolor": "#C8D4E3",
             "startlinecolor": "#2a3f5f"
            },
            "baxis": {
             "endlinecolor": "#2a3f5f",
             "gridcolor": "#C8D4E3",
             "linecolor": "#C8D4E3",
             "minorgridcolor": "#C8D4E3",
             "startlinecolor": "#2a3f5f"
            },
            "type": "carpet"
           }
          ],
          "choropleth": [
           {
            "colorbar": {
             "outlinewidth": 0,
             "ticks": ""
            },
            "type": "choropleth"
           }
          ],
          "contour": [
           {
            "colorbar": {
             "outlinewidth": 0,
             "ticks": ""
            },
            "colorscale": [
             [
              0,
              "#0d0887"
             ],
             [
              0.1111111111111111,
              "#46039f"
             ],
             [
              0.2222222222222222,
              "#7201a8"
             ],
             [
              0.3333333333333333,
              "#9c179e"
             ],
             [
              0.4444444444444444,
              "#bd3786"
             ],
             [
              0.5555555555555556,
              "#d8576b"
             ],
             [
              0.6666666666666666,
              "#ed7953"
             ],
             [
              0.7777777777777778,
              "#fb9f3a"
             ],
             [
              0.8888888888888888,
              "#fdca26"
             ],
             [
              1,
              "#f0f921"
             ]
            ],
            "type": "contour"
           }
          ],
          "contourcarpet": [
           {
            "colorbar": {
             "outlinewidth": 0,
             "ticks": ""
            },
            "type": "contourcarpet"
           }
          ],
          "heatmap": [
           {
            "colorbar": {
             "outlinewidth": 0,
             "ticks": ""
            },
            "colorscale": [
             [
              0,
              "#0d0887"
             ],
             [
              0.1111111111111111,
              "#46039f"
             ],
             [
              0.2222222222222222,
              "#7201a8"
             ],
             [
              0.3333333333333333,
              "#9c179e"
             ],
             [
              0.4444444444444444,
              "#bd3786"
             ],
             [
              0.5555555555555556,
              "#d8576b"
             ],
             [
              0.6666666666666666,
              "#ed7953"
             ],
             [
              0.7777777777777778,
              "#fb9f3a"
             ],
             [
              0.8888888888888888,
              "#fdca26"
             ],
             [
              1,
              "#f0f921"
             ]
            ],
            "type": "heatmap"
           }
          ],
          "histogram": [
           {
            "marker": {
             "pattern": {
              "fillmode": "overlay",
              "size": 10,
              "solidity": 0.2
             }
            },
            "type": "histogram"
           }
          ],
          "histogram2d": [
           {
            "colorbar": {
             "outlinewidth": 0,
             "ticks": ""
            },
            "colorscale": [
             [
              0,
              "#0d0887"
             ],
             [
              0.1111111111111111,
              "#46039f"
             ],
             [
              0.2222222222222222,
              "#7201a8"
             ],
             [
              0.3333333333333333,
              "#9c179e"
             ],
             [
              0.4444444444444444,
              "#bd3786"
             ],
             [
              0.5555555555555556,
              "#d8576b"
             ],
             [
              0.6666666666666666,
              "#ed7953"
             ],
             [
              0.7777777777777778,
              "#fb9f3a"
             ],
             [
              0.8888888888888888,
              "#fdca26"
             ],
             [
              1,
              "#f0f921"
             ]
            ],
            "type": "histogram2d"
           }
          ],
          "histogram2dcontour": [
           {
            "colorbar": {
             "outlinewidth": 0,
             "ticks": ""
            },
            "colorscale": [
             [
              0,
              "#0d0887"
             ],
             [
              0.1111111111111111,
              "#46039f"
             ],
             [
              0.2222222222222222,
              "#7201a8"
             ],
             [
              0.3333333333333333,
              "#9c179e"
             ],
             [
              0.4444444444444444,
              "#bd3786"
             ],
             [
              0.5555555555555556,
              "#d8576b"
             ],
             [
              0.6666666666666666,
              "#ed7953"
             ],
             [
              0.7777777777777778,
              "#fb9f3a"
             ],
             [
              0.8888888888888888,
              "#fdca26"
             ],
             [
              1,
              "#f0f921"
             ]
            ],
            "type": "histogram2dcontour"
           }
          ],
          "mesh3d": [
           {
            "colorbar": {
             "outlinewidth": 0,
             "ticks": ""
            },
            "type": "mesh3d"
           }
          ],
          "parcoords": [
           {
            "line": {
             "colorbar": {
              "outlinewidth": 0,
              "ticks": ""
             }
            },
            "type": "parcoords"
           }
          ],
          "pie": [
           {
            "automargin": true,
            "type": "pie"
           }
          ],
          "scatter": [
           {
            "fillpattern": {
             "fillmode": "overlay",
             "size": 10,
             "solidity": 0.2
            },
            "type": "scatter"
           }
          ],
          "scatter3d": [
           {
            "line": {
             "colorbar": {
              "outlinewidth": 0,
              "ticks": ""
             }
            },
            "marker": {
             "colorbar": {
              "outlinewidth": 0,
              "ticks": ""
             }
            },
            "type": "scatter3d"
           }
          ],
          "scattercarpet": [
           {
            "marker": {
             "colorbar": {
              "outlinewidth": 0,
              "ticks": ""
             }
            },
            "type": "scattercarpet"
           }
          ],
          "scattergeo": [
           {
            "marker": {
             "colorbar": {
              "outlinewidth": 0,
              "ticks": ""
             }
            },
            "type": "scattergeo"
           }
          ],
          "scattergl": [
           {
            "marker": {
             "colorbar": {
              "outlinewidth": 0,
              "ticks": ""
             }
            },
            "type": "scattergl"
           }
          ],
          "scattermap": [
           {
            "marker": {
             "colorbar": {
              "outlinewidth": 0,
              "ticks": ""
             }
            },
            "type": "scattermap"
           }
          ],
          "scattermapbox": [
           {
            "marker": {
             "colorbar": {
              "outlinewidth": 0,
              "ticks": ""
             }
            },
            "type": "scattermapbox"
           }
          ],
          "scatterpolar": [
           {
            "marker": {
             "colorbar": {
              "outlinewidth": 0,
              "ticks": ""
             }
            },
            "type": "scatterpolar"
           }
          ],
          "scatterpolargl": [
           {
            "marker": {
             "colorbar": {
              "outlinewidth": 0,
              "ticks": ""
             }
            },
            "type": "scatterpolargl"
           }
          ],
          "scatterternary": [
           {
            "marker": {
             "colorbar": {
              "outlinewidth": 0,
              "ticks": ""
             }
            },
            "type": "scatterternary"
           }
          ],
          "surface": [
           {
            "colorbar": {
             "outlinewidth": 0,
             "ticks": ""
            },
            "colorscale": [
             [
              0,
              "#0d0887"
             ],
             [
              0.1111111111111111,
              "#46039f"
             ],
             [
              0.2222222222222222,
              "#7201a8"
             ],
             [
              0.3333333333333333,
              "#9c179e"
             ],
             [
              0.4444444444444444,
              "#bd3786"
             ],
             [
              0.5555555555555556,
              "#d8576b"
             ],
             [
              0.6666666666666666,
              "#ed7953"
             ],
             [
              0.7777777777777778,
              "#fb9f3a"
             ],
             [
              0.8888888888888888,
              "#fdca26"
             ],
             [
              1,
              "#f0f921"
             ]
            ],
            "type": "surface"
           }
          ],
          "table": [
           {
            "cells": {
             "fill": {
              "color": "#EBF0F8"
             },
             "line": {
              "color": "white"
             }
            },
            "header": {
             "fill": {
              "color": "#C8D4E3"
             },
             "line": {
              "color": "white"
             }
            },
            "type": "table"
           }
          ]
         },
         "layout": {
          "annotationdefaults": {
           "arrowcolor": "#2a3f5f",
           "arrowhead": 0,
           "arrowwidth": 1
          },
          "autotypenumbers": "strict",
          "coloraxis": {
           "colorbar": {
            "outlinewidth": 0,
            "ticks": ""
           }
          },
          "colorscale": {
           "diverging": [
            [
             0,
             "#8e0152"
            ],
            [
             0.1,
             "#c51b7d"
            ],
            [
             0.2,
             "#de77ae"
            ],
            [
             0.3,
             "#f1b6da"
            ],
            [
             0.4,
             "#fde0ef"
            ],
            [
             0.5,
             "#f7f7f7"
            ],
            [
             0.6,
             "#e6f5d0"
            ],
            [
             0.7,
             "#b8e186"
            ],
            [
             0.8,
             "#7fbc41"
            ],
            [
             0.9,
             "#4d9221"
            ],
            [
             1,
             "#276419"
            ]
           ],
           "sequential": [
            [
             0,
             "#0d0887"
            ],
            [
             0.1111111111111111,
             "#46039f"
            ],
            [
             0.2222222222222222,
             "#7201a8"
            ],
            [
             0.3333333333333333,
             "#9c179e"
            ],
            [
             0.4444444444444444,
             "#bd3786"
            ],
            [
             0.5555555555555556,
             "#d8576b"
            ],
            [
             0.6666666666666666,
             "#ed7953"
            ],
            [
             0.7777777777777778,
             "#fb9f3a"
            ],
            [
             0.8888888888888888,
             "#fdca26"
            ],
            [
             1,
             "#f0f921"
            ]
           ],
           "sequentialminus": [
            [
             0,
             "#0d0887"
            ],
            [
             0.1111111111111111,
             "#46039f"
            ],
            [
             0.2222222222222222,
             "#7201a8"
            ],
            [
             0.3333333333333333,
             "#9c179e"
            ],
            [
             0.4444444444444444,
             "#bd3786"
            ],
            [
             0.5555555555555556,
             "#d8576b"
            ],
            [
             0.6666666666666666,
             "#ed7953"
            ],
            [
             0.7777777777777778,
             "#fb9f3a"
            ],
            [
             0.8888888888888888,
             "#fdca26"
            ],
            [
             1,
             "#f0f921"
            ]
           ]
          },
          "colorway": [
           "#636efa",
           "#EF553B",
           "#00cc96",
           "#ab63fa",
           "#FFA15A",
           "#19d3f3",
           "#FF6692",
           "#B6E880",
           "#FF97FF",
           "#FECB52"
          ],
          "font": {
           "color": "#2a3f5f"
          },
          "geo": {
           "bgcolor": "white",
           "lakecolor": "white",
           "landcolor": "white",
           "showlakes": true,
           "showland": true,
           "subunitcolor": "#C8D4E3"
          },
          "hoverlabel": {
           "align": "left"
          },
          "hovermode": "closest",
          "mapbox": {
           "style": "light"
          },
          "paper_bgcolor": "white",
          "plot_bgcolor": "white",
          "polar": {
           "angularaxis": {
            "gridcolor": "#EBF0F8",
            "linecolor": "#EBF0F8",
            "ticks": ""
           },
           "bgcolor": "white",
           "radialaxis": {
            "gridcolor": "#EBF0F8",
            "linecolor": "#EBF0F8",
            "ticks": ""
           }
          },
          "scene": {
           "xaxis": {
            "backgroundcolor": "white",
            "gridcolor": "#DFE8F3",
            "gridwidth": 2,
            "linecolor": "#EBF0F8",
            "showbackground": true,
            "ticks": "",
            "zerolinecolor": "#EBF0F8"
           },
           "yaxis": {
            "backgroundcolor": "white",
            "gridcolor": "#DFE8F3",
            "gridwidth": 2,
            "linecolor": "#EBF0F8",
            "showbackground": true,
            "ticks": "",
            "zerolinecolor": "#EBF0F8"
           },
           "zaxis": {
            "backgroundcolor": "white",
            "gridcolor": "#DFE8F3",
            "gridwidth": 2,
            "linecolor": "#EBF0F8",
            "showbackground": true,
            "ticks": "",
            "zerolinecolor": "#EBF0F8"
           }
          },
          "shapedefaults": {
           "line": {
            "color": "#2a3f5f"
           }
          },
          "ternary": {
           "aaxis": {
            "gridcolor": "#DFE8F3",
            "linecolor": "#A2B1C6",
            "ticks": ""
           },
           "baxis": {
            "gridcolor": "#DFE8F3",
            "linecolor": "#A2B1C6",
            "ticks": ""
           },
           "bgcolor": "white",
           "caxis": {
            "gridcolor": "#DFE8F3",
            "linecolor": "#A2B1C6",
            "ticks": ""
           }
          },
          "title": {
           "x": 0.05
          },
          "xaxis": {
           "automargin": true,
           "gridcolor": "#EBF0F8",
           "linecolor": "#EBF0F8",
           "ticks": "",
           "title": {
            "standoff": 15
           },
           "zerolinecolor": "#EBF0F8",
           "zerolinewidth": 2
          },
          "yaxis": {
           "automargin": true,
           "gridcolor": "#EBF0F8",
           "linecolor": "#EBF0F8",
           "ticks": "",
           "title": {
            "standoff": 15
           },
           "zerolinecolor": "#EBF0F8",
           "zerolinewidth": 2
          }
         }
        },
        "title": {
         "font": {
          "color": "Black",
          "size": 22
         },
         "text": "Topic Word Scores",
         "x": 0.5,
         "xanchor": "center",
         "yanchor": "top"
        },
        "width": 1000,
        "xaxis": {
         "anchor": "y",
         "domain": [
          0,
          0.175
         ],
         "showgrid": true
        },
        "xaxis10": {
         "anchor": "y10",
         "domain": [
          0.275,
          0.45
         ],
         "showgrid": true
        },
        "xaxis11": {
         "anchor": "y11",
         "domain": [
          0.55,
          0.7250000000000001
         ],
         "showgrid": true
        },
        "xaxis12": {
         "anchor": "y12",
         "domain": [
          0.825,
          1
         ],
         "showgrid": true
        },
        "xaxis13": {
         "anchor": "y13",
         "domain": [
          0,
          0.175
         ],
         "showgrid": true
        },
        "xaxis14": {
         "anchor": "y14",
         "domain": [
          0.275,
          0.45
         ],
         "showgrid": true
        },
        "xaxis15": {
         "anchor": "y15",
         "domain": [
          0.55,
          0.7250000000000001
         ],
         "showgrid": true
        },
        "xaxis16": {
         "anchor": "y16",
         "domain": [
          0.825,
          1
         ],
         "showgrid": true
        },
        "xaxis17": {
         "anchor": "y17",
         "domain": [
          0,
          0.175
         ],
         "showgrid": true
        },
        "xaxis18": {
         "anchor": "y18",
         "domain": [
          0.275,
          0.45
         ],
         "showgrid": true
        },
        "xaxis19": {
         "anchor": "y19",
         "domain": [
          0.55,
          0.7250000000000001
         ],
         "showgrid": true
        },
        "xaxis2": {
         "anchor": "y2",
         "domain": [
          0.275,
          0.45
         ],
         "showgrid": true
        },
        "xaxis20": {
         "anchor": "y20",
         "domain": [
          0.825,
          1
         ],
         "showgrid": true
        },
        "xaxis21": {
         "anchor": "y21",
         "domain": [
          0,
          0.175
         ],
         "showgrid": true
        },
        "xaxis22": {
         "anchor": "y22",
         "domain": [
          0.275,
          0.45
         ],
         "showgrid": true
        },
        "xaxis23": {
         "anchor": "y23",
         "domain": [
          0.55,
          0.7250000000000001
         ],
         "showgrid": true
        },
        "xaxis24": {
         "anchor": "y24",
         "domain": [
          0.825,
          1
         ],
         "showgrid": true
        },
        "xaxis25": {
         "anchor": "y25",
         "domain": [
          0,
          0.175
         ],
         "showgrid": true
        },
        "xaxis26": {
         "anchor": "y26",
         "domain": [
          0.275,
          0.45
         ],
         "showgrid": true
        },
        "xaxis27": {
         "anchor": "y27",
         "domain": [
          0.55,
          0.7250000000000001
         ],
         "showgrid": true
        },
        "xaxis28": {
         "anchor": "y28",
         "domain": [
          0.825,
          1
         ],
         "showgrid": true
        },
        "xaxis29": {
         "anchor": "y29",
         "domain": [
          0,
          0.175
         ],
         "showgrid": true
        },
        "xaxis3": {
         "anchor": "y3",
         "domain": [
          0.55,
          0.7250000000000001
         ],
         "showgrid": true
        },
        "xaxis30": {
         "anchor": "y30",
         "domain": [
          0.275,
          0.45
         ],
         "showgrid": true
        },
        "xaxis31": {
         "anchor": "y31",
         "domain": [
          0.55,
          0.7250000000000001
         ],
         "showgrid": true
        },
        "xaxis32": {
         "anchor": "y32",
         "domain": [
          0.825,
          1
         ],
         "showgrid": true
        },
        "xaxis4": {
         "anchor": "y4",
         "domain": [
          0.825,
          1
         ],
         "showgrid": true
        },
        "xaxis5": {
         "anchor": "y5",
         "domain": [
          0,
          0.175
         ],
         "showgrid": true
        },
        "xaxis6": {
         "anchor": "y6",
         "domain": [
          0.275,
          0.45
         ],
         "showgrid": true
        },
        "xaxis7": {
         "anchor": "y7",
         "domain": [
          0.55,
          0.7250000000000001
         ],
         "showgrid": true
        },
        "xaxis8": {
         "anchor": "y8",
         "domain": [
          0.825,
          1
         ],
         "showgrid": true
        },
        "xaxis9": {
         "anchor": "y9",
         "domain": [
          0,
          0.175
         ],
         "showgrid": true
        },
        "yaxis": {
         "anchor": "x",
         "domain": [
          0.91875,
          1
         ],
         "showgrid": true
        },
        "yaxis10": {
         "anchor": "x10",
         "domain": [
          0.65625,
          0.7375
         ],
         "showgrid": true
        },
        "yaxis11": {
         "anchor": "x11",
         "domain": [
          0.65625,
          0.7375
         ],
         "showgrid": true
        },
        "yaxis12": {
         "anchor": "x12",
         "domain": [
          0.65625,
          0.7375
         ],
         "showgrid": true
        },
        "yaxis13": {
         "anchor": "x13",
         "domain": [
          0.5249999999999999,
          0.60625
         ],
         "showgrid": true
        },
        "yaxis14": {
         "anchor": "x14",
         "domain": [
          0.5249999999999999,
          0.60625
         ],
         "showgrid": true
        },
        "yaxis15": {
         "anchor": "x15",
         "domain": [
          0.5249999999999999,
          0.60625
         ],
         "showgrid": true
        },
        "yaxis16": {
         "anchor": "x16",
         "domain": [
          0.5249999999999999,
          0.60625
         ],
         "showgrid": true
        },
        "yaxis17": {
         "anchor": "x17",
         "domain": [
          0.39375,
          0.475
         ],
         "showgrid": true
        },
        "yaxis18": {
         "anchor": "x18",
         "domain": [
          0.39375,
          0.475
         ],
         "showgrid": true
        },
        "yaxis19": {
         "anchor": "x19",
         "domain": [
          0.39375,
          0.475
         ],
         "showgrid": true
        },
        "yaxis2": {
         "anchor": "x2",
         "domain": [
          0.91875,
          1
         ],
         "showgrid": true
        },
        "yaxis20": {
         "anchor": "x20",
         "domain": [
          0.39375,
          0.475
         ],
         "showgrid": true
        },
        "yaxis21": {
         "anchor": "x21",
         "domain": [
          0.26249999999999996,
          0.34374999999999994
         ],
         "showgrid": true
        },
        "yaxis22": {
         "anchor": "x22",
         "domain": [
          0.26249999999999996,
          0.34374999999999994
         ],
         "showgrid": true
        },
        "yaxis23": {
         "anchor": "x23",
         "domain": [
          0.26249999999999996,
          0.34374999999999994
         ],
         "showgrid": true
        },
        "yaxis24": {
         "anchor": "x24",
         "domain": [
          0.26249999999999996,
          0.34374999999999994
         ],
         "showgrid": true
        },
        "yaxis25": {
         "anchor": "x25",
         "domain": [
          0.13124999999999998,
          0.21249999999999997
         ],
         "showgrid": true
        },
        "yaxis26": {
         "anchor": "x26",
         "domain": [
          0.13124999999999998,
          0.21249999999999997
         ],
         "showgrid": true
        },
        "yaxis27": {
         "anchor": "x27",
         "domain": [
          0.13124999999999998,
          0.21249999999999997
         ],
         "showgrid": true
        },
        "yaxis28": {
         "anchor": "x28",
         "domain": [
          0.13124999999999998,
          0.21249999999999997
         ],
         "showgrid": true
        },
        "yaxis29": {
         "anchor": "x29",
         "domain": [
          0,
          0.08124999999999999
         ],
         "showgrid": true
        },
        "yaxis3": {
         "anchor": "x3",
         "domain": [
          0.91875,
          1
         ],
         "showgrid": true
        },
        "yaxis30": {
         "anchor": "x30",
         "domain": [
          0,
          0.08124999999999999
         ],
         "showgrid": true
        },
        "yaxis31": {
         "anchor": "x31",
         "domain": [
          0,
          0.08124999999999999
         ],
         "showgrid": true
        },
        "yaxis32": {
         "anchor": "x32",
         "domain": [
          0,
          0.08124999999999999
         ],
         "showgrid": true
        },
        "yaxis4": {
         "anchor": "x4",
         "domain": [
          0.91875,
          1
         ],
         "showgrid": true
        },
        "yaxis5": {
         "anchor": "x5",
         "domain": [
          0.7875,
          0.8687499999999999
         ],
         "showgrid": true
        },
        "yaxis6": {
         "anchor": "x6",
         "domain": [
          0.7875,
          0.8687499999999999
         ],
         "showgrid": true
        },
        "yaxis7": {
         "anchor": "x7",
         "domain": [
          0.7875,
          0.8687499999999999
         ],
         "showgrid": true
        },
        "yaxis8": {
         "anchor": "x8",
         "domain": [
          0.7875,
          0.8687499999999999
         ],
         "showgrid": true
        },
        "yaxis9": {
         "anchor": "x9",
         "domain": [
          0.65625,
          0.7375
         ],
         "showgrid": true
        }
       }
      }
     },
     "metadata": {},
     "output_type": "display_data"
    }
   ],
   "source": [
    "# Cell 4: Topic Frequency Chart\n",
    "\n",
    "if 'topic_model' in locals():\n",
    "    # --- b. Bar Chart of the Main Topics ---\n",
    "    # --- Topic Frequency Chart ---\n",
    "    print(\"\\n--- Topic Frequency Chart ---\")\n",
    "    # Displays the 15 most frequent topics (excluding the -1 \"outliers\" topic)\n",
    "    display(topic_model.visualize_barchart(top_n_topics=30))\n",
    "else:\n",
    "    # ❌ The model is not available. Run previous cells first.\n",
    "    print(\"❌ The model is not available. Run previous cells first.\")"
   ]
  },
  {
   "cell_type": "code",
   "execution_count": 5,
   "id": "9315d105",
   "metadata": {},
   "outputs": [
    {
     "name": "stdout",
     "output_type": "stream",
     "text": [
      "✅ Loading pre-calculated temporal evolution data from:\n",
      "inference_results/topics_over_time_full.csv\n",
      "\n",
      "--- Temporal Evolution Graph ---\n"
     ]
    },
    {
     "data": {
      "application/vnd.plotly.v1+json": {
       "config": {
        "plotlyServerURL": "https://plot.ly"
       },
       "data": [
        {
         "hoverinfo": "text",
         "hovertext": [
          "<b>Topic 0</b><br>Words: free radical, free radical theory, radical theory, successful educated, successful educated guesses",
          "<b>Topic 0</b><br>Words: mitochondrial, mitochondria, mitochondrial dna, dna, free",
          "<b>Topic 0</b><br>Words: mitochondrial, mitochondria, dna, mitochondrial dna, mutations",
          "<b>Topic 0</b><br>Words: mitochondrial, mitochondria, mitochondrial dna, mtdna, dna",
          "<b>Topic 0</b><br>Words: mitochondrial, mitochondria, mitochondrial dna, dna, mtdna",
          "<b>Topic 0</b><br>Words: mitochondrial, mitochondria, mitochondrial dna, antioxidants, dna",
          "<b>Topic 0</b><br>Words: mitochondrial, mitochondria, mtdna, mitochondrial dna, dna",
          "<b>Topic 0</b><br>Words: mitochondrial, mitochondria, ros, dna, mitochondrial dna",
          "<b>Topic 0</b><br>Words: mitochondrial, mitochondria, mitochondrial dna, dna, mtdna",
          "<b>Topic 0</b><br>Words: mitochondrial, mitochondria, mtdna, mitochondrial dna, dna",
          "<b>Topic 0</b><br>Words: mitochondrial, mitochondria, mtdna, mitochondrial dna, dna",
          "<b>Topic 0</b><br>Words: mitochondrial, mitochondria, ros, mtdna, mitochondrial dna",
          "<b>Topic 0</b><br>Words: mitochondrial, mitochondria, mtdna, dna, mitochondrial dna",
          "<b>Topic 0</b><br>Words: mitochondrial, mitochondria, mtdna, dna, mitochondrial dna",
          "<b>Topic 0</b><br>Words: mitochondrial, mitochondria, mtdna, oxidative, mitochondrial dna",
          "<b>Topic 0</b><br>Words: mitochondrial, mitochondria, mitophagy, mtdna, mitochondrial dna",
          "<b>Topic 0</b><br>Words: mitochondrial, mitochondria, mitophagy, mitochondrial function, mitochondrial dna",
          "<b>Topic 0</b><br>Words: mitochondrial, mitochondria, mitophagy, oxidative, mtdna",
          "<b>Topic 0</b><br>Words: mitochondrial, mitochondria, mitochondrial function, oxidative, mitophagy",
          "<b>Topic 0</b><br>Words: mitochondrial, mitochondria, mitochondrial dna, mtdna, mitochondrial function"
         ],
         "marker": {
          "color": "#E69F00"
         },
         "mode": "lines",
         "name": "0_mitochondrial_mitochondria_mtdna_mitoc...",
         "type": "scatter",
         "x": [
          "2002-10-23T15:24:28.800000000",
          "2003-12-23T21:36:00.000000000",
          "2005-02-13T19:12:00.000000000",
          "2006-04-07T16:48:00.000000000",
          "2007-05-30T14:24:00.000000000",
          "2008-07-21T12:00:00.000000000",
          "2009-09-12T09:36:00.000000000",
          "2010-11-04T07:12:00.000000000",
          "2011-12-27T04:48:00.000000000",
          "2013-02-17T02:24:00.000000000",
          "2014-04-11T00:00:00.000000000",
          "2015-06-02T21:36:00.000000000",
          "2016-07-24T19:12:00.000000000",
          "2017-09-15T16:48:00.000000000",
          "2018-11-07T14:24:00.000000000",
          "2019-12-30T12:00:00.000000000",
          "2021-02-20T09:36:00.000000000",
          "2022-04-14T07:12:00.000000000",
          "2023-06-06T04:48:00.000000000",
          "2024-07-28T02:24:00.000000000"
         ],
         "y": {
          "bdata": "BBUiJSkzHiMcPCYpJykmNi0mKTM=",
          "dtype": "i1"
         }
        },
        {
         "hoverinfo": "text",
         "hovertext": [
          "<b>Topic 1</b><br>Words: cryonics, alcor, cryostasis, suspension, vitrification",
          "<b>Topic 1</b><br>Words: cryonics, alcor, legislation, arizona, industry",
          "<b>Topic 1</b><br>Words: cryonics, alcor, cryonics society, vitrification, society",
          "<b>Topic 1</b><br>Words: cryonics, alcor, cryopreservation, vitrification, preservation",
          "<b>Topic 1</b><br>Words: cryonics, alcor, cryopreservation, vitrification, preservation",
          "<b>Topic 1</b><br>Words: cryonics, alcor, cryopreservation, freezing, preservation",
          "<b>Topic 1</b><br>Words: cryonics, alcor, cryopreservation, preservation, alcors",
          "<b>Topic 1</b><br>Words: cryonics, alcor, cryopreservation, preservation, death",
          "<b>Topic 1</b><br>Words: cryonics, alcor, cryopreservation, preservation, brain",
          "<b>Topic 1</b><br>Words: cryonics, cryopreservation, alcor, future, vitrification",
          "<b>Topic 1</b><br>Words: cryonics, alcor, preservation, cryopreservation, vitrification",
          "<b>Topic 1</b><br>Words: cryonics, cryopreservation, preservation, alcor, vitrification",
          "<b>Topic 1</b><br>Words: cryonics, alcor, cryopreservation, vitrification, preservation",
          "<b>Topic 1</b><br>Words: cryonics, vitrification, alcor, preservation, ice",
          "<b>Topic 1</b><br>Words: cryonics, cryopreservation, alcor, vitrification, preservation",
          "<b>Topic 1</b><br>Words: cryonics, cryopreservation, vitrification, industry, preservation",
          "<b>Topic 1</b><br>Words: cryopreservation, cryonics, isochoric, cpas, vitrification",
          "<b>Topic 1</b><br>Words: ice, cryopreservation, cryonics, ice growth, vitrification",
          "<b>Topic 1</b><br>Words: biostasis, preservation, cryonics, biostasis research, roadmap"
         ],
         "marker": {
          "color": "#56B4E9"
         },
         "mode": "lines",
         "name": "1_cryonics_alcor_cryopreservation_preser...",
         "type": "scatter",
         "x": [
          "2002-10-23T15:24:28.800000000",
          "2003-12-23T21:36:00.000000000",
          "2005-02-13T19:12:00.000000000",
          "2006-04-07T16:48:00.000000000",
          "2007-05-30T14:24:00.000000000",
          "2008-07-21T12:00:00.000000000",
          "2009-09-12T09:36:00.000000000",
          "2010-11-04T07:12:00.000000000",
          "2011-12-27T04:48:00.000000000",
          "2013-02-17T02:24:00.000000000",
          "2014-04-11T00:00:00.000000000",
          "2015-06-02T21:36:00.000000000",
          "2016-07-24T19:12:00.000000000",
          "2017-09-15T16:48:00.000000000",
          "2018-11-07T14:24:00.000000000",
          "2021-02-20T09:36:00.000000000",
          "2022-04-14T07:12:00.000000000",
          "2023-06-06T04:48:00.000000000",
          "2024-07-28T02:24:00.000000000"
         ],
         "y": {
          "bdata": "GSAMGhkiLCAhEA4dCwcDBwIDAQ==",
          "dtype": "i1"
         }
        },
        {
         "hoverinfo": "text",
         "hovertext": [
          "<b>Topic 2</b><br>Words: bioinformatics, nih, new theory, important point, particularly watertight theory",
          "<b>Topic 2</b><br>Words: aging, research, theory, theory aging, damage",
          "<b>Topic 2</b><br>Words: entropy, aging, gravity, model, research",
          "<b>Topic 2</b><br>Words: aging, damage, repair, research, chronomeres",
          "<b>Topic 2</b><br>Words: aging, damage, repair, wealth, research",
          "<b>Topic 2</b><br>Words: aging, metabolism, damage, slow, longevity",
          "<b>Topic 2</b><br>Words: aging, consortium, slowing, research, slow",
          "<b>Topic 2</b><br>Words: aging, research, damage, metabolic, technologies",
          "<b>Topic 2</b><br>Words: aging, damage, slow, sens, slow aging",
          "<b>Topic 2</b><br>Words: aging, programmed aging, programmed, damage, research",
          "<b>Topic 2</b><br>Words: aging, damage, research, metabolism, slow",
          "<b>Topic 2</b><br>Words: aging, damage, research, slow, life",
          "<b>Topic 2</b><br>Words: aging, damage, mtbp, research, slow",
          "<b>Topic 2</b><br>Words: aging, damage, drugs, lifespan, research",
          "<b>Topic 2</b><br>Words: aging, damage, research, drugs, repair",
          "<b>Topic 2</b><br>Words: aging, damage, research, drugs, mechanisms",
          "<b>Topic 2</b><br>Words: geroprotectors, aging, procaine, drugs, drug",
          "<b>Topic 2</b><br>Words: aging, lrs, cisd, diseases, hesperetin",
          "<b>Topic 2</b><br>Words: aging, hallmarks, biological, biological aging, field",
          "<b>Topic 2</b><br>Words: aging, damage, interventions, field, slow"
         ],
         "marker": {
          "color": "#009E73"
         },
         "mode": "lines",
         "name": "2_aging_damage_research_slow",
         "type": "scatter",
         "x": [
          "2002-10-23T15:24:28.800000000",
          "2003-12-23T21:36:00.000000000",
          "2005-02-13T19:12:00.000000000",
          "2006-04-07T16:48:00.000000000",
          "2007-05-30T14:24:00.000000000",
          "2008-07-21T12:00:00.000000000",
          "2009-09-12T09:36:00.000000000",
          "2010-11-04T07:12:00.000000000",
          "2011-12-27T04:48:00.000000000",
          "2013-02-17T02:24:00.000000000",
          "2014-04-11T00:00:00.000000000",
          "2015-06-02T21:36:00.000000000",
          "2016-07-24T19:12:00.000000000",
          "2017-09-15T16:48:00.000000000",
          "2018-11-07T14:24:00.000000000",
          "2019-12-30T12:00:00.000000000",
          "2021-02-20T09:36:00.000000000",
          "2022-04-14T07:12:00.000000000",
          "2023-06-06T04:48:00.000000000",
          "2024-07-28T02:24:00.000000000"
         ],
         "y": {
          "bdata": "Ag0MFA0QCgkLESkaHw8MDQoJBww=",
          "dtype": "i1"
         }
        },
        {
         "hoverinfo": "text",
         "hovertext": [
          "<b>Topic 3</b><br>Words: sahf, pml, formation sahf, hira, formation",
          "<b>Topic 3</b><br>Words: senescent cells, senescent, cells dealing, cells link httpwwwthescientistcom, cells dealing accumulation",
          "<b>Topic 3</b><br>Words: senescent, senescent cells, antiageing research, cells, antiageing",
          "<b>Topic 3</b><br>Words: contributes process aging, senescent cells, contributes process, senescent, senescence",
          "<b>Topic 3</b><br>Words: senescent, senescent cells, baker, pinka, better overview",
          "<b>Topic 3</b><br>Words: senescent, senescent cells, cells, senescence, sasp",
          "<b>Topic 3</b><br>Words: senescent, senescence, senescent cells, cells, cellular senescence",
          "<b>Topic 3</b><br>Words: senescent, senescent cells, senescence, cells, cellular senescence",
          "<b>Topic 3</b><br>Words: senescent, senescent cells, cells, sasp, senescence",
          "<b>Topic 3</b><br>Words: senescent, senescent cells, senescence, cells, sasp",
          "<b>Topic 3</b><br>Words: senescent, senescent cells, senescence, cells, sasp",
          "<b>Topic 3</b><br>Words: senescent, senescent cells, senescence, cells, sasp",
          "<b>Topic 3</b><br>Words: senescent, senescent cells, senescence, sasp, cells",
          "<b>Topic 3</b><br>Words: senescent, senescent cells, senescence, cells, sasp",
          "<b>Topic 3</b><br>Words: senescent, senescent cells, sasp, senescence, cells",
          "<b>Topic 3</b><br>Words: senescent, senescent cells, senescence, sasp, cells",
          "<b>Topic 3</b><br>Words: senescent, senescent cells, senescence, cells, sasp"
         ],
         "marker": {
          "color": "#F0E442"
         },
         "mode": "lines",
         "name": "3_senescent_senescent cells_senescence_c...",
         "type": "scatter",
         "x": [
          "2003-12-23T21:36:00.000000000",
          "2005-02-13T19:12:00.000000000",
          "2008-07-21T12:00:00.000000000",
          "2009-09-12T09:36:00.000000000",
          "2010-11-04T07:12:00.000000000",
          "2011-12-27T04:48:00.000000000",
          "2013-02-17T02:24:00.000000000",
          "2014-04-11T00:00:00.000000000",
          "2015-06-02T21:36:00.000000000",
          "2016-07-24T19:12:00.000000000",
          "2017-09-15T16:48:00.000000000",
          "2018-11-07T14:24:00.000000000",
          "2019-12-30T12:00:00.000000000",
          "2021-02-20T09:36:00.000000000",
          "2022-04-14T07:12:00.000000000",
          "2023-06-06T04:48:00.000000000",
          "2024-07-28T02:24:00.000000000"
         ],
         "y": {
          "bdata": "AQEDAQIJBgoJIBUjJRYUESA=",
          "dtype": "i1"
         }
        },
        {
         "hoverinfo": "text",
         "hovertext": [
          "<b>Topic 4</b><br>Words: telomeres, telomere, telomere aging theories, telomere aging, theories",
          "<b>Topic 4</b><br>Words: telomeres, telomere, telomerase, length, telomere length",
          "<b>Topic 4</b><br>Words: telomeres, telomere, telomerase, telomere length, length",
          "<b>Topic 4</b><br>Words: telomere, telomeres, telomerase, length, telomere length",
          "<b>Topic 4</b><br>Words: telomere, telomeres, telomere length, telomerase, length",
          "<b>Topic 4</b><br>Words: telomere, telomeres, telomerase, telomere length, length",
          "<b>Topic 4</b><br>Words: telomere, telomeres, length, telomere length, telomerase",
          "<b>Topic 4</b><br>Words: telomeres, telomere, telomerase, length, telomere length",
          "<b>Topic 4</b><br>Words: telomeres, telomere, length, telomere length, telomerase",
          "<b>Topic 4</b><br>Words: telomere, telomeres, telomere length, telomerase, length",
          "<b>Topic 4</b><br>Words: telomere, telomeres, telomerase, length, telomere length",
          "<b>Topic 4</b><br>Words: telomere, telomeres, telomerase, length, telomere length",
          "<b>Topic 4</b><br>Words: telomere, telomeres, length, telomere length, telomerase",
          "<b>Topic 4</b><br>Words: telomerase, telomere, telomeres, telomere length, length",
          "<b>Topic 4</b><br>Words: telomere, telomeres, telomerase, length, telomere length",
          "<b>Topic 4</b><br>Words: telomeres, telomerase, telomere, tert, length",
          "<b>Topic 4</b><br>Words: telomeres, telomerase, tert, telomere, length",
          "<b>Topic 4</b><br>Words: telomeres, telomerase, telomere, length, telomere length",
          "<b>Topic 4</b><br>Words: telomere, telomerase, telomeres, length, telomere length",
          "<b>Topic 4</b><br>Words: telomeres, telomere, length, telomerase, telomere length"
         ],
         "marker": {
          "color": "#D55E00"
         },
         "mode": "lines",
         "name": "4_telomere_telomeres_telomerase_length",
         "type": "scatter",
         "x": [
          "2002-10-23T15:24:28.800000000",
          "2003-12-23T21:36:00.000000000",
          "2005-02-13T19:12:00.000000000",
          "2006-04-07T16:48:00.000000000",
          "2007-05-30T14:24:00.000000000",
          "2008-07-21T12:00:00.000000000",
          "2009-09-12T09:36:00.000000000",
          "2010-11-04T07:12:00.000000000",
          "2011-12-27T04:48:00.000000000",
          "2013-02-17T02:24:00.000000000",
          "2014-04-11T00:00:00.000000000",
          "2015-06-02T21:36:00.000000000",
          "2016-07-24T19:12:00.000000000",
          "2017-09-15T16:48:00.000000000",
          "2018-11-07T14:24:00.000000000",
          "2019-12-30T12:00:00.000000000",
          "2021-02-20T09:36:00.000000000",
          "2022-04-14T07:12:00.000000000",
          "2023-06-06T04:48:00.000000000",
          "2024-07-28T02:24:00.000000000"
         ],
         "y": {
          "bdata": "CBINEhQTDQkVDw8NCQwMBAYFCQQ=",
          "dtype": "i1"
         }
        },
        {
         "hoverinfo": "text",
         "hovertext": [
          "<b>Topic 5</b><br>Words: stem, stem cells, stem cell, adult, adult stem",
          "<b>Topic 5</b><br>Words: stem, stem cells, stem cell, embryonic, embryonic stem",
          "<b>Topic 5</b><br>Words: stem, stem cells, embryonic, embryonic stem, stem cell",
          "<b>Topic 5</b><br>Words: stem, embryonic, stem cells, embryonic stem, embryonic stem cells",
          "<b>Topic 5</b><br>Words: stem, stem cells, cells, embryonic, embryonic stem",
          "<b>Topic 5</b><br>Words: stem, stem cells, pluripotent, ips, cells",
          "<b>Topic 5</b><br>Words: stem, stem cells, cells, pluripotent, embryonic",
          "<b>Topic 5</b><br>Words: stem, stem cells, pluripotent, cells, embryonic",
          "<b>Topic 5</b><br>Words: stem, stem cells, vsels, cells, pluripotent",
          "<b>Topic 5</b><br>Words: stem, stem cells, cells, pluripotent, cell",
          "<b>Topic 5</b><br>Words: stem, stem cells, cells, pluripotent, vsels",
          "<b>Topic 5</b><br>Words: stem, stem cells, cells, cell, pluripotent",
          "<b>Topic 5</b><br>Words: stem, stem cells, cells, ipscs, pluripotent",
          "<b>Topic 5</b><br>Words: pluripotent, stem, vaps cells, vaps, stem cells",
          "<b>Topic 5</b><br>Words: hla, cell, therapeutic cell, leukocyte antigens hla, therapeutic cell types",
          "<b>Topic 5</b><br>Words: pluripotent, pluripotent stem, pluripotent stem cells, stem, stem cells"
         ],
         "marker": {
          "color": "#0072B2"
         },
         "mode": "lines",
         "name": "5_stem_stem cells_cells_embryonic",
         "type": "scatter",
         "x": [
          "2002-10-23T15:24:28.800000000",
          "2003-12-23T21:36:00.000000000",
          "2005-02-13T19:12:00.000000000",
          "2006-04-07T16:48:00.000000000",
          "2007-05-30T14:24:00.000000000",
          "2008-07-21T12:00:00.000000000",
          "2009-09-12T09:36:00.000000000",
          "2010-11-04T07:12:00.000000000",
          "2011-12-27T04:48:00.000000000",
          "2013-02-17T02:24:00.000000000",
          "2014-04-11T00:00:00.000000000",
          "2016-07-24T19:12:00.000000000",
          "2018-11-07T14:24:00.000000000",
          "2021-02-20T09:36:00.000000000",
          "2022-04-14T07:12:00.000000000",
          "2023-06-06T04:48:00.000000000"
         ],
         "y": {
          "bdata": "FhwkEBASDAoGCAkDAgIBAQ==",
          "dtype": "i1"
         }
        },
        {
         "hoverinfo": "text",
         "hovertext": [
          "<b>Topic 6</b><br>Words: plaque, inflammation, cholesterol, atherosclerosis, arteries",
          "<b>Topic 6</b><br>Words: plaque, cholesterol, fumagillin, blood, atherosclerosis",
          "<b>Topic 6</b><br>Words: atherosclerosis, inflammation, granzyme, cholesterol, inflammatory",
          "<b>Topic 6</b><br>Words: plaques, plaques dangerous, plaques eventually, blood clot, necrotic",
          "<b>Topic 6</b><br>Words: cholesterol, plaque, atherosclerosis, ldl, particles",
          "<b>Topic 6</b><br>Words: hdl, cholesterol, hdl cholesterol, atherosclerosis, apoa",
          "<b>Topic 6</b><br>Words: ldl, atherosclerosis, cholesterol, plaque, atherosclerotic",
          "<b>Topic 6</b><br>Words: micro, hdl, atherosclerosis, micro rna, ketocholesterol",
          "<b>Topic 6</b><br>Words: atherosclerosis, ldl, cholesterol, macrophages, atherosclerotic",
          "<b>Topic 6</b><br>Words: atherosclerosis, cholesterol, macrophages, plaque, plaques",
          "<b>Topic 6</b><br>Words: cholesterol, ldl, atherosclerosis, ldl cholesterol, macrophages",
          "<b>Topic 6</b><br>Words: cholesterol, atherosclerosis, ldl, plaque, lipids",
          "<b>Topic 6</b><br>Words: cholesterol, atherosclerosis, macrophages, ldl, atherosclerotic",
          "<b>Topic 6</b><br>Words: cholesterol, atherosclerosis, ldl, macrophages, atherosclerotic",
          "<b>Topic 6</b><br>Words: atherosclerosis, cholesterol, macrophages, ldl, atherosclerotic",
          "<b>Topic 6</b><br>Words: cholesterol, atherosclerosis, atherosclerotic, plaque, macrophages",
          "<b>Topic 6</b><br>Words: cholesterol, atherosclerosis, plaque, atherosclerotic, macrophages",
          "<b>Topic 6</b><br>Words: plaque, cholesterol, atherosclerosis, atherosclerotic, plaques"
         ],
         "marker": {
          "color": "#CC79A7"
         },
         "mode": "lines",
         "name": "6_cholesterol_atherosclerosis_plaque_ldl",
         "type": "scatter",
         "x": [
          "2005-02-13T19:12:00.000000000",
          "2006-04-07T16:48:00.000000000",
          "2007-05-30T14:24:00.000000000",
          "2008-07-21T12:00:00.000000000",
          "2009-09-12T09:36:00.000000000",
          "2010-11-04T07:12:00.000000000",
          "2011-12-27T04:48:00.000000000",
          "2013-02-17T02:24:00.000000000",
          "2014-04-11T00:00:00.000000000",
          "2015-06-02T21:36:00.000000000",
          "2016-07-24T19:12:00.000000000",
          "2017-09-15T16:48:00.000000000",
          "2018-11-07T14:24:00.000000000",
          "2019-12-30T12:00:00.000000000",
          "2021-02-20T09:36:00.000000000",
          "2022-04-14T07:12:00.000000000",
          "2023-06-06T04:48:00.000000000",
          "2024-07-28T02:24:00.000000000"
         ],
         "y": {
          "bdata": "AgQDAQUDCAMICgoNFQ4UDxwT",
          "dtype": "i1"
         }
        },
        {
         "hoverinfo": "text",
         "hovertext": [
          "<b>Topic 7</b><br>Words: intestinal, microbiota, changes diet, intestinal microbiota, host",
          "<b>Topic 7</b><br>Words: bacteria, bacteria body, bacteria age, shifts humans, aging link httpwwweurekalertorgpubreleasescpillphp",
          "<b>Topic 7</b><br>Words: bbmn, bacteria, healthy centenarians, bifidobacterium, longum bbmn",
          "<b>Topic 7</b><br>Words: gut, microbiota, bacteria, host, gut microbiota",
          "<b>Topic 7</b><br>Words: gut, microbiome, microbiota, gut microbiota, bacteria",
          "<b>Topic 7</b><br>Words: gut, microbiota, gut microbiota, calorie, phylotypes",
          "<b>Topic 7</b><br>Words: gut, microbiome, microbial, microbiota, early humans",
          "<b>Topic 7</b><br>Words: gut, microbiota, microbial, microbiome, gut microbiota",
          "<b>Topic 7</b><br>Words: gut, microbiota, microbiome, microbes, gut microbiota",
          "<b>Topic 7</b><br>Words: gut, microbiota, microbiome, gut microbiota, bacteria",
          "<b>Topic 7</b><br>Words: gut, microbiome, microbiota, gut microbiome, microbial",
          "<b>Topic 7</b><br>Words: gut, microbiome, microbiota, gut microbiome, gut microbiota",
          "<b>Topic 7</b><br>Words: gut, microbiome, gut microbiome, microbiota, microbial",
          "<b>Topic 7</b><br>Words: gut, microbiota, microbiome, gut microbiome, gut microbiota",
          "<b>Topic 7</b><br>Words: gut, microbiome, gut microbiome, microbiota, gut microbiota",
          "<b>Topic 7</b><br>Words: gut, microbiome, gut microbiome, microbiota, gut microbiota"
         ],
         "marker": {
          "color": "#E69F00"
         },
         "mode": "lines",
         "name": "7_gut_microbiome_microbiota_gut microbio...",
         "type": "scatter",
         "x": [
          "2006-04-07T16:48:00.000000000",
          "2007-05-30T14:24:00.000000000",
          "2008-07-21T12:00:00.000000000",
          "2010-11-04T07:12:00.000000000",
          "2011-12-27T04:48:00.000000000",
          "2013-02-17T02:24:00.000000000",
          "2014-04-11T00:00:00.000000000",
          "2015-06-02T21:36:00.000000000",
          "2016-07-24T19:12:00.000000000",
          "2017-09-15T16:48:00.000000000",
          "2018-11-07T14:24:00.000000000",
          "2019-12-30T12:00:00.000000000",
          "2021-02-20T09:36:00.000000000",
          "2022-04-14T07:12:00.000000000",
          "2023-06-06T04:48:00.000000000",
          "2024-07-28T02:24:00.000000000"
         ],
         "y": {
          "bdata": "AQEBAgIBAgEFCA8UGSQbJQ==",
          "dtype": "i1"
         }
        },
        {
         "hoverinfo": "text",
         "hovertext": [
          "<b>Topic 8</b><br>Words: grey, aubrey, aubrey grey, healthy life extension, life extension",
          "<b>Topic 8</b><br>Words: grey, aubrey, aubrey grey, greys, interview",
          "<b>Topic 8</b><br>Words: grey, aubrey, aubrey grey, gerontologist, biomedical gerontologist",
          "<b>Topic 8</b><br>Words: grey, aubrey, aubrey grey, sens, biomedical gerontologist",
          "<b>Topic 8</b><br>Words: grey, aubrey, aubrey grey, gerontologist, biomedical gerontologist",
          "<b>Topic 8</b><br>Words: grey, aubrey, aubrey grey, biomedical gerontologist, gerontologist",
          "<b>Topic 8</b><br>Words: grey, aubrey, aubrey grey, gerontologist, sens",
          "<b>Topic 8</b><br>Words: grey, aubrey, aubrey grey, sens, sens foundation",
          "<b>Topic 8</b><br>Words: grey, aubrey, aubrey grey, sens, video",
          "<b>Topic 8</b><br>Words: grey, aubrey, aubrey grey, sens, research",
          "<b>Topic 8</b><br>Words: grey, aubrey, aubrey grey, sens, research",
          "<b>Topic 8</b><br>Words: grey, aubrey, aubrey grey, sens, research",
          "<b>Topic 8</b><br>Words: grey, aubrey, aubrey grey, sens, research",
          "<b>Topic 8</b><br>Words: grey, aubrey, aubrey grey, sens, people",
          "<b>Topic 8</b><br>Words: grey, aubrey, aubrey grey, got, sens",
          "<b>Topic 8</b><br>Words: lev foundation, lev, foundation, srf, grey"
         ],
         "marker": {
          "color": "#56B4E9"
         },
         "mode": "lines",
         "name": "8_grey_aubrey_aubrey grey_sens",
         "type": "scatter",
         "x": [
          "2002-10-23T15:24:28.800000000",
          "2003-12-23T21:36:00.000000000",
          "2005-02-13T19:12:00.000000000",
          "2006-04-07T16:48:00.000000000",
          "2007-05-30T14:24:00.000000000",
          "2008-07-21T12:00:00.000000000",
          "2009-09-12T09:36:00.000000000",
          "2010-11-04T07:12:00.000000000",
          "2011-12-27T04:48:00.000000000",
          "2013-02-17T02:24:00.000000000",
          "2014-04-11T00:00:00.000000000",
          "2015-06-02T21:36:00.000000000",
          "2016-07-24T19:12:00.000000000",
          "2017-09-15T16:48:00.000000000",
          "2018-11-07T14:24:00.000000000",
          "2022-04-14T07:12:00.000000000"
         ],
         "y": {
          "bdata": "BhgrCxwIDgcNBwcEAwYCAQ==",
          "dtype": "i1"
         }
        },
        {
         "hoverinfo": "text",
         "hovertext": [
          "<b>Topic 9</b><br>Words: pledge, join, pledgebank, help cure aging, pledge join",
          "<b>Topic 9</b><br>Words: siai, foundation, matching, pavlica, friendly",
          "<b>Topic 9</b><br>Words: matching, sens research, sens, matching challenge, donations",
          "<b>Topic 9</b><br>Words: foundation, charities, sens, sens foundation, contest",
          "<b>Topic 9</b><br>Words: sens foundation, foundation, sens, research, academic initiative",
          "<b>Topic 9</b><br>Words: sens, foundation, sens foundation, academic initiative, academic",
          "<b>Topic 9</b><br>Words: sens, foundation, sens research, research foundation, sens research foundation",
          "<b>Topic 9</b><br>Words: sens, sens research, foundation, sens research foundation, research foundation",
          "<b>Topic 9</b><br>Words: sens, sens research, foundation, sens research foundation, research foundation",
          "<b>Topic 9</b><br>Words: sens, foundation, sens research, sens research foundation, research foundation",
          "<b>Topic 9</b><br>Words: sens, foundation, sens research, sens research foundation, research foundation",
          "<b>Topic 9</b><br>Words: foundation, sens, sens research, sens research foundation, research foundation",
          "<b>Topic 9</b><br>Words: sens research, sens research foundation, research foundation, foundation, sens",
          "<b>Topic 9</b><br>Words: pulse chain, sens, sens research, foundation, sens research foundation",
          "<b>Topic 9</b><br>Words: foundation, sens, sens research, sens research foundation, research foundation",
          "<b>Topic 9</b><br>Words: foundation, sens research, sens, sens research foundation, research foundation",
          "<b>Topic 9</b><br>Words: cholesterol, foundation, plaque, sens, free cholesterol"
         ],
         "marker": {
          "color": "#009E73"
         },
         "mode": "lines",
         "name": "9_sens_foundation_sens research_sens res...",
         "type": "scatter",
         "x": [
          "2005-02-13T19:12:00.000000000",
          "2006-04-07T16:48:00.000000000",
          "2007-05-30T14:24:00.000000000",
          "2009-09-12T09:36:00.000000000",
          "2010-11-04T07:12:00.000000000",
          "2011-12-27T04:48:00.000000000",
          "2013-02-17T02:24:00.000000000",
          "2014-04-11T00:00:00.000000000",
          "2015-06-02T21:36:00.000000000",
          "2016-07-24T19:12:00.000000000",
          "2017-09-15T16:48:00.000000000",
          "2018-11-07T14:24:00.000000000",
          "2019-12-30T12:00:00.000000000",
          "2021-02-20T09:36:00.000000000",
          "2022-04-14T07:12:00.000000000",
          "2023-06-06T04:48:00.000000000",
          "2024-07-28T02:24:00.000000000"
         ],
         "y": {
          "bdata": "AQIDBgkJFRYVEBAJBAMCAgI=",
          "dtype": "i1"
         }
        }
       ],
       "layout": {
        "height": 450,
        "hoverlabel": {
         "bgcolor": "white",
         "font": {
          "family": "Rockwell",
          "size": 16
         }
        },
        "legend": {
         "title": {
          "text": "<b>Global Topic Representation"
         }
        },
        "template": {
         "data": {
          "bar": [
           {
            "error_x": {
             "color": "rgb(36,36,36)"
            },
            "error_y": {
             "color": "rgb(36,36,36)"
            },
            "marker": {
             "line": {
              "color": "white",
              "width": 0.5
             },
             "pattern": {
              "fillmode": "overlay",
              "size": 10,
              "solidity": 0.2
             }
            },
            "type": "bar"
           }
          ],
          "barpolar": [
           {
            "marker": {
             "line": {
              "color": "white",
              "width": 0.5
             },
             "pattern": {
              "fillmode": "overlay",
              "size": 10,
              "solidity": 0.2
             }
            },
            "type": "barpolar"
           }
          ],
          "carpet": [
           {
            "aaxis": {
             "endlinecolor": "rgb(36,36,36)",
             "gridcolor": "white",
             "linecolor": "white",
             "minorgridcolor": "white",
             "startlinecolor": "rgb(36,36,36)"
            },
            "baxis": {
             "endlinecolor": "rgb(36,36,36)",
             "gridcolor": "white",
             "linecolor": "white",
             "minorgridcolor": "white",
             "startlinecolor": "rgb(36,36,36)"
            },
            "type": "carpet"
           }
          ],
          "choropleth": [
           {
            "colorbar": {
             "outlinewidth": 1,
             "tickcolor": "rgb(36,36,36)",
             "ticks": "outside"
            },
            "type": "choropleth"
           }
          ],
          "contour": [
           {
            "colorbar": {
             "outlinewidth": 1,
             "tickcolor": "rgb(36,36,36)",
             "ticks": "outside"
            },
            "colorscale": [
             [
              0,
              "#440154"
             ],
             [
              0.1111111111111111,
              "#482878"
             ],
             [
              0.2222222222222222,
              "#3e4989"
             ],
             [
              0.3333333333333333,
              "#31688e"
             ],
             [
              0.4444444444444444,
              "#26828e"
             ],
             [
              0.5555555555555556,
              "#1f9e89"
             ],
             [
              0.6666666666666666,
              "#35b779"
             ],
             [
              0.7777777777777778,
              "#6ece58"
             ],
             [
              0.8888888888888888,
              "#b5de2b"
             ],
             [
              1,
              "#fde725"
             ]
            ],
            "type": "contour"
           }
          ],
          "contourcarpet": [
           {
            "colorbar": {
             "outlinewidth": 1,
             "tickcolor": "rgb(36,36,36)",
             "ticks": "outside"
            },
            "type": "contourcarpet"
           }
          ],
          "heatmap": [
           {
            "colorbar": {
             "outlinewidth": 1,
             "tickcolor": "rgb(36,36,36)",
             "ticks": "outside"
            },
            "colorscale": [
             [
              0,
              "#440154"
             ],
             [
              0.1111111111111111,
              "#482878"
             ],
             [
              0.2222222222222222,
              "#3e4989"
             ],
             [
              0.3333333333333333,
              "#31688e"
             ],
             [
              0.4444444444444444,
              "#26828e"
             ],
             [
              0.5555555555555556,
              "#1f9e89"
             ],
             [
              0.6666666666666666,
              "#35b779"
             ],
             [
              0.7777777777777778,
              "#6ece58"
             ],
             [
              0.8888888888888888,
              "#b5de2b"
             ],
             [
              1,
              "#fde725"
             ]
            ],
            "type": "heatmap"
           }
          ],
          "histogram": [
           {
            "marker": {
             "line": {
              "color": "white",
              "width": 0.6
             }
            },
            "type": "histogram"
           }
          ],
          "histogram2d": [
           {
            "colorbar": {
             "outlinewidth": 1,
             "tickcolor": "rgb(36,36,36)",
             "ticks": "outside"
            },
            "colorscale": [
             [
              0,
              "#440154"
             ],
             [
              0.1111111111111111,
              "#482878"
             ],
             [
              0.2222222222222222,
              "#3e4989"
             ],
             [
              0.3333333333333333,
              "#31688e"
             ],
             [
              0.4444444444444444,
              "#26828e"
             ],
             [
              0.5555555555555556,
              "#1f9e89"
             ],
             [
              0.6666666666666666,
              "#35b779"
             ],
             [
              0.7777777777777778,
              "#6ece58"
             ],
             [
              0.8888888888888888,
              "#b5de2b"
             ],
             [
              1,
              "#fde725"
             ]
            ],
            "type": "histogram2d"
           }
          ],
          "histogram2dcontour": [
           {
            "colorbar": {
             "outlinewidth": 1,
             "tickcolor": "rgb(36,36,36)",
             "ticks": "outside"
            },
            "colorscale": [
             [
              0,
              "#440154"
             ],
             [
              0.1111111111111111,
              "#482878"
             ],
             [
              0.2222222222222222,
              "#3e4989"
             ],
             [
              0.3333333333333333,
              "#31688e"
             ],
             [
              0.4444444444444444,
              "#26828e"
             ],
             [
              0.5555555555555556,
              "#1f9e89"
             ],
             [
              0.6666666666666666,
              "#35b779"
             ],
             [
              0.7777777777777778,
              "#6ece58"
             ],
             [
              0.8888888888888888,
              "#b5de2b"
             ],
             [
              1,
              "#fde725"
             ]
            ],
            "type": "histogram2dcontour"
           }
          ],
          "mesh3d": [
           {
            "colorbar": {
             "outlinewidth": 1,
             "tickcolor": "rgb(36,36,36)",
             "ticks": "outside"
            },
            "type": "mesh3d"
           }
          ],
          "parcoords": [
           {
            "line": {
             "colorbar": {
              "outlinewidth": 1,
              "tickcolor": "rgb(36,36,36)",
              "ticks": "outside"
             }
            },
            "type": "parcoords"
           }
          ],
          "pie": [
           {
            "automargin": true,
            "type": "pie"
           }
          ],
          "scatter": [
           {
            "fillpattern": {
             "fillmode": "overlay",
             "size": 10,
             "solidity": 0.2
            },
            "type": "scatter"
           }
          ],
          "scatter3d": [
           {
            "line": {
             "colorbar": {
              "outlinewidth": 1,
              "tickcolor": "rgb(36,36,36)",
              "ticks": "outside"
             }
            },
            "marker": {
             "colorbar": {
              "outlinewidth": 1,
              "tickcolor": "rgb(36,36,36)",
              "ticks": "outside"
             }
            },
            "type": "scatter3d"
           }
          ],
          "scattercarpet": [
           {
            "marker": {
             "colorbar": {
              "outlinewidth": 1,
              "tickcolor": "rgb(36,36,36)",
              "ticks": "outside"
             }
            },
            "type": "scattercarpet"
           }
          ],
          "scattergeo": [
           {
            "marker": {
             "colorbar": {
              "outlinewidth": 1,
              "tickcolor": "rgb(36,36,36)",
              "ticks": "outside"
             }
            },
            "type": "scattergeo"
           }
          ],
          "scattergl": [
           {
            "marker": {
             "colorbar": {
              "outlinewidth": 1,
              "tickcolor": "rgb(36,36,36)",
              "ticks": "outside"
             }
            },
            "type": "scattergl"
           }
          ],
          "scattermap": [
           {
            "marker": {
             "colorbar": {
              "outlinewidth": 1,
              "tickcolor": "rgb(36,36,36)",
              "ticks": "outside"
             }
            },
            "type": "scattermap"
           }
          ],
          "scattermapbox": [
           {
            "marker": {
             "colorbar": {
              "outlinewidth": 1,
              "tickcolor": "rgb(36,36,36)",
              "ticks": "outside"
             }
            },
            "type": "scattermapbox"
           }
          ],
          "scatterpolar": [
           {
            "marker": {
             "colorbar": {
              "outlinewidth": 1,
              "tickcolor": "rgb(36,36,36)",
              "ticks": "outside"
             }
            },
            "type": "scatterpolar"
           }
          ],
          "scatterpolargl": [
           {
            "marker": {
             "colorbar": {
              "outlinewidth": 1,
              "tickcolor": "rgb(36,36,36)",
              "ticks": "outside"
             }
            },
            "type": "scatterpolargl"
           }
          ],
          "scatterternary": [
           {
            "marker": {
             "colorbar": {
              "outlinewidth": 1,
              "tickcolor": "rgb(36,36,36)",
              "ticks": "outside"
             }
            },
            "type": "scatterternary"
           }
          ],
          "surface": [
           {
            "colorbar": {
             "outlinewidth": 1,
             "tickcolor": "rgb(36,36,36)",
             "ticks": "outside"
            },
            "colorscale": [
             [
              0,
              "#440154"
             ],
             [
              0.1111111111111111,
              "#482878"
             ],
             [
              0.2222222222222222,
              "#3e4989"
             ],
             [
              0.3333333333333333,
              "#31688e"
             ],
             [
              0.4444444444444444,
              "#26828e"
             ],
             [
              0.5555555555555556,
              "#1f9e89"
             ],
             [
              0.6666666666666666,
              "#35b779"
             ],
             [
              0.7777777777777778,
              "#6ece58"
             ],
             [
              0.8888888888888888,
              "#b5de2b"
             ],
             [
              1,
              "#fde725"
             ]
            ],
            "type": "surface"
           }
          ],
          "table": [
           {
            "cells": {
             "fill": {
              "color": "rgb(237,237,237)"
             },
             "line": {
              "color": "white"
             }
            },
            "header": {
             "fill": {
              "color": "rgb(217,217,217)"
             },
             "line": {
              "color": "white"
             }
            },
            "type": "table"
           }
          ]
         },
         "layout": {
          "annotationdefaults": {
           "arrowhead": 0,
           "arrowwidth": 1
          },
          "autotypenumbers": "strict",
          "coloraxis": {
           "colorbar": {
            "outlinewidth": 1,
            "tickcolor": "rgb(36,36,36)",
            "ticks": "outside"
           }
          },
          "colorscale": {
           "diverging": [
            [
             0,
             "rgb(103,0,31)"
            ],
            [
             0.1,
             "rgb(178,24,43)"
            ],
            [
             0.2,
             "rgb(214,96,77)"
            ],
            [
             0.3,
             "rgb(244,165,130)"
            ],
            [
             0.4,
             "rgb(253,219,199)"
            ],
            [
             0.5,
             "rgb(247,247,247)"
            ],
            [
             0.6,
             "rgb(209,229,240)"
            ],
            [
             0.7,
             "rgb(146,197,222)"
            ],
            [
             0.8,
             "rgb(67,147,195)"
            ],
            [
             0.9,
             "rgb(33,102,172)"
            ],
            [
             1,
             "rgb(5,48,97)"
            ]
           ],
           "sequential": [
            [
             0,
             "#440154"
            ],
            [
             0.1111111111111111,
             "#482878"
            ],
            [
             0.2222222222222222,
             "#3e4989"
            ],
            [
             0.3333333333333333,
             "#31688e"
            ],
            [
             0.4444444444444444,
             "#26828e"
            ],
            [
             0.5555555555555556,
             "#1f9e89"
            ],
            [
             0.6666666666666666,
             "#35b779"
            ],
            [
             0.7777777777777778,
             "#6ece58"
            ],
            [
             0.8888888888888888,
             "#b5de2b"
            ],
            [
             1,
             "#fde725"
            ]
           ],
           "sequentialminus": [
            [
             0,
             "#440154"
            ],
            [
             0.1111111111111111,
             "#482878"
            ],
            [
             0.2222222222222222,
             "#3e4989"
            ],
            [
             0.3333333333333333,
             "#31688e"
            ],
            [
             0.4444444444444444,
             "#26828e"
            ],
            [
             0.5555555555555556,
             "#1f9e89"
            ],
            [
             0.6666666666666666,
             "#35b779"
            ],
            [
             0.7777777777777778,
             "#6ece58"
            ],
            [
             0.8888888888888888,
             "#b5de2b"
            ],
            [
             1,
             "#fde725"
            ]
           ]
          },
          "colorway": [
           "#1F77B4",
           "#FF7F0E",
           "#2CA02C",
           "#D62728",
           "#9467BD",
           "#8C564B",
           "#E377C2",
           "#7F7F7F",
           "#BCBD22",
           "#17BECF"
          ],
          "font": {
           "color": "rgb(36,36,36)"
          },
          "geo": {
           "bgcolor": "white",
           "lakecolor": "white",
           "landcolor": "white",
           "showlakes": true,
           "showland": true,
           "subunitcolor": "white"
          },
          "hoverlabel": {
           "align": "left"
          },
          "hovermode": "closest",
          "mapbox": {
           "style": "light"
          },
          "paper_bgcolor": "white",
          "plot_bgcolor": "white",
          "polar": {
           "angularaxis": {
            "gridcolor": "rgb(232,232,232)",
            "linecolor": "rgb(36,36,36)",
            "showgrid": false,
            "showline": true,
            "ticks": "outside"
           },
           "bgcolor": "white",
           "radialaxis": {
            "gridcolor": "rgb(232,232,232)",
            "linecolor": "rgb(36,36,36)",
            "showgrid": false,
            "showline": true,
            "ticks": "outside"
           }
          },
          "scene": {
           "xaxis": {
            "backgroundcolor": "white",
            "gridcolor": "rgb(232,232,232)",
            "gridwidth": 2,
            "linecolor": "rgb(36,36,36)",
            "showbackground": true,
            "showgrid": false,
            "showline": true,
            "ticks": "outside",
            "zeroline": false,
            "zerolinecolor": "rgb(36,36,36)"
           },
           "yaxis": {
            "backgroundcolor": "white",
            "gridcolor": "rgb(232,232,232)",
            "gridwidth": 2,
            "linecolor": "rgb(36,36,36)",
            "showbackground": true,
            "showgrid": false,
            "showline": true,
            "ticks": "outside",
            "zeroline": false,
            "zerolinecolor": "rgb(36,36,36)"
           },
           "zaxis": {
            "backgroundcolor": "white",
            "gridcolor": "rgb(232,232,232)",
            "gridwidth": 2,
            "linecolor": "rgb(36,36,36)",
            "showbackground": true,
            "showgrid": false,
            "showline": true,
            "ticks": "outside",
            "zeroline": false,
            "zerolinecolor": "rgb(36,36,36)"
           }
          },
          "shapedefaults": {
           "fillcolor": "black",
           "line": {
            "width": 0
           },
           "opacity": 0.3
          },
          "ternary": {
           "aaxis": {
            "gridcolor": "rgb(232,232,232)",
            "linecolor": "rgb(36,36,36)",
            "showgrid": false,
            "showline": true,
            "ticks": "outside"
           },
           "baxis": {
            "gridcolor": "rgb(232,232,232)",
            "linecolor": "rgb(36,36,36)",
            "showgrid": false,
            "showline": true,
            "ticks": "outside"
           },
           "bgcolor": "white",
           "caxis": {
            "gridcolor": "rgb(232,232,232)",
            "linecolor": "rgb(36,36,36)",
            "showgrid": false,
            "showline": true,
            "ticks": "outside"
           }
          },
          "title": {
           "x": 0.05
          },
          "xaxis": {
           "automargin": true,
           "gridcolor": "rgb(232,232,232)",
           "linecolor": "rgb(36,36,36)",
           "showgrid": false,
           "showline": true,
           "ticks": "outside",
           "title": {
            "standoff": 15
           },
           "zeroline": false,
           "zerolinecolor": "rgb(36,36,36)"
          },
          "yaxis": {
           "automargin": true,
           "gridcolor": "rgb(232,232,232)",
           "linecolor": "rgb(36,36,36)",
           "showgrid": false,
           "showline": true,
           "ticks": "outside",
           "title": {
            "standoff": 15
           },
           "zeroline": false,
           "zerolinecolor": "rgb(36,36,36)"
          }
         }
        },
        "title": {
         "font": {
          "color": "Black",
          "size": 22
         },
         "text": "<b>Topics over Time</b>",
         "x": 0.4,
         "xanchor": "center",
         "y": 0.95,
         "yanchor": "top"
        },
        "width": 1250,
        "xaxis": {
         "showgrid": true
        },
        "yaxis": {
         "showgrid": true,
         "title": {
          "text": "Frequency"
         }
        }
       }
      }
     },
     "metadata": {},
     "output_type": "display_data"
    }
   ],
   "source": [
    "# Cell 5: Temporal Evolution Graph (with Caching)\n",
    "\n",
    "import pandas as pd\n",
    "import os\n",
    "\n",
    "if 'topic_model' in locals() and 'topics' in locals():\n",
    "    # --- a. Define file paths for caching ---\n",
    "    RESULTS_DIR = \"inference_results\"\n",
    "    os.makedirs(RESULTS_DIR, exist_ok=True) # Create directory if it doesn't exist\n",
    "\n",
    "    # Dynamic path based on whether we are using the sample or full dataset\n",
    "    if use_sample:\n",
    "        time_path = os.path.join(RESULTS_DIR, \"topics_over_time_sample.csv\")\n",
    "    else:\n",
    "        time_path = os.path.join(RESULTS_DIR, \"topics_over_time_full.csv\")\n",
    "\n",
    "    # --- b. Load pre-calculated results or calculate them if they don't exist ---\n",
    "    if os.path.exists(time_path):\n",
    "        # --- FAST PATH: Load from disk ---\n",
    "        print(f\"✅ Loading pre-calculated temporal evolution data from:\\n{time_path}\")\n",
    "        topics_over_time = pd.read_csv(time_path, parse_dates=['Timestamp'])\n",
    "    else:\n",
    "        # --- SLOW PATH: Calculate and then save ---\n",
    "        print(\"Calculating topics over time... (This can be very slow, but only runs once)\")\n",
    "        topics_over_time = topic_model.topics_over_time(\n",
    "            docs=documents, \n",
    "            timestamps=timestamps, \n",
    "            topics=topics,\n",
    "            nr_bins=20\n",
    "        )\n",
    "        \n",
    "        # Save the results for next time\n",
    "        try:\n",
    "            topics_over_time.to_csv(time_path, index=False)\n",
    "            print(f\"✅ Results saved to '{time_path}' for future sessions.\")\n",
    "        except Exception as e:\n",
    "            print(f\"❌ Error saving results: {e}\")\n",
    "\n",
    "    # --- c. Display the visualization ---\n",
    "    print(\"\\n--- Temporal Evolution Graph ---\")\n",
    "    display(topic_model.visualize_topics_over_time(topics_over_time, top_n_topics=10))\n",
    "\n",
    "else:\n",
    "    print(\"❌ The model or 'topics' variable is not available. Please run the previous cells first.\")"
   ]
  },
  {
   "cell_type": "code",
   "execution_count": 6,
   "id": "a565b22d",
   "metadata": {},
   "outputs": [
    {
     "name": "stdout",
     "output_type": "stream",
     "text": [
      "✅ Success! The result of the temporal analysis has been saved to:\n",
      "inference_results/topics_over_time_full.csv\n"
     ]
    }
   ],
   "source": [
    "# Cell 6: Saving the Temporal Analysis Result\n",
    "\n",
    "# Ensure that the variable 'topics_over_time' exists after the lengthy calculation\n",
    "if 'topics_over_time' in locals() and not topics_over_time.empty:\n",
    "    \n",
    "    # --- Define the saving path ---\n",
    "    # We use the same logic as before to have separate files for the sample and the full dataset\n",
    "    RESULTS_DIR = \"inference_results\"\n",
    "    os.makedirs(RESULTS_DIR, exist_ok=True)\n",
    "\n",
    "    if use_sample:\n",
    "        time_path = os.path.join(RESULTS_DIR, \"topics_over_time_sample.csv\")\n",
    "    else:\n",
    "        time_path = os.path.join(RESULTS_DIR, \"topics_over_time_full.csv\")\n",
    "\n",
    "    # --- Save the DataFrame to a CSV file ---\n",
    "    try:\n",
    "        topics_over_time.to_csv(time_path, index=False)\n",
    "        # ✅ Success! The result of the temporal analysis has been saved to:\n",
    "        print(f\"✅ Success! The result of the temporal analysis has been saved to:\")\n",
    "        print(time_path)\n",
    "    except Exception as e:\n",
    "        # ❌ An error occurred while trying to save the file: {e}\n",
    "        print(f\"❌ An error occurred while trying to save the file: {e}\")\n",
    "\n",
    "else:\n",
    "    # ❌ The variable 'topics_over_time' was not found or is empty. Nothing was saved.\n",
    "    print(\"❌ The variable 'topics_over_time' was not found or is empty. Nothing was saved.\")"
   ]
  },
  {
   "cell_type": "code",
   "execution_count": 7,
   "id": "5a5b13e3",
   "metadata": {},
   "outputs": [
    {
     "name": "stdout",
     "output_type": "stream",
     "text": [
      "\n",
      "--- 🔎 Detailed Analysis of Topic ID: 0 ---\n",
      "Name: 0_mitochondrial_mitochondria_mtdna_mitochondrial dna\n",
      "\n",
      "Keywords:\n",
      "['mitochondrial', 'mitochondria', 'mtdna', 'mitochondrial dna', 'dna', 'oxidative', 'mitophagy', 'ros', 'damage', 'mitochondrial function']\n",
      "\n",
      "Most representative documents for this topic:\n",
      "- senescent cells accumulate iron while resisting the consequent ferroptosis ferroptosis form programmed cell death driven iron accumulation and involvi...\n",
      "- cryonics cryonics the only present option offering chance much longer life the future that open older and seriously ill people the many individuals wh...\n",
      "- calorie restriction explained calorie restriction caloric restriction usually abbreviated strategy proven extend healthy average and maximum life span...\n",
      "- what antiaging antiaging can difficult topic address war currently fought over the meaning the term research and medicine and brand for products energ...\n",
      "- the importance activism activism very important persistent and vocal advocacy for cause directly influences the amount money flowing into that cause t...\n",
      "- transhumanism and healthy life extension you may have noticed references transhumanism and transhumanists posts here fight aging what transhumanism an...\n",
      "- forthcoming facelift the longevity meme has moved providers again apologies for recent inactivity things should back and running within the next few d...\n",
      "- the tithonus option not option antiageing technology may present with the awful scenario extended lifespan but limited improvement quality life living...\n",
      "- some nonoriginal thoughts diet health and longevity phil graves outlines some his thoughts life extension through calorie restriction and other forms ...\n",
      "- the scientific search for immortality attention was directed another wonderful article ronald bailey reason magazine have look and all means search ou...\n",
      "- more warnings growth hormones infoaging carrying another piece warning about side effects human growth hormones supplements are not the path longer li...\n",
      "- less calories more life can caloric restriction extend human lifespan copyright ian williams goddard only one intervention has been proven extend both...\n",
      "- why cryosuspension makes sense were all genetically programmed die but advances nanomedicine are expected allow for radical life extension meanwhile t...\n",
      "- live long live free russell blackford australian writer this article based part his life extension and its enemies quadrant magazine december copyrigh...\n",
      "- the case against aging more and more researchers now agree that radical human life extension only matter time aging biochemical process and humans wil...\n",
      "- lengthening those telomeres very interesting article from eurekalert current research that has succeeded lengthening telomeres human cells all know te...\n",
      "- coverage the alcor conference wired has pair articles the alcor conference the first linked above and here the second isnt exactly stellar coverage bo...\n",
      "- barriers facing stem cell research yahoo news carrying piece the barriers facing stem cell research hostile legislation slowing research and making ha...\n",
      "- new look for part you may have already noticed have slightly new look the pages have expanded and weve shifted things around more will coming later le...\n",
      "- prospects and obstacles infoaging carrying this short informative article biogerontology the study the biology aging very late running this news but f...\n",
      "- better synthetic blood vessels sciencedaily reporting progess generating synthetic blood vessels small steps like this with the potential help million...\n",
      "- genes and aging bbc news carrying article some interesting recent research suggests that only small number genes change with age this hopefully means ...\n",
      "- eat less live longer cnn has nice clear article recent research into life extension through caloric restriction its very good see sensible balanced ar...\n",
      "- death outrage robert freitas delivered this thoughtprovoking lecture the fifth alcor conference examines the high cost death and plausible advances an...\n",
      "- leon kass wants you die the toronto transhumanist association have issued this press release points out the views and positions leon kass the chairman...\n",
      "- cryonics offered hawaii pacific business news reports that mortuary hawaii considering offering cryonic suspension its cautious balanced article again...\n",
      "- government holding back research reuters comments the continuing damage that legislation doing stem cell research the remember stem cell research look...\n",
      "- regenerative medicine ronald bailey consistently writes great articles for reason magazine this gives overview the field regenerative medicine this th...\n",
      "- simon smith kass simon smith betterhumans writes thoughtful column the positions and motivations leon kass kass you may recall from earlier news item ...\n",
      "- death outrage while you were reading this sentence dozen people just died worldwide there another dozen people have perished think this outrage want t...\n",
      "- mainstream calorie restriction this article the netscape network illustrates the extent which calorie restriction going mainstream gives good overview...\n",
      "- future nanomedicine smalltimes carries article the future nanomedicine expounded the recent alcor life extension conference interesting stuff and very...\n",
      "- death outrage reprinted robert freitas has been kind enough allow reprint his lecture death outrage longevity meme article the numbers are shocking ev...\n",
      "- osteoporosis understood scienceblog covering important step fighting osteoporosis the thinning bone with age scientists now understand how osteoporosi...\n",
      "- the age simulator the independent online reporting the age simulator its pointed reminder for the young amongst dont win the fight against aging this ...\n",
      "- calerie research project the pennington biomedical research center running niasponsered project test the effects calorie restriction humans they appea...\n",
      "- restrictions threaten medical research the scientist running this interesting article cell biologists warn that government restrictions are hampering ...\n",
      "- promising treatments come short article betterhumanscom mentions some the topics interest the tenth international congress antiaging and biomedical te...\n",
      "- mainstream dietary revisions scientific american carrying lengthy piece official dietary recommendations and their revisions over time the human body ...\n",
      "- kass being difficult again cnn covering comments president bushs bioethics council chairman stem cell research stanford seems kass just cant abide see...\n",
      "- more stem cell goodness abcnews covering recent advances stem cell work researchers have managed coax persons bone marrow stem cells into becoming use...\n",
      "- nanotechnology and life extension dont put off the title chris phoenix cofounder the center for responsible nanotechnology has penned very accessible ...\n",
      "- infoaging calorie restriction infoagingorg has just completed new site redesign this good time any point out their excellent ask the expert columns th...\n",
      "- more good transplant news sciencedaily has this one looks like real progress being made growing tailored organs for transplants this big deal for life...\n",
      "- positive view stem cells mysanantonio carrying positive thoughtful article the popular view stem cell research there are many benefits come and the go...\n",
      "- more aging genes article eurekalert gives more detail the role the fox genes aging and regeneration very comprehensible these small number genes look ...\n",
      "- people who died msnbc has article notable people who died imagine how long this page would the other million people who died were included this the on...\n",
      "- alcor convention coverage summary nanodot has posted collection links leading press coverage the recent fifth alcor conference extreme life extension ...\n",
      "- longer living through science betterhumans carrying oped column the future life extension stephen mason its chatty pointed piece whether not you agree...\n",
      "- raelians threatening legitimate research scientific american carrying some commentary the ongoing raelian cloning story while the truth things less th...\n",
      "- global stem cell research cooperation sfgate covering the first steps towards international stem cell research consortium similar the human genome pro...\n",
      "- future life summit time magazine hosting the future life summit california february some interesting people will there should expect good commentary t...\n",
      "- transvision june reminder that transvision this year held yale late june has strong focus life extension and related matters the world transhumanist a...\n",
      "- okinawan diet and longevity msnbc running short article traditional okinawan diet and its effects longevity this much discussed topic for calorie rest...\n",
      "- more calorie restriction science sciencedaily comments some interesting recent research scientists may have found another biochemical underpinning for...\n",
      "- extra weight bad bad thing usa today reports study showing just how many years your life and health few extra pounds are costing you the article says ...\n",
      "- eat less live longer news article reprinted the life extension foundation talks about walford and his pioneering work with calorie restriction words t...\n",
      "- good for the aging brain seems that calorie restriction very much the news recently news talks about recent study that illuminates another way which c...\n",
      "- alcor newsletter list those you with interest cryonic suspension may want take look and sign for the fairly recent alcor newsletter distribution list ...\n",
      "- unraveling the secrets longevity newsday printing good clear overview current trends life extension research yes calorie restriction mentioned often g...\n",
      "- cloning important for life extension ray kurzweil talks kurzweilai about the real and vital importance theraputic cloning life extension medicine very...\n",
      "- new jersey approve theraputic cloning betterhumans notes that new jersey state legislators are preparing explicitly approve theraputic cloning researc...\n",
      "- there limit lifespan bruce klein the immortality institute has put together elegant commentary the increase lifespan with advancing technology past pr...\n",
      "- site outage our apologies for the site outage today explanation has been forthcoming yet from our hosting provider have been considering move suggesti...\n",
      "- closing cancer cure researchers have been circling general cure treatment for cancer over the past decade lot promising research going right now bette...\n",
      "- glance the front lines this article reprinted the life extension foundation interesting glimpse into the sharp end real meaningful antiaging research ...\n",
      "- intraabdominal fat health risk eurekalert talks about research recommending exercise older women get rid intraabdominal fat course calorie restriction...\n",
      "- just little willpower very mainstream health article from msnbc but sound advice anyway healthy living not just exercise abstinence its about feeling ...\n",
      "- adding years your life this fascinating transcript from austads presentation the presidents council bioethics increasing human longevity youll note th...\n",
      "- iwac the newly formed immortality institute holding iwac birmingham alabama this coming weekend its small affair during which the mobius awards are ha...\n",
      "- infoaging stem cells infoaging continues extremely useful resource they have just added informative new section explaining stem cells and their role t...\n",
      "- this wonderful lengthening lifespan bruce klein director the nonprofit immortality institute discusses the lengthening human lifespan past present and...\n",
      "- kass attacks life extension again betterhumans notes that leon kass chairman the presidents council bioethics keeping his attacks life extension its f...\n",
      "- the things forget about aging article msnbc reminds the horrible consequences one the supposedly lesser effects aging its downright primitive when you...\n",
      "- pace medical research picking informative article the bbc underscores the rapid pace aging reseach these days was really just last year that telomeres...\n",
      "- nanotechnology and life extension chris phoenix the center for responsible nanotechnology has penned very accessible primer the role tiny machines the...\n",
      "- alcor and ted williams sunspotnet carrying sympathetic informative article alcor centering around the recent highprofile cryonic suspension ted willia...\n",
      "- okinawan centenarian study believe not hadnt actually noticed this until today its fascinating and very readable research program okinawan longevity m...\n",
      "- less fat explains longevity new scientist covering some clever research mice that suggests having less fat the real underlying reason for increased lo...\n",
      "- nyta symposium february the new york transhumanist association holding modest one day symposium february topics for presentation and discussion includ...\n",
      "- theraputic cloning trials underway betterhumans has this one christopher reeves claims that theraputic cloning trials aimed repairing spinal injuries ...\n",
      "- hammered the worm our hosting provider was hit the sql worm nothing major was lost aside from half day uptime this has spurred move better provider ho...\n",
      "- stay fit and does your brain science blog points study showing that staying fit helps slow the effects aging the brain staying physically fit you age ...\n",
      "- welcome the new host were settling our new hosting provider what does this mean for you you should experiencing faster more efficient longevity meme w...\n",
      "- theraputic cloning legislation update yahoo news carrying article the continuing efforts criminalize theraputic cloning research our elected represent...\n",
      "- bush renews call ban cloning research short snippet article but thought worth noting that president bush used the state the union address reiterate hi...\n",
      "- foldinghome helping medical research there are many small ways which can all help support important medical research one the easiest download and run ...\n",
      "- ammo for telomere aging theories infoaging covering telling study that would seem add weight some telomere aging theories telomere primer also found i...\n",
      "- christopher reeve stands for theraputic cloning betterhumans notes that actor christopher reeve standing for theraputic cloning offers hope for nearte...\n",
      "- interview with gavrilov the transcipt wideranging interview with leonard gavrilov can found his website and the immortality institute offers commentar...\n",
      "- radical life extension week betterhumans betterhumans running articles radical life extension this week including why physical immortality bruce klein...\n",
      "- slow aging preparing early heres short piece that really nails one the essential pillars contemporary life extension this how use common means current...\n",
      "- drinking water lose weight sciencedaily has this article how drinking water really does help you eat less without feeling hungry post because recall h...\n",
      "- the genetics fly longevity flies have been used large number life extension studies they have short lives research moves more rapidly there lot geneti...\n",
      "- french criminalize theraputic cloning know few days late this one cnsnews reports that the french senate has passed tough blanket ban all forms clonin...\n",
      "- legislative battle continues betterhumans covers the latest round the legislative battle over theraputic cloning new bill that restricts but does not ...\n",
      "- premature aging disease caused short telomeres the life extension foundation news notes that researchers have linked shortened telomeres with conditio...\n",
      "- managing cancer seems that the scientific community getting tantalizingly close turning cancer from killer into managed curable condition were seeing ...\n",
      "- stepping towards regenerative medicine abc news carries this report the first geneengineering human stem cells this would seem significant research pr...\n",
      "- pieces the puzzle aging research today and tomorrow leonid gavrilov gives fascinating tour the current state aging research suggestions for the future...\n",
      "- antiaging confusion brief article from eurekalert testifies the continuing fight over the term antiaging scientists feel with justification that the t...\n",
      "- the future genetic medicine time running issue dna and genetics amongst the articles interest this one containing opinions and comments the future gen...\n",
      "- calorie restriction protects mice betterhumans notes study showing the specific protective benefits calorie restriction mice with huntingtons disease ...\n",
      "- caution and online medical advice this news item infoaging gives good advice regarding online medical information more are looking but quality often l...\n",
      "- politechbot theraputic cloning legislation wealth information the current attempts restrict criminalize ban theraputic cloning over politechbot the ca...\n",
      "- centenarians share mitochondrial mutation some research italian centenarians betterhumans its interesting stuff and indicative wider search for geneti...\n",
      "- years until nanotech antiaging betterhumans examines comments the ceo zyvex makes reasonable argument for medical antiaging nanotech its prime years t...\n",
      "- successful nerve regeneration research from sciencedaily according gavrilov see his article here pieces the puzzle life extension will result from lon...\n",
      "- india favors stem cell research betterhumans carrying this short positive article while france the united states and other countries seem rushing crim...\n",
      "- closer cancer vaccine its amazing how much progress has been made the past decade towards curing even preventing cancer heres another promising early ...\n",
      "- more physicianscientists needed from scienceblog there real shortage the scientists who can best help advance the state medical technology this the fi...\n",
      "- society conference june ive been waiting for the society post information online for the conference this year calorie restriction the only proven way ...\n",
      "- human body wide range radical life extension thoughts from ray kurzweil kurzweilainet provocative stuff that surveys the effects anticipated medical a...\n",
      "- reminder research takes time article from infoaging reminds that medical research breakthrough cancer prevention this case takes time come fruitition ...\n",
      "- sideswipe alcor the uglier side the ted williams cryopreservation hasnt quite died down yet seems espn carrying nasty little character assassination p...\n",
      "- look this way look this way the latest article culture and aging over the immortality institute usual the followon commentary least interesting and in...\n",
      "- eat less stay sharp reported the bbc study suggests that calorie restriction diet will help preserve your brain cells from aging damage this addition ...\n",
      "- the future life conference time carrying number articles their future life event this short piece gives summary some items interest life extensionists...\n",
      "- starting calorie restriction ive posted lot articles calorie restriction recently some you may find this short piece from the society useful how easil...\n",
      "- the immortality institute call action the number people who die old age and agerelated conditions staggering staggering that balanced humans find easy...\n",
      "- powerful stem cells from blood eurekalert reports that argonne researchers have succeeded producing the most potent form stem cells from normal adult ...\n",
      "- stem cell therapy primer ive talked lot about stem cells recent news articles but never stopped mention why they are important future antiaging medici...\n",
      "- james watson stands for stem cell therapies this article pending legislation wired worth reading for the final quote james watson codiscoverer dna str...\n",
      "- ronald bailey fukuyama another excellent article ronald bailey reason online francis fukuyama member the presidents council bioethics alas influential...\n",
      "- house debate cloning starts here article from cnn the house debate criminalizing all forms cloning has started this includes the theraputic cloning vi...\n",
      "- years until antiaging medicine article betterhumans talks when can expect see real antiaging medicine the local pharmacy this qualified with several b...\n",
      "- bioethicists groping for excuses upi found via kurzweilainet carrying fairly typical set bioethicist mumblings people are living longer the sky fallin...\n",
      "- snake oils and the antiaging battle article from earlier this month health central discusses the ongoing battle for the term antiaging researchers one...\n",
      "- answering leon kass heres another good article from the immortality institute leon kass chairman the presidents council bioethics strongly opposed med...\n",
      "- house bans theraputic cloning they went ahead and did these selfdestructive idiots who pass for elected representatives article from msnbc now were on...\n",
      "- make your view known the senate the coalition for the advancement medical research has put action page that will allow you make your views known the f...\n",
      "- search for youth pill lef news reprinting short life extension research piece from small news outlet encouraging see more unbiased articles like this ...\n",
      "- bionics for the masses short article from business side medicine havent talked about all that much artificial implants and replacements are expected b...\n",
      "- journalists still chewing alcor this article from azcentral alcor and cryonics isnt negative some recent articles have been still any publicity good p...\n",
      "- wary snake oil salesmen from ctnowcom sorting out good from bad one the biggest problems facing new life extensionist sad say but its best assume that...\n",
      "- interesting upcoming events the event calendar betterhumans stocked with lot upcoming life extension and related events the moment its worth look see ...\n",
      "- another nice local article heres another good prolifeextension article from small local press and reprinted the life extension foundation news some gr...\n",
      "- stem cells heal broken heart wired carries commentary the recent use stem cells treat serious heart damage the article points out legislative oppositi...\n",
      "- bioethics council attacks life extension the presidents council bioethics attacks life extension the article over biomedcentralcom this isnt unexpecte...\n",
      "- sterling example bioethics council thinking here excellent example the way which the members the presidents council bioethics think its paper life ext...\n",
      "- developing drugs extend life solid informative article life extension research from newsfactor some good quotes and good advice what expect the near f...\n",
      "- reeve speaks stem cell research very good see influential advocates like christopher reeve speaking out against current government and bioethics counc...\n",
      "- theraputic cloning criminalized camr reprints pointed essay the possible criminalization theraputic cloning research again this another good example s...\n",
      "- criticism fukuyamas views francis fukuyama member the presidents council bioethics and deeply involved attempts ban and restrict antiaging research an...\n",
      "- reminder register for the conference the calorie restriction conference june the registration forms are get early before all the rooms are booked foll...\n",
      "- aging still mysterious attention was drawn today this pdf article from interesting and very accessible look the near future antiaging medicine include...\n",
      "- the future memory slate running series articles how medicine and technology will improve the human body and overcome our physical failings most this h...\n",
      "- the liver machine version one the bbc carries this article the development artificial liver progress artificial hearts recent years any guide could so...\n",
      "- the tools regenerative medicine medical technology complex layered concern every breakthrough depends entire array carefully developed tools and proce...\n",
      "- interview with christopher reeve new scientist has posted interview with christopher reeve that focuses his advocacy stem cell research and theraputic...\n",
      "- life expectancy new high from msnbc life expectancy new high and increasing years per year largely due advances treatment and prevention fatal conditi...\n",
      "- silver fleece awards this time round the silver fleece awards clonaid amongst others those who merit silver fleece are people who are trying exploit t...\n",
      "- theraputic cloning still legal the bbc reports the house lords the rejected bid ban theraputic cloning good for them theraputic cloning research vital...\n",
      "- stem cells could treat diabetes over scienceblog there commentary recent research using stem cells mice the stem cells gave rise insulinproducing cell...\n",
      "- broad backing for stem cell research from the new york times article the many organizations that back and fund stem cell research its about time saw m...\n",
      "- stem cells regenerate the eye from the bbc japanese doctors are regenerating damaged eyes actual patients using stem cell therapy this amazing work an...\n",
      "- laws hurting stem cell research this article found through transhumanity talks about the damage that current legislation doing vital fundamental medic...\n",
      "- hgh buyer beware newsday supplies this warning human growth hormone most sold online having antiaging effects fake beware however this really deeper w...\n",
      "- home run cancer vaccine yahoo carrying suprising article gerons latest anticancer vaccine based genetic therapies people seem think that this one impo...\n",
      "- moderate drinking protects against alzheimers infoaging reprinting another article possible benefits moderate level alcohol consumption its worth bear...\n",
      "- musclebuilding supplements buyer beware heres another story supplements from betterhumans that should get you thinking only two supplements out live t...\n",
      "- reminder transvision june transvision inching closer have you registered yet should prove good conference for those interested life extension future m...\n",
      "- most favor theraputic cloning from newsfactor new survey showing most americans are favor permitting theraputic cloning research looks like the advoca...\n",
      "- senate committee debates theraputic cloning betterhumans reports that the broader senate debate criminalizing theraputic cloning has begun committee h...\n",
      "- morelife supplements supplements are probably the source the most antiaging information and misinformation that youll find online the best points view...\n",
      "- sage crossroads launched sage crossroads has officially launched its impressivelooking online forum for emerging issues human aging aimed wider audien...\n",
      "- arkansas bans theraputic cloning the washington times notes that arkansas politicians signed into law ban theraputic cloning this current round antire...\n",
      "- cfi says protect theraputic cloning the center for inquiry has page allowing you send message your elected representatives the debate congress over hu...\n",
      "- science redesigning human aging little late noting this one from the betterhumans event calendar gregory stock debates bill mckibben thursday this mon...\n",
      "- transcript bailey debating fukuyama pdf transcript the debate between francis fukuyama pro death anti life extension and ron bailey sage crossroads co...\n",
      "- european committee supports research ban looks like the european parliment may fall with the and french governments trying ban promising stem cell and...\n",
      "- nanotech will lead medical advances most major medical advances now and coming years will through our power manipulate the very small researchers are ...\n",
      "- cancer vaccines hype hope ive mentioned cancer vaccine research before cancer one the most common and dangerous agerelated conditions defeating cancer...\n",
      "- prof austad aging article from dateline alabama notes recent lecture steven austad well regarded researcher according traditional medical advances are...\n",
      "- the future life kurzweilainet carrying report the recent future life conference heady visions the near future medical antiaging and life extension tec...\n",
      "- good and bad stem cell reseach news wired carring couple articles recent regenerative medicine research using stem cell therapies the second article h...\n",
      "- cryonics society canada the cryonics society canada has updated their site its useful resource for those who want know more about cryonics noted respo...\n",
      "- another cancer treatment entering trials new scientist reports another very promising cancer treatment enter trials next year the current crop potenti...\n",
      "- dhea strikes out alzheimers dhea touted antiaging supplement the basis number studies the life extension foundation good place find out more about thi...\n",
      "- lighten live longer there are number news items circulation the moment the connection between your weight health and lifespan thought note one the bet...\n",
      "- aging debate sage crossroads you can now download windows media audio files two recent and very interesting debates aging research and life extension ...\n",
      "- promising alzheimers treatment from betterhumans news treatment that slows and some cases reverse the effects alzheimers why this important for life e...\n",
      "- kass criticized for wrong reasons biomed central has article that has been doing the rounds recent days leon kass chairman the presidents council bioe...\n",
      "- real stem cell progress from geron geron powering ahead with stem cell research reported betterhumans researchers have made demonstrable progress show...\n",
      "- lose weight now and live longer this very straightforward and unambiguous study weight exercise and longevity reported reuters being overweight will s...\n",
      "- longevity meme site redesign you may have noticed the longevity meme colorful and easier the eyes today hope that you approve our new look were always...\n",
      "- canada debating theraputic cloning ban the western catholic reporter one the few outlets talk about the effects canadian bill theraputic cloning the b...\n",
      "- japanese seek the key longer life the japanese are forging ahead stem cell and other antiaging research according this article from the washington tim...\n",
      "- why retire youre having fun article from ctnowcom discusses the trend healthy active working seniors this possibility for senior life comes result adv...\n",
      "- reeve speaks yale the yale herald carries short article talk christopher reeve gave the yale university stem cell interest group this part reeves ongo...\n",
      "- longer life revisited the lef news reprints canadian article our increasing life expectancy this one number similar articles that have appeared the pr...\n",
      "- low calorie diets work this flurry articles about weight and longevity here one the efficacy various diets from msnbc this relevant light the airplay ...\n",
      "- bailey kass ronald bailey has another fascinating article leon kass and the presidents council bioethics over reason online kass views are appalling a...\n",
      "- defining healthy something heartening article from signs san diego older health and the future longevity good note that realistic sober practical disc...\n",
      "- uams wins for basic aging research noted arkansas business the university arkansas for medical sciences has received sizable grant from the nih for ba...\n",
      "- european parliament votes ban stem cell research the bbc reports that mps the european parliament have followed the lead voting ban embryonic stem cel...\n",
      "- science for seniors science for seniors good resource medical research and the major agerelated conditions alzheimers cancer and they have good solid ...\n",
      "- oppose the european stem cell ban have put page here the longevity meme help europeans like myself express their disappointment and anger the recent v...\n",
      "- low calorie diets work again something worth saying its worth saying twice this piece from eurekalert more direct and the point than the msnbc article...\n",
      "- confusion about theraputic cloning article reuters illustrates state selfinduced confusion the part bioethicists and politicians needless say misses t...\n",
      "- confusion about antiaging article from betterhumans tells the staggering size and growth the antiaging market put quotes because almost none this has ...\n",
      "- florida bans theraputic cloning reported the orlando sentinal the florida legislature has criminalized theraputic cloning this despite research under ...\n",
      "- sage crossroads calorie restriction the latest article over sage crossroads talks about calorie restriction some length usual they err far the side ca...\n",
      "- okinawan diet concepts making progress always say that its encouraging see healthy life extension concepts showing far and wide the media this case th...\n",
      "- progeria research may shed light aging heartening scientific success story the making reported eurekalert researchers have made great and rapid stride...\n",
      "- upcoming webcast sage crossroads sage crossroads hosting webcast theraputic cloning and aging research april will also accessible their archive within...\n",
      "- vaccine for degenerative conditions the horizon some interesting basic research mechanisms degenerative diseases reported eurekalert while one should ...\n",
      "- competition for calorie restriction dont normally post research articles that require people look words terms and chemicals this interesting one howev...\n",
      "- urging congress increase research funding from eurekalert the task force for aging research funding calling for greater government funding the nih fro...\n",
      "- common sense longevity advice common sense general health and longevity from msnbc use the tools you have hand live longer healthier life quote its as...\n",
      "- examining the bioethics council sage crossroads presents informative article the members views and short history the presidents council bioethics for ...\n",
      "- more progeria research the lef news reprinting another article the recent progeria breakthrough and its application aging research from the article su...\n",
      "- yet more ways defeat cancer article small times found via kurzweilainet discusses some amazing research that should lead efficient way nailing cancer ...\n",
      "- more proof for telomere involvement aging this article from betterhumans clever illustration the role telomeres play aging you will recall flurry arti...\n",
      "- caleb finch aging from the lef news this interesting article one earlier pioneers modern aging research interesting character sure still slugging away...\n",
      "- diabetes drug produces antiaging effects looks like drug used treat diabetes has been found mimic the healthy life extension effects calorie restricti...\n",
      "- pointed article bad product always ready say that there lot junk and nonsense out there pretending legitimate antiaging products and information here ...\n",
      "- winning the war against aging from the pages the futurist joao pedro magalhaes asks why die there may soon nothing preventing greatgrandparents from b...\n",
      "- baby teeth source stem cells wasnt going post this article from the new scientist but occurred that illustrates important principle research finding b...\n",
      "- theraputic cloning webcast transcript the pdf transcript webcast discussion theraputic cloning the sage crossroads archive nothing new said the sides ...\n",
      "- new york gets new aging research office betterhumans notes that the american federation for aging research has opened new office new york since its fo...\n",
      "- boost for adult stem cell therapies scienceblog reporting experiments that might enable adult stem cells basis for treating neurological conditions ag...\n",
      "- yet more reasons not overweight being overweight even slightly overweight being shown increasingly bad for your health and longevity not year goes see...\n",
      "- european stem cell legislation debated here cordis article that follows the ongoing european parliament debate criminalizing embryonic stem cell resea...\n",
      "- from the front lines attention was drawn this article lef news occasionally post items from the business world meaningful antiaging therapies will del...\n",
      "- senators urge stem cell expansion from biomed central story the current restrictive stem cell legislation few senators are trying get the number allow...\n",
      "- off diet works mice the new scientist carrying piece interesting dietary study mice scientists claim some benefits calorie restriction are observed di...\n",
      "- yet more promising cancer research can only hope that antiaging research looks good cancer research does now numerous very promising paths full cheap ...\n",
      "- working around legislation part from the new scientist story efforts find politically safe way obtain stem cells work with stem cells has much promise...\n",
      "- the cost cure aubrey grey aging researcher note associated with the iabg put together these notes response being asked about the cost cure for aging s...\n",
      "- shorter male lifespan and what about from the newswire section salon short speculative piece about the underlying reasons for the shorter male lifespa...\n",
      "- understanding stem cell mechanisms from the new and improved betterhumans heres article that illustrates the power understanding the basics when you k...\n",
      "- conflict the antiaging industry this article illustrates portion the ongoing internal debate between segments the antiaging supplement and medicine in...\n",
      "- aging mental decline reversible the new scientist discusses recent work that shows there might comparatively simple fix for the general mental and vis...\n",
      "- from the front lines lef news reprinting businesswire article elixir pharmaceuticals this company has picked very rapidly recent progeria rapid aging ...\n",
      "- progress understanding bone loss from science for seniors news progress understanding osteoporosis the commonplace decrease bone density with age oste...\n",
      "- the methuselah mouse prize prizes science encourage progress just look the results the million prize rocketry many companies compete win and the field...\n",
      "- progress regenerative medicine yahoo news reports promising early studies regenerative medicine stemcells inc this young company working stem cell and...\n",
      "- what your genes want you eat attention was drawn this article from the new york times gives view the future nutritional advice the most effective diet...\n",
      "- leon kass ageless bodies from the new atlantis leon kass holds forth biotechnology and the promise eternal life regular readers now know kass believes...\n",
      "- prize for aging research the folks over betterhumans are apparently reading mind again while was writing newsletter the role prizes stimulating aging ...\n",
      "- another cancer therapy the way cancer the way out threat our health the results three decades intense funding are paying off many ways this article fr...\n",
      "- canadian longitudinal study aging this article from canada newswire discusses funding for the new canadian longitudinal study aging clsa program only ...\n",
      "- longevity gene discovered yeast research into the genetic regulation aging has been the news recently voice america reports researchers who have turne...\n",
      "- lots government money for nanotech reported msnbc the government will spending much larger amount money basic nanotechnology research over the next fe...\n",
      "- bionic eyes and early success occasionally post articles mechanical ways defeating the depredations aging seems that progress that front slower than r...\n",
      "- intriguing finding for male longevity heres some interesting basic research reported the lef news all the best research raises new questions leaving s...\n",
      "- hormone replacement therapy this article from science news online comprehensive and very informative look the current state hormone replacement therap...\n",
      "- site outage you may have noticed had lengthy site outage yesterday our apologies everyone who was inconvenienced looks like vital router immediately u...\n",
      "- research brain aging genetics betterhumans carries this article recent work into the genetic basis aging the brain this very lowlevel early fundamenta...\n",
      "- falling behind stem cell research from healthscout news scroll down look the last article this page most notable quote scientists say the country quic...\n",
      "- more that yeast longevity research heres somewhat more concise article from the lef news recent research the longevity yeast all ties the genetics cal...\n",
      "- more confusion over antiaging here interesting balanced article from the arizona republic conflicts within and surrounding the antiaging science and r...\n",
      "- stem cell and theraputic cloning legislation from the san francisco business times good article the current state stem cell and theraputic cloning leg...\n",
      "- sage crossroads embryonic stem cells proregulation and slightly unbalanced article embryonic stem cells and their potential sage crossroads the curren...\n",
      "- medical benefits nanotechnology the center for responsible nanotechnology fine and upstanding group have put together snappy overview page the effects...\n",
      "- distributed computing vrs diseases aging this article from the register illustrates how spare processor time from ordinary home computers harnessed fo...\n",
      "- more antiaging confusion following mondays article deep divisions between merchants doctors and researchers heres another good one from the seattle ti...\n",
      "- greater potential for adult stem cells seems stem cell news day today along with theraputic cloning stem cells are one the most promising lines antiag...\n",
      "- canada moving ahead with stem cell research article betterhumans notes that the canadian institute health research moving ahead with funding embryonic...\n",
      "- premature aging syndrome research mice the national cancer institute has announcing research progeria premature aging disease mice that reinforces the...\n",
      "- how aging relates diabetes hot the heels that last article yahoo news explains recent research the link between aging and the onset diabetes this impo...\n",
      "- link between aging and agerelated disease over eurekalert and article discussing recent research into the fundamental mechanisms connecting aging with...\n",
      "- more heat shock protein research ive noticed that takes few days for more compehensible articles new medical research appear here good one from silico...\n",
      "- more only one type stem cell followup recent articles the new scientist provides clear and concise commentary study has suggested that all stem cells ...\n",
      "- boost for telomere aging theories betterhumans reports research that gives more support for telomere theories aging these state short that telomeres j...\n",
      "- whats next for longevity research much better feature article this week sage crossroads the current state aging antiaging and longevity research exami...\n",
      "- sympathetic cryonics article australianit carrying introductorylevel article the current state human cryonic suspension gratifyingly unlike many recen...\n",
      "- uthsc expand aging research center occasionally post administrative stories they seem appropriate and representative this one caught eye and thought s...\n",
      "- the personal cost aging this interesting article from osu research news about the costs managing failing health caused aging the personal costs financ...\n",
      "- alzheimers how close cure talk about alzheimers fairly often here since its representative class conditions that are great concern healthy life extens...\n",
      "- stereotypes aging memory quite the interesting find from state university news researchers have looked into agerelated decline memory and are suggesti...\n",
      "- sage the science aging knowledge environment sage excellent resource for anyone interested the latest research and the people behind all youve doubt s...\n",
      "- ovaries play role mammalian aging from the lef news fairly bruteforce study concludes that should looking into the functions the ovaries mammals for m...\n",
      "- overview dendriticcell cancer vaccines article from njcom looks over the past decade research and trials particular and very promising class cancer va...\n",
      "- aging research program heres one missed from earlier the month the john moores university liverpool undertaking large study aging the stated intent th...\n",
      "- death and immortality article over betterhumans examines views towards death the life extension community have say that dont really agree with the aut...\n",
      "- facing death continuing todays theme heres short article attitudes towards death and life extension from the age australia once again disagree with th...\n",
      "- turning off genetic disease group from the university iowa have shown that possible turn off silence mutant diseasecausing genes without affecting the...\n"
     ]
    }
   ],
   "source": [
    "# Cell 7: Detailed Analysis of a Specific Topic (Corrected)\n",
    "\n",
    "if 'topic_model' in locals() and 'documents' in locals():\n",
    "    # --- a. Detailed Analysis of a Specific Topic by ID ---\n",
    "    topic_info_df = topic_model.get_topic_info()\n",
    "    \n",
    "    if len(topic_info_df) > 1:\n",
    "        # --- INTERACTIVE PARAMETER ---\n",
    "        # Change this ID to explore any topic that interests you.\n",
    "        # By default, it inspects the most frequent topic.\n",
    "        topic_id_to_inspect = topic_info_df.iloc[1]['Topic']\n",
    "        # -----------------------------\n",
    "        \n",
    "        # \\n--- 🔎 Detailed Analysis of Topic ID: {topic_id_to_inspect} ---\n",
    "        print(f\"\\n--- 🔎 Detailed Analysis of Topic ID: {topic_id_to_inspect} ---\")\n",
    "        topic_name = topic_info_df.loc[topic_info_df['Topic'] == topic_id_to_inspect, 'Name'].iloc[0]\n",
    "        # Name: {topic_name}\n",
    "        print(f\"Name: {topic_name}\")\n",
    "        \n",
    "        # \\nKeywords:\n",
    "        print(\"\\nKeywords:\")\n",
    "        print([word for word, score in topic_model.get_topic(topic_id_to_inspect)])\n",
    "        \n",
    "        # \\nMost representative documents for this topic:\n",
    "        print(\"\\nMost representative documents for this topic:\")\n",
    "        \n",
    "        # ========================== START OF CORRECTION ==========================\n",
    "        # 1. We get the INDICES of the representative documents.\n",
    "        representative_doc_indices = topic_model.get_representative_docs(topic_id_to_inspect)\n",
    "        \n",
    "        # 2. We use the indices to look up the TEXT in the original 'documents' list.\n",
    "        for doc_index in representative_doc_indices:\n",
    "            # We get the full text of the document\n",
    "            doc_text = documents[doc_index]\n",
    "            # Now we can slice the text (string)\n",
    "            print(f\"- {doc_text[:150]}...\")\n",
    "        # =========================== END OF CORRECTION ===========================\n",
    "\n",
    "    else:\n",
    "        # \\n[WARNING]: No topics found to analyze (only outliers).\n",
    "        print(\"\\n[WARNING]: No topics found to analyze (only outliers).\")\n",
    "\n",
    "else:\n",
    "    # ❌ The model or the 'documents' variable are not available. Run previous cells first.\n",
    "    print(\"❌ The model or the 'documents' variable are not available. Run previous cells first.\")"
   ]
  },
  {
   "cell_type": "code",
   "execution_count": 8,
   "id": "11f75aca",
   "metadata": {},
   "outputs": [
    {
     "name": "stdout",
     "output_type": "stream",
     "text": [
      "--- Preparing base dataframe for N-gram analysis ---\n",
      "Detected 'Name_x' column from merge. Standardizing to 'Name'.\n",
      "✅ Data preparation complete. You can now re-run Cell 9.\n",
      "\n",
      "Columns in the prepared dataframe: ['Topic', 'Words', 'Frequency', 'Timestamp', 'Name', 'Year', 'N-Grams_List']\n"
     ]
    }
   ],
   "source": [
    "# Cell 8: Data Preparation for N-Gram Analysis (Corrected)\n",
    "import pandas as pd\n",
    "import matplotlib.pyplot as plt\n",
    "\n",
    "# Ensure the necessary variables from previous cells exist\n",
    "if 'topic_model' in locals() and 'topics_over_time' in locals() and not topics_over_time.empty:\n",
    "\n",
    "    # ==============================================================================\n",
    "    # --- 1. Prepare the Base Dataframe 📊 ---\n",
    "    # ==============================================================================\n",
    "    # --- Preparing base dataframe for N-gram analysis ---\n",
    "    print(\"--- Preparing base dataframe for N-gram analysis ---\")\n",
    "    \n",
    "    df_ngrams = topics_over_time.copy()\n",
    "    df_ngrams['Year'] = df_ngrams['Timestamp'].dt.year\n",
    "\n",
    "    def filter_ngrams(words_string):\n",
    "        \"\"\"Filters a word string to return only bigrams and trigrams.\"\"\"\n",
    "        if not isinstance(words_string, str):\n",
    "            return []\n",
    "        word_list = words_string.split(', ')\n",
    "        ngrams = [word.strip() for word in word_list if ' ' in word.strip()]\n",
    "        return ngrams\n",
    "\n",
    "    # Apply function to extract n-grams\n",
    "    df_ngrams['N-Grams_List'] = df_ngrams['Words'].apply(filter_ngrams)\n",
    "    \n",
    "    # Enrich the table with topic names from the main model\n",
    "    topic_info = topic_model.get_topic_info()[['Topic', 'Name']]\n",
    "    \n",
    "    # Perform the merge, which can create 'Name_x' and 'Name_y'\n",
    "    df_ngrams = pd.merge(df_ngrams, topic_info, on='Topic')\n",
    "    \n",
    "    # --- FIX IS HERE ---\n",
    "    # Check for the 'Name_x' column created by the merge and rename it back to 'Name'\n",
    "    if 'Name_x' in df_ngrams.columns:\n",
    "        # Detected 'Name_x' column from merge. Standardizing to 'Name'.\n",
    "        print(\"Detected 'Name_x' column from merge. Standardizing to 'Name'.\")\n",
    "        # Drop the redundant 'Name_y' column if it exists\n",
    "        if 'Name_y' in df_ngrams.columns:\n",
    "            df_ngrams.drop(columns=['Name_y'], inplace=True)\n",
    "        # Rename 'Name_x' to the consistent 'Name'\n",
    "        df_ngrams.rename(columns={'Name_x': 'Name'}, inplace=True)\n",
    "    \n",
    "    # Filter out rows not useful for visualization\n",
    "    df_ngrams_filtered = df_ngrams[(df_ngrams['N-Grams_List'].astype(bool)) & (df_ngrams['Topic'] != -1)]\n",
    "    \n",
    "    # Sort values for processing\n",
    "    df_ngrams_prepared = df_ngrams_filtered.sort_values(by=['Year', 'Frequency'], ascending=[True, False])\n",
    "\n",
    "    # ✅ Data preparation complete. You can now re-run Cell 9.\n",
    "    print(\"✅ Data preparation complete. You can now re-run Cell 9.\")\n",
    "    # A useful debug print to confirm the columns are correct\n",
    "    # Columns in the prepared dataframe: ['Timestamp', 'Frequency', 'Words', 'Topic', 'Year', 'N-Grams_List', 'Name']\n",
    "    print(\"\\nColumns in the prepared dataframe:\", df_ngrams_prepared.columns.tolist())\n",
    "\n",
    "else:\n",
    "    # The model or the 'topics_over_time' variable is not available. Please run the previous cells first.\n",
    "    print(\"The model or the 'topics_over_time' variable is not available. Please run the previous cells first.\")"
   ]
  },
  {
   "cell_type": "code",
   "execution_count": 9,
   "id": "affefd67",
   "metadata": {},
   "outputs": [
    {
     "name": "stdout",
     "output_type": "stream",
     "text": [
      "--- Summary Table: Top Topics and their N-Grams per Year ---\n"
     ]
    },
    {
     "data": {
      "text/html": [
       "<div>\n",
       "<style scoped>\n",
       "    .dataframe tbody tr th:only-of-type {\n",
       "        vertical-align: middle;\n",
       "    }\n",
       "\n",
       "    .dataframe tbody tr th {\n",
       "        vertical-align: top;\n",
       "    }\n",
       "\n",
       "    .dataframe thead th {\n",
       "        text-align: right;\n",
       "    }\n",
       "</style>\n",
       "<table border=\"1\" class=\"dataframe\">\n",
       "  <thead>\n",
       "    <tr style=\"text-align: right;\">\n",
       "      <th></th>\n",
       "      <th>Year</th>\n",
       "      <th>Topic</th>\n",
       "      <th>Name</th>\n",
       "      <th>N-Grams_List</th>\n",
       "      <th>Frequency</th>\n",
       "    </tr>\n",
       "  </thead>\n",
       "  <tbody>\n",
       "    <tr>\n",
       "      <th>30</th>\n",
       "      <td>2002</td>\n",
       "      <td>51</td>\n",
       "      <td>51_cloning_ban_therapeutic cloning_thera...</td>\n",
       "      <td>[theraputic cloning, therapeutic cloning]</td>\n",
       "      <td>32</td>\n",
       "    </tr>\n",
       "    <tr>\n",
       "      <th>5</th>\n",
       "      <td>2002</td>\n",
       "      <td>5</td>\n",
       "      <td>5_stem_stem cells_cells_embryonic</td>\n",
       "      <td>[stem cells, stem cell, adult stem]</td>\n",
       "      <td>22</td>\n",
       "    </tr>\n",
       "    <tr>\n",
       "      <th>10</th>\n",
       "      <td>2002</td>\n",
       "      <td>13</td>\n",
       "      <td>13_stem cell research_cell research_stem...</td>\n",
       "      <td>[stem cell research, cell research, stem cell]</td>\n",
       "      <td>21</td>\n",
       "    </tr>\n",
       "    <tr>\n",
       "      <th>29</th>\n",
       "      <td>2002</td>\n",
       "      <td>50</td>\n",
       "      <td>50_calorie_calorie restriction_restricti...</td>\n",
       "      <td>[calorie restriction]</td>\n",
       "      <td>21</td>\n",
       "    </tr>\n",
       "    <tr>\n",
       "      <th>34</th>\n",
       "      <td>2002</td>\n",
       "      <td>60</td>\n",
       "      <td>60_council_bioethics_kass_leon kass</td>\n",
       "      <td>[council bioethics, presidents council]</td>\n",
       "      <td>17</td>\n",
       "    </tr>\n",
       "    <tr>\n",
       "      <th>...</th>\n",
       "      <td>...</td>\n",
       "      <td>...</td>\n",
       "      <td>...</td>\n",
       "      <td>...</td>\n",
       "      <td>...</td>\n",
       "    </tr>\n",
       "    <tr>\n",
       "      <th>3195</th>\n",
       "      <td>2024</td>\n",
       "      <td>33</td>\n",
       "      <td>33_reprogramming_partial_partial reprogr...</td>\n",
       "      <td>[partial reprogramming, yamanaka factors]</td>\n",
       "      <td>9</td>\n",
       "    </tr>\n",
       "    <tr>\n",
       "      <th>3184</th>\n",
       "      <td>2024</td>\n",
       "      <td>19</td>\n",
       "      <td>19_immune_immunosenescence_cells_immunit...</td>\n",
       "      <td>[immune resilience, immune aging]</td>\n",
       "      <td>8</td>\n",
       "    </tr>\n",
       "    <tr>\n",
       "      <th>3309</th>\n",
       "      <td>2024</td>\n",
       "      <td>229</td>\n",
       "      <td>229_epigenetic_physical_clocks_fitness</td>\n",
       "      <td>[physical activity]</td>\n",
       "      <td>8</td>\n",
       "    </tr>\n",
       "    <tr>\n",
       "      <th>3177</th>\n",
       "      <td>2024</td>\n",
       "      <td>10</td>\n",
       "      <td>10_exercise_brain_physical_cognitive</td>\n",
       "      <td>[physical activity]</td>\n",
       "      <td>7</td>\n",
       "    </tr>\n",
       "    <tr>\n",
       "      <th>3186</th>\n",
       "      <td>2024</td>\n",
       "      <td>21</td>\n",
       "      <td>21_dna_dna damage_mutations_damage</td>\n",
       "      <td>[dna damage, dna repair]</td>\n",
       "      <td>7</td>\n",
       "    </tr>\n",
       "  </tbody>\n",
       "</table>\n",
       "<p>300 rows × 5 columns</p>\n",
       "</div>"
      ],
      "text/plain": [
       "      Year  Topic                                         Name  \\\n",
       "30    2002     51  51_cloning_ban_therapeutic cloning_thera...   \n",
       "5     2002      5            5_stem_stem cells_cells_embryonic   \n",
       "10    2002     13  13_stem cell research_cell research_stem...   \n",
       "29    2002     50  50_calorie_calorie restriction_restricti...   \n",
       "34    2002     60          60_council_bioethics_kass_leon kass   \n",
       "...    ...    ...                                          ...   \n",
       "3195  2024     33  33_reprogramming_partial_partial reprogr...   \n",
       "3184  2024     19  19_immune_immunosenescence_cells_immunit...   \n",
       "3309  2024    229       229_epigenetic_physical_clocks_fitness   \n",
       "3177  2024     10         10_exercise_brain_physical_cognitive   \n",
       "3186  2024     21           21_dna_dna damage_mutations_damage   \n",
       "\n",
       "                                        N-Grams_List  Frequency  \n",
       "30         [theraputic cloning, therapeutic cloning]         32  \n",
       "5                [stem cells, stem cell, adult stem]         22  \n",
       "10    [stem cell research, cell research, stem cell]         21  \n",
       "29                             [calorie restriction]         21  \n",
       "34           [council bioethics, presidents council]         17  \n",
       "...                                              ...        ...  \n",
       "3195       [partial reprogramming, yamanaka factors]          9  \n",
       "3184               [immune resilience, immune aging]          8  \n",
       "3309                             [physical activity]          8  \n",
       "3177                             [physical activity]          7  \n",
       "3186                        [dna damage, dna repair]          7  \n",
       "\n",
       "[300 rows x 5 columns]"
      ]
     },
     "metadata": {},
     "output_type": "display_data"
    }
   ],
   "source": [
    "# Cell 9: Display Top Topics Per Year (with Full Output)\n",
    "\n",
    "# Ensure the prepared dataframe from the previous cell exists\n",
    "if 'df_ngrams_prepared' in locals():\n",
    "    # ==============================================================================\n",
    "    # --- 2. Display Top Topics Per Year Summary Table 📋 ---\n",
    "    # ==============================================================================\n",
    "    print(\"--- Summary Table: Top Topics and their N-Grams per Year ---\")\n",
    "    \n",
    "    # Group by year and take the top entries for each year\n",
    "    top_15_summary_table = df_ngrams_prepared.groupby('Year').head(15)\n",
    "    display(top_15_summary_table[['Year', 'Topic', 'Name', 'N-Grams_List', 'Frequency']])\n",
    "\n",
    "    # # --- Temporarily set pandas display options to show all rows ---\n",
    "    # with pd.option_context('display.max_rows', None, 'display.max_columns', None):\n",
    "    #     # Display the resulting summary table, now including Topic ID and the N-Grams\n",
    "    #     display(top_15_summary_table[['Year', 'Topic', 'Name', 'N-Grams_List', 'Frequency']])\n",
    "\n",
    "else:\n",
    "    print(\"The prepared dataframe ('df_ngrams_prepared') is not available. Please run the previous cell first.\")"
   ]
  },
  {
   "cell_type": "code",
   "execution_count": 10,
   "id": "93c4c144",
   "metadata": {},
   "outputs": [
    {
     "name": "stderr",
     "output_type": "stream",
     "text": [
      "Device set to use cpu\n"
     ]
    },
    {
     "name": "stdout",
     "output_type": "stream",
     "text": [
      "✅ Flan-T5 model loaded successfully.\n",
      "\n",
      "Generating interpreted names directly from the 'Name' column...\n"
     ]
    },
    {
     "name": "stderr",
     "output_type": "stream",
     "text": [
      "Interpreting Names:   0%|          | 0/300 [00:00<?, ?it/s]Both `max_new_tokens` (=256) and `max_length`(=15) seem to have been set. `max_new_tokens` will take precedence. Please refer to the documentation for more information. (https://huggingface.co/docs/transformers/main/en/main_classes/text_generation)\n",
      "Interpreting Names:   1%|          | 2/300 [00:00<00:43,  6.78it/s]Both `max_new_tokens` (=256) and `max_length`(=15) seem to have been set. `max_new_tokens` will take precedence. Please refer to the documentation for more information. (https://huggingface.co/docs/transformers/main/en/main_classes/text_generation)\n",
      "Interpreting Names:   1%|          | 3/300 [00:00<00:46,  6.41it/s]Both `max_new_tokens` (=256) and `max_length`(=15) seem to have been set. `max_new_tokens` will take precedence. Please refer to the documentation for more information. (https://huggingface.co/docs/transformers/main/en/main_classes/text_generation)\n",
      "Interpreting Names:   1%|▏         | 4/300 [00:00<00:46,  6.40it/s]Both `max_new_tokens` (=256) and `max_length`(=15) seem to have been set. `max_new_tokens` will take precedence. Please refer to the documentation for more information. (https://huggingface.co/docs/transformers/main/en/main_classes/text_generation)\n",
      "Interpreting Names:   2%|▏         | 5/300 [00:00<00:55,  5.29it/s]Both `max_new_tokens` (=256) and `max_length`(=15) seem to have been set. `max_new_tokens` will take precedence. Please refer to the documentation for more information. (https://huggingface.co/docs/transformers/main/en/main_classes/text_generation)\n",
      "Interpreting Names:   2%|▏         | 6/300 [00:01<01:15,  3.89it/s]Both `max_new_tokens` (=256) and `max_length`(=15) seem to have been set. `max_new_tokens` will take precedence. Please refer to the documentation for more information. (https://huggingface.co/docs/transformers/main/en/main_classes/text_generation)\n",
      "Interpreting Names:   2%|▏         | 7/300 [00:01<01:08,  4.26it/s]Both `max_new_tokens` (=256) and `max_length`(=15) seem to have been set. `max_new_tokens` will take precedence. Please refer to the documentation for more information. (https://huggingface.co/docs/transformers/main/en/main_classes/text_generation)\n",
      "Interpreting Names:   3%|▎         | 8/300 [00:01<01:05,  4.44it/s]Both `max_new_tokens` (=256) and `max_length`(=15) seem to have been set. `max_new_tokens` will take precedence. Please refer to the documentation for more information. (https://huggingface.co/docs/transformers/main/en/main_classes/text_generation)\n",
      "Interpreting Names:   3%|▎         | 9/300 [00:01<00:59,  4.85it/s]Both `max_new_tokens` (=256) and `max_length`(=15) seem to have been set. `max_new_tokens` will take precedence. Please refer to the documentation for more information. (https://huggingface.co/docs/transformers/main/en/main_classes/text_generation)\n",
      "Interpreting Names:   3%|▎         | 10/300 [00:02<01:03,  4.54it/s]Both `max_new_tokens` (=256) and `max_length`(=15) seem to have been set. `max_new_tokens` will take precedence. Please refer to the documentation for more information. (https://huggingface.co/docs/transformers/main/en/main_classes/text_generation)\n",
      "Interpreting Names:   4%|▎         | 11/300 [00:02<01:00,  4.81it/s]Both `max_new_tokens` (=256) and `max_length`(=15) seem to have been set. `max_new_tokens` will take precedence. Please refer to the documentation for more information. (https://huggingface.co/docs/transformers/main/en/main_classes/text_generation)\n",
      "Interpreting Names:   4%|▍         | 12/300 [00:02<00:56,  5.06it/s]Both `max_new_tokens` (=256) and `max_length`(=15) seem to have been set. `max_new_tokens` will take precedence. Please refer to the documentation for more information. (https://huggingface.co/docs/transformers/main/en/main_classes/text_generation)\n",
      "Interpreting Names:   4%|▍         | 13/300 [00:02<00:58,  4.94it/s]Both `max_new_tokens` (=256) and `max_length`(=15) seem to have been set. `max_new_tokens` will take precedence. Please refer to the documentation for more information. (https://huggingface.co/docs/transformers/main/en/main_classes/text_generation)\n",
      "Interpreting Names:   5%|▍         | 14/300 [00:02<01:01,  4.65it/s]Both `max_new_tokens` (=256) and `max_length`(=15) seem to have been set. `max_new_tokens` will take precedence. Please refer to the documentation for more information. (https://huggingface.co/docs/transformers/main/en/main_classes/text_generation)\n",
      "Interpreting Names:   5%|▌         | 15/300 [00:03<00:59,  4.75it/s]Both `max_new_tokens` (=256) and `max_length`(=15) seem to have been set. `max_new_tokens` will take precedence. Please refer to the documentation for more information. (https://huggingface.co/docs/transformers/main/en/main_classes/text_generation)\n",
      "Interpreting Names:   5%|▌         | 16/300 [00:03<01:08,  4.15it/s]Both `max_new_tokens` (=256) and `max_length`(=15) seem to have been set. `max_new_tokens` will take precedence. Please refer to the documentation for more information. (https://huggingface.co/docs/transformers/main/en/main_classes/text_generation)\n",
      "Interpreting Names:   6%|▌         | 17/300 [00:03<01:03,  4.47it/s]Both `max_new_tokens` (=256) and `max_length`(=15) seem to have been set. `max_new_tokens` will take precedence. Please refer to the documentation for more information. (https://huggingface.co/docs/transformers/main/en/main_classes/text_generation)\n",
      "Interpreting Names:   6%|▌         | 18/300 [00:03<00:59,  4.77it/s]Both `max_new_tokens` (=256) and `max_length`(=15) seem to have been set. `max_new_tokens` will take precedence. Please refer to the documentation for more information. (https://huggingface.co/docs/transformers/main/en/main_classes/text_generation)\n",
      "Interpreting Names:   6%|▋         | 19/300 [00:04<01:15,  3.71it/s]Both `max_new_tokens` (=256) and `max_length`(=15) seem to have been set. `max_new_tokens` will take precedence. Please refer to the documentation for more information. (https://huggingface.co/docs/transformers/main/en/main_classes/text_generation)\n",
      "Interpreting Names:   7%|▋         | 20/300 [00:04<01:06,  4.22it/s]Both `max_new_tokens` (=256) and `max_length`(=15) seem to have been set. `max_new_tokens` will take precedence. Please refer to the documentation for more information. (https://huggingface.co/docs/transformers/main/en/main_classes/text_generation)\n",
      "Interpreting Names:   7%|▋         | 21/300 [00:04<01:11,  3.91it/s]Both `max_new_tokens` (=256) and `max_length`(=15) seem to have been set. `max_new_tokens` will take precedence. Please refer to the documentation for more information. (https://huggingface.co/docs/transformers/main/en/main_classes/text_generation)\n",
      "Interpreting Names:   7%|▋         | 22/300 [00:04<01:11,  3.87it/s]Both `max_new_tokens` (=256) and `max_length`(=15) seem to have been set. `max_new_tokens` will take precedence. Please refer to the documentation for more information. (https://huggingface.co/docs/transformers/main/en/main_classes/text_generation)\n",
      "Interpreting Names:   8%|▊         | 23/300 [00:05<01:04,  4.27it/s]Both `max_new_tokens` (=256) and `max_length`(=15) seem to have been set. `max_new_tokens` will take precedence. Please refer to the documentation for more information. (https://huggingface.co/docs/transformers/main/en/main_classes/text_generation)\n",
      "Interpreting Names:   8%|▊         | 24/300 [00:05<01:08,  4.04it/s]Both `max_new_tokens` (=256) and `max_length`(=15) seem to have been set. `max_new_tokens` will take precedence. Please refer to the documentation for more information. (https://huggingface.co/docs/transformers/main/en/main_classes/text_generation)\n",
      "Interpreting Names:   8%|▊         | 25/300 [00:05<01:09,  3.94it/s]Both `max_new_tokens` (=256) and `max_length`(=15) seem to have been set. `max_new_tokens` will take precedence. Please refer to the documentation for more information. (https://huggingface.co/docs/transformers/main/en/main_classes/text_generation)\n",
      "Interpreting Names:   9%|▊         | 26/300 [00:05<01:02,  4.41it/s]Both `max_new_tokens` (=256) and `max_length`(=15) seem to have been set. `max_new_tokens` will take precedence. Please refer to the documentation for more information. (https://huggingface.co/docs/transformers/main/en/main_classes/text_generation)\n",
      "Interpreting Names:   9%|▉         | 27/300 [00:05<00:56,  4.84it/s]Both `max_new_tokens` (=256) and `max_length`(=15) seem to have been set. `max_new_tokens` will take precedence. Please refer to the documentation for more information. (https://huggingface.co/docs/transformers/main/en/main_classes/text_generation)\n",
      "Interpreting Names:   9%|▉         | 28/300 [00:06<01:04,  4.19it/s]Both `max_new_tokens` (=256) and `max_length`(=15) seem to have been set. `max_new_tokens` will take precedence. Please refer to the documentation for more information. (https://huggingface.co/docs/transformers/main/en/main_classes/text_generation)\n",
      "Interpreting Names:  10%|▉         | 29/300 [00:06<01:04,  4.20it/s]Both `max_new_tokens` (=256) and `max_length`(=15) seem to have been set. `max_new_tokens` will take precedence. Please refer to the documentation for more information. (https://huggingface.co/docs/transformers/main/en/main_classes/text_generation)\n",
      "Interpreting Names:  10%|█         | 30/300 [00:06<00:58,  4.60it/s]Both `max_new_tokens` (=256) and `max_length`(=15) seem to have been set. `max_new_tokens` will take precedence. Please refer to the documentation for more information. (https://huggingface.co/docs/transformers/main/en/main_classes/text_generation)\n",
      "Interpreting Names:  10%|█         | 31/300 [00:06<00:53,  5.04it/s]Both `max_new_tokens` (=256) and `max_length`(=15) seem to have been set. `max_new_tokens` will take precedence. Please refer to the documentation for more information. (https://huggingface.co/docs/transformers/main/en/main_classes/text_generation)\n",
      "Interpreting Names:  11%|█         | 32/300 [00:07<00:53,  5.05it/s]Both `max_new_tokens` (=256) and `max_length`(=15) seem to have been set. `max_new_tokens` will take precedence. Please refer to the documentation for more information. (https://huggingface.co/docs/transformers/main/en/main_classes/text_generation)\n",
      "Interpreting Names:  11%|█         | 33/300 [00:07<00:51,  5.18it/s]Both `max_new_tokens` (=256) and `max_length`(=15) seem to have been set. `max_new_tokens` will take precedence. Please refer to the documentation for more information. (https://huggingface.co/docs/transformers/main/en/main_classes/text_generation)\n",
      "Interpreting Names:  11%|█▏        | 34/300 [00:07<00:57,  4.65it/s]Both `max_new_tokens` (=256) and `max_length`(=15) seem to have been set. `max_new_tokens` will take precedence. Please refer to the documentation for more information. (https://huggingface.co/docs/transformers/main/en/main_classes/text_generation)\n",
      "Interpreting Names:  12%|█▏        | 35/300 [00:07<00:52,  5.02it/s]Both `max_new_tokens` (=256) and `max_length`(=15) seem to have been set. `max_new_tokens` will take precedence. Please refer to the documentation for more information. (https://huggingface.co/docs/transformers/main/en/main_classes/text_generation)\n",
      "Interpreting Names:  12%|█▏        | 36/300 [00:07<00:50,  5.26it/s]Both `max_new_tokens` (=256) and `max_length`(=15) seem to have been set. `max_new_tokens` will take precedence. Please refer to the documentation for more information. (https://huggingface.co/docs/transformers/main/en/main_classes/text_generation)\n",
      "Interpreting Names:  12%|█▏        | 37/300 [00:07<00:50,  5.19it/s]Both `max_new_tokens` (=256) and `max_length`(=15) seem to have been set. `max_new_tokens` will take precedence. Please refer to the documentation for more information. (https://huggingface.co/docs/transformers/main/en/main_classes/text_generation)\n",
      "Interpreting Names:  13%|█▎        | 38/300 [00:08<00:48,  5.45it/s]Both `max_new_tokens` (=256) and `max_length`(=15) seem to have been set. `max_new_tokens` will take precedence. Please refer to the documentation for more information. (https://huggingface.co/docs/transformers/main/en/main_classes/text_generation)\n",
      "Interpreting Names:  13%|█▎        | 39/300 [00:08<00:55,  4.69it/s]Both `max_new_tokens` (=256) and `max_length`(=15) seem to have been set. `max_new_tokens` will take precedence. Please refer to the documentation for more information. (https://huggingface.co/docs/transformers/main/en/main_classes/text_generation)\n",
      "Interpreting Names:  13%|█▎        | 40/300 [00:08<00:51,  5.09it/s]Both `max_new_tokens` (=256) and `max_length`(=15) seem to have been set. `max_new_tokens` will take precedence. Please refer to the documentation for more information. (https://huggingface.co/docs/transformers/main/en/main_classes/text_generation)\n",
      "Interpreting Names:  14%|█▎        | 41/300 [00:08<00:58,  4.45it/s]Both `max_new_tokens` (=256) and `max_length`(=15) seem to have been set. `max_new_tokens` will take precedence. Please refer to the documentation for more information. (https://huggingface.co/docs/transformers/main/en/main_classes/text_generation)\n",
      "Interpreting Names:  14%|█▍        | 42/300 [00:09<01:04,  3.99it/s]Both `max_new_tokens` (=256) and `max_length`(=15) seem to have been set. `max_new_tokens` will take precedence. Please refer to the documentation for more information. (https://huggingface.co/docs/transformers/main/en/main_classes/text_generation)\n",
      "Interpreting Names:  14%|█▍        | 43/300 [00:09<00:56,  4.56it/s]Both `max_new_tokens` (=256) and `max_length`(=15) seem to have been set. `max_new_tokens` will take precedence. Please refer to the documentation for more information. (https://huggingface.co/docs/transformers/main/en/main_classes/text_generation)\n",
      "Interpreting Names:  15%|█▍        | 44/300 [00:09<00:52,  4.88it/s]Both `max_new_tokens` (=256) and `max_length`(=15) seem to have been set. `max_new_tokens` will take precedence. Please refer to the documentation for more information. (https://huggingface.co/docs/transformers/main/en/main_classes/text_generation)\n",
      "Interpreting Names:  15%|█▌        | 45/300 [00:09<00:56,  4.49it/s]Both `max_new_tokens` (=256) and `max_length`(=15) seem to have been set. `max_new_tokens` will take precedence. Please refer to the documentation for more information. (https://huggingface.co/docs/transformers/main/en/main_classes/text_generation)\n",
      "Interpreting Names:  15%|█▌        | 46/300 [00:09<00:54,  4.66it/s]Both `max_new_tokens` (=256) and `max_length`(=15) seem to have been set. `max_new_tokens` will take precedence. Please refer to the documentation for more information. (https://huggingface.co/docs/transformers/main/en/main_classes/text_generation)\n",
      "Interpreting Names:  16%|█▌        | 47/300 [00:10<00:58,  4.36it/s]Both `max_new_tokens` (=256) and `max_length`(=15) seem to have been set. `max_new_tokens` will take precedence. Please refer to the documentation for more information. (https://huggingface.co/docs/transformers/main/en/main_classes/text_generation)\n",
      "Interpreting Names:  16%|█▌        | 48/300 [00:10<01:01,  4.08it/s]Both `max_new_tokens` (=256) and `max_length`(=15) seem to have been set. `max_new_tokens` will take precedence. Please refer to the documentation for more information. (https://huggingface.co/docs/transformers/main/en/main_classes/text_generation)\n",
      "Interpreting Names:  16%|█▋        | 49/300 [00:10<00:57,  4.33it/s]Both `max_new_tokens` (=256) and `max_length`(=15) seem to have been set. `max_new_tokens` will take precedence. Please refer to the documentation for more information. (https://huggingface.co/docs/transformers/main/en/main_classes/text_generation)\n",
      "Interpreting Names:  17%|█▋        | 50/300 [00:11<01:05,  3.83it/s]Both `max_new_tokens` (=256) and `max_length`(=15) seem to have been set. `max_new_tokens` will take precedence. Please refer to the documentation for more information. (https://huggingface.co/docs/transformers/main/en/main_classes/text_generation)\n",
      "Interpreting Names:  17%|█▋        | 51/300 [00:11<00:57,  4.30it/s]Both `max_new_tokens` (=256) and `max_length`(=15) seem to have been set. `max_new_tokens` will take precedence. Please refer to the documentation for more information. (https://huggingface.co/docs/transformers/main/en/main_classes/text_generation)\n",
      "Interpreting Names:  17%|█▋        | 52/300 [00:11<00:52,  4.72it/s]Both `max_new_tokens` (=256) and `max_length`(=15) seem to have been set. `max_new_tokens` will take precedence. Please refer to the documentation for more information. (https://huggingface.co/docs/transformers/main/en/main_classes/text_generation)\n",
      "Interpreting Names:  18%|█▊        | 53/300 [00:11<00:56,  4.38it/s]Both `max_new_tokens` (=256) and `max_length`(=15) seem to have been set. `max_new_tokens` will take precedence. Please refer to the documentation for more information. (https://huggingface.co/docs/transformers/main/en/main_classes/text_generation)\n",
      "Interpreting Names:  18%|█▊        | 54/300 [00:11<00:53,  4.63it/s]Both `max_new_tokens` (=256) and `max_length`(=15) seem to have been set. `max_new_tokens` will take precedence. Please refer to the documentation for more information. (https://huggingface.co/docs/transformers/main/en/main_classes/text_generation)\n",
      "Interpreting Names:  18%|█▊        | 55/300 [00:12<00:55,  4.38it/s]Both `max_new_tokens` (=256) and `max_length`(=15) seem to have been set. `max_new_tokens` will take precedence. Please refer to the documentation for more information. (https://huggingface.co/docs/transformers/main/en/main_classes/text_generation)\n",
      "Interpreting Names:  19%|█▊        | 56/300 [00:12<00:51,  4.78it/s]Both `max_new_tokens` (=256) and `max_length`(=15) seem to have been set. `max_new_tokens` will take precedence. Please refer to the documentation for more information. (https://huggingface.co/docs/transformers/main/en/main_classes/text_generation)\n",
      "Interpreting Names:  19%|█▉        | 57/300 [00:12<00:47,  5.09it/s]Both `max_new_tokens` (=256) and `max_length`(=15) seem to have been set. `max_new_tokens` will take precedence. Please refer to the documentation for more information. (https://huggingface.co/docs/transformers/main/en/main_classes/text_generation)\n",
      "Interpreting Names:  19%|█▉        | 58/300 [00:12<00:47,  5.08it/s]Both `max_new_tokens` (=256) and `max_length`(=15) seem to have been set. `max_new_tokens` will take precedence. Please refer to the documentation for more information. (https://huggingface.co/docs/transformers/main/en/main_classes/text_generation)\n",
      "Interpreting Names:  20%|█▉        | 59/300 [00:12<00:48,  4.93it/s]Both `max_new_tokens` (=256) and `max_length`(=15) seem to have been set. `max_new_tokens` will take precedence. Please refer to the documentation for more information. (https://huggingface.co/docs/transformers/main/en/main_classes/text_generation)\n",
      "Interpreting Names:  20%|██        | 60/300 [00:13<00:50,  4.72it/s]Both `max_new_tokens` (=256) and `max_length`(=15) seem to have been set. `max_new_tokens` will take precedence. Please refer to the documentation for more information. (https://huggingface.co/docs/transformers/main/en/main_classes/text_generation)\n",
      "Interpreting Names:  20%|██        | 61/300 [00:13<00:45,  5.25it/s]Both `max_new_tokens` (=256) and `max_length`(=15) seem to have been set. `max_new_tokens` will take precedence. Please refer to the documentation for more information. (https://huggingface.co/docs/transformers/main/en/main_classes/text_generation)\n",
      "Interpreting Names:  21%|██        | 62/300 [00:13<00:50,  4.72it/s]Both `max_new_tokens` (=256) and `max_length`(=15) seem to have been set. `max_new_tokens` will take precedence. Please refer to the documentation for more information. (https://huggingface.co/docs/transformers/main/en/main_classes/text_generation)\n",
      "Interpreting Names:  21%|██        | 63/300 [00:13<00:49,  4.74it/s]Both `max_new_tokens` (=256) and `max_length`(=15) seem to have been set. `max_new_tokens` will take precedence. Please refer to the documentation for more information. (https://huggingface.co/docs/transformers/main/en/main_classes/text_generation)\n",
      "Interpreting Names:  21%|██▏       | 64/300 [00:13<00:56,  4.16it/s]Both `max_new_tokens` (=256) and `max_length`(=15) seem to have been set. `max_new_tokens` will take precedence. Please refer to the documentation for more information. (https://huggingface.co/docs/transformers/main/en/main_classes/text_generation)\n",
      "Interpreting Names:  22%|██▏       | 65/300 [00:14<00:51,  4.59it/s]Both `max_new_tokens` (=256) and `max_length`(=15) seem to have been set. `max_new_tokens` will take precedence. Please refer to the documentation for more information. (https://huggingface.co/docs/transformers/main/en/main_classes/text_generation)\n",
      "Interpreting Names:  22%|██▏       | 66/300 [00:14<00:49,  4.72it/s]Both `max_new_tokens` (=256) and `max_length`(=15) seem to have been set. `max_new_tokens` will take precedence. Please refer to the documentation for more information. (https://huggingface.co/docs/transformers/main/en/main_classes/text_generation)\n",
      "Interpreting Names:  22%|██▏       | 67/300 [00:14<00:45,  5.11it/s]Both `max_new_tokens` (=256) and `max_length`(=15) seem to have been set. `max_new_tokens` will take precedence. Please refer to the documentation for more information. (https://huggingface.co/docs/transformers/main/en/main_classes/text_generation)\n",
      "Interpreting Names:  23%|██▎       | 68/300 [00:14<00:49,  4.70it/s]Both `max_new_tokens` (=256) and `max_length`(=15) seem to have been set. `max_new_tokens` will take precedence. Please refer to the documentation for more information. (https://huggingface.co/docs/transformers/main/en/main_classes/text_generation)\n",
      "Interpreting Names:  23%|██▎       | 69/300 [00:15<00:55,  4.14it/s]Both `max_new_tokens` (=256) and `max_length`(=15) seem to have been set. `max_new_tokens` will take precedence. Please refer to the documentation for more information. (https://huggingface.co/docs/transformers/main/en/main_classes/text_generation)\n",
      "Interpreting Names:  23%|██▎       | 70/300 [00:15<00:58,  3.92it/s]Both `max_new_tokens` (=256) and `max_length`(=15) seem to have been set. `max_new_tokens` will take precedence. Please refer to the documentation for more information. (https://huggingface.co/docs/transformers/main/en/main_classes/text_generation)\n",
      "Interpreting Names:  24%|██▎       | 71/300 [00:15<00:50,  4.54it/s]Both `max_new_tokens` (=256) and `max_length`(=15) seem to have been set. `max_new_tokens` will take precedence. Please refer to the documentation for more information. (https://huggingface.co/docs/transformers/main/en/main_classes/text_generation)\n",
      "Interpreting Names:  24%|██▍       | 72/300 [00:15<00:47,  4.83it/s]Both `max_new_tokens` (=256) and `max_length`(=15) seem to have been set. `max_new_tokens` will take precedence. Please refer to the documentation for more information. (https://huggingface.co/docs/transformers/main/en/main_classes/text_generation)\n",
      "Interpreting Names:  24%|██▍       | 73/300 [00:15<00:48,  4.71it/s]Both `max_new_tokens` (=256) and `max_length`(=15) seem to have been set. `max_new_tokens` will take precedence. Please refer to the documentation for more information. (https://huggingface.co/docs/transformers/main/en/main_classes/text_generation)\n",
      "Interpreting Names:  25%|██▍       | 74/300 [00:16<00:55,  4.07it/s]Both `max_new_tokens` (=256) and `max_length`(=15) seem to have been set. `max_new_tokens` will take precedence. Please refer to the documentation for more information. (https://huggingface.co/docs/transformers/main/en/main_classes/text_generation)\n",
      "Interpreting Names:  25%|██▌       | 75/300 [00:16<00:56,  3.95it/s]Both `max_new_tokens` (=256) and `max_length`(=15) seem to have been set. `max_new_tokens` will take precedence. Please refer to the documentation for more information. (https://huggingface.co/docs/transformers/main/en/main_classes/text_generation)\n",
      "Interpreting Names:  25%|██▌       | 76/300 [00:16<00:57,  3.90it/s]Both `max_new_tokens` (=256) and `max_length`(=15) seem to have been set. `max_new_tokens` will take precedence. Please refer to the documentation for more information. (https://huggingface.co/docs/transformers/main/en/main_classes/text_generation)\n",
      "Interpreting Names:  26%|██▌       | 77/300 [00:17<00:59,  3.75it/s]Both `max_new_tokens` (=256) and `max_length`(=15) seem to have been set. `max_new_tokens` will take precedence. Please refer to the documentation for more information. (https://huggingface.co/docs/transformers/main/en/main_classes/text_generation)\n",
      "Interpreting Names:  26%|██▌       | 78/300 [00:17<01:04,  3.46it/s]Both `max_new_tokens` (=256) and `max_length`(=15) seem to have been set. `max_new_tokens` will take precedence. Please refer to the documentation for more information. (https://huggingface.co/docs/transformers/main/en/main_classes/text_generation)\n",
      "Interpreting Names:  26%|██▋       | 79/300 [00:17<00:57,  3.88it/s]Both `max_new_tokens` (=256) and `max_length`(=15) seem to have been set. `max_new_tokens` will take precedence. Please refer to the documentation for more information. (https://huggingface.co/docs/transformers/main/en/main_classes/text_generation)\n",
      "Interpreting Names:  27%|██▋       | 80/300 [00:17<00:59,  3.70it/s]Both `max_new_tokens` (=256) and `max_length`(=15) seem to have been set. `max_new_tokens` will take precedence. Please refer to the documentation for more information. (https://huggingface.co/docs/transformers/main/en/main_classes/text_generation)\n",
      "Interpreting Names:  27%|██▋       | 81/300 [00:18<00:54,  4.05it/s]Both `max_new_tokens` (=256) and `max_length`(=15) seem to have been set. `max_new_tokens` will take precedence. Please refer to the documentation for more information. (https://huggingface.co/docs/transformers/main/en/main_classes/text_generation)\n",
      "Interpreting Names:  27%|██▋       | 82/300 [00:18<00:47,  4.62it/s]Both `max_new_tokens` (=256) and `max_length`(=15) seem to have been set. `max_new_tokens` will take precedence. Please refer to the documentation for more information. (https://huggingface.co/docs/transformers/main/en/main_classes/text_generation)\n",
      "Interpreting Names:  28%|██▊       | 83/300 [00:18<00:49,  4.43it/s]Both `max_new_tokens` (=256) and `max_length`(=15) seem to have been set. `max_new_tokens` will take precedence. Please refer to the documentation for more information. (https://huggingface.co/docs/transformers/main/en/main_classes/text_generation)\n",
      "Interpreting Names:  28%|██▊       | 84/300 [00:18<00:47,  4.59it/s]Both `max_new_tokens` (=256) and `max_length`(=15) seem to have been set. `max_new_tokens` will take precedence. Please refer to the documentation for more information. (https://huggingface.co/docs/transformers/main/en/main_classes/text_generation)\n",
      "Interpreting Names:  28%|██▊       | 85/300 [00:18<00:45,  4.70it/s]Both `max_new_tokens` (=256) and `max_length`(=15) seem to have been set. `max_new_tokens` will take precedence. Please refer to the documentation for more information. (https://huggingface.co/docs/transformers/main/en/main_classes/text_generation)\n",
      "Interpreting Names:  29%|██▊       | 86/300 [00:19<00:46,  4.65it/s]Both `max_new_tokens` (=256) and `max_length`(=15) seem to have been set. `max_new_tokens` will take precedence. Please refer to the documentation for more information. (https://huggingface.co/docs/transformers/main/en/main_classes/text_generation)\n",
      "Interpreting Names:  29%|██▉       | 87/300 [00:19<00:46,  4.58it/s]Both `max_new_tokens` (=256) and `max_length`(=15) seem to have been set. `max_new_tokens` will take precedence. Please refer to the documentation for more information. (https://huggingface.co/docs/transformers/main/en/main_classes/text_generation)\n",
      "Interpreting Names:  29%|██▉       | 88/300 [00:19<00:47,  4.50it/s]Both `max_new_tokens` (=256) and `max_length`(=15) seem to have been set. `max_new_tokens` will take precedence. Please refer to the documentation for more information. (https://huggingface.co/docs/transformers/main/en/main_classes/text_generation)\n",
      "Interpreting Names:  30%|██▉       | 89/300 [00:19<00:43,  4.80it/s]Both `max_new_tokens` (=256) and `max_length`(=15) seem to have been set. `max_new_tokens` will take precedence. Please refer to the documentation for more information. (https://huggingface.co/docs/transformers/main/en/main_classes/text_generation)\n",
      "Interpreting Names:  30%|███       | 90/300 [00:19<00:46,  4.51it/s]Both `max_new_tokens` (=256) and `max_length`(=15) seem to have been set. `max_new_tokens` will take precedence. Please refer to the documentation for more information. (https://huggingface.co/docs/transformers/main/en/main_classes/text_generation)\n",
      "Interpreting Names:  30%|███       | 91/300 [00:20<00:45,  4.59it/s]Both `max_new_tokens` (=256) and `max_length`(=15) seem to have been set. `max_new_tokens` will take precedence. Please refer to the documentation for more information. (https://huggingface.co/docs/transformers/main/en/main_classes/text_generation)\n",
      "Interpreting Names:  31%|███       | 92/300 [00:20<00:47,  4.36it/s]Both `max_new_tokens` (=256) and `max_length`(=15) seem to have been set. `max_new_tokens` will take precedence. Please refer to the documentation for more information. (https://huggingface.co/docs/transformers/main/en/main_classes/text_generation)\n",
      "Interpreting Names:  31%|███       | 93/300 [00:20<00:45,  4.58it/s]Both `max_new_tokens` (=256) and `max_length`(=15) seem to have been set. `max_new_tokens` will take precedence. Please refer to the documentation for more information. (https://huggingface.co/docs/transformers/main/en/main_classes/text_generation)\n",
      "Interpreting Names:  31%|███▏      | 94/300 [00:20<00:50,  4.06it/s]Both `max_new_tokens` (=256) and `max_length`(=15) seem to have been set. `max_new_tokens` will take precedence. Please refer to the documentation for more information. (https://huggingface.co/docs/transformers/main/en/main_classes/text_generation)\n",
      "Interpreting Names:  32%|███▏      | 95/300 [00:21<00:45,  4.48it/s]Both `max_new_tokens` (=256) and `max_length`(=15) seem to have been set. `max_new_tokens` will take precedence. Please refer to the documentation for more information. (https://huggingface.co/docs/transformers/main/en/main_classes/text_generation)\n",
      "Interpreting Names:  32%|███▏      | 96/300 [00:21<00:42,  4.80it/s]Both `max_new_tokens` (=256) and `max_length`(=15) seem to have been set. `max_new_tokens` will take precedence. Please refer to the documentation for more information. (https://huggingface.co/docs/transformers/main/en/main_classes/text_generation)\n",
      "Interpreting Names:  32%|███▏      | 97/300 [00:21<00:41,  4.92it/s]Both `max_new_tokens` (=256) and `max_length`(=15) seem to have been set. `max_new_tokens` will take precedence. Please refer to the documentation for more information. (https://huggingface.co/docs/transformers/main/en/main_classes/text_generation)\n",
      "Interpreting Names:  33%|███▎      | 98/300 [00:21<00:38,  5.31it/s]Both `max_new_tokens` (=256) and `max_length`(=15) seem to have been set. `max_new_tokens` will take precedence. Please refer to the documentation for more information. (https://huggingface.co/docs/transformers/main/en/main_classes/text_generation)\n",
      "Interpreting Names:  33%|███▎      | 99/300 [00:21<00:41,  4.86it/s]Both `max_new_tokens` (=256) and `max_length`(=15) seem to have been set. `max_new_tokens` will take precedence. Please refer to the documentation for more information. (https://huggingface.co/docs/transformers/main/en/main_classes/text_generation)\n",
      "Interpreting Names:  33%|███▎      | 100/300 [00:22<00:41,  4.82it/s]Both `max_new_tokens` (=256) and `max_length`(=15) seem to have been set. `max_new_tokens` will take precedence. Please refer to the documentation for more information. (https://huggingface.co/docs/transformers/main/en/main_classes/text_generation)\n",
      "Interpreting Names:  34%|███▎      | 101/300 [00:22<00:47,  4.22it/s]Both `max_new_tokens` (=256) and `max_length`(=15) seem to have been set. `max_new_tokens` will take precedence. Please refer to the documentation for more information. (https://huggingface.co/docs/transformers/main/en/main_classes/text_generation)\n",
      "Interpreting Names:  34%|███▍      | 102/300 [00:22<00:47,  4.18it/s]Both `max_new_tokens` (=256) and `max_length`(=15) seem to have been set. `max_new_tokens` will take precedence. Please refer to the documentation for more information. (https://huggingface.co/docs/transformers/main/en/main_classes/text_generation)\n",
      "Interpreting Names:  34%|███▍      | 103/300 [00:22<00:46,  4.21it/s]Both `max_new_tokens` (=256) and `max_length`(=15) seem to have been set. `max_new_tokens` will take precedence. Please refer to the documentation for more information. (https://huggingface.co/docs/transformers/main/en/main_classes/text_generation)\n",
      "Interpreting Names:  35%|███▍      | 104/300 [00:23<00:41,  4.76it/s]Both `max_new_tokens` (=256) and `max_length`(=15) seem to have been set. `max_new_tokens` will take precedence. Please refer to the documentation for more information. (https://huggingface.co/docs/transformers/main/en/main_classes/text_generation)\n",
      "Interpreting Names:  35%|███▌      | 105/300 [00:23<00:39,  4.90it/s]Both `max_new_tokens` (=256) and `max_length`(=15) seem to have been set. `max_new_tokens` will take precedence. Please refer to the documentation for more information. (https://huggingface.co/docs/transformers/main/en/main_classes/text_generation)\n",
      "Interpreting Names:  35%|███▌      | 106/300 [00:23<00:35,  5.44it/s]Both `max_new_tokens` (=256) and `max_length`(=15) seem to have been set. `max_new_tokens` will take precedence. Please refer to the documentation for more information. (https://huggingface.co/docs/transformers/main/en/main_classes/text_generation)\n",
      "Interpreting Names:  36%|███▌      | 107/300 [00:23<00:41,  4.67it/s]Both `max_new_tokens` (=256) and `max_length`(=15) seem to have been set. `max_new_tokens` will take precedence. Please refer to the documentation for more information. (https://huggingface.co/docs/transformers/main/en/main_classes/text_generation)\n",
      "Interpreting Names:  36%|███▌      | 108/300 [00:23<00:41,  4.67it/s]Both `max_new_tokens` (=256) and `max_length`(=15) seem to have been set. `max_new_tokens` will take precedence. Please refer to the documentation for more information. (https://huggingface.co/docs/transformers/main/en/main_classes/text_generation)\n",
      "Interpreting Names:  36%|███▋      | 109/300 [00:23<00:38,  5.01it/s]Both `max_new_tokens` (=256) and `max_length`(=15) seem to have been set. `max_new_tokens` will take precedence. Please refer to the documentation for more information. (https://huggingface.co/docs/transformers/main/en/main_classes/text_generation)\n",
      "Interpreting Names:  37%|███▋      | 110/300 [00:24<00:44,  4.27it/s]Both `max_new_tokens` (=256) and `max_length`(=15) seem to have been set. `max_new_tokens` will take precedence. Please refer to the documentation for more information. (https://huggingface.co/docs/transformers/main/en/main_classes/text_generation)\n",
      "Interpreting Names:  37%|███▋      | 111/300 [00:24<00:44,  4.25it/s]Both `max_new_tokens` (=256) and `max_length`(=15) seem to have been set. `max_new_tokens` will take precedence. Please refer to the documentation for more information. (https://huggingface.co/docs/transformers/main/en/main_classes/text_generation)\n",
      "Interpreting Names:  37%|███▋      | 112/300 [00:24<00:40,  4.65it/s]Both `max_new_tokens` (=256) and `max_length`(=15) seem to have been set. `max_new_tokens` will take precedence. Please refer to the documentation for more information. (https://huggingface.co/docs/transformers/main/en/main_classes/text_generation)\n",
      "Interpreting Names:  38%|███▊      | 113/300 [00:24<00:40,  4.64it/s]Both `max_new_tokens` (=256) and `max_length`(=15) seem to have been set. `max_new_tokens` will take precedence. Please refer to the documentation for more information. (https://huggingface.co/docs/transformers/main/en/main_classes/text_generation)\n",
      "Interpreting Names:  38%|███▊      | 114/300 [00:25<00:38,  4.83it/s]Both `max_new_tokens` (=256) and `max_length`(=15) seem to have been set. `max_new_tokens` will take precedence. Please refer to the documentation for more information. (https://huggingface.co/docs/transformers/main/en/main_classes/text_generation)\n",
      "Interpreting Names:  38%|███▊      | 115/300 [00:25<00:38,  4.78it/s]Both `max_new_tokens` (=256) and `max_length`(=15) seem to have been set. `max_new_tokens` will take precedence. Please refer to the documentation for more information. (https://huggingface.co/docs/transformers/main/en/main_classes/text_generation)\n",
      "Interpreting Names:  39%|███▊      | 116/300 [00:25<00:33,  5.44it/s]Both `max_new_tokens` (=256) and `max_length`(=15) seem to have been set. `max_new_tokens` will take precedence. Please refer to the documentation for more information. (https://huggingface.co/docs/transformers/main/en/main_classes/text_generation)\n",
      "Interpreting Names:  39%|███▉      | 117/300 [00:25<00:36,  4.99it/s]Both `max_new_tokens` (=256) and `max_length`(=15) seem to have been set. `max_new_tokens` will take precedence. Please refer to the documentation for more information. (https://huggingface.co/docs/transformers/main/en/main_classes/text_generation)\n",
      "Interpreting Names:  39%|███▉      | 118/300 [00:25<00:34,  5.26it/s]Both `max_new_tokens` (=256) and `max_length`(=15) seem to have been set. `max_new_tokens` will take precedence. Please refer to the documentation for more information. (https://huggingface.co/docs/transformers/main/en/main_classes/text_generation)\n",
      "Interpreting Names:  40%|███▉      | 119/300 [00:26<00:34,  5.27it/s]Both `max_new_tokens` (=256) and `max_length`(=15) seem to have been set. `max_new_tokens` will take precedence. Please refer to the documentation for more information. (https://huggingface.co/docs/transformers/main/en/main_classes/text_generation)\n",
      "Interpreting Names:  40%|████      | 120/300 [00:26<00:37,  4.83it/s]Both `max_new_tokens` (=256) and `max_length`(=15) seem to have been set. `max_new_tokens` will take precedence. Please refer to the documentation for more information. (https://huggingface.co/docs/transformers/main/en/main_classes/text_generation)\n",
      "Interpreting Names:  40%|████      | 121/300 [00:26<00:38,  4.64it/s]Both `max_new_tokens` (=256) and `max_length`(=15) seem to have been set. `max_new_tokens` will take precedence. Please refer to the documentation for more information. (https://huggingface.co/docs/transformers/main/en/main_classes/text_generation)\n",
      "Interpreting Names:  41%|████      | 122/300 [00:26<00:40,  4.41it/s]Both `max_new_tokens` (=256) and `max_length`(=15) seem to have been set. `max_new_tokens` will take precedence. Please refer to the documentation for more information. (https://huggingface.co/docs/transformers/main/en/main_classes/text_generation)\n",
      "Interpreting Names:  41%|████      | 123/300 [00:27<00:45,  3.88it/s]Both `max_new_tokens` (=256) and `max_length`(=15) seem to have been set. `max_new_tokens` will take precedence. Please refer to the documentation for more information. (https://huggingface.co/docs/transformers/main/en/main_classes/text_generation)\n",
      "Interpreting Names:  41%|████▏     | 124/300 [00:27<00:42,  4.14it/s]Both `max_new_tokens` (=256) and `max_length`(=15) seem to have been set. `max_new_tokens` will take precedence. Please refer to the documentation for more information. (https://huggingface.co/docs/transformers/main/en/main_classes/text_generation)\n",
      "Interpreting Names:  42%|████▏     | 125/300 [00:27<00:39,  4.47it/s]Both `max_new_tokens` (=256) and `max_length`(=15) seem to have been set. `max_new_tokens` will take precedence. Please refer to the documentation for more information. (https://huggingface.co/docs/transformers/main/en/main_classes/text_generation)\n",
      "Interpreting Names:  42%|████▏     | 126/300 [00:27<00:36,  4.74it/s]Both `max_new_tokens` (=256) and `max_length`(=15) seem to have been set. `max_new_tokens` will take precedence. Please refer to the documentation for more information. (https://huggingface.co/docs/transformers/main/en/main_classes/text_generation)\n",
      "Interpreting Names:  42%|████▏     | 127/300 [00:28<00:44,  3.87it/s]Both `max_new_tokens` (=256) and `max_length`(=15) seem to have been set. `max_new_tokens` will take precedence. Please refer to the documentation for more information. (https://huggingface.co/docs/transformers/main/en/main_classes/text_generation)\n",
      "Interpreting Names:  43%|████▎     | 128/300 [00:28<00:43,  3.94it/s]Both `max_new_tokens` (=256) and `max_length`(=15) seem to have been set. `max_new_tokens` will take precedence. Please refer to the documentation for more information. (https://huggingface.co/docs/transformers/main/en/main_classes/text_generation)\n",
      "Interpreting Names:  43%|████▎     | 129/300 [00:28<00:37,  4.51it/s]Both `max_new_tokens` (=256) and `max_length`(=15) seem to have been set. `max_new_tokens` will take precedence. Please refer to the documentation for more information. (https://huggingface.co/docs/transformers/main/en/main_classes/text_generation)\n",
      "Interpreting Names:  43%|████▎     | 130/300 [00:28<00:33,  5.12it/s]Both `max_new_tokens` (=256) and `max_length`(=15) seem to have been set. `max_new_tokens` will take precedence. Please refer to the documentation for more information. (https://huggingface.co/docs/transformers/main/en/main_classes/text_generation)\n",
      "Interpreting Names:  44%|████▎     | 131/300 [00:28<00:34,  4.94it/s]Both `max_new_tokens` (=256) and `max_length`(=15) seem to have been set. `max_new_tokens` will take precedence. Please refer to the documentation for more information. (https://huggingface.co/docs/transformers/main/en/main_classes/text_generation)\n",
      "Interpreting Names:  44%|████▍     | 132/300 [00:29<00:34,  4.81it/s]Both `max_new_tokens` (=256) and `max_length`(=15) seem to have been set. `max_new_tokens` will take precedence. Please refer to the documentation for more information. (https://huggingface.co/docs/transformers/main/en/main_classes/text_generation)\n",
      "Interpreting Names:  44%|████▍     | 133/300 [00:29<00:32,  5.15it/s]Both `max_new_tokens` (=256) and `max_length`(=15) seem to have been set. `max_new_tokens` will take precedence. Please refer to the documentation for more information. (https://huggingface.co/docs/transformers/main/en/main_classes/text_generation)\n",
      "Interpreting Names:  45%|████▍     | 134/300 [00:29<00:30,  5.39it/s]Both `max_new_tokens` (=256) and `max_length`(=15) seem to have been set. `max_new_tokens` will take precedence. Please refer to the documentation for more information. (https://huggingface.co/docs/transformers/main/en/main_classes/text_generation)\n",
      "Interpreting Names:  45%|████▌     | 135/300 [00:29<00:29,  5.60it/s]Both `max_new_tokens` (=256) and `max_length`(=15) seem to have been set. `max_new_tokens` will take precedence. Please refer to the documentation for more information. (https://huggingface.co/docs/transformers/main/en/main_classes/text_generation)\n",
      "Interpreting Names:  45%|████▌     | 136/300 [00:29<00:30,  5.43it/s]Both `max_new_tokens` (=256) and `max_length`(=15) seem to have been set. `max_new_tokens` will take precedence. Please refer to the documentation for more information. (https://huggingface.co/docs/transformers/main/en/main_classes/text_generation)\n",
      "Interpreting Names:  46%|████▌     | 137/300 [00:29<00:35,  4.61it/s]Both `max_new_tokens` (=256) and `max_length`(=15) seem to have been set. `max_new_tokens` will take precedence. Please refer to the documentation for more information. (https://huggingface.co/docs/transformers/main/en/main_classes/text_generation)\n",
      "Interpreting Names:  46%|████▌     | 138/300 [00:30<00:37,  4.35it/s]Both `max_new_tokens` (=256) and `max_length`(=15) seem to have been set. `max_new_tokens` will take precedence. Please refer to the documentation for more information. (https://huggingface.co/docs/transformers/main/en/main_classes/text_generation)\n",
      "Interpreting Names:  46%|████▋     | 139/300 [00:30<00:35,  4.49it/s]Both `max_new_tokens` (=256) and `max_length`(=15) seem to have been set. `max_new_tokens` will take precedence. Please refer to the documentation for more information. (https://huggingface.co/docs/transformers/main/en/main_classes/text_generation)\n",
      "Interpreting Names:  47%|████▋     | 140/300 [00:30<00:40,  3.96it/s]Both `max_new_tokens` (=256) and `max_length`(=15) seem to have been set. `max_new_tokens` will take precedence. Please refer to the documentation for more information. (https://huggingface.co/docs/transformers/main/en/main_classes/text_generation)\n",
      "Interpreting Names:  47%|████▋     | 141/300 [00:31<00:43,  3.67it/s]Both `max_new_tokens` (=256) and `max_length`(=15) seem to have been set. `max_new_tokens` will take precedence. Please refer to the documentation for more information. (https://huggingface.co/docs/transformers/main/en/main_classes/text_generation)\n",
      "Interpreting Names:  47%|████▋     | 142/300 [00:31<00:39,  4.01it/s]Both `max_new_tokens` (=256) and `max_length`(=15) seem to have been set. `max_new_tokens` will take precedence. Please refer to the documentation for more information. (https://huggingface.co/docs/transformers/main/en/main_classes/text_generation)\n",
      "Interpreting Names:  48%|████▊     | 143/300 [00:31<00:36,  4.32it/s]Both `max_new_tokens` (=256) and `max_length`(=15) seem to have been set. `max_new_tokens` will take precedence. Please refer to the documentation for more information. (https://huggingface.co/docs/transformers/main/en/main_classes/text_generation)\n",
      "Interpreting Names:  48%|████▊     | 144/300 [00:31<00:32,  4.85it/s]Both `max_new_tokens` (=256) and `max_length`(=15) seem to have been set. `max_new_tokens` will take precedence. Please refer to the documentation for more information. (https://huggingface.co/docs/transformers/main/en/main_classes/text_generation)\n",
      "Interpreting Names:  48%|████▊     | 145/300 [00:31<00:29,  5.27it/s]Both `max_new_tokens` (=256) and `max_length`(=15) seem to have been set. `max_new_tokens` will take precedence. Please refer to the documentation for more information. (https://huggingface.co/docs/transformers/main/en/main_classes/text_generation)\n",
      "Interpreting Names:  49%|████▊     | 146/300 [00:31<00:29,  5.22it/s]Both `max_new_tokens` (=256) and `max_length`(=15) seem to have been set. `max_new_tokens` will take precedence. Please refer to the documentation for more information. (https://huggingface.co/docs/transformers/main/en/main_classes/text_generation)\n",
      "Interpreting Names:  49%|████▉     | 147/300 [00:32<00:36,  4.18it/s]Both `max_new_tokens` (=256) and `max_length`(=15) seem to have been set. `max_new_tokens` will take precedence. Please refer to the documentation for more information. (https://huggingface.co/docs/transformers/main/en/main_classes/text_generation)\n",
      "Interpreting Names:  49%|████▉     | 148/300 [00:32<00:32,  4.66it/s]Both `max_new_tokens` (=256) and `max_length`(=15) seem to have been set. `max_new_tokens` will take precedence. Please refer to the documentation for more information. (https://huggingface.co/docs/transformers/main/en/main_classes/text_generation)\n",
      "Interpreting Names:  50%|████▉     | 149/300 [00:32<00:30,  4.92it/s]Both `max_new_tokens` (=256) and `max_length`(=15) seem to have been set. `max_new_tokens` will take precedence. Please refer to the documentation for more information. (https://huggingface.co/docs/transformers/main/en/main_classes/text_generation)\n",
      "Interpreting Names:  50%|█████     | 150/300 [00:33<00:37,  4.00it/s]Both `max_new_tokens` (=256) and `max_length`(=15) seem to have been set. `max_new_tokens` will take precedence. Please refer to the documentation for more information. (https://huggingface.co/docs/transformers/main/en/main_classes/text_generation)\n",
      "Interpreting Names:  50%|█████     | 151/300 [00:33<00:38,  3.86it/s]Both `max_new_tokens` (=256) and `max_length`(=15) seem to have been set. `max_new_tokens` will take precedence. Please refer to the documentation for more information. (https://huggingface.co/docs/transformers/main/en/main_classes/text_generation)\n",
      "Interpreting Names:  51%|█████     | 152/300 [00:33<00:38,  3.81it/s]Both `max_new_tokens` (=256) and `max_length`(=15) seem to have been set. `max_new_tokens` will take precedence. Please refer to the documentation for more information. (https://huggingface.co/docs/transformers/main/en/main_classes/text_generation)\n",
      "Interpreting Names:  51%|█████     | 153/300 [00:33<00:37,  3.88it/s]Both `max_new_tokens` (=256) and `max_length`(=15) seem to have been set. `max_new_tokens` will take precedence. Please refer to the documentation for more information. (https://huggingface.co/docs/transformers/main/en/main_classes/text_generation)\n",
      "Interpreting Names:  51%|█████▏    | 154/300 [00:34<00:39,  3.66it/s]Both `max_new_tokens` (=256) and `max_length`(=15) seem to have been set. `max_new_tokens` will take precedence. Please refer to the documentation for more information. (https://huggingface.co/docs/transformers/main/en/main_classes/text_generation)\n",
      "Interpreting Names:  52%|█████▏    | 155/300 [00:34<00:41,  3.53it/s]Both `max_new_tokens` (=256) and `max_length`(=15) seem to have been set. `max_new_tokens` will take precedence. Please refer to the documentation for more information. (https://huggingface.co/docs/transformers/main/en/main_classes/text_generation)\n",
      "Interpreting Names:  52%|█████▏    | 156/300 [00:34<00:42,  3.37it/s]Both `max_new_tokens` (=256) and `max_length`(=15) seem to have been set. `max_new_tokens` will take precedence. Please refer to the documentation for more information. (https://huggingface.co/docs/transformers/main/en/main_classes/text_generation)\n",
      "Interpreting Names:  52%|█████▏    | 157/300 [00:34<00:36,  3.90it/s]Both `max_new_tokens` (=256) and `max_length`(=15) seem to have been set. `max_new_tokens` will take precedence. Please refer to the documentation for more information. (https://huggingface.co/docs/transformers/main/en/main_classes/text_generation)\n",
      "Interpreting Names:  53%|█████▎    | 158/300 [00:35<00:32,  4.39it/s]Both `max_new_tokens` (=256) and `max_length`(=15) seem to have been set. `max_new_tokens` will take precedence. Please refer to the documentation for more information. (https://huggingface.co/docs/transformers/main/en/main_classes/text_generation)\n",
      "Interpreting Names:  53%|█████▎    | 159/300 [00:35<00:32,  4.33it/s]Both `max_new_tokens` (=256) and `max_length`(=15) seem to have been set. `max_new_tokens` will take precedence. Please refer to the documentation for more information. (https://huggingface.co/docs/transformers/main/en/main_classes/text_generation)\n",
      "Interpreting Names:  53%|█████▎    | 160/300 [00:35<00:30,  4.54it/s]Both `max_new_tokens` (=256) and `max_length`(=15) seem to have been set. `max_new_tokens` will take precedence. Please refer to the documentation for more information. (https://huggingface.co/docs/transformers/main/en/main_classes/text_generation)\n",
      "Interpreting Names:  54%|█████▎    | 161/300 [00:35<00:27,  5.07it/s]Both `max_new_tokens` (=256) and `max_length`(=15) seem to have been set. `max_new_tokens` will take precedence. Please refer to the documentation for more information. (https://huggingface.co/docs/transformers/main/en/main_classes/text_generation)\n",
      "Interpreting Names:  54%|█████▍    | 162/300 [00:35<00:29,  4.74it/s]Both `max_new_tokens` (=256) and `max_length`(=15) seem to have been set. `max_new_tokens` will take precedence. Please refer to the documentation for more information. (https://huggingface.co/docs/transformers/main/en/main_classes/text_generation)\n",
      "Interpreting Names:  54%|█████▍    | 163/300 [00:36<00:27,  4.99it/s]Both `max_new_tokens` (=256) and `max_length`(=15) seem to have been set. `max_new_tokens` will take precedence. Please refer to the documentation for more information. (https://huggingface.co/docs/transformers/main/en/main_classes/text_generation)\n",
      "Interpreting Names:  55%|█████▍    | 164/300 [00:36<00:27,  5.01it/s]Both `max_new_tokens` (=256) and `max_length`(=15) seem to have been set. `max_new_tokens` will take precedence. Please refer to the documentation for more information. (https://huggingface.co/docs/transformers/main/en/main_classes/text_generation)\n",
      "Interpreting Names:  55%|█████▌    | 165/300 [00:36<00:24,  5.50it/s]Both `max_new_tokens` (=256) and `max_length`(=15) seem to have been set. `max_new_tokens` will take precedence. Please refer to the documentation for more information. (https://huggingface.co/docs/transformers/main/en/main_classes/text_generation)\n",
      "Interpreting Names:  55%|█████▌    | 166/300 [00:36<00:26,  5.08it/s]Both `max_new_tokens` (=256) and `max_length`(=15) seem to have been set. `max_new_tokens` will take precedence. Please refer to the documentation for more information. (https://huggingface.co/docs/transformers/main/en/main_classes/text_generation)\n",
      "Interpreting Names:  56%|█████▌    | 167/300 [00:36<00:28,  4.68it/s]Both `max_new_tokens` (=256) and `max_length`(=15) seem to have been set. `max_new_tokens` will take precedence. Please refer to the documentation for more information. (https://huggingface.co/docs/transformers/main/en/main_classes/text_generation)\n",
      "Interpreting Names:  56%|█████▌    | 168/300 [00:37<00:28,  4.55it/s]Both `max_new_tokens` (=256) and `max_length`(=15) seem to have been set. `max_new_tokens` will take precedence. Please refer to the documentation for more information. (https://huggingface.co/docs/transformers/main/en/main_classes/text_generation)\n",
      "Interpreting Names:  56%|█████▋    | 169/300 [00:37<00:32,  4.05it/s]Both `max_new_tokens` (=256) and `max_length`(=15) seem to have been set. `max_new_tokens` will take precedence. Please refer to the documentation for more information. (https://huggingface.co/docs/transformers/main/en/main_classes/text_generation)\n",
      "Interpreting Names:  57%|█████▋    | 170/300 [00:37<00:34,  3.81it/s]Both `max_new_tokens` (=256) and `max_length`(=15) seem to have been set. `max_new_tokens` will take precedence. Please refer to the documentation for more information. (https://huggingface.co/docs/transformers/main/en/main_classes/text_generation)\n",
      "Interpreting Names:  57%|█████▋    | 171/300 [00:37<00:33,  3.89it/s]Both `max_new_tokens` (=256) and `max_length`(=15) seem to have been set. `max_new_tokens` will take precedence. Please refer to the documentation for more information. (https://huggingface.co/docs/transformers/main/en/main_classes/text_generation)\n",
      "Interpreting Names:  57%|█████▋    | 172/300 [00:38<00:35,  3.56it/s]Both `max_new_tokens` (=256) and `max_length`(=15) seem to have been set. `max_new_tokens` will take precedence. Please refer to the documentation for more information. (https://huggingface.co/docs/transformers/main/en/main_classes/text_generation)\n",
      "Interpreting Names:  58%|█████▊    | 173/300 [00:38<00:34,  3.72it/s]Both `max_new_tokens` (=256) and `max_length`(=15) seem to have been set. `max_new_tokens` will take precedence. Please refer to the documentation for more information. (https://huggingface.co/docs/transformers/main/en/main_classes/text_generation)\n",
      "Interpreting Names:  58%|█████▊    | 174/300 [00:38<00:34,  3.65it/s]Both `max_new_tokens` (=256) and `max_length`(=15) seem to have been set. `max_new_tokens` will take precedence. Please refer to the documentation for more information. (https://huggingface.co/docs/transformers/main/en/main_classes/text_generation)\n",
      "Interpreting Names:  58%|█████▊    | 175/300 [00:39<00:31,  3.91it/s]Both `max_new_tokens` (=256) and `max_length`(=15) seem to have been set. `max_new_tokens` will take precedence. Please refer to the documentation for more information. (https://huggingface.co/docs/transformers/main/en/main_classes/text_generation)\n",
      "Interpreting Names:  59%|█████▊    | 176/300 [00:39<00:28,  4.42it/s]Both `max_new_tokens` (=256) and `max_length`(=15) seem to have been set. `max_new_tokens` will take precedence. Please refer to the documentation for more information. (https://huggingface.co/docs/transformers/main/en/main_classes/text_generation)\n",
      "Interpreting Names:  59%|█████▉    | 177/300 [00:39<00:25,  4.91it/s]Both `max_new_tokens` (=256) and `max_length`(=15) seem to have been set. `max_new_tokens` will take precedence. Please refer to the documentation for more information. (https://huggingface.co/docs/transformers/main/en/main_classes/text_generation)\n",
      "Interpreting Names:  59%|█████▉    | 178/300 [00:39<00:23,  5.21it/s]Both `max_new_tokens` (=256) and `max_length`(=15) seem to have been set. `max_new_tokens` will take precedence. Please refer to the documentation for more information. (https://huggingface.co/docs/transformers/main/en/main_classes/text_generation)\n",
      "Interpreting Names:  60%|█████▉    | 179/300 [00:39<00:22,  5.45it/s]Both `max_new_tokens` (=256) and `max_length`(=15) seem to have been set. `max_new_tokens` will take precedence. Please refer to the documentation for more information. (https://huggingface.co/docs/transformers/main/en/main_classes/text_generation)\n",
      "Interpreting Names:  60%|██████    | 180/300 [00:40<00:31,  3.79it/s]Both `max_new_tokens` (=256) and `max_length`(=15) seem to have been set. `max_new_tokens` will take precedence. Please refer to the documentation for more information. (https://huggingface.co/docs/transformers/main/en/main_classes/text_generation)\n",
      "Interpreting Names:  60%|██████    | 181/300 [00:40<00:28,  4.11it/s]Both `max_new_tokens` (=256) and `max_length`(=15) seem to have been set. `max_new_tokens` will take precedence. Please refer to the documentation for more information. (https://huggingface.co/docs/transformers/main/en/main_classes/text_generation)\n",
      "Interpreting Names:  61%|██████    | 182/300 [00:40<00:29,  4.02it/s]Both `max_new_tokens` (=256) and `max_length`(=15) seem to have been set. `max_new_tokens` will take precedence. Please refer to the documentation for more information. (https://huggingface.co/docs/transformers/main/en/main_classes/text_generation)\n",
      "Interpreting Names:  61%|██████    | 183/300 [00:40<00:32,  3.59it/s]Both `max_new_tokens` (=256) and `max_length`(=15) seem to have been set. `max_new_tokens` will take precedence. Please refer to the documentation for more information. (https://huggingface.co/docs/transformers/main/en/main_classes/text_generation)\n",
      "Interpreting Names:  61%|██████▏   | 184/300 [00:41<00:31,  3.73it/s]Both `max_new_tokens` (=256) and `max_length`(=15) seem to have been set. `max_new_tokens` will take precedence. Please refer to the documentation for more information. (https://huggingface.co/docs/transformers/main/en/main_classes/text_generation)\n",
      "Interpreting Names:  62%|██████▏   | 185/300 [00:41<00:31,  3.61it/s]Both `max_new_tokens` (=256) and `max_length`(=15) seem to have been set. `max_new_tokens` will take precedence. Please refer to the documentation for more information. (https://huggingface.co/docs/transformers/main/en/main_classes/text_generation)\n",
      "Interpreting Names:  62%|██████▏   | 186/300 [00:41<00:29,  3.90it/s]Both `max_new_tokens` (=256) and `max_length`(=15) seem to have been set. `max_new_tokens` will take precedence. Please refer to the documentation for more information. (https://huggingface.co/docs/transformers/main/en/main_classes/text_generation)\n",
      "Interpreting Names:  62%|██████▏   | 187/300 [00:41<00:26,  4.24it/s]Both `max_new_tokens` (=256) and `max_length`(=15) seem to have been set. `max_new_tokens` will take precedence. Please refer to the documentation for more information. (https://huggingface.co/docs/transformers/main/en/main_classes/text_generation)\n",
      "Interpreting Names:  63%|██████▎   | 188/300 [00:42<00:24,  4.66it/s]Both `max_new_tokens` (=256) and `max_length`(=15) seem to have been set. `max_new_tokens` will take precedence. Please refer to the documentation for more information. (https://huggingface.co/docs/transformers/main/en/main_classes/text_generation)\n",
      "Interpreting Names:  63%|██████▎   | 189/300 [00:42<00:25,  4.37it/s]Both `max_new_tokens` (=256) and `max_length`(=15) seem to have been set. `max_new_tokens` will take precedence. Please refer to the documentation for more information. (https://huggingface.co/docs/transformers/main/en/main_classes/text_generation)\n",
      "Interpreting Names:  63%|██████▎   | 190/300 [00:42<00:28,  3.88it/s]Both `max_new_tokens` (=256) and `max_length`(=15) seem to have been set. `max_new_tokens` will take precedence. Please refer to the documentation for more information. (https://huggingface.co/docs/transformers/main/en/main_classes/text_generation)\n",
      "Interpreting Names:  64%|██████▎   | 191/300 [00:42<00:25,  4.22it/s]Both `max_new_tokens` (=256) and `max_length`(=15) seem to have been set. `max_new_tokens` will take precedence. Please refer to the documentation for more information. (https://huggingface.co/docs/transformers/main/en/main_classes/text_generation)\n",
      "Interpreting Names:  64%|██████▍   | 192/300 [00:43<00:23,  4.67it/s]Both `max_new_tokens` (=256) and `max_length`(=15) seem to have been set. `max_new_tokens` will take precedence. Please refer to the documentation for more information. (https://huggingface.co/docs/transformers/main/en/main_classes/text_generation)\n",
      "Interpreting Names:  64%|██████▍   | 193/300 [00:43<00:23,  4.54it/s]Both `max_new_tokens` (=256) and `max_length`(=15) seem to have been set. `max_new_tokens` will take precedence. Please refer to the documentation for more information. (https://huggingface.co/docs/transformers/main/en/main_classes/text_generation)\n",
      "Interpreting Names:  65%|██████▍   | 194/300 [00:43<00:24,  4.37it/s]Both `max_new_tokens` (=256) and `max_length`(=15) seem to have been set. `max_new_tokens` will take precedence. Please refer to the documentation for more information. (https://huggingface.co/docs/transformers/main/en/main_classes/text_generation)\n",
      "Interpreting Names:  65%|██████▌   | 195/300 [00:43<00:24,  4.36it/s]Both `max_new_tokens` (=256) and `max_length`(=15) seem to have been set. `max_new_tokens` will take precedence. Please refer to the documentation for more information. (https://huggingface.co/docs/transformers/main/en/main_classes/text_generation)\n",
      "Interpreting Names:  65%|██████▌   | 196/300 [00:43<00:23,  4.33it/s]Both `max_new_tokens` (=256) and `max_length`(=15) seem to have been set. `max_new_tokens` will take precedence. Please refer to the documentation for more information. (https://huggingface.co/docs/transformers/main/en/main_classes/text_generation)\n",
      "Interpreting Names:  66%|██████▌   | 197/300 [00:44<00:24,  4.18it/s]Both `max_new_tokens` (=256) and `max_length`(=15) seem to have been set. `max_new_tokens` will take precedence. Please refer to the documentation for more information. (https://huggingface.co/docs/transformers/main/en/main_classes/text_generation)\n",
      "Interpreting Names:  66%|██████▌   | 198/300 [00:44<00:27,  3.77it/s]Both `max_new_tokens` (=256) and `max_length`(=15) seem to have been set. `max_new_tokens` will take precedence. Please refer to the documentation for more information. (https://huggingface.co/docs/transformers/main/en/main_classes/text_generation)\n",
      "Interpreting Names:  66%|██████▋   | 199/300 [00:44<00:25,  3.91it/s]Both `max_new_tokens` (=256) and `max_length`(=15) seem to have been set. `max_new_tokens` will take precedence. Please refer to the documentation for more information. (https://huggingface.co/docs/transformers/main/en/main_classes/text_generation)\n",
      "Interpreting Names:  67%|██████▋   | 200/300 [00:45<00:27,  3.69it/s]Both `max_new_tokens` (=256) and `max_length`(=15) seem to have been set. `max_new_tokens` will take precedence. Please refer to the documentation for more information. (https://huggingface.co/docs/transformers/main/en/main_classes/text_generation)\n",
      "Interpreting Names:  67%|██████▋   | 201/300 [00:45<00:23,  4.27it/s]Both `max_new_tokens` (=256) and `max_length`(=15) seem to have been set. `max_new_tokens` will take precedence. Please refer to the documentation for more information. (https://huggingface.co/docs/transformers/main/en/main_classes/text_generation)\n",
      "Interpreting Names:  67%|██████▋   | 202/300 [00:45<00:25,  3.88it/s]Both `max_new_tokens` (=256) and `max_length`(=15) seem to have been set. `max_new_tokens` will take precedence. Please refer to the documentation for more information. (https://huggingface.co/docs/transformers/main/en/main_classes/text_generation)\n",
      "Interpreting Names:  68%|██████▊   | 203/300 [00:45<00:26,  3.62it/s]Both `max_new_tokens` (=256) and `max_length`(=15) seem to have been set. `max_new_tokens` will take precedence. Please refer to the documentation for more information. (https://huggingface.co/docs/transformers/main/en/main_classes/text_generation)\n",
      "Interpreting Names:  68%|██████▊   | 204/300 [00:46<00:26,  3.59it/s]Both `max_new_tokens` (=256) and `max_length`(=15) seem to have been set. `max_new_tokens` will take precedence. Please refer to the documentation for more information. (https://huggingface.co/docs/transformers/main/en/main_classes/text_generation)\n",
      "Interpreting Names:  68%|██████▊   | 205/300 [00:46<00:26,  3.58it/s]Both `max_new_tokens` (=256) and `max_length`(=15) seem to have been set. `max_new_tokens` will take precedence. Please refer to the documentation for more information. (https://huggingface.co/docs/transformers/main/en/main_classes/text_generation)\n",
      "Interpreting Names:  69%|██████▊   | 206/300 [00:46<00:26,  3.51it/s]Both `max_new_tokens` (=256) and `max_length`(=15) seem to have been set. `max_new_tokens` will take precedence. Please refer to the documentation for more information. (https://huggingface.co/docs/transformers/main/en/main_classes/text_generation)\n",
      "Interpreting Names:  69%|██████▉   | 207/300 [00:46<00:24,  3.73it/s]Both `max_new_tokens` (=256) and `max_length`(=15) seem to have been set. `max_new_tokens` will take precedence. Please refer to the documentation for more information. (https://huggingface.co/docs/transformers/main/en/main_classes/text_generation)\n",
      "Interpreting Names:  69%|██████▉   | 208/300 [00:47<00:22,  4.06it/s]Both `max_new_tokens` (=256) and `max_length`(=15) seem to have been set. `max_new_tokens` will take precedence. Please refer to the documentation for more information. (https://huggingface.co/docs/transformers/main/en/main_classes/text_generation)\n",
      "Interpreting Names:  70%|██████▉   | 209/300 [00:47<00:22,  4.08it/s]Both `max_new_tokens` (=256) and `max_length`(=15) seem to have been set. `max_new_tokens` will take precedence. Please refer to the documentation for more information. (https://huggingface.co/docs/transformers/main/en/main_classes/text_generation)\n",
      "Interpreting Names:  70%|███████   | 210/300 [00:47<00:22,  4.09it/s]Both `max_new_tokens` (=256) and `max_length`(=15) seem to have been set. `max_new_tokens` will take precedence. Please refer to the documentation for more information. (https://huggingface.co/docs/transformers/main/en/main_classes/text_generation)\n",
      "Interpreting Names:  70%|███████   | 211/300 [00:47<00:20,  4.36it/s]Both `max_new_tokens` (=256) and `max_length`(=15) seem to have been set. `max_new_tokens` will take precedence. Please refer to the documentation for more information. (https://huggingface.co/docs/transformers/main/en/main_classes/text_generation)\n",
      "Interpreting Names:  71%|███████   | 212/300 [00:48<00:21,  4.16it/s]Both `max_new_tokens` (=256) and `max_length`(=15) seem to have been set. `max_new_tokens` will take precedence. Please refer to the documentation for more information. (https://huggingface.co/docs/transformers/main/en/main_classes/text_generation)\n",
      "Interpreting Names:  71%|███████   | 213/300 [00:48<00:23,  3.71it/s]Both `max_new_tokens` (=256) and `max_length`(=15) seem to have been set. `max_new_tokens` will take precedence. Please refer to the documentation for more information. (https://huggingface.co/docs/transformers/main/en/main_classes/text_generation)\n",
      "Interpreting Names:  71%|███████▏  | 214/300 [00:48<00:21,  3.94it/s]Both `max_new_tokens` (=256) and `max_length`(=15) seem to have been set. `max_new_tokens` will take precedence. Please refer to the documentation for more information. (https://huggingface.co/docs/transformers/main/en/main_classes/text_generation)\n",
      "Interpreting Names:  72%|███████▏  | 215/300 [00:48<00:20,  4.15it/s]Both `max_new_tokens` (=256) and `max_length`(=15) seem to have been set. `max_new_tokens` will take precedence. Please refer to the documentation for more information. (https://huggingface.co/docs/transformers/main/en/main_classes/text_generation)\n",
      "Interpreting Names:  72%|███████▏  | 216/300 [00:49<00:22,  3.79it/s]Both `max_new_tokens` (=256) and `max_length`(=15) seem to have been set. `max_new_tokens` will take precedence. Please refer to the documentation for more information. (https://huggingface.co/docs/transformers/main/en/main_classes/text_generation)\n",
      "Interpreting Names:  72%|███████▏  | 217/300 [00:49<00:20,  3.97it/s]Both `max_new_tokens` (=256) and `max_length`(=15) seem to have been set. `max_new_tokens` will take precedence. Please refer to the documentation for more information. (https://huggingface.co/docs/transformers/main/en/main_classes/text_generation)\n",
      "Interpreting Names:  73%|███████▎  | 218/300 [00:49<00:19,  4.28it/s]Both `max_new_tokens` (=256) and `max_length`(=15) seem to have been set. `max_new_tokens` will take precedence. Please refer to the documentation for more information. (https://huggingface.co/docs/transformers/main/en/main_classes/text_generation)\n",
      "Interpreting Names:  73%|███████▎  | 219/300 [00:49<00:20,  4.04it/s]Both `max_new_tokens` (=256) and `max_length`(=15) seem to have been set. `max_new_tokens` will take precedence. Please refer to the documentation for more information. (https://huggingface.co/docs/transformers/main/en/main_classes/text_generation)\n",
      "Interpreting Names:  73%|███████▎  | 220/300 [00:50<00:19,  4.07it/s]Both `max_new_tokens` (=256) and `max_length`(=15) seem to have been set. `max_new_tokens` will take precedence. Please refer to the documentation for more information. (https://huggingface.co/docs/transformers/main/en/main_classes/text_generation)\n",
      "Interpreting Names:  74%|███████▎  | 221/300 [00:50<00:19,  4.12it/s]Both `max_new_tokens` (=256) and `max_length`(=15) seem to have been set. `max_new_tokens` will take precedence. Please refer to the documentation for more information. (https://huggingface.co/docs/transformers/main/en/main_classes/text_generation)\n",
      "Interpreting Names:  74%|███████▍  | 222/300 [00:50<00:20,  3.76it/s]Both `max_new_tokens` (=256) and `max_length`(=15) seem to have been set. `max_new_tokens` will take precedence. Please refer to the documentation for more information. (https://huggingface.co/docs/transformers/main/en/main_classes/text_generation)\n",
      "Interpreting Names:  74%|███████▍  | 223/300 [00:50<00:19,  3.89it/s]Both `max_new_tokens` (=256) and `max_length`(=15) seem to have been set. `max_new_tokens` will take precedence. Please refer to the documentation for more information. (https://huggingface.co/docs/transformers/main/en/main_classes/text_generation)\n",
      "Interpreting Names:  75%|███████▍  | 224/300 [00:51<00:21,  3.52it/s]Both `max_new_tokens` (=256) and `max_length`(=15) seem to have been set. `max_new_tokens` will take precedence. Please refer to the documentation for more information. (https://huggingface.co/docs/transformers/main/en/main_classes/text_generation)\n",
      "Interpreting Names:  75%|███████▌  | 225/300 [00:51<00:19,  3.86it/s]Both `max_new_tokens` (=256) and `max_length`(=15) seem to have been set. `max_new_tokens` will take precedence. Please refer to the documentation for more information. (https://huggingface.co/docs/transformers/main/en/main_classes/text_generation)\n",
      "Interpreting Names:  75%|███████▌  | 226/300 [00:51<00:16,  4.43it/s]Both `max_new_tokens` (=256) and `max_length`(=15) seem to have been set. `max_new_tokens` will take precedence. Please refer to the documentation for more information. (https://huggingface.co/docs/transformers/main/en/main_classes/text_generation)\n",
      "Interpreting Names:  76%|███████▌  | 227/300 [00:51<00:17,  4.13it/s]Both `max_new_tokens` (=256) and `max_length`(=15) seem to have been set. `max_new_tokens` will take precedence. Please refer to the documentation for more information. (https://huggingface.co/docs/transformers/main/en/main_classes/text_generation)\n",
      "Interpreting Names:  76%|███████▌  | 228/300 [00:52<00:19,  3.67it/s]Both `max_new_tokens` (=256) and `max_length`(=15) seem to have been set. `max_new_tokens` will take precedence. Please refer to the documentation for more information. (https://huggingface.co/docs/transformers/main/en/main_classes/text_generation)\n",
      "Interpreting Names:  76%|███████▋  | 229/300 [00:52<00:16,  4.28it/s]Both `max_new_tokens` (=256) and `max_length`(=15) seem to have been set. `max_new_tokens` will take precedence. Please refer to the documentation for more information. (https://huggingface.co/docs/transformers/main/en/main_classes/text_generation)\n",
      "Interpreting Names:  77%|███████▋  | 230/300 [00:52<00:15,  4.43it/s]Both `max_new_tokens` (=256) and `max_length`(=15) seem to have been set. `max_new_tokens` will take precedence. Please refer to the documentation for more information. (https://huggingface.co/docs/transformers/main/en/main_classes/text_generation)\n",
      "Interpreting Names:  77%|███████▋  | 231/300 [00:52<00:17,  4.01it/s]Both `max_new_tokens` (=256) and `max_length`(=15) seem to have been set. `max_new_tokens` will take precedence. Please refer to the documentation for more information. (https://huggingface.co/docs/transformers/main/en/main_classes/text_generation)\n",
      "Interpreting Names:  77%|███████▋  | 232/300 [00:53<00:17,  3.78it/s]Both `max_new_tokens` (=256) and `max_length`(=15) seem to have been set. `max_new_tokens` will take precedence. Please refer to the documentation for more information. (https://huggingface.co/docs/transformers/main/en/main_classes/text_generation)\n",
      "Interpreting Names:  78%|███████▊  | 233/300 [00:53<00:16,  4.13it/s]Both `max_new_tokens` (=256) and `max_length`(=15) seem to have been set. `max_new_tokens` will take precedence. Please refer to the documentation for more information. (https://huggingface.co/docs/transformers/main/en/main_classes/text_generation)\n",
      "Interpreting Names:  78%|███████▊  | 234/300 [00:53<00:18,  3.61it/s]Both `max_new_tokens` (=256) and `max_length`(=15) seem to have been set. `max_new_tokens` will take precedence. Please refer to the documentation for more information. (https://huggingface.co/docs/transformers/main/en/main_classes/text_generation)\n",
      "Interpreting Names:  78%|███████▊  | 235/300 [00:53<00:16,  4.02it/s]Both `max_new_tokens` (=256) and `max_length`(=15) seem to have been set. `max_new_tokens` will take precedence. Please refer to the documentation for more information. (https://huggingface.co/docs/transformers/main/en/main_classes/text_generation)\n",
      "Interpreting Names:  79%|███████▊  | 236/300 [00:54<00:14,  4.57it/s]Both `max_new_tokens` (=256) and `max_length`(=15) seem to have been set. `max_new_tokens` will take precedence. Please refer to the documentation for more information. (https://huggingface.co/docs/transformers/main/en/main_classes/text_generation)\n",
      "Interpreting Names:  79%|███████▉  | 237/300 [00:54<00:15,  4.01it/s]Both `max_new_tokens` (=256) and `max_length`(=15) seem to have been set. `max_new_tokens` will take precedence. Please refer to the documentation for more information. (https://huggingface.co/docs/transformers/main/en/main_classes/text_generation)\n",
      "Interpreting Names:  79%|███████▉  | 238/300 [00:54<00:14,  4.29it/s]Both `max_new_tokens` (=256) and `max_length`(=15) seem to have been set. `max_new_tokens` will take precedence. Please refer to the documentation for more information. (https://huggingface.co/docs/transformers/main/en/main_classes/text_generation)\n",
      "Interpreting Names:  80%|███████▉  | 239/300 [00:54<00:12,  4.73it/s]Both `max_new_tokens` (=256) and `max_length`(=15) seem to have been set. `max_new_tokens` will take precedence. Please refer to the documentation for more information. (https://huggingface.co/docs/transformers/main/en/main_classes/text_generation)\n",
      "Interpreting Names:  80%|████████  | 240/300 [00:54<00:12,  4.72it/s]Both `max_new_tokens` (=256) and `max_length`(=15) seem to have been set. `max_new_tokens` will take precedence. Please refer to the documentation for more information. (https://huggingface.co/docs/transformers/main/en/main_classes/text_generation)\n",
      "Interpreting Names:  80%|████████  | 241/300 [00:55<00:12,  4.89it/s]Both `max_new_tokens` (=256) and `max_length`(=15) seem to have been set. `max_new_tokens` will take precedence. Please refer to the documentation for more information. (https://huggingface.co/docs/transformers/main/en/main_classes/text_generation)\n",
      "Interpreting Names:  81%|████████  | 242/300 [00:55<00:12,  4.47it/s]Both `max_new_tokens` (=256) and `max_length`(=15) seem to have been set. `max_new_tokens` will take precedence. Please refer to the documentation for more information. (https://huggingface.co/docs/transformers/main/en/main_classes/text_generation)\n",
      "Interpreting Names:  81%|████████  | 243/300 [00:55<00:12,  4.53it/s]Both `max_new_tokens` (=256) and `max_length`(=15) seem to have been set. `max_new_tokens` will take precedence. Please refer to the documentation for more information. (https://huggingface.co/docs/transformers/main/en/main_classes/text_generation)\n",
      "Interpreting Names:  81%|████████▏ | 244/300 [00:55<00:14,  3.86it/s]Both `max_new_tokens` (=256) and `max_length`(=15) seem to have been set. `max_new_tokens` will take precedence. Please refer to the documentation for more information. (https://huggingface.co/docs/transformers/main/en/main_classes/text_generation)\n",
      "Interpreting Names:  82%|████████▏ | 245/300 [00:56<00:15,  3.58it/s]Both `max_new_tokens` (=256) and `max_length`(=15) seem to have been set. `max_new_tokens` will take precedence. Please refer to the documentation for more information. (https://huggingface.co/docs/transformers/main/en/main_classes/text_generation)\n",
      "Interpreting Names:  82%|████████▏ | 246/300 [00:56<00:15,  3.49it/s]Both `max_new_tokens` (=256) and `max_length`(=15) seem to have been set. `max_new_tokens` will take precedence. Please refer to the documentation for more information. (https://huggingface.co/docs/transformers/main/en/main_classes/text_generation)\n",
      "Interpreting Names:  82%|████████▏ | 247/300 [00:56<00:12,  4.13it/s]Both `max_new_tokens` (=256) and `max_length`(=15) seem to have been set. `max_new_tokens` will take precedence. Please refer to the documentation for more information. (https://huggingface.co/docs/transformers/main/en/main_classes/text_generation)\n",
      "Interpreting Names:  83%|████████▎ | 248/300 [00:56<00:11,  4.59it/s]Both `max_new_tokens` (=256) and `max_length`(=15) seem to have been set. `max_new_tokens` will take precedence. Please refer to the documentation for more information. (https://huggingface.co/docs/transformers/main/en/main_classes/text_generation)\n",
      "Interpreting Names:  83%|████████▎ | 249/300 [00:57<00:10,  5.00it/s]Both `max_new_tokens` (=256) and `max_length`(=15) seem to have been set. `max_new_tokens` will take precedence. Please refer to the documentation for more information. (https://huggingface.co/docs/transformers/main/en/main_classes/text_generation)\n",
      "Interpreting Names:  83%|████████▎ | 250/300 [00:57<00:11,  4.21it/s]Both `max_new_tokens` (=256) and `max_length`(=15) seem to have been set. `max_new_tokens` will take precedence. Please refer to the documentation for more information. (https://huggingface.co/docs/transformers/main/en/main_classes/text_generation)\n",
      "Interpreting Names:  84%|████████▎ | 251/300 [00:57<00:11,  4.37it/s]Both `max_new_tokens` (=256) and `max_length`(=15) seem to have been set. `max_new_tokens` will take precedence. Please refer to the documentation for more information. (https://huggingface.co/docs/transformers/main/en/main_classes/text_generation)\n",
      "Interpreting Names:  84%|████████▍ | 252/300 [00:57<00:10,  4.64it/s]Both `max_new_tokens` (=256) and `max_length`(=15) seem to have been set. `max_new_tokens` will take precedence. Please refer to the documentation for more information. (https://huggingface.co/docs/transformers/main/en/main_classes/text_generation)\n",
      "Interpreting Names:  84%|████████▍ | 253/300 [00:57<00:10,  4.59it/s]Both `max_new_tokens` (=256) and `max_length`(=15) seem to have been set. `max_new_tokens` will take precedence. Please refer to the documentation for more information. (https://huggingface.co/docs/transformers/main/en/main_classes/text_generation)\n",
      "Interpreting Names:  85%|████████▍ | 254/300 [00:58<00:11,  4.10it/s]Both `max_new_tokens` (=256) and `max_length`(=15) seem to have been set. `max_new_tokens` will take precedence. Please refer to the documentation for more information. (https://huggingface.co/docs/transformers/main/en/main_classes/text_generation)\n",
      "Interpreting Names:  85%|████████▌ | 255/300 [00:58<00:10,  4.41it/s]Both `max_new_tokens` (=256) and `max_length`(=15) seem to have been set. `max_new_tokens` will take precedence. Please refer to the documentation for more information. (https://huggingface.co/docs/transformers/main/en/main_classes/text_generation)\n",
      "Interpreting Names:  85%|████████▌ | 256/300 [00:58<00:10,  4.37it/s]Both `max_new_tokens` (=256) and `max_length`(=15) seem to have been set. `max_new_tokens` will take precedence. Please refer to the documentation for more information. (https://huggingface.co/docs/transformers/main/en/main_classes/text_generation)\n",
      "Interpreting Names:  86%|████████▌ | 257/300 [00:58<00:09,  4.48it/s]Both `max_new_tokens` (=256) and `max_length`(=15) seem to have been set. `max_new_tokens` will take precedence. Please refer to the documentation for more information. (https://huggingface.co/docs/transformers/main/en/main_classes/text_generation)\n",
      "Interpreting Names:  86%|████████▌ | 258/300 [00:59<00:10,  3.92it/s]Both `max_new_tokens` (=256) and `max_length`(=15) seem to have been set. `max_new_tokens` will take precedence. Please refer to the documentation for more information. (https://huggingface.co/docs/transformers/main/en/main_classes/text_generation)\n",
      "Interpreting Names:  86%|████████▋ | 259/300 [00:59<00:09,  4.39it/s]Both `max_new_tokens` (=256) and `max_length`(=15) seem to have been set. `max_new_tokens` will take precedence. Please refer to the documentation for more information. (https://huggingface.co/docs/transformers/main/en/main_classes/text_generation)\n",
      "Interpreting Names:  87%|████████▋ | 260/300 [00:59<00:08,  4.64it/s]Both `max_new_tokens` (=256) and `max_length`(=15) seem to have been set. `max_new_tokens` will take precedence. Please refer to the documentation for more information. (https://huggingface.co/docs/transformers/main/en/main_classes/text_generation)\n",
      "Interpreting Names:  87%|████████▋ | 261/300 [00:59<00:09,  4.06it/s]Both `max_new_tokens` (=256) and `max_length`(=15) seem to have been set. `max_new_tokens` will take precedence. Please refer to the documentation for more information. (https://huggingface.co/docs/transformers/main/en/main_classes/text_generation)\n",
      "Interpreting Names:  87%|████████▋ | 262/300 [01:00<00:08,  4.44it/s]Both `max_new_tokens` (=256) and `max_length`(=15) seem to have been set. `max_new_tokens` will take precedence. Please refer to the documentation for more information. (https://huggingface.co/docs/transformers/main/en/main_classes/text_generation)\n",
      "Interpreting Names:  88%|████████▊ | 263/300 [01:00<00:09,  4.09it/s]Both `max_new_tokens` (=256) and `max_length`(=15) seem to have been set. `max_new_tokens` will take precedence. Please refer to the documentation for more information. (https://huggingface.co/docs/transformers/main/en/main_classes/text_generation)\n",
      "Interpreting Names:  88%|████████▊ | 264/300 [01:00<00:08,  4.06it/s]Both `max_new_tokens` (=256) and `max_length`(=15) seem to have been set. `max_new_tokens` will take precedence. Please refer to the documentation for more information. (https://huggingface.co/docs/transformers/main/en/main_classes/text_generation)\n",
      "Interpreting Names:  88%|████████▊ | 265/300 [01:00<00:09,  3.76it/s]Both `max_new_tokens` (=256) and `max_length`(=15) seem to have been set. `max_new_tokens` will take precedence. Please refer to the documentation for more information. (https://huggingface.co/docs/transformers/main/en/main_classes/text_generation)\n",
      "Interpreting Names:  89%|████████▊ | 266/300 [01:01<00:07,  4.33it/s]Both `max_new_tokens` (=256) and `max_length`(=15) seem to have been set. `max_new_tokens` will take precedence. Please refer to the documentation for more information. (https://huggingface.co/docs/transformers/main/en/main_classes/text_generation)\n",
      "Interpreting Names:  89%|████████▉ | 267/300 [01:01<00:07,  4.27it/s]Both `max_new_tokens` (=256) and `max_length`(=15) seem to have been set. `max_new_tokens` will take precedence. Please refer to the documentation for more information. (https://huggingface.co/docs/transformers/main/en/main_classes/text_generation)\n",
      "Interpreting Names:  89%|████████▉ | 268/300 [01:01<00:08,  3.68it/s]Both `max_new_tokens` (=256) and `max_length`(=15) seem to have been set. `max_new_tokens` will take precedence. Please refer to the documentation for more information. (https://huggingface.co/docs/transformers/main/en/main_classes/text_generation)\n",
      "Interpreting Names:  90%|████████▉ | 269/300 [01:01<00:07,  4.29it/s]Both `max_new_tokens` (=256) and `max_length`(=15) seem to have been set. `max_new_tokens` will take precedence. Please refer to the documentation for more information. (https://huggingface.co/docs/transformers/main/en/main_classes/text_generation)\n",
      "Interpreting Names:  90%|█████████ | 270/300 [01:02<00:06,  4.56it/s]Both `max_new_tokens` (=256) and `max_length`(=15) seem to have been set. `max_new_tokens` will take precedence. Please refer to the documentation for more information. (https://huggingface.co/docs/transformers/main/en/main_classes/text_generation)\n",
      "Interpreting Names:  90%|█████████ | 271/300 [01:02<00:06,  4.47it/s]Both `max_new_tokens` (=256) and `max_length`(=15) seem to have been set. `max_new_tokens` will take precedence. Please refer to the documentation for more information. (https://huggingface.co/docs/transformers/main/en/main_classes/text_generation)\n",
      "Interpreting Names:  91%|█████████ | 272/300 [01:02<00:06,  4.15it/s]Both `max_new_tokens` (=256) and `max_length`(=15) seem to have been set. `max_new_tokens` will take precedence. Please refer to the documentation for more information. (https://huggingface.co/docs/transformers/main/en/main_classes/text_generation)\n",
      "Interpreting Names:  91%|█████████ | 273/300 [01:02<00:06,  4.23it/s]Both `max_new_tokens` (=256) and `max_length`(=15) seem to have been set. `max_new_tokens` will take precedence. Please refer to the documentation for more information. (https://huggingface.co/docs/transformers/main/en/main_classes/text_generation)\n",
      "Interpreting Names:  91%|█████████▏| 274/300 [01:02<00:05,  4.49it/s]Both `max_new_tokens` (=256) and `max_length`(=15) seem to have been set. `max_new_tokens` will take precedence. Please refer to the documentation for more information. (https://huggingface.co/docs/transformers/main/en/main_classes/text_generation)\n",
      "Interpreting Names:  92%|█████████▏| 275/300 [01:03<00:06,  3.95it/s]Both `max_new_tokens` (=256) and `max_length`(=15) seem to have been set. `max_new_tokens` will take precedence. Please refer to the documentation for more information. (https://huggingface.co/docs/transformers/main/en/main_classes/text_generation)\n",
      "Interpreting Names:  92%|█████████▏| 276/300 [01:03<00:05,  4.40it/s]Both `max_new_tokens` (=256) and `max_length`(=15) seem to have been set. `max_new_tokens` will take precedence. Please refer to the documentation for more information. (https://huggingface.co/docs/transformers/main/en/main_classes/text_generation)\n",
      "Interpreting Names:  92%|█████████▏| 277/300 [01:03<00:04,  4.66it/s]Both `max_new_tokens` (=256) and `max_length`(=15) seem to have been set. `max_new_tokens` will take precedence. Please refer to the documentation for more information. (https://huggingface.co/docs/transformers/main/en/main_classes/text_generation)\n",
      "Interpreting Names:  93%|█████████▎| 278/300 [01:03<00:04,  5.22it/s]Both `max_new_tokens` (=256) and `max_length`(=15) seem to have been set. `max_new_tokens` will take precedence. Please refer to the documentation for more information. (https://huggingface.co/docs/transformers/main/en/main_classes/text_generation)\n",
      "Interpreting Names:  93%|█████████▎| 279/300 [01:04<00:04,  4.87it/s]Both `max_new_tokens` (=256) and `max_length`(=15) seem to have been set. `max_new_tokens` will take precedence. Please refer to the documentation for more information. (https://huggingface.co/docs/transformers/main/en/main_classes/text_generation)\n",
      "Interpreting Names:  93%|█████████▎| 280/300 [01:04<00:04,  4.23it/s]Both `max_new_tokens` (=256) and `max_length`(=15) seem to have been set. `max_new_tokens` will take precedence. Please refer to the documentation for more information. (https://huggingface.co/docs/transformers/main/en/main_classes/text_generation)\n",
      "Interpreting Names:  94%|█████████▎| 281/300 [01:04<00:04,  4.33it/s]Both `max_new_tokens` (=256) and `max_length`(=15) seem to have been set. `max_new_tokens` will take precedence. Please refer to the documentation for more information. (https://huggingface.co/docs/transformers/main/en/main_classes/text_generation)\n",
      "Interpreting Names:  94%|█████████▍| 282/300 [01:04<00:04,  4.25it/s]Both `max_new_tokens` (=256) and `max_length`(=15) seem to have been set. `max_new_tokens` will take precedence. Please refer to the documentation for more information. (https://huggingface.co/docs/transformers/main/en/main_classes/text_generation)\n",
      "Interpreting Names:  94%|█████████▍| 283/300 [01:05<00:04,  3.75it/s]Both `max_new_tokens` (=256) and `max_length`(=15) seem to have been set. `max_new_tokens` will take precedence. Please refer to the documentation for more information. (https://huggingface.co/docs/transformers/main/en/main_classes/text_generation)\n",
      "Interpreting Names:  95%|█████████▍| 284/300 [01:05<00:04,  3.49it/s]Both `max_new_tokens` (=256) and `max_length`(=15) seem to have been set. `max_new_tokens` will take precedence. Please refer to the documentation for more information. (https://huggingface.co/docs/transformers/main/en/main_classes/text_generation)\n",
      "Interpreting Names:  95%|█████████▌| 285/300 [01:05<00:04,  3.30it/s]Both `max_new_tokens` (=256) and `max_length`(=15) seem to have been set. `max_new_tokens` will take precedence. Please refer to the documentation for more information. (https://huggingface.co/docs/transformers/main/en/main_classes/text_generation)\n",
      "Interpreting Names:  95%|█████████▌| 286/300 [01:06<00:04,  3.44it/s]Both `max_new_tokens` (=256) and `max_length`(=15) seem to have been set. `max_new_tokens` will take precedence. Please refer to the documentation for more information. (https://huggingface.co/docs/transformers/main/en/main_classes/text_generation)\n",
      "Interpreting Names:  96%|█████████▌| 287/300 [01:06<00:03,  3.45it/s]Both `max_new_tokens` (=256) and `max_length`(=15) seem to have been set. `max_new_tokens` will take precedence. Please refer to the documentation for more information. (https://huggingface.co/docs/transformers/main/en/main_classes/text_generation)\n",
      "Interpreting Names:  96%|█████████▌| 288/300 [01:06<00:03,  3.76it/s]Both `max_new_tokens` (=256) and `max_length`(=15) seem to have been set. `max_new_tokens` will take precedence. Please refer to the documentation for more information. (https://huggingface.co/docs/transformers/main/en/main_classes/text_generation)\n",
      "Interpreting Names:  96%|█████████▋| 289/300 [01:06<00:03,  3.53it/s]Both `max_new_tokens` (=256) and `max_length`(=15) seem to have been set. `max_new_tokens` will take precedence. Please refer to the documentation for more information. (https://huggingface.co/docs/transformers/main/en/main_classes/text_generation)\n",
      "Interpreting Names:  97%|█████████▋| 290/300 [01:07<00:02,  4.04it/s]Both `max_new_tokens` (=256) and `max_length`(=15) seem to have been set. `max_new_tokens` will take precedence. Please refer to the documentation for more information. (https://huggingface.co/docs/transformers/main/en/main_classes/text_generation)\n",
      "Interpreting Names:  97%|█████████▋| 291/300 [01:07<00:02,  4.12it/s]Both `max_new_tokens` (=256) and `max_length`(=15) seem to have been set. `max_new_tokens` will take precedence. Please refer to the documentation for more information. (https://huggingface.co/docs/transformers/main/en/main_classes/text_generation)\n",
      "Interpreting Names:  97%|█████████▋| 292/300 [01:07<00:01,  4.18it/s]Both `max_new_tokens` (=256) and `max_length`(=15) seem to have been set. `max_new_tokens` will take precedence. Please refer to the documentation for more information. (https://huggingface.co/docs/transformers/main/en/main_classes/text_generation)\n",
      "Interpreting Names:  98%|█████████▊| 293/300 [01:07<00:01,  4.38it/s]Both `max_new_tokens` (=256) and `max_length`(=15) seem to have been set. `max_new_tokens` will take precedence. Please refer to the documentation for more information. (https://huggingface.co/docs/transformers/main/en/main_classes/text_generation)\n",
      "Interpreting Names:  98%|█████████▊| 294/300 [01:07<00:01,  4.40it/s]Both `max_new_tokens` (=256) and `max_length`(=15) seem to have been set. `max_new_tokens` will take precedence. Please refer to the documentation for more information. (https://huggingface.co/docs/transformers/main/en/main_classes/text_generation)\n",
      "Interpreting Names:  98%|█████████▊| 295/300 [01:08<00:01,  3.70it/s]Both `max_new_tokens` (=256) and `max_length`(=15) seem to have been set. `max_new_tokens` will take precedence. Please refer to the documentation for more information. (https://huggingface.co/docs/transformers/main/en/main_classes/text_generation)\n",
      "Interpreting Names:  99%|█████████▊| 296/300 [01:08<00:01,  3.94it/s]Both `max_new_tokens` (=256) and `max_length`(=15) seem to have been set. `max_new_tokens` will take precedence. Please refer to the documentation for more information. (https://huggingface.co/docs/transformers/main/en/main_classes/text_generation)\n",
      "Interpreting Names:  99%|█████████▉| 297/300 [01:08<00:00,  3.59it/s]Both `max_new_tokens` (=256) and `max_length`(=15) seem to have been set. `max_new_tokens` will take precedence. Please refer to the documentation for more information. (https://huggingface.co/docs/transformers/main/en/main_classes/text_generation)\n",
      "Interpreting Names:  99%|█████████▉| 298/300 [01:09<00:00,  3.82it/s]Both `max_new_tokens` (=256) and `max_length`(=15) seem to have been set. `max_new_tokens` will take precedence. Please refer to the documentation for more information. (https://huggingface.co/docs/transformers/main/en/main_classes/text_generation)\n",
      "Interpreting Names: 100%|█████████▉| 299/300 [01:09<00:00,  4.10it/s]Both `max_new_tokens` (=256) and `max_length`(=15) seem to have been set. `max_new_tokens` will take precedence. Please refer to the documentation for more information. (https://huggingface.co/docs/transformers/main/en/main_classes/text_generation)\n",
      "Interpreting Names: 100%|██████████| 300/300 [01:09<00:00,  4.55it/s]Both `max_new_tokens` (=256) and `max_length`(=15) seem to have been set. `max_new_tokens` will take precedence. Please refer to the documentation for more information. (https://huggingface.co/docs/transformers/main/en/main_classes/text_generation)\n",
      "Interpreting Names: 100%|██████████| 300/300 [01:09<00:00,  4.30it/s]"
     ]
    },
    {
     "name": "stdout",
     "output_type": "stream",
     "text": [
      "✅ New 'Interpreted_Name' column added successfully!\n"
     ]
    },
    {
     "name": "stderr",
     "output_type": "stream",
     "text": [
      "\n"
     ]
    }
   ],
   "source": [
    "# Cell 10: Generating Readable Topic Names (Directly from the Table)\n",
    "\n",
    "import pandas as pd\n",
    "from transformers import pipeline\n",
    "from tqdm.auto import tqdm\n",
    "import re\n",
    "\n",
    "# Initialize tqdm for pandas operations (.progress_apply)\n",
    "tqdm.pandas(desc=\"Interpreting Names\")\n",
    "\n",
    "# Ensure the summary table from previous cells exists\n",
    "if 'top_15_summary_table' in locals():\n",
    "    \n",
    "    # 1. Load the local summarization model (Flan-T5)\n",
    "    try:\n",
    "        topic_namer = pipeline(\"summarization\", model=\"google/flan-t5-small\", device=-1)\n",
    "        print(\"✅ Flan-T5 model loaded successfully.\")\n",
    "    except Exception as e:\n",
    "        print(f\"❌ Error loading the language model: {e}\")\n",
    "        topic_namer = None\n",
    "\n",
    "    if topic_namer:\n",
    "        # 2. Define a function to \"translate\" the 'Name' column string\n",
    "        def interpret_name_from_string(name_string):\n",
    "            \"\"\"Cleans the 'Name' column string and generates a descriptive title.\"\"\"\n",
    "            if not isinstance(name_string, str):\n",
    "                return \"Invalid Name\"\n",
    "            \n",
    "            # Clean the string: remove leading number, replace underscores\n",
    "            # e.g., \"5_stem_cells_cells_embryonic\" -> \"stem cells cells embryonic\"\n",
    "            keywords = re.sub(r'^\\d+_', '', name_string).replace('_', ' ')\n",
    "            \n",
    "            # Create a clear prompt for the model\n",
    "            prompt = f\"Generate a short, 3-5 word descriptive title for a category defined by these keywords: {keywords}\"\n",
    "            \n",
    "            # Generate the name\n",
    "            result = topic_namer(prompt, max_length=15, min_length=3, do_sample=False)\n",
    "            return result[0]['summary_text'].strip()\n",
    "\n",
    "        # 3. Apply the function to the 'Name' column to create the new column\n",
    "        print(\"\\nGenerating interpreted names directly from the 'Name' column...\")\n",
    "        top_15_summary_table['Interpreted_Name'] = top_15_summary_table['Name'].progress_apply(interpret_name_from_string)\n",
    "        print(\"✅ New 'Interpreted_Name' column added successfully!\")\n",
    "\n",
    "else:\n",
    "    print(\"❌ The 'top_15_summary_table' DataFrame is not available. Run previous cells first.\")"
   ]
  },
  {
   "cell_type": "code",
   "execution_count": 11,
   "id": "e73ce7ea",
   "metadata": {},
   "outputs": [
    {
     "name": "stdout",
     "output_type": "stream",
     "text": [
      "\n",
      "--- Summary Table with Interpreted Names ---\n"
     ]
    },
    {
     "data": {
      "text/html": [
       "<div>\n",
       "<style scoped>\n",
       "    .dataframe tbody tr th:only-of-type {\n",
       "        vertical-align: middle;\n",
       "    }\n",
       "\n",
       "    .dataframe tbody tr th {\n",
       "        vertical-align: top;\n",
       "    }\n",
       "\n",
       "    .dataframe thead th {\n",
       "        text-align: right;\n",
       "    }\n",
       "</style>\n",
       "<table border=\"1\" class=\"dataframe\">\n",
       "  <thead>\n",
       "    <tr style=\"text-align: right;\">\n",
       "      <th></th>\n",
       "      <th>Topic</th>\n",
       "      <th>Words</th>\n",
       "      <th>Frequency</th>\n",
       "      <th>Timestamp</th>\n",
       "      <th>Name</th>\n",
       "      <th>Year</th>\n",
       "      <th>N-Grams_List</th>\n",
       "      <th>Interpreted_Name</th>\n",
       "    </tr>\n",
       "  </thead>\n",
       "  <tbody>\n",
       "    <tr>\n",
       "      <th>30</th>\n",
       "      <td>51</td>\n",
       "      <td>cloning, theraputic cloning, theraputic, ban, ...</td>\n",
       "      <td>32</td>\n",
       "      <td>2002-10-23 15:24:28.800</td>\n",
       "      <td>51_cloning_ban_therapeutic cloning_thera...</td>\n",
       "      <td>2002</td>\n",
       "      <td>[theraputic cloning, therapeutic cloning]</td>\n",
       "      <td>Thera cloning ban</td>\n",
       "    </tr>\n",
       "    <tr>\n",
       "      <th>5</th>\n",
       "      <td>5</td>\n",
       "      <td>stem, stem cells, stem cell, adult, adult stem</td>\n",
       "      <td>22</td>\n",
       "      <td>2002-10-23 15:24:28.800</td>\n",
       "      <td>5_stem_stem cells_cells_embryonic</td>\n",
       "      <td>2002</td>\n",
       "      <td>[stem cells, stem cell, adult stem]</td>\n",
       "      <td>embryonic stem cell cell</td>\n",
       "    </tr>\n",
       "    <tr>\n",
       "      <th>10</th>\n",
       "      <td>13</td>\n",
       "      <td>stem cell research, cell research, stem cell, ...</td>\n",
       "      <td>21</td>\n",
       "      <td>2002-10-23 15:24:28.800</td>\n",
       "      <td>13_stem cell research_cell research_stem...</td>\n",
       "      <td>2002</td>\n",
       "      <td>[stem cell research, cell research, stem cell]</td>\n",
       "      <td>Stem cell research stem</td>\n",
       "    </tr>\n",
       "    <tr>\n",
       "      <th>29</th>\n",
       "      <td>50</td>\n",
       "      <td>calorie, calorie restriction, restriction, die...</td>\n",
       "      <td>21</td>\n",
       "      <td>2002-10-23 15:24:28.800</td>\n",
       "      <td>50_calorie_calorie restriction_restricti...</td>\n",
       "      <td>2002</td>\n",
       "      <td>[calorie restriction]</td>\n",
       "      <td>calorie restriction restricti - wikipedia</td>\n",
       "    </tr>\n",
       "    <tr>\n",
       "      <th>34</th>\n",
       "      <td>60</td>\n",
       "      <td>council, kass, bioethics, council bioethics, p...</td>\n",
       "      <td>17</td>\n",
       "      <td>2002-10-23 15:24:28.800</td>\n",
       "      <td>60_council_bioethics_kass_leon kass</td>\n",
       "      <td>2002</td>\n",
       "      <td>[council bioethics, presidents council]</td>\n",
       "      <td>council bioethics kass leon</td>\n",
       "    </tr>\n",
       "    <tr>\n",
       "      <th>21</th>\n",
       "      <td>32</td>\n",
       "      <td>antiaging, antiaging medicine, medicine, marke...</td>\n",
       "      <td>16</td>\n",
       "      <td>2002-10-23 15:24:28.800</td>\n",
       "      <td>32_antiaging_marketplace_antiaging medic...</td>\n",
       "      <td>2002</td>\n",
       "      <td>[antiaging medicine]</td>\n",
       "      <td>antiaging marketplace medics</td>\n",
       "    </tr>\n",
       "    <tr>\n",
       "      <th>71</th>\n",
       "      <td>153</td>\n",
       "      <td>european, ban, stem cell research, cell resear...</td>\n",
       "      <td>12</td>\n",
       "      <td>2002-10-23 15:24:28.800</td>\n",
       "      <td>153_stem cell research_cell research_ban...</td>\n",
       "      <td>2002</td>\n",
       "      <td>[stem cell research, cell research, european p...</td>\n",
       "      <td>ban on stem cell research</td>\n",
       "    </tr>\n",
       "    <tr>\n",
       "      <th>8</th>\n",
       "      <td>11</td>\n",
       "      <td>heart, stem, stem cells, stem cell, heart damage</td>\n",
       "      <td>10</td>\n",
       "      <td>2002-10-23 15:24:28.800</td>\n",
       "      <td>11_heart_stem_stem cells_cells</td>\n",
       "      <td>2002</td>\n",
       "      <td>[stem cells, stem cell, heart damage]</td>\n",
       "      <td>heart stem stem cells cells</td>\n",
       "    </tr>\n",
       "    <tr>\n",
       "      <th>25</th>\n",
       "      <td>41</td>\n",
       "      <td>alzheimers, alzheimers research, article, rese...</td>\n",
       "      <td>10</td>\n",
       "      <td>2002-10-23 15:24:28.800</td>\n",
       "      <td>41_alzheimers_alzheimers disease_brain_d...</td>\n",
       "      <td>2002</td>\n",
       "      <td>[alzheimers research]</td>\n",
       "      <td>alzheimers disease brain d</td>\n",
       "    </tr>\n",
       "    <tr>\n",
       "      <th>40</th>\n",
       "      <td>67</td>\n",
       "      <td>life extension, extension, healthy life extens...</td>\n",
       "      <td>10</td>\n",
       "      <td>2002-10-23 15:24:28.800</td>\n",
       "      <td>67_life extension_extension_life_healthy...</td>\n",
       "      <td>2002</td>\n",
       "      <td>[life extension, healthy life extension, healt...</td>\n",
       "      <td>Life Extension Extension Life Healthy</td>\n",
       "    </tr>\n",
       "    <tr>\n",
       "      <th>57</th>\n",
       "      <td>112</td>\n",
       "      <td>longevity meme, meme, link httpwwwlongevitymem...</td>\n",
       "      <td>10</td>\n",
       "      <td>2002-10-23 15:24:28.800</td>\n",
       "      <td>112_fight aging_fight_spam_server</td>\n",
       "      <td>2002</td>\n",
       "      <td>[longevity meme, link httpwwwlongevitymemeorg]</td>\n",
       "      <td>spam server category</td>\n",
       "    </tr>\n",
       "    <tr>\n",
       "      <th>67</th>\n",
       "      <td>132</td>\n",
       "      <td>cancer, cancer research, advocacy funding, art...</td>\n",
       "      <td>10</td>\n",
       "      <td>2002-10-23 15:24:28.800</td>\n",
       "      <td>132_cancer_rates_cancer mortality_cancer...</td>\n",
       "      <td>2002</td>\n",
       "      <td>[cancer research, advocacy funding, cancer tre...</td>\n",
       "      <td>cancer rates: cancer mortality rates</td>\n",
       "    </tr>\n",
       "    <tr>\n",
       "      <th>77</th>\n",
       "      <td>168</td>\n",
       "      <td>prize, methuselah mouse, mouse prize, methusel...</td>\n",
       "      <td>10</td>\n",
       "      <td>2002-10-23 15:24:28.800</td>\n",
       "      <td>168_prize_methuselah mouse_mouse prize_m...</td>\n",
       "      <td>2002</td>\n",
       "      <td>[methuselah mouse, mouse prize, methuselah mou...</td>\n",
       "      <td>mouse mouse prize m</td>\n",
       "    </tr>\n",
       "    <tr>\n",
       "      <th>88</th>\n",
       "      <td>234</td>\n",
       "      <td>suspended animation, animation, suspended, cry...</td>\n",
       "      <td>10</td>\n",
       "      <td>2002-10-23 15:24:28.800</td>\n",
       "      <td>234_suspended animation_animation_suspen...</td>\n",
       "      <td>2002</td>\n",
       "      <td>[suspended animation]</td>\n",
       "      <td>suspension animation animation suspension</td>\n",
       "    </tr>\n",
       "    <tr>\n",
       "      <th>4</th>\n",
       "      <td>4</td>\n",
       "      <td>telomeres, telomere, telomere aging theories, ...</td>\n",
       "      <td>8</td>\n",
       "      <td>2002-10-23 15:24:28.800</td>\n",
       "      <td>4_telomere_telomeres_telomerase_length</td>\n",
       "      <td>2002</td>\n",
       "      <td>[telomere aging theories, telomere aging]</td>\n",
       "      <td>telomerase length</td>\n",
       "    </tr>\n",
       "    <tr>\n",
       "      <th>107</th>\n",
       "      <td>13</td>\n",
       "      <td>stem cell research, cell research, stem cell, ...</td>\n",
       "      <td>70</td>\n",
       "      <td>2003-12-23 21:36:00.000</td>\n",
       "      <td>13_stem cell research_cell research_stem...</td>\n",
       "      <td>2003</td>\n",
       "      <td>[stem cell research, cell research, stem cell]</td>\n",
       "      <td>Stem cell research stem</td>\n",
       "    </tr>\n",
       "    <tr>\n",
       "      <th>119</th>\n",
       "      <td>32</td>\n",
       "      <td>antiaging, marketplace, antiaging marketplace,...</td>\n",
       "      <td>31</td>\n",
       "      <td>2003-12-23 21:36:00.000</td>\n",
       "      <td>32_antiaging_marketplace_antiaging medic...</td>\n",
       "      <td>2003</td>\n",
       "      <td>[antiaging marketplace, antiaging medicine]</td>\n",
       "      <td>antiaging marketplace medics</td>\n",
       "    </tr>\n",
       "    <tr>\n",
       "      <th>134</th>\n",
       "      <td>60</td>\n",
       "      <td>council, bioethics, kass, leon kass, leon</td>\n",
       "      <td>30</td>\n",
       "      <td>2003-12-23 21:36:00.000</td>\n",
       "      <td>60_council_bioethics_kass_leon kass</td>\n",
       "      <td>2003</td>\n",
       "      <td>[leon kass]</td>\n",
       "      <td>council bioethics kass leon</td>\n",
       "    </tr>\n",
       "    <tr>\n",
       "      <th>103</th>\n",
       "      <td>5</td>\n",
       "      <td>stem, stem cells, stem cell, embryonic, embryo...</td>\n",
       "      <td>28</td>\n",
       "      <td>2003-12-23 21:36:00.000</td>\n",
       "      <td>5_stem_stem cells_cells_embryonic</td>\n",
       "      <td>2003</td>\n",
       "      <td>[stem cells, stem cell, embryonic stem]</td>\n",
       "      <td>embryonic stem cell cell</td>\n",
       "    </tr>\n",
       "    <tr>\n",
       "      <th>130</th>\n",
       "      <td>51</td>\n",
       "      <td>cloning, therapeutic cloning, ban, therapeutic...</td>\n",
       "      <td>28</td>\n",
       "      <td>2003-12-23 21:36:00.000</td>\n",
       "      <td>51_cloning_ban_therapeutic cloning_thera...</td>\n",
       "      <td>2003</td>\n",
       "      <td>[therapeutic cloning, united nations]</td>\n",
       "      <td>Thera cloning ban</td>\n",
       "    </tr>\n",
       "    <tr>\n",
       "      <th>153</th>\n",
       "      <td>87</td>\n",
       "      <td>california, stem cell research, cell research,...</td>\n",
       "      <td>27</td>\n",
       "      <td>2003-12-23 21:36:00.000</td>\n",
       "      <td>87_california_stem cell research_cell re...</td>\n",
       "      <td>2003</td>\n",
       "      <td>[stem cell research, cell research, stem cell]</td>\n",
       "      <td>california stem cell research</td>\n",
       "    </tr>\n",
       "    <tr>\n",
       "      <th>104</th>\n",
       "      <td>8</td>\n",
       "      <td>grey, aubrey, aubrey grey, greys, interview</td>\n",
       "      <td>24</td>\n",
       "      <td>2003-12-23 21:36:00.000</td>\n",
       "      <td>8_grey_aubrey_aubrey grey_sens</td>\n",
       "      <td>2003</td>\n",
       "      <td>[aubrey grey]</td>\n",
       "      <td>grey aubrey grey sens</td>\n",
       "    </tr>\n",
       "    <tr>\n",
       "      <th>98</th>\n",
       "      <td>0</td>\n",
       "      <td>mitochondrial, mitochondria, mitochondrial dna...</td>\n",
       "      <td>21</td>\n",
       "      <td>2003-12-23 21:36:00.000</td>\n",
       "      <td>0_mitochondrial_mitochondria_mtdna_mitoc...</td>\n",
       "      <td>2003</td>\n",
       "      <td>[mitochondrial dna]</td>\n",
       "      <td>mitochondrial mitochondria mtdna</td>\n",
       "    </tr>\n",
       "    <tr>\n",
       "      <th>129</th>\n",
       "      <td>50</td>\n",
       "      <td>calorie, calorie restriction, restriction, soc...</td>\n",
       "      <td>21</td>\n",
       "      <td>2003-12-23 21:36:00.000</td>\n",
       "      <td>50_calorie_calorie restriction_restricti...</td>\n",
       "      <td>2003</td>\n",
       "      <td>[calorie restriction]</td>\n",
       "      <td>calorie restriction restricti - wikipedia</td>\n",
       "    </tr>\n",
       "    <tr>\n",
       "      <th>140</th>\n",
       "      <td>67</td>\n",
       "      <td>life extension, extension, healthy life, healt...</td>\n",
       "      <td>19</td>\n",
       "      <td>2003-12-23 21:36:00.000</td>\n",
       "      <td>67_life extension_extension_life_healthy...</td>\n",
       "      <td>2003</td>\n",
       "      <td>[life extension, healthy life, healthy life ex...</td>\n",
       "      <td>Life Extension Extension Life Healthy</td>\n",
       "    </tr>\n",
       "    <tr>\n",
       "      <th>148</th>\n",
       "      <td>80</td>\n",
       "      <td>stem, stem cell, korean, cloning, stem cell re...</td>\n",
       "      <td>19</td>\n",
       "      <td>2003-12-23 21:36:00.000</td>\n",
       "      <td>80_stem_stem cell_stem cell research_cel...</td>\n",
       "      <td>2003</td>\n",
       "      <td>[stem cell, stem cell research]</td>\n",
       "      <td>stem stem cell research cel</td>\n",
       "    </tr>\n",
       "    <tr>\n",
       "      <th>102</th>\n",
       "      <td>4</td>\n",
       "      <td>telomeres, telomere, telomerase, length, telom...</td>\n",
       "      <td>18</td>\n",
       "      <td>2003-12-23 21:36:00.000</td>\n",
       "      <td>4_telomere_telomeres_telomerase_length</td>\n",
       "      <td>2003</td>\n",
       "      <td>[telomere length]</td>\n",
       "      <td>telomerase length</td>\n",
       "    </tr>\n",
       "    <tr>\n",
       "      <th>123</th>\n",
       "      <td>41</td>\n",
       "      <td>alzheimers, alzheimers research, research, dis...</td>\n",
       "      <td>18</td>\n",
       "      <td>2003-12-23 21:36:00.000</td>\n",
       "      <td>41_alzheimers_alzheimers disease_brain_d...</td>\n",
       "      <td>2003</td>\n",
       "      <td>[alzheimers research, alzheimers disease]</td>\n",
       "      <td>alzheimers disease brain d</td>\n",
       "    </tr>\n",
       "    <tr>\n",
       "      <th>106</th>\n",
       "      <td>11</td>\n",
       "      <td>heart, stem, stem cells, adult stem, stem cell</td>\n",
       "      <td>17</td>\n",
       "      <td>2003-12-23 21:36:00.000</td>\n",
       "      <td>11_heart_stem_stem cells_cells</td>\n",
       "      <td>2003</td>\n",
       "      <td>[stem cells, adult stem, stem cell]</td>\n",
       "      <td>heart stem stem cells cells</td>\n",
       "    </tr>\n",
       "    <tr>\n",
       "      <th>164</th>\n",
       "      <td>101</td>\n",
       "      <td>stem cell, stem cell research, cell research, ...</td>\n",
       "      <td>17</td>\n",
       "      <td>2003-12-23 21:36:00.000</td>\n",
       "      <td>101_stem cell_stem_stem cell research_ce...</td>\n",
       "      <td>2003</td>\n",
       "      <td>[stem cell, stem cell research, cell research]</td>\n",
       "      <td>stem cell research ce</td>\n",
       "    </tr>\n",
       "    <tr>\n",
       "      <th>245</th>\n",
       "      <td>8</td>\n",
       "      <td>grey, aubrey, aubrey grey, gerontologist, biom...</td>\n",
       "      <td>43</td>\n",
       "      <td>2005-02-13 19:12:00.000</td>\n",
       "      <td>8_grey_aubrey_aubrey grey_sens</td>\n",
       "      <td>2005</td>\n",
       "      <td>[aubrey grey, biomedical gerontologist]</td>\n",
       "      <td>grey aubrey grey sens</td>\n",
       "    </tr>\n",
       "    <tr>\n",
       "      <th>243</th>\n",
       "      <td>5</td>\n",
       "      <td>stem, stem cells, embryonic, embryonic stem, s...</td>\n",
       "      <td>36</td>\n",
       "      <td>2005-02-13 19:12:00.000</td>\n",
       "      <td>5_stem_stem cells_cells_embryonic</td>\n",
       "      <td>2005</td>\n",
       "      <td>[stem cells, embryonic stem, stem cell]</td>\n",
       "      <td>embryonic stem cell cell</td>\n",
       "    </tr>\n",
       "    <tr>\n",
       "      <th>238</th>\n",
       "      <td>0</td>\n",
       "      <td>mitochondrial, mitochondria, dna, mitochondria...</td>\n",
       "      <td>34</td>\n",
       "      <td>2005-02-13 19:12:00.000</td>\n",
       "      <td>0_mitochondrial_mitochondria_mtdna_mitoc...</td>\n",
       "      <td>2005</td>\n",
       "      <td>[mitochondrial dna]</td>\n",
       "      <td>mitochondrial mitochondria mtdna</td>\n",
       "    </tr>\n",
       "    <tr>\n",
       "      <th>248</th>\n",
       "      <td>11</td>\n",
       "      <td>heart, stem, stem cells, stem cell, cells</td>\n",
       "      <td>31</td>\n",
       "      <td>2005-02-13 19:12:00.000</td>\n",
       "      <td>11_heart_stem_stem cells_cells</td>\n",
       "      <td>2005</td>\n",
       "      <td>[stem cells, stem cell]</td>\n",
       "      <td>heart stem stem cells cells</td>\n",
       "    </tr>\n",
       "    <tr>\n",
       "      <th>250</th>\n",
       "      <td>13</td>\n",
       "      <td>stem cell research, cell research, stem cell, ...</td>\n",
       "      <td>23</td>\n",
       "      <td>2005-02-13 19:12:00.000</td>\n",
       "      <td>13_stem cell research_cell research_stem...</td>\n",
       "      <td>2005</td>\n",
       "      <td>[stem cell research, cell research, stem cell]</td>\n",
       "      <td>Stem cell research stem</td>\n",
       "    </tr>\n",
       "    <tr>\n",
       "      <th>293</th>\n",
       "      <td>65</td>\n",
       "      <td>software, biotechnology, dna sequencing, open ...</td>\n",
       "      <td>16</td>\n",
       "      <td>2005-02-13 19:12:00.000</td>\n",
       "      <td>65_biotechnology_software_sequencing_ope...</td>\n",
       "      <td>2005</td>\n",
       "      <td>[dna sequencing, open source]</td>\n",
       "      <td>Biotechnology Software Sequence</td>\n",
       "    </tr>\n",
       "    <tr>\n",
       "      <th>305</th>\n",
       "      <td>80</td>\n",
       "      <td>stem, stem cell, hwang, stem cell research, ce...</td>\n",
       "      <td>16</td>\n",
       "      <td>2005-02-13 19:12:00.000</td>\n",
       "      <td>80_stem_stem cell_stem cell research_cel...</td>\n",
       "      <td>2005</td>\n",
       "      <td>[stem cell, stem cell research, cell research]</td>\n",
       "      <td>stem stem cell research cel</td>\n",
       "    </tr>\n",
       "    <tr>\n",
       "      <th>262</th>\n",
       "      <td>27</td>\n",
       "      <td>mprize, methuselah, methuselah foundation, fou...</td>\n",
       "      <td>14</td>\n",
       "      <td>2005-02-13 19:12:00.000</td>\n",
       "      <td>27_methuselah_methuselah foundation_foun...</td>\n",
       "      <td>2005</td>\n",
       "      <td>[methuselah foundation]</td>\n",
       "      <td>Funding for methuselah foundation</td>\n",
       "    </tr>\n",
       "    <tr>\n",
       "      <th>267</th>\n",
       "      <td>32</td>\n",
       "      <td>antiaging, marketplace, antiaging medicine, an...</td>\n",
       "      <td>14</td>\n",
       "      <td>2005-02-13 19:12:00.000</td>\n",
       "      <td>32_antiaging_marketplace_antiaging medic...</td>\n",
       "      <td>2005</td>\n",
       "      <td>[antiaging medicine, antiaging marketplace]</td>\n",
       "      <td>antiaging marketplace medics</td>\n",
       "    </tr>\n",
       "    <tr>\n",
       "      <th>307</th>\n",
       "      <td>83</td>\n",
       "      <td>nanomedicine, nanotechnology, freitas, robert ...</td>\n",
       "      <td>14</td>\n",
       "      <td>2005-02-13 19:12:00.000</td>\n",
       "      <td>83_nanotechnology_nanomedicine_manufactu...</td>\n",
       "      <td>2005</td>\n",
       "      <td>[robert freitas]</td>\n",
       "      <td>Nanotechnology Manufactured for Nanomedicine</td>\n",
       "    </tr>\n",
       "    <tr>\n",
       "      <th>242</th>\n",
       "      <td>4</td>\n",
       "      <td>telomeres, telomere, telomerase, telomere leng...</td>\n",
       "      <td>13</td>\n",
       "      <td>2005-02-13 19:12:00.000</td>\n",
       "      <td>4_telomere_telomeres_telomerase_length</td>\n",
       "      <td>2005</td>\n",
       "      <td>[telomere length]</td>\n",
       "      <td>telomerase length</td>\n",
       "    </tr>\n",
       "    <tr>\n",
       "      <th>289</th>\n",
       "      <td>61</td>\n",
       "      <td>brain, stem, stem cells, neurons, cells</td>\n",
       "      <td>13</td>\n",
       "      <td>2005-02-13 19:12:00.000</td>\n",
       "      <td>61_brain_neurons_stem_stem cells</td>\n",
       "      <td>2005</td>\n",
       "      <td>[stem cells]</td>\n",
       "      <td>Brain neurons stem cells</td>\n",
       "    </tr>\n",
       "    <tr>\n",
       "      <th>322</th>\n",
       "      <td>101</td>\n",
       "      <td>stem cell, stem, stem cell research, cell rese...</td>\n",
       "      <td>13</td>\n",
       "      <td>2005-02-13 19:12:00.000</td>\n",
       "      <td>101_stem cell_stem_stem cell research_ce...</td>\n",
       "      <td>2005</td>\n",
       "      <td>[stem cell, stem cell research, cell research]</td>\n",
       "      <td>stem cell research ce</td>\n",
       "    </tr>\n",
       "    <tr>\n",
       "      <th>239</th>\n",
       "      <td>1</td>\n",
       "      <td>cryonics, alcor, cryonics society, vitrificati...</td>\n",
       "      <td>12</td>\n",
       "      <td>2005-02-13 19:12:00.000</td>\n",
       "      <td>1_cryonics_alcor_cryopreservation_preser...</td>\n",
       "      <td>2005</td>\n",
       "      <td>[cryonics society]</td>\n",
       "      <td>cryonics alcor cryopreser</td>\n",
       "    </tr>\n",
       "    <tr>\n",
       "      <th>277</th>\n",
       "      <td>47</td>\n",
       "      <td>tissue engineering, engineering, organs, tissu...</td>\n",
       "      <td>12</td>\n",
       "      <td>2005-02-13 19:12:00.000</td>\n",
       "      <td>47_organs_organ_engineering_tissue engin...</td>\n",
       "      <td>2005</td>\n",
       "      <td>[tissue engineering]</td>\n",
       "      <td>Organ engineering tissue engin</td>\n",
       "    </tr>\n",
       "    <tr>\n",
       "      <th>408</th>\n",
       "      <td>0</td>\n",
       "      <td>mitochondrial, mitochondria, mitochondrial dna...</td>\n",
       "      <td>37</td>\n",
       "      <td>2006-04-07 16:48:00.000</td>\n",
       "      <td>0_mitochondrial_mitochondria_mtdna_mitoc...</td>\n",
       "      <td>2006</td>\n",
       "      <td>[mitochondrial dna]</td>\n",
       "      <td>mitochondrial mitochondria mtdna</td>\n",
       "    </tr>\n",
       "    <tr>\n",
       "      <th>433</th>\n",
       "      <td>27</td>\n",
       "      <td>methuselah, methuselah foundation, foundation,...</td>\n",
       "      <td>23</td>\n",
       "      <td>2006-04-07 16:48:00.000</td>\n",
       "      <td>27_methuselah_methuselah foundation_foun...</td>\n",
       "      <td>2006</td>\n",
       "      <td>[methuselah foundation]</td>\n",
       "      <td>Funding for methuselah foundation</td>\n",
       "    </tr>\n",
       "    <tr>\n",
       "      <th>434</th>\n",
       "      <td>28</td>\n",
       "      <td>cancer stem, cancer stem cells, cancer, stem c...</td>\n",
       "      <td>22</td>\n",
       "      <td>2006-04-07 16:48:00.000</td>\n",
       "      <td>28_cancer stem_cancer stem cells_cancer_...</td>\n",
       "      <td>2006</td>\n",
       "      <td>[cancer stem, cancer stem cells, stem cells]</td>\n",
       "      <td>cancer stem cancer stem cells cancer</td>\n",
       "    </tr>\n",
       "    <tr>\n",
       "      <th>411</th>\n",
       "      <td>4</td>\n",
       "      <td>telomere, telomeres, telomerase, length, telom...</td>\n",
       "      <td>18</td>\n",
       "      <td>2006-04-07 16:48:00.000</td>\n",
       "      <td>4_telomere_telomeres_telomerase_length</td>\n",
       "      <td>2006</td>\n",
       "      <td>[telomere length]</td>\n",
       "      <td>telomerase length</td>\n",
       "    </tr>\n",
       "    <tr>\n",
       "      <th>418</th>\n",
       "      <td>11</td>\n",
       "      <td>heart, stem, stem cells, stem cell, cells</td>\n",
       "      <td>17</td>\n",
       "      <td>2006-04-07 16:48:00.000</td>\n",
       "      <td>11_heart_stem_stem cells_cells</td>\n",
       "      <td>2006</td>\n",
       "      <td>[stem cells, stem cell]</td>\n",
       "      <td>heart stem stem cells cells</td>\n",
       "    </tr>\n",
       "    <tr>\n",
       "      <th>412</th>\n",
       "      <td>5</td>\n",
       "      <td>stem, embryonic, stem cells, embryonic stem, e...</td>\n",
       "      <td>16</td>\n",
       "      <td>2006-04-07 16:48:00.000</td>\n",
       "      <td>5_stem_stem cells_cells_embryonic</td>\n",
       "      <td>2006</td>\n",
       "      <td>[stem cells, embryonic stem, embryonic stem ce...</td>\n",
       "      <td>embryonic stem cell cell</td>\n",
       "    </tr>\n",
       "    <tr>\n",
       "      <th>444</th>\n",
       "      <td>41</td>\n",
       "      <td>alzheimers, brain, disease, alzheimers researc...</td>\n",
       "      <td>16</td>\n",
       "      <td>2006-04-07 16:48:00.000</td>\n",
       "      <td>41_alzheimers_alzheimers disease_brain_d...</td>\n",
       "      <td>2006</td>\n",
       "      <td>[alzheimers research, alzheimers disease]</td>\n",
       "      <td>alzheimers disease brain d</td>\n",
       "    </tr>\n",
       "    <tr>\n",
       "      <th>415</th>\n",
       "      <td>8</td>\n",
       "      <td>grey, aubrey, aubrey grey, sens, biomedical ge...</td>\n",
       "      <td>11</td>\n",
       "      <td>2006-04-07 16:48:00.000</td>\n",
       "      <td>8_grey_aubrey_aubrey grey_sens</td>\n",
       "      <td>2006</td>\n",
       "      <td>[aubrey grey, biomedical gerontologist]</td>\n",
       "      <td>grey aubrey grey sens</td>\n",
       "    </tr>\n",
       "    <tr>\n",
       "      <th>451</th>\n",
       "      <td>50</td>\n",
       "      <td>calorie, calorie restriction, restriction, soc...</td>\n",
       "      <td>11</td>\n",
       "      <td>2006-04-07 16:48:00.000</td>\n",
       "      <td>50_calorie_calorie restriction_restricti...</td>\n",
       "      <td>2006</td>\n",
       "      <td>[calorie restriction]</td>\n",
       "      <td>calorie restriction restricti - wikipedia</td>\n",
       "    </tr>\n",
       "    <tr>\n",
       "      <th>465</th>\n",
       "      <td>67</td>\n",
       "      <td>life extension, extension, life, healthy life ...</td>\n",
       "      <td>11</td>\n",
       "      <td>2006-04-07 16:48:00.000</td>\n",
       "      <td>67_life extension_extension_life_healthy...</td>\n",
       "      <td>2006</td>\n",
       "      <td>[life extension, healthy life extension, healt...</td>\n",
       "      <td>Life Extension Extension Life Healthy</td>\n",
       "    </tr>\n",
       "    <tr>\n",
       "      <th>438</th>\n",
       "      <td>32</td>\n",
       "      <td>antiaging, antiaging medicine, marketplace, an...</td>\n",
       "      <td>10</td>\n",
       "      <td>2006-04-07 16:48:00.000</td>\n",
       "      <td>32_antiaging_marketplace_antiaging medic...</td>\n",
       "      <td>2006</td>\n",
       "      <td>[antiaging medicine, antiaging marketplace]</td>\n",
       "      <td>antiaging marketplace medics</td>\n",
       "    </tr>\n",
       "    <tr>\n",
       "      <th>448</th>\n",
       "      <td>47</td>\n",
       "      <td>engineering, tissue engineering, tissue, organ...</td>\n",
       "      <td>10</td>\n",
       "      <td>2006-04-07 16:48:00.000</td>\n",
       "      <td>47_organs_organ_engineering_tissue engin...</td>\n",
       "      <td>2006</td>\n",
       "      <td>[tissue engineering]</td>\n",
       "      <td>Organ engineering tissue engin</td>\n",
       "    </tr>\n",
       "    <tr>\n",
       "      <th>484</th>\n",
       "      <td>89</td>\n",
       "      <td>cancer, cancer cells, metastasis, keys, cancers</td>\n",
       "      <td>10</td>\n",
       "      <td>2006-04-07 16:48:00.000</td>\n",
       "      <td>89_cancer_metastasis_cancer cells_cancer...</td>\n",
       "      <td>2006</td>\n",
       "      <td>[cancer cells]</td>\n",
       "      <td>cancer metastasis cancer cell</td>\n",
       "    </tr>\n",
       "    <tr>\n",
       "      <th>427</th>\n",
       "      <td>21</td>\n",
       "      <td>dna, dna damage, damage, dna repair, mutations</td>\n",
       "      <td>8</td>\n",
       "      <td>2006-04-07 16:48:00.000</td>\n",
       "      <td>21_dna_dna damage_mutations_damage</td>\n",
       "      <td>2006</td>\n",
       "      <td>[dna damage, dna repair]</td>\n",
       "      <td>dna damage mutations</td>\n",
       "    </tr>\n",
       "    <tr>\n",
       "      <th>437</th>\n",
       "      <td>31</td>\n",
       "      <td>retinal, eye, vision, restore vision, cells</td>\n",
       "      <td>8</td>\n",
       "      <td>2006-04-07 16:48:00.000</td>\n",
       "      <td>31_retinal_retina_eye_vision</td>\n",
       "      <td>2006</td>\n",
       "      <td>[restore vision]</td>\n",
       "      <td>retinal eye vision</td>\n",
       "    </tr>\n",
       "    <tr>\n",
       "      <th>590</th>\n",
       "      <td>0</td>\n",
       "      <td>mitochondrial, mitochondria, mitochondrial dna...</td>\n",
       "      <td>41</td>\n",
       "      <td>2007-05-30 14:24:00.000</td>\n",
       "      <td>0_mitochondrial_mitochondria_mtdna_mitoc...</td>\n",
       "      <td>2007</td>\n",
       "      <td>[mitochondrial dna]</td>\n",
       "      <td>mitochondrial mitochondria mtdna</td>\n",
       "    </tr>\n",
       "    <tr>\n",
       "      <th>597</th>\n",
       "      <td>8</td>\n",
       "      <td>grey, aubrey, aubrey grey, gerontologist, biom...</td>\n",
       "      <td>28</td>\n",
       "      <td>2007-05-30 14:24:00.000</td>\n",
       "      <td>8_grey_aubrey_aubrey grey_sens</td>\n",
       "      <td>2007</td>\n",
       "      <td>[aubrey grey, biomedical gerontologist]</td>\n",
       "      <td>grey aubrey grey sens</td>\n",
       "    </tr>\n",
       "    <tr>\n",
       "      <th>593</th>\n",
       "      <td>4</td>\n",
       "      <td>telomere, telomeres, telomere length, telomera...</td>\n",
       "      <td>20</td>\n",
       "      <td>2007-05-30 14:24:00.000</td>\n",
       "      <td>4_telomere_telomeres_telomerase_length</td>\n",
       "      <td>2007</td>\n",
       "      <td>[telomere length]</td>\n",
       "      <td>telomerase length</td>\n",
       "    </tr>\n",
       "    <tr>\n",
       "      <th>594</th>\n",
       "      <td>5</td>\n",
       "      <td>stem, stem cells, cells, embryonic, embryonic ...</td>\n",
       "      <td>16</td>\n",
       "      <td>2007-05-30 14:24:00.000</td>\n",
       "      <td>5_stem_stem cells_cells_embryonic</td>\n",
       "      <td>2007</td>\n",
       "      <td>[stem cells, embryonic stem]</td>\n",
       "      <td>embryonic stem cell cell</td>\n",
       "    </tr>\n",
       "    <tr>\n",
       "      <th>615</th>\n",
       "      <td>28</td>\n",
       "      <td>cancer stem, cancer stem cells, cancer, stem c...</td>\n",
       "      <td>14</td>\n",
       "      <td>2007-05-30 14:24:00.000</td>\n",
       "      <td>28_cancer stem_cancer stem cells_cancer_...</td>\n",
       "      <td>2007</td>\n",
       "      <td>[cancer stem, cancer stem cells, stem cells]</td>\n",
       "      <td>cancer stem cancer stem cells cancer</td>\n",
       "    </tr>\n",
       "    <tr>\n",
       "      <th>616</th>\n",
       "      <td>29</td>\n",
       "      <td>stem, stem cells, stem cell, niche, cell</td>\n",
       "      <td>10</td>\n",
       "      <td>2007-05-30 14:24:00.000</td>\n",
       "      <td>29_stem_stem cells_stem cell_cell</td>\n",
       "      <td>2007</td>\n",
       "      <td>[stem cells, stem cell]</td>\n",
       "      <td>stem cell cell category</td>\n",
       "    </tr>\n",
       "    <tr>\n",
       "      <th>609</th>\n",
       "      <td>21</td>\n",
       "      <td>dna, dna damage, damage, nuclear dna, mutations</td>\n",
       "      <td>9</td>\n",
       "      <td>2007-05-30 14:24:00.000</td>\n",
       "      <td>21_dna_dna damage_mutations_damage</td>\n",
       "      <td>2007</td>\n",
       "      <td>[dna damage, nuclear dna]</td>\n",
       "      <td>dna damage mutations</td>\n",
       "    </tr>\n",
       "    <tr>\n",
       "      <th>613</th>\n",
       "      <td>25</td>\n",
       "      <td>ages, rage, glycation, advanced glycation, end...</td>\n",
       "      <td>9</td>\n",
       "      <td>2007-05-30 14:24:00.000</td>\n",
       "      <td>25_ages_glucosepane_glycation_rage</td>\n",
       "      <td>2007</td>\n",
       "      <td>[advanced glycation]</td>\n",
       "      <td>glucose pane glycation rage</td>\n",
       "    </tr>\n",
       "    <tr>\n",
       "      <th>614</th>\n",
       "      <td>27</td>\n",
       "      <td>methuselah, methuselah foundation, foundation,...</td>\n",
       "      <td>9</td>\n",
       "      <td>2007-05-30 14:24:00.000</td>\n",
       "      <td>27_methuselah_methuselah foundation_foun...</td>\n",
       "      <td>2007</td>\n",
       "      <td>[methuselah foundation]</td>\n",
       "      <td>Funding for methuselah foundation</td>\n",
       "    </tr>\n",
       "    <tr>\n",
       "      <th>653</th>\n",
       "      <td>74</td>\n",
       "      <td>vessels, blood vessels, blood, tissue, vessel</td>\n",
       "      <td>8</td>\n",
       "      <td>2007-05-30 14:24:00.000</td>\n",
       "      <td>74_vessels_blood vessels_blood_vessel</td>\n",
       "      <td>2007</td>\n",
       "      <td>[blood vessels]</td>\n",
       "      <td>vessels blood vessels</td>\n",
       "    </tr>\n",
       "    <tr>\n",
       "      <th>599</th>\n",
       "      <td>11</td>\n",
       "      <td>heart, stem, stem cells, heart muscle, cells</td>\n",
       "      <td>7</td>\n",
       "      <td>2007-05-30 14:24:00.000</td>\n",
       "      <td>11_heart_stem_stem cells_cells</td>\n",
       "      <td>2007</td>\n",
       "      <td>[stem cells, heart muscle]</td>\n",
       "      <td>heart stem stem cells cells</td>\n",
       "    </tr>\n",
       "    <tr>\n",
       "      <th>607</th>\n",
       "      <td>19</td>\n",
       "      <td>immune, naive, naive tcells, tcells, aging immune</td>\n",
       "      <td>7</td>\n",
       "      <td>2007-05-30 14:24:00.000</td>\n",
       "      <td>19_immune_immunosenescence_cells_immunit...</td>\n",
       "      <td>2007</td>\n",
       "      <td>[naive tcells, aging immune]</td>\n",
       "      <td>Immunosenescence cells</td>\n",
       "    </tr>\n",
       "    <tr>\n",
       "      <th>664</th>\n",
       "      <td>88</td>\n",
       "      <td>resveratrol, restriction, calorie, calorie res...</td>\n",
       "      <td>7</td>\n",
       "      <td>2007-05-30 14:24:00.000</td>\n",
       "      <td>88_resveratrol_restriction_calorie_sirtu...</td>\n",
       "      <td>2007</td>\n",
       "      <td>[calorie restriction]</td>\n",
       "      <td>resveratrol restriction: calorie restriction</td>\n",
       "    </tr>\n",
       "    <tr>\n",
       "      <th>674</th>\n",
       "      <td>103</td>\n",
       "      <td>parkinsons, dopamine, neurons, parkinsons dise...</td>\n",
       "      <td>7</td>\n",
       "      <td>2007-05-30 14:24:00.000</td>\n",
       "      <td>103_parkinsons_dopamine_neurons_parkinso...</td>\n",
       "      <td>2007</td>\n",
       "      <td>[parkinsons disease, stem cells]</td>\n",
       "      <td>dopamine neurons in parkinso</td>\n",
       "    </tr>\n",
       "    <tr>\n",
       "      <th>631</th>\n",
       "      <td>48</td>\n",
       "      <td>cartilage, tissue, engineering, cartilage cell...</td>\n",
       "      <td>6</td>\n",
       "      <td>2007-05-30 14:24:00.000</td>\n",
       "      <td>48_cartilage_tissue_cartilage tissue_joi...</td>\n",
       "      <td>2007</td>\n",
       "      <td>[cartilage cells, tissue engineering]</td>\n",
       "      <td>cartilage tissue vs. joi</td>\n",
       "    </tr>\n",
       "    <tr>\n",
       "      <th>757</th>\n",
       "      <td>0</td>\n",
       "      <td>mitochondrial, mitochondria, mitochondrial dna...</td>\n",
       "      <td>51</td>\n",
       "      <td>2008-07-21 12:00:00.000</td>\n",
       "      <td>0_mitochondrial_mitochondria_mtdna_mitoc...</td>\n",
       "      <td>2008</td>\n",
       "      <td>[mitochondrial dna]</td>\n",
       "      <td>mitochondrial mitochondria mtdna</td>\n",
       "    </tr>\n",
       "    <tr>\n",
       "      <th>761</th>\n",
       "      <td>4</td>\n",
       "      <td>telomere, telomeres, telomerase, telomere leng...</td>\n",
       "      <td>19</td>\n",
       "      <td>2008-07-21 12:00:00.000</td>\n",
       "      <td>4_telomere_telomeres_telomerase_length</td>\n",
       "      <td>2008</td>\n",
       "      <td>[telomere length]</td>\n",
       "      <td>telomerase length</td>\n",
       "    </tr>\n",
       "    <tr>\n",
       "      <th>762</th>\n",
       "      <td>5</td>\n",
       "      <td>stem, stem cells, pluripotent, ips, cells</td>\n",
       "      <td>18</td>\n",
       "      <td>2008-07-21 12:00:00.000</td>\n",
       "      <td>5_stem_stem cells_cells_embryonic</td>\n",
       "      <td>2008</td>\n",
       "      <td>[stem cells]</td>\n",
       "      <td>embryonic stem cell cell</td>\n",
       "    </tr>\n",
       "    <tr>\n",
       "      <th>781</th>\n",
       "      <td>27</td>\n",
       "      <td>methuselah, methuselah foundation, foundation,...</td>\n",
       "      <td>13</td>\n",
       "      <td>2008-07-21 12:00:00.000</td>\n",
       "      <td>27_methuselah_methuselah foundation_foun...</td>\n",
       "      <td>2008</td>\n",
       "      <td>[methuselah foundation]</td>\n",
       "      <td>Funding for methuselah foundation</td>\n",
       "    </tr>\n",
       "    <tr>\n",
       "      <th>782</th>\n",
       "      <td>28</td>\n",
       "      <td>cancer stem, cancer stem cells, cancer, stem c...</td>\n",
       "      <td>13</td>\n",
       "      <td>2008-07-21 12:00:00.000</td>\n",
       "      <td>28_cancer stem_cancer stem cells_cancer_...</td>\n",
       "      <td>2008</td>\n",
       "      <td>[cancer stem, cancer stem cells, stem cells]</td>\n",
       "      <td>cancer stem cancer stem cells cancer</td>\n",
       "    </tr>\n",
       "    <tr>\n",
       "      <th>921</th>\n",
       "      <td>252</td>\n",
       "      <td>carnival, hourglass, submissions, blog carniva...</td>\n",
       "      <td>11</td>\n",
       "      <td>2008-07-21 12:00:00.000</td>\n",
       "      <td>252_carnival_hourglass_blog carnival_sub...</td>\n",
       "      <td>2008</td>\n",
       "      <td>[blog carnival, biology aging]</td>\n",
       "      <td>carnival hourglass blog</td>\n",
       "    </tr>\n",
       "    <tr>\n",
       "      <th>819</th>\n",
       "      <td>76</td>\n",
       "      <td>nanoparticles, cancer cells, tumors, nanorods,...</td>\n",
       "      <td>9</td>\n",
       "      <td>2008-07-21 12:00:00.000</td>\n",
       "      <td>76_nanoparticles_cancer_cancer cells_tum...</td>\n",
       "      <td>2008</td>\n",
       "      <td>[cancer cells]</td>\n",
       "      <td>Nanoparticles for cancer cancer cells</td>\n",
       "    </tr>\n",
       "    <tr>\n",
       "      <th>765</th>\n",
       "      <td>8</td>\n",
       "      <td>grey, aubrey, aubrey grey, biomedical gerontol...</td>\n",
       "      <td>8</td>\n",
       "      <td>2008-07-21 12:00:00.000</td>\n",
       "      <td>8_grey_aubrey_aubrey grey_sens</td>\n",
       "      <td>2008</td>\n",
       "      <td>[aubrey grey, biomedical gerontologist]</td>\n",
       "      <td>grey aubrey grey sens</td>\n",
       "    </tr>\n",
       "    <tr>\n",
       "      <th>771</th>\n",
       "      <td>17</td>\n",
       "      <td>fat, weight, visceral, visceral fat, obesity</td>\n",
       "      <td>8</td>\n",
       "      <td>2008-07-21 12:00:00.000</td>\n",
       "      <td>17_fat_weight_overweight_bmi</td>\n",
       "      <td>2008</td>\n",
       "      <td>[visceral fat]</td>\n",
       "      <td>Weight-loss category</td>\n",
       "    </tr>\n",
       "    <tr>\n",
       "      <th>798</th>\n",
       "      <td>47</td>\n",
       "      <td>organs, tissue engineering, tissue, engineerin...</td>\n",
       "      <td>7</td>\n",
       "      <td>2008-07-21 12:00:00.000</td>\n",
       "      <td>47_organs_organ_engineering_tissue engin...</td>\n",
       "      <td>2008</td>\n",
       "      <td>[tissue engineering]</td>\n",
       "      <td>Organ engineering tissue engin</td>\n",
       "    </tr>\n",
       "    <tr>\n",
       "      <th>818</th>\n",
       "      <td>75</td>\n",
       "      <td>methionine, restriction, methionine restrictio...</td>\n",
       "      <td>7</td>\n",
       "      <td>2008-07-21 12:00:00.000</td>\n",
       "      <td>75_methionine_restriction_methionine res...</td>\n",
       "      <td>2008</td>\n",
       "      <td>[methionine restriction, amino acids]</td>\n",
       "      <td>methionine res</td>\n",
       "    </tr>\n",
       "    <tr>\n",
       "      <th>794</th>\n",
       "      <td>42</td>\n",
       "      <td>alphasynuclein, parkinsons, parkinsons disease...</td>\n",
       "      <td>6</td>\n",
       "      <td>2008-07-21 12:00:00.000</td>\n",
       "      <td>42_parkinsons_parkinsons disease_synucle...</td>\n",
       "      <td>2008</td>\n",
       "      <td>[parkinsons disease]</td>\n",
       "      <td>parkinsons disease synucle</td>\n",
       "    </tr>\n",
       "    <tr>\n",
       "      <th>828</th>\n",
       "      <td>85</td>\n",
       "      <td>brain, brains, artificial, human brain, neurons</td>\n",
       "      <td>6</td>\n",
       "      <td>2008-07-21 12:00:00.000</td>\n",
       "      <td>85_brain_mind_uploading_human brain</td>\n",
       "      <td>2008</td>\n",
       "      <td>[human brain]</td>\n",
       "      <td>brain mind uploading brain</td>\n",
       "    </tr>\n",
       "    <tr>\n",
       "      <th>832</th>\n",
       "      <td>90</td>\n",
       "      <td>diabetes, alzheimers, insulin, alzheimers dise...</td>\n",
       "      <td>6</td>\n",
       "      <td>2008-07-21 12:00:00.000</td>\n",
       "      <td>90_diabetes_alzheimers_insulin_type diab...</td>\n",
       "      <td>2008</td>\n",
       "      <td>[alzheimers disease]</td>\n",
       "      <td>diabetes alzheimer type diab</td>\n",
       "    </tr>\n",
       "    <tr>\n",
       "      <th>773</th>\n",
       "      <td>19</td>\n",
       "      <td>immune, memory, centenarians, memory cells, bmpc</td>\n",
       "      <td>5</td>\n",
       "      <td>2008-07-21 12:00:00.000</td>\n",
       "      <td>19_immune_immunosenescence_cells_immunit...</td>\n",
       "      <td>2008</td>\n",
       "      <td>[memory cells]</td>\n",
       "      <td>Immunosenescence cells</td>\n",
       "    </tr>\n",
       "    <tr>\n",
       "      <th>935</th>\n",
       "      <td>0</td>\n",
       "      <td>mitochondrial, mitochondria, mtdna, mitochondr...</td>\n",
       "      <td>30</td>\n",
       "      <td>2009-09-12 09:36:00.000</td>\n",
       "      <td>0_mitochondrial_mitochondria_mtdna_mitoc...</td>\n",
       "      <td>2009</td>\n",
       "      <td>[mitochondrial dna]</td>\n",
       "      <td>mitochondrial mitochondria mtdna</td>\n",
       "    </tr>\n",
       "    <tr>\n",
       "      <th>942</th>\n",
       "      <td>8</td>\n",
       "      <td>grey, aubrey, aubrey grey, gerontologist, sens</td>\n",
       "      <td>14</td>\n",
       "      <td>2009-09-12 09:36:00.000</td>\n",
       "      <td>8_grey_aubrey_aubrey grey_sens</td>\n",
       "      <td>2009</td>\n",
       "      <td>[aubrey grey]</td>\n",
       "      <td>grey aubrey grey sens</td>\n",
       "    </tr>\n",
       "    <tr>\n",
       "      <th>939</th>\n",
       "      <td>4</td>\n",
       "      <td>telomere, telomeres, length, telomere length, ...</td>\n",
       "      <td>13</td>\n",
       "      <td>2009-09-12 09:36:00.000</td>\n",
       "      <td>4_telomere_telomeres_telomerase_length</td>\n",
       "      <td>2009</td>\n",
       "      <td>[telomere length]</td>\n",
       "      <td>telomerase length</td>\n",
       "    </tr>\n",
       "    <tr>\n",
       "      <th>940</th>\n",
       "      <td>5</td>\n",
       "      <td>stem, stem cells, cells, pluripotent, embryonic</td>\n",
       "      <td>12</td>\n",
       "      <td>2009-09-12 09:36:00.000</td>\n",
       "      <td>5_stem_stem cells_cells_embryonic</td>\n",
       "      <td>2009</td>\n",
       "      <td>[stem cells]</td>\n",
       "      <td>embryonic stem cell cell</td>\n",
       "    </tr>\n",
       "    <tr>\n",
       "      <th>950</th>\n",
       "      <td>18</td>\n",
       "      <td>genetic, longevity, variants, human longevity,...</td>\n",
       "      <td>10</td>\n",
       "      <td>2009-09-12 09:36:00.000</td>\n",
       "      <td>18_genetic_variants_longevity_genes</td>\n",
       "      <td>2009</td>\n",
       "      <td>[human longevity]</td>\n",
       "      <td>Genetic variants of longevity</td>\n",
       "    </tr>\n",
       "    <tr>\n",
       "      <th>947</th>\n",
       "      <td>14</td>\n",
       "      <td>sarcopenia, muscle, muscle mass, mass, muscle ...</td>\n",
       "      <td>8</td>\n",
       "      <td>2009-09-12 09:36:00.000</td>\n",
       "      <td>14_muscle_sarcopenia_muscle mass_mass</td>\n",
       "      <td>2009</td>\n",
       "      <td>[muscle mass, muscle protein]</td>\n",
       "      <td>sarcopenia</td>\n",
       "    </tr>\n",
       "    <tr>\n",
       "      <th>966</th>\n",
       "      <td>38</td>\n",
       "      <td>nerve, spinal, spinal cord, cord, nerves</td>\n",
       "      <td>8</td>\n",
       "      <td>2009-09-12 09:36:00.000</td>\n",
       "      <td>38_nerve_spinal_spinal cord_cord</td>\n",
       "      <td>2009</td>\n",
       "      <td>[spinal cord]</td>\n",
       "      <td>spinal cord cord category</td>\n",
       "    </tr>\n",
       "    <tr>\n",
       "      <th>994</th>\n",
       "      <td>76</td>\n",
       "      <td>nanoparticles, cancer, cancer cells, gold, gol...</td>\n",
       "      <td>8</td>\n",
       "      <td>2009-09-12 09:36:00.000</td>\n",
       "      <td>76_nanoparticles_cancer_cancer cells_tum...</td>\n",
       "      <td>2009</td>\n",
       "      <td>[cancer cells, gold nanoparticles]</td>\n",
       "      <td>Nanoparticles for cancer cancer cells</td>\n",
       "    </tr>\n",
       "    <tr>\n",
       "      <th>951</th>\n",
       "      <td>19</td>\n",
       "      <td>immune, innate, immunosenescence, innate immun...</td>\n",
       "      <td>7</td>\n",
       "      <td>2009-09-12 09:36:00.000</td>\n",
       "      <td>19_immune_immunosenescence_cells_immunit...</td>\n",
       "      <td>2009</td>\n",
       "      <td>[innate immune]</td>\n",
       "      <td>Immunosenescence cells</td>\n",
       "    </tr>\n",
       "    <tr>\n",
       "      <th>957</th>\n",
       "      <td>27</td>\n",
       "      <td>methuselah, methuselah foundation, foundation,...</td>\n",
       "      <td>7</td>\n",
       "      <td>2009-09-12 09:36:00.000</td>\n",
       "      <td>27_methuselah_methuselah foundation_foun...</td>\n",
       "      <td>2009</td>\n",
       "      <td>[methuselah foundation, donors key]</td>\n",
       "      <td>Funding for methuselah foundation</td>\n",
       "    </tr>\n",
       "    <tr>\n",
       "      <th>973</th>\n",
       "      <td>48</td>\n",
       "      <td>cartilage, tissue, enthesis, chondrocytes, car...</td>\n",
       "      <td>7</td>\n",
       "      <td>2009-09-12 09:36:00.000</td>\n",
       "      <td>48_cartilage_tissue_cartilage tissue_joi...</td>\n",
       "      <td>2009</td>\n",
       "      <td>[cartilage tissue]</td>\n",
       "      <td>cartilage tissue vs. joi</td>\n",
       "    </tr>\n",
       "    <tr>\n",
       "      <th>943</th>\n",
       "      <td>9</td>\n",
       "      <td>foundation, charities, sens, sens foundation, ...</td>\n",
       "      <td>6</td>\n",
       "      <td>2009-09-12 09:36:00.000</td>\n",
       "      <td>9_sens_foundation_sens research_sens res...</td>\n",
       "      <td>2009</td>\n",
       "      <td>[sens foundation]</td>\n",
       "      <td>Sentence 1: res</td>\n",
       "    </tr>\n",
       "    <tr>\n",
       "      <th>946</th>\n",
       "      <td>12</td>\n",
       "      <td>lifestar, lifestar institute, institute, genes...</td>\n",
       "      <td>6</td>\n",
       "      <td>2009-09-12 09:36:00.000</td>\n",
       "      <td>12_industry_companies_company_longevity</td>\n",
       "      <td>2009</td>\n",
       "      <td>[lifestar institute]</td>\n",
       "      <td>industry companies company longevity</td>\n",
       "    </tr>\n",
       "    <tr>\n",
       "      <th>958</th>\n",
       "      <td>28</td>\n",
       "      <td>cancer stem, cancer stem cells, cancer, stem, ...</td>\n",
       "      <td>6</td>\n",
       "      <td>2009-09-12 09:36:00.000</td>\n",
       "      <td>28_cancer stem_cancer stem cells_cancer_...</td>\n",
       "      <td>2009</td>\n",
       "      <td>[cancer stem, cancer stem cells, stem cells]</td>\n",
       "      <td>cancer stem cancer stem cells cancer</td>\n",
       "    </tr>\n",
       "    <tr>\n",
       "      <th>961</th>\n",
       "      <td>31</td>\n",
       "      <td>retinal, pigmentosa, retinitis, retinitis pigm...</td>\n",
       "      <td>6</td>\n",
       "      <td>2009-09-12 09:36:00.000</td>\n",
       "      <td>31_retinal_retina_eye_vision</td>\n",
       "      <td>2009</td>\n",
       "      <td>[retinitis pigmentosa]</td>\n",
       "      <td>retinal eye vision</td>\n",
       "    </tr>\n",
       "    <tr>\n",
       "      <th>1104</th>\n",
       "      <td>0</td>\n",
       "      <td>mitochondrial, mitochondria, ros, dna, mitocho...</td>\n",
       "      <td>35</td>\n",
       "      <td>2010-11-04 07:12:00.000</td>\n",
       "      <td>0_mitochondrial_mitochondria_mtdna_mitoc...</td>\n",
       "      <td>2010</td>\n",
       "      <td>[mitochondrial dna]</td>\n",
       "      <td>mitochondrial mitochondria mtdna</td>\n",
       "    </tr>\n",
       "    <tr>\n",
       "      <th>1152</th>\n",
       "      <td>59</td>\n",
       "      <td>naked, mole, naked mole, mole rat, mole rats</td>\n",
       "      <td>11</td>\n",
       "      <td>2010-11-04 07:12:00.000</td>\n",
       "      <td>59_naked_mole_naked mole_mole rats</td>\n",
       "      <td>2010</td>\n",
       "      <td>[naked mole, mole rat, mole rats]</td>\n",
       "      <td>naked mole mole rats</td>\n",
       "    </tr>\n",
       "    <tr>\n",
       "      <th>1109</th>\n",
       "      <td>5</td>\n",
       "      <td>stem, stem cells, pluripotent, cells, embryonic</td>\n",
       "      <td>10</td>\n",
       "      <td>2010-11-04 07:12:00.000</td>\n",
       "      <td>5_stem_stem cells_cells_embryonic</td>\n",
       "      <td>2010</td>\n",
       "      <td>[stem cells]</td>\n",
       "      <td>embryonic stem cell cell</td>\n",
       "    </tr>\n",
       "    <tr>\n",
       "      <th>1108</th>\n",
       "      <td>4</td>\n",
       "      <td>telomeres, telomere, telomerase, length, telom...</td>\n",
       "      <td>9</td>\n",
       "      <td>2010-11-04 07:12:00.000</td>\n",
       "      <td>4_telomere_telomeres_telomerase_length</td>\n",
       "      <td>2010</td>\n",
       "      <td>[telomere length]</td>\n",
       "      <td>telomerase length</td>\n",
       "    </tr>\n",
       "    <tr>\n",
       "      <th>1113</th>\n",
       "      <td>9</td>\n",
       "      <td>sens foundation, foundation, sens, research, a...</td>\n",
       "      <td>9</td>\n",
       "      <td>2010-11-04 07:12:00.000</td>\n",
       "      <td>9_sens_foundation_sens research_sens res...</td>\n",
       "      <td>2010</td>\n",
       "      <td>[sens foundation, academic initiative]</td>\n",
       "      <td>Sentence 1: res</td>\n",
       "    </tr>\n",
       "    <tr>\n",
       "      <th>1119</th>\n",
       "      <td>18</td>\n",
       "      <td>longevity, genetic, blood type, variants, study</td>\n",
       "      <td>8</td>\n",
       "      <td>2010-11-04 07:12:00.000</td>\n",
       "      <td>18_genetic_variants_longevity_genes</td>\n",
       "      <td>2010</td>\n",
       "      <td>[blood type]</td>\n",
       "      <td>Genetic variants of longevity</td>\n",
       "    </tr>\n",
       "    <tr>\n",
       "      <th>1120</th>\n",
       "      <td>19</td>\n",
       "      <td>immune, immunosenescence, immune cells, cells,...</td>\n",
       "      <td>8</td>\n",
       "      <td>2010-11-04 07:12:00.000</td>\n",
       "      <td>19_immune_immunosenescence_cells_immunit...</td>\n",
       "      <td>2010</td>\n",
       "      <td>[immune cells]</td>\n",
       "      <td>Immunosenescence cells</td>\n",
       "    </tr>\n",
       "    <tr>\n",
       "      <th>1112</th>\n",
       "      <td>8</td>\n",
       "      <td>grey, aubrey, aubrey grey, sens, sens foundation</td>\n",
       "      <td>7</td>\n",
       "      <td>2010-11-04 07:12:00.000</td>\n",
       "      <td>8_grey_aubrey_aubrey grey_sens</td>\n",
       "      <td>2010</td>\n",
       "      <td>[aubrey grey, sens foundation]</td>\n",
       "      <td>grey aubrey grey sens</td>\n",
       "    </tr>\n",
       "    <tr>\n",
       "      <th>1158</th>\n",
       "      <td>65</td>\n",
       "      <td>sequencing, dna sequencing, software, open dev...</td>\n",
       "      <td>7</td>\n",
       "      <td>2010-11-04 07:12:00.000</td>\n",
       "      <td>65_biotechnology_software_sequencing_ope...</td>\n",
       "      <td>2010</td>\n",
       "      <td>[dna sequencing, open development]</td>\n",
       "      <td>Biotechnology Software Sequence</td>\n",
       "    </tr>\n",
       "    <tr>\n",
       "      <th>1165</th>\n",
       "      <td>74</td>\n",
       "      <td>vessels, blood vessels, blood, vessel, veins</td>\n",
       "      <td>7</td>\n",
       "      <td>2010-11-04 07:12:00.000</td>\n",
       "      <td>74_vessels_blood vessels_blood_vessel</td>\n",
       "      <td>2010</td>\n",
       "      <td>[blood vessels]</td>\n",
       "      <td>vessels blood vessels</td>\n",
       "    </tr>\n",
       "    <tr>\n",
       "      <th>1167</th>\n",
       "      <td>76</td>\n",
       "      <td>nanoparticles, cancer, cancer cells, nanoparti...</td>\n",
       "      <td>7</td>\n",
       "      <td>2010-11-04 07:12:00.000</td>\n",
       "      <td>76_nanoparticles_cancer_cancer cells_tum...</td>\n",
       "      <td>2010</td>\n",
       "      <td>[cancer cells]</td>\n",
       "      <td>Nanoparticles for cancer cancer cells</td>\n",
       "    </tr>\n",
       "    <tr>\n",
       "      <th>1115</th>\n",
       "      <td>11</td>\n",
       "      <td>heart, stem, stem cells, hearts, cells</td>\n",
       "      <td>6</td>\n",
       "      <td>2010-11-04 07:12:00.000</td>\n",
       "      <td>11_heart_stem_stem cells_cells</td>\n",
       "      <td>2010</td>\n",
       "      <td>[stem cells]</td>\n",
       "      <td>heart stem stem cells cells</td>\n",
       "    </tr>\n",
       "    <tr>\n",
       "      <th>1116</th>\n",
       "      <td>14</td>\n",
       "      <td>sarcopenia, muscle, muscle mass, strength, mass</td>\n",
       "      <td>6</td>\n",
       "      <td>2010-11-04 07:12:00.000</td>\n",
       "      <td>14_muscle_sarcopenia_muscle mass_mass</td>\n",
       "      <td>2010</td>\n",
       "      <td>[muscle mass]</td>\n",
       "      <td>sarcopenia</td>\n",
       "    </tr>\n",
       "    <tr>\n",
       "      <th>1122</th>\n",
       "      <td>21</td>\n",
       "      <td>dna, dna damage, nuclear dna, nuclear dna dama...</td>\n",
       "      <td>6</td>\n",
       "      <td>2010-11-04 07:12:00.000</td>\n",
       "      <td>21_dna_dna damage_mutations_damage</td>\n",
       "      <td>2010</td>\n",
       "      <td>[dna damage, nuclear dna, nuclear dna damage]</td>\n",
       "      <td>dna damage mutations</td>\n",
       "    </tr>\n",
       "    <tr>\n",
       "      <th>1144</th>\n",
       "      <td>48</td>\n",
       "      <td>cartilage, tissue engineering, cartilage tissu...</td>\n",
       "      <td>5</td>\n",
       "      <td>2010-11-04 07:12:00.000</td>\n",
       "      <td>48_cartilage_tissue_cartilage tissue_joi...</td>\n",
       "      <td>2010</td>\n",
       "      <td>[tissue engineering, cartilage tissue]</td>\n",
       "      <td>cartilage tissue vs. joi</td>\n",
       "    </tr>\n",
       "    <tr>\n",
       "      <th>1279</th>\n",
       "      <td>0</td>\n",
       "      <td>mitochondrial, mitochondria, mitochondrial dna...</td>\n",
       "      <td>28</td>\n",
       "      <td>2011-12-27 04:48:00.000</td>\n",
       "      <td>0_mitochondrial_mitochondria_mtdna_mitoc...</td>\n",
       "      <td>2011</td>\n",
       "      <td>[mitochondrial dna]</td>\n",
       "      <td>mitochondrial mitochondria mtdna</td>\n",
       "    </tr>\n",
       "    <tr>\n",
       "      <th>1283</th>\n",
       "      <td>4</td>\n",
       "      <td>telomeres, telomere, length, telomere length, ...</td>\n",
       "      <td>21</td>\n",
       "      <td>2011-12-27 04:48:00.000</td>\n",
       "      <td>4_telomere_telomeres_telomerase_length</td>\n",
       "      <td>2011</td>\n",
       "      <td>[telomere length]</td>\n",
       "      <td>telomerase length</td>\n",
       "    </tr>\n",
       "    <tr>\n",
       "      <th>1287</th>\n",
       "      <td>8</td>\n",
       "      <td>grey, aubrey, aubrey grey, sens, video</td>\n",
       "      <td>13</td>\n",
       "      <td>2011-12-27 04:48:00.000</td>\n",
       "      <td>8_grey_aubrey_aubrey grey_sens</td>\n",
       "      <td>2011</td>\n",
       "      <td>[aubrey grey]</td>\n",
       "      <td>grey aubrey grey sens</td>\n",
       "    </tr>\n",
       "    <tr>\n",
       "      <th>1281</th>\n",
       "      <td>2</td>\n",
       "      <td>aging, damage, slow, sens, slow aging</td>\n",
       "      <td>11</td>\n",
       "      <td>2011-12-27 04:48:00.000</td>\n",
       "      <td>2_aging_damage_research_slow</td>\n",
       "      <td>2011</td>\n",
       "      <td>[slow aging]</td>\n",
       "      <td>aging damage research slows</td>\n",
       "    </tr>\n",
       "    <tr>\n",
       "      <th>1289</th>\n",
       "      <td>10</td>\n",
       "      <td>exercise, brain, physical, cognitive, physical...</td>\n",
       "      <td>10</td>\n",
       "      <td>2011-12-27 04:48:00.000</td>\n",
       "      <td>10_exercise_brain_physical_cognitive</td>\n",
       "      <td>2011</td>\n",
       "      <td>[physical activity]</td>\n",
       "      <td>exercise brain physical cognition</td>\n",
       "    </tr>\n",
       "    <tr>\n",
       "      <th>1282</th>\n",
       "      <td>3</td>\n",
       "      <td>senescent, senescent cells, cells, senescence,...</td>\n",
       "      <td>9</td>\n",
       "      <td>2011-12-27 04:48:00.000</td>\n",
       "      <td>3_senescent_senescent cells_senescence_c...</td>\n",
       "      <td>2011</td>\n",
       "      <td>[senescent cells]</td>\n",
       "      <td>senescence c</td>\n",
       "    </tr>\n",
       "    <tr>\n",
       "      <th>1288</th>\n",
       "      <td>9</td>\n",
       "      <td>sens, foundation, sens foundation, academic in...</td>\n",
       "      <td>9</td>\n",
       "      <td>2011-12-27 04:48:00.000</td>\n",
       "      <td>9_sens_foundation_sens research_sens res...</td>\n",
       "      <td>2011</td>\n",
       "      <td>[sens foundation, academic initiative]</td>\n",
       "      <td>Sentence 1: res</td>\n",
       "    </tr>\n",
       "    <tr>\n",
       "      <th>1313</th>\n",
       "      <td>38</td>\n",
       "      <td>nerve, spinal, axons, spinal cord, cord</td>\n",
       "      <td>9</td>\n",
       "      <td>2011-12-27 04:48:00.000</td>\n",
       "      <td>38_nerve_spinal_spinal cord_cord</td>\n",
       "      <td>2011</td>\n",
       "      <td>[spinal cord]</td>\n",
       "      <td>spinal cord cord category</td>\n",
       "    </tr>\n",
       "    <tr>\n",
       "      <th>1339</th>\n",
       "      <td>74</td>\n",
       "      <td>vessels, blood vessels, blood, vecs, vessel</td>\n",
       "      <td>8</td>\n",
       "      <td>2011-12-27 04:48:00.000</td>\n",
       "      <td>74_vessels_blood vessels_blood_vessel</td>\n",
       "      <td>2011</td>\n",
       "      <td>[blood vessels]</td>\n",
       "      <td>vessels blood vessels</td>\n",
       "    </tr>\n",
       "    <tr>\n",
       "      <th>1394</th>\n",
       "      <td>151</td>\n",
       "      <td>russian, party, science, political party, long...</td>\n",
       "      <td>8</td>\n",
       "      <td>2011-12-27 04:48:00.000</td>\n",
       "      <td>151_russian_science_party_science life e...</td>\n",
       "      <td>2011</td>\n",
       "      <td>[political party]</td>\n",
       "      <td>russian science party science life</td>\n",
       "    </tr>\n",
       "    <tr>\n",
       "      <th>1322</th>\n",
       "      <td>49</td>\n",
       "      <td>life expectancy, expectancy, life, pharmaceuti...</td>\n",
       "      <td>7</td>\n",
       "      <td>2011-12-27 04:48:00.000</td>\n",
       "      <td>49_life expectancy_expectancy_life_morta...</td>\n",
       "      <td>2011</td>\n",
       "      <td>[life expectancy, pharmaceutical innovation]</td>\n",
       "      <td>Life expectancy expectancy life death</td>\n",
       "    </tr>\n",
       "    <tr>\n",
       "      <th>1346</th>\n",
       "      <td>85</td>\n",
       "      <td>brain, human brain, uploading, mind, allen</td>\n",
       "      <td>7</td>\n",
       "      <td>2011-12-27 04:48:00.000</td>\n",
       "      <td>85_brain_mind_uploading_human brain</td>\n",
       "      <td>2011</td>\n",
       "      <td>[human brain]</td>\n",
       "      <td>brain mind uploading brain</td>\n",
       "    </tr>\n",
       "    <tr>\n",
       "      <th>1284</th>\n",
       "      <td>5</td>\n",
       "      <td>stem, stem cells, vsels, cells, pluripotent</td>\n",
       "      <td>6</td>\n",
       "      <td>2011-12-27 04:48:00.000</td>\n",
       "      <td>5_stem_stem cells_cells_embryonic</td>\n",
       "      <td>2011</td>\n",
       "      <td>[stem cells]</td>\n",
       "      <td>embryonic stem cell cell</td>\n",
       "    </tr>\n",
       "    <tr>\n",
       "      <th>1304</th>\n",
       "      <td>26</td>\n",
       "      <td>physical, physical activity, activity, life ex...</td>\n",
       "      <td>6</td>\n",
       "      <td>2011-12-27 04:48:00.000</td>\n",
       "      <td>26_physical_physical activity_exercise_a...</td>\n",
       "      <td>2011</td>\n",
       "      <td>[physical activity, life expectancy]</td>\n",
       "      <td>physical activity a</td>\n",
       "    </tr>\n",
       "    <tr>\n",
       "      <th>1305</th>\n",
       "      <td>28</td>\n",
       "      <td>cancer stem, cancer stem cells, cancer, stem c...</td>\n",
       "      <td>6</td>\n",
       "      <td>2011-12-27 04:48:00.000</td>\n",
       "      <td>28_cancer stem_cancer stem cells_cancer_...</td>\n",
       "      <td>2011</td>\n",
       "      <td>[cancer stem, cancer stem cells, stem cells]</td>\n",
       "      <td>cancer stem cancer stem cells cancer</td>\n",
       "    </tr>\n",
       "    <tr>\n",
       "      <th>1452</th>\n",
       "      <td>0</td>\n",
       "      <td>mitochondrial, mitochondria, mtdna, mitochondr...</td>\n",
       "      <td>60</td>\n",
       "      <td>2013-02-17 02:24:00.000</td>\n",
       "      <td>0_mitochondrial_mitochondria_mtdna_mitoc...</td>\n",
       "      <td>2013</td>\n",
       "      <td>[mitochondrial dna]</td>\n",
       "      <td>mitochondrial mitochondria mtdna</td>\n",
       "    </tr>\n",
       "    <tr>\n",
       "      <th>1461</th>\n",
       "      <td>9</td>\n",
       "      <td>sens, foundation, sens research, research foun...</td>\n",
       "      <td>21</td>\n",
       "      <td>2013-02-17 02:24:00.000</td>\n",
       "      <td>9_sens_foundation_sens research_sens res...</td>\n",
       "      <td>2013</td>\n",
       "      <td>[sens research, research foundation, sens rese...</td>\n",
       "      <td>Sentence 1: res</td>\n",
       "    </tr>\n",
       "    <tr>\n",
       "      <th>1454</th>\n",
       "      <td>2</td>\n",
       "      <td>aging, programmed aging, programmed, damage, r...</td>\n",
       "      <td>17</td>\n",
       "      <td>2013-02-17 02:24:00.000</td>\n",
       "      <td>2_aging_damage_research_slow</td>\n",
       "      <td>2013</td>\n",
       "      <td>[programmed aging]</td>\n",
       "      <td>aging damage research slows</td>\n",
       "    </tr>\n",
       "    <tr>\n",
       "      <th>1456</th>\n",
       "      <td>4</td>\n",
       "      <td>telomere, telomeres, telomere length, telomera...</td>\n",
       "      <td>15</td>\n",
       "      <td>2013-02-17 02:24:00.000</td>\n",
       "      <td>4_telomere_telomeres_telomerase_length</td>\n",
       "      <td>2013</td>\n",
       "      <td>[telomere length]</td>\n",
       "      <td>telomerase length</td>\n",
       "    </tr>\n",
       "    <tr>\n",
       "      <th>1476</th>\n",
       "      <td>25</td>\n",
       "      <td>ages, glucosepane, glycation, advanced glycati...</td>\n",
       "      <td>11</td>\n",
       "      <td>2013-02-17 02:24:00.000</td>\n",
       "      <td>25_ages_glucosepane_glycation_rage</td>\n",
       "      <td>2013</td>\n",
       "      <td>[advanced glycation]</td>\n",
       "      <td>glucose pane glycation rage</td>\n",
       "    </tr>\n",
       "    <tr>\n",
       "      <th>1468</th>\n",
       "      <td>17</td>\n",
       "      <td>fat, overweight, bmi, weight, fat tissue</td>\n",
       "      <td>9</td>\n",
       "      <td>2013-02-17 02:24:00.000</td>\n",
       "      <td>17_fat_weight_overweight_bmi</td>\n",
       "      <td>2013</td>\n",
       "      <td>[fat tissue]</td>\n",
       "      <td>Weight-loss category</td>\n",
       "    </tr>\n",
       "    <tr>\n",
       "      <th>1457</th>\n",
       "      <td>5</td>\n",
       "      <td>stem, stem cells, cells, pluripotent, cell</td>\n",
       "      <td>8</td>\n",
       "      <td>2013-02-17 02:24:00.000</td>\n",
       "      <td>5_stem_stem cells_cells_embryonic</td>\n",
       "      <td>2013</td>\n",
       "      <td>[stem cells]</td>\n",
       "      <td>embryonic stem cell cell</td>\n",
       "    </tr>\n",
       "    <tr>\n",
       "      <th>1480</th>\n",
       "      <td>29</td>\n",
       "      <td>stem, stem cell, stem cells, cell, cells</td>\n",
       "      <td>8</td>\n",
       "      <td>2013-02-17 02:24:00.000</td>\n",
       "      <td>29_stem_stem cells_stem cell_cell</td>\n",
       "      <td>2013</td>\n",
       "      <td>[stem cell, stem cells]</td>\n",
       "      <td>stem cell cell category</td>\n",
       "    </tr>\n",
       "    <tr>\n",
       "      <th>1489</th>\n",
       "      <td>38</td>\n",
       "      <td>nerve, spinal, spinal cord, cord, axons</td>\n",
       "      <td>8</td>\n",
       "      <td>2013-02-17 02:24:00.000</td>\n",
       "      <td>38_nerve_spinal_spinal cord_cord</td>\n",
       "      <td>2013</td>\n",
       "      <td>[spinal cord]</td>\n",
       "      <td>spinal cord cord category</td>\n",
       "    </tr>\n",
       "    <tr>\n",
       "      <th>1460</th>\n",
       "      <td>8</td>\n",
       "      <td>grey, aubrey, aubrey grey, sens, research</td>\n",
       "      <td>7</td>\n",
       "      <td>2013-02-17 02:24:00.000</td>\n",
       "      <td>8_grey_aubrey_aubrey grey_sens</td>\n",
       "      <td>2013</td>\n",
       "      <td>[aubrey grey]</td>\n",
       "      <td>grey aubrey grey sens</td>\n",
       "    </tr>\n",
       "    <tr>\n",
       "      <th>1475</th>\n",
       "      <td>24</td>\n",
       "      <td>sirt, sirtuins, sirtuin, restriction, calorie ...</td>\n",
       "      <td>7</td>\n",
       "      <td>2013-02-17 02:24:00.000</td>\n",
       "      <td>24_sirt_sirtuins_sirtuin_sir</td>\n",
       "      <td>2013</td>\n",
       "      <td>[calorie restriction]</td>\n",
       "      <td>sirt sirtuins</td>\n",
       "    </tr>\n",
       "    <tr>\n",
       "      <th>1477</th>\n",
       "      <td>26</td>\n",
       "      <td>exercise, physical, physical activity, activit...</td>\n",
       "      <td>7</td>\n",
       "      <td>2013-02-17 02:24:00.000</td>\n",
       "      <td>26_physical_physical activity_exercise_a...</td>\n",
       "      <td>2013</td>\n",
       "      <td>[physical activity]</td>\n",
       "      <td>physical activity a</td>\n",
       "    </tr>\n",
       "    <tr>\n",
       "      <th>1527</th>\n",
       "      <td>85</td>\n",
       "      <td>uploading, continuity, mind, brain, mind uploa...</td>\n",
       "      <td>7</td>\n",
       "      <td>2013-02-17 02:24:00.000</td>\n",
       "      <td>85_brain_mind_uploading_human brain</td>\n",
       "      <td>2013</td>\n",
       "      <td>[mind uploading]</td>\n",
       "      <td>brain mind uploading brain</td>\n",
       "    </tr>\n",
       "    <tr>\n",
       "      <th>1455</th>\n",
       "      <td>3</td>\n",
       "      <td>senescent, senescence, senescent cells, cells,...</td>\n",
       "      <td>6</td>\n",
       "      <td>2013-02-17 02:24:00.000</td>\n",
       "      <td>3_senescent_senescent cells_senescence_c...</td>\n",
       "      <td>2013</td>\n",
       "      <td>[senescent cells, cellular senescence]</td>\n",
       "      <td>senescence c</td>\n",
       "    </tr>\n",
       "    <tr>\n",
       "      <th>1505</th>\n",
       "      <td>58</td>\n",
       "      <td>cmv, immune, cytomegalovirus, memory cells, in...</td>\n",
       "      <td>6</td>\n",
       "      <td>2013-02-17 02:24:00.000</td>\n",
       "      <td>58_cmv_cytomegalovirus_immune_infection</td>\n",
       "      <td>2013</td>\n",
       "      <td>[memory cells]</td>\n",
       "      <td>cytomegalovirus infection</td>\n",
       "    </tr>\n",
       "    <tr>\n",
       "      <th>1630</th>\n",
       "      <td>0</td>\n",
       "      <td>mitochondrial, mitochondria, mtdna, mitochondr...</td>\n",
       "      <td>38</td>\n",
       "      <td>2014-04-11 00:00:00.000</td>\n",
       "      <td>0_mitochondrial_mitochondria_mtdna_mitoc...</td>\n",
       "      <td>2014</td>\n",
       "      <td>[mitochondrial dna]</td>\n",
       "      <td>mitochondrial mitochondria mtdna</td>\n",
       "    </tr>\n",
       "    <tr>\n",
       "      <th>1639</th>\n",
       "      <td>9</td>\n",
       "      <td>sens, sens research, foundation, sens research...</td>\n",
       "      <td>22</td>\n",
       "      <td>2014-04-11 00:00:00.000</td>\n",
       "      <td>9_sens_foundation_sens research_sens res...</td>\n",
       "      <td>2014</td>\n",
       "      <td>[sens research, sens research foundation, rese...</td>\n",
       "      <td>Sentence 1: res</td>\n",
       "    </tr>\n",
       "    <tr>\n",
       "      <th>1634</th>\n",
       "      <td>4</td>\n",
       "      <td>telomere, telomeres, telomerase, length, telom...</td>\n",
       "      <td>15</td>\n",
       "      <td>2014-04-11 00:00:00.000</td>\n",
       "      <td>4_telomere_telomeres_telomerase_length</td>\n",
       "      <td>2014</td>\n",
       "      <td>[telomere length]</td>\n",
       "      <td>telomerase length</td>\n",
       "    </tr>\n",
       "    <tr>\n",
       "      <th>1654</th>\n",
       "      <td>25</td>\n",
       "      <td>ages, glycation, rage, glucosepane, advanced g...</td>\n",
       "      <td>12</td>\n",
       "      <td>2014-04-11 00:00:00.000</td>\n",
       "      <td>25_ages_glucosepane_glycation_rage</td>\n",
       "      <td>2014</td>\n",
       "      <td>[advanced glycation]</td>\n",
       "      <td>glucose pane glycation rage</td>\n",
       "    </tr>\n",
       "    <tr>\n",
       "      <th>1633</th>\n",
       "      <td>3</td>\n",
       "      <td>senescent, senescent cells, senescence, cells,...</td>\n",
       "      <td>10</td>\n",
       "      <td>2014-04-11 00:00:00.000</td>\n",
       "      <td>3_senescent_senescent cells_senescence_c...</td>\n",
       "      <td>2014</td>\n",
       "      <td>[senescent cells, cellular senescence]</td>\n",
       "      <td>senescence c</td>\n",
       "    </tr>\n",
       "    <tr>\n",
       "      <th>1635</th>\n",
       "      <td>5</td>\n",
       "      <td>stem, stem cells, cells, pluripotent, vsels</td>\n",
       "      <td>9</td>\n",
       "      <td>2014-04-11 00:00:00.000</td>\n",
       "      <td>5_stem_stem cells_cells_embryonic</td>\n",
       "      <td>2014</td>\n",
       "      <td>[stem cells]</td>\n",
       "      <td>embryonic stem cell cell</td>\n",
       "    </tr>\n",
       "    <tr>\n",
       "      <th>1657</th>\n",
       "      <td>29</td>\n",
       "      <td>stem, stem cells, stem cell, cell, cells</td>\n",
       "      <td>9</td>\n",
       "      <td>2014-04-11 00:00:00.000</td>\n",
       "      <td>29_stem_stem cells_stem cell_cell</td>\n",
       "      <td>2014</td>\n",
       "      <td>[stem cells, stem cell]</td>\n",
       "      <td>stem cell cell category</td>\n",
       "    </tr>\n",
       "    <tr>\n",
       "      <th>1739</th>\n",
       "      <td>133</td>\n",
       "      <td>heat, heat shock, shock, hsp, shock proteins</td>\n",
       "      <td>8</td>\n",
       "      <td>2014-04-11 00:00:00.000</td>\n",
       "      <td>133_heat_shock_heat shock_hsp</td>\n",
       "      <td>2014</td>\n",
       "      <td>[heat shock, shock proteins]</td>\n",
       "      <td>heat shock hsp</td>\n",
       "    </tr>\n",
       "    <tr>\n",
       "      <th>1638</th>\n",
       "      <td>8</td>\n",
       "      <td>grey, aubrey, aubrey grey, sens, research</td>\n",
       "      <td>7</td>\n",
       "      <td>2014-04-11 00:00:00.000</td>\n",
       "      <td>8_grey_aubrey_aubrey grey_sens</td>\n",
       "      <td>2014</td>\n",
       "      <td>[aubrey grey]</td>\n",
       "      <td>grey aubrey grey sens</td>\n",
       "    </tr>\n",
       "    <tr>\n",
       "      <th>1655</th>\n",
       "      <td>26</td>\n",
       "      <td>exercise, moderate, physical, activity, physic...</td>\n",
       "      <td>7</td>\n",
       "      <td>2014-04-11 00:00:00.000</td>\n",
       "      <td>26_physical_physical activity_exercise_a...</td>\n",
       "      <td>2014</td>\n",
       "      <td>[physical activity]</td>\n",
       "      <td>physical activity a</td>\n",
       "    </tr>\n",
       "    <tr>\n",
       "      <th>1658</th>\n",
       "      <td>30</td>\n",
       "      <td>amyloid, alzheimers, alzheimers disease, disea...</td>\n",
       "      <td>7</td>\n",
       "      <td>2014-04-11 00:00:00.000</td>\n",
       "      <td>30_amyloid_alzheimers_alzheimers disease...</td>\n",
       "      <td>2014</td>\n",
       "      <td>[alzheimers disease]</td>\n",
       "      <td>Amyloid alzheimers disease</td>\n",
       "    </tr>\n",
       "    <tr>\n",
       "      <th>1644</th>\n",
       "      <td>15</td>\n",
       "      <td>epigenetic, methylation, dna methylation, age,...</td>\n",
       "      <td>6</td>\n",
       "      <td>2014-04-11 00:00:00.000</td>\n",
       "      <td>15_epigenetic_clocks_methylation_clock</td>\n",
       "      <td>2014</td>\n",
       "      <td>[dna methylation]</td>\n",
       "      <td>Epigenetic clocks</td>\n",
       "    </tr>\n",
       "    <tr>\n",
       "      <th>1646</th>\n",
       "      <td>17</td>\n",
       "      <td>weight, fat, overweight, weight loss, bmi</td>\n",
       "      <td>6</td>\n",
       "      <td>2014-04-11 00:00:00.000</td>\n",
       "      <td>17_fat_weight_overweight_bmi</td>\n",
       "      <td>2014</td>\n",
       "      <td>[weight loss]</td>\n",
       "      <td>Weight-loss category</td>\n",
       "    </tr>\n",
       "    <tr>\n",
       "      <th>1666</th>\n",
       "      <td>38</td>\n",
       "      <td>nerve, axons, spinal, cord, spinal cord</td>\n",
       "      <td>6</td>\n",
       "      <td>2014-04-11 00:00:00.000</td>\n",
       "      <td>38_nerve_spinal_spinal cord_cord</td>\n",
       "      <td>2014</td>\n",
       "      <td>[spinal cord]</td>\n",
       "      <td>spinal cord cord category</td>\n",
       "    </tr>\n",
       "    <tr>\n",
       "      <th>1675</th>\n",
       "      <td>48</td>\n",
       "      <td>cartilage, cartilage cells, tissue, cartilage ...</td>\n",
       "      <td>6</td>\n",
       "      <td>2014-04-11 00:00:00.000</td>\n",
       "      <td>48_cartilage_tissue_cartilage tissue_joi...</td>\n",
       "      <td>2014</td>\n",
       "      <td>[cartilage cells, cartilage tissue]</td>\n",
       "      <td>cartilage tissue vs. joi</td>\n",
       "    </tr>\n",
       "    <tr>\n",
       "      <th>1811</th>\n",
       "      <td>0</td>\n",
       "      <td>mitochondrial, mitochondria, ros, mtdna, mitoc...</td>\n",
       "      <td>41</td>\n",
       "      <td>2015-06-02 21:36:00.000</td>\n",
       "      <td>0_mitochondrial_mitochondria_mtdna_mitoc...</td>\n",
       "      <td>2015</td>\n",
       "      <td>[mitochondrial dna]</td>\n",
       "      <td>mitochondrial mitochondria mtdna</td>\n",
       "    </tr>\n",
       "    <tr>\n",
       "      <th>1819</th>\n",
       "      <td>9</td>\n",
       "      <td>sens, sens research, foundation, sens research...</td>\n",
       "      <td>21</td>\n",
       "      <td>2015-06-02 21:36:00.000</td>\n",
       "      <td>9_sens_foundation_sens research_sens res...</td>\n",
       "      <td>2015</td>\n",
       "      <td>[sens research, sens research foundation, rese...</td>\n",
       "      <td>Sentence 1: res</td>\n",
       "    </tr>\n",
       "    <tr>\n",
       "      <th>1815</th>\n",
       "      <td>4</td>\n",
       "      <td>telomere, telomeres, telomerase, length, telom...</td>\n",
       "      <td>13</td>\n",
       "      <td>2015-06-02 21:36:00.000</td>\n",
       "      <td>4_telomere_telomeres_telomerase_length</td>\n",
       "      <td>2015</td>\n",
       "      <td>[telomere length]</td>\n",
       "      <td>telomerase length</td>\n",
       "    </tr>\n",
       "    <tr>\n",
       "      <th>1834</th>\n",
       "      <td>25</td>\n",
       "      <td>glucosepane, ages, glycation, advanced glycati...</td>\n",
       "      <td>10</td>\n",
       "      <td>2015-06-02 21:36:00.000</td>\n",
       "      <td>25_ages_glucosepane_glycation_rage</td>\n",
       "      <td>2015</td>\n",
       "      <td>[advanced glycation]</td>\n",
       "      <td>glucose pane glycation rage</td>\n",
       "    </tr>\n",
       "    <tr>\n",
       "      <th>1848</th>\n",
       "      <td>40</td>\n",
       "      <td>sea, species, urchins, sea urchins, hydra</td>\n",
       "      <td>10</td>\n",
       "      <td>2015-06-02 21:36:00.000</td>\n",
       "      <td>40_species_sea_hydra_animals</td>\n",
       "      <td>2015</td>\n",
       "      <td>[sea urchins]</td>\n",
       "      <td>species sea hydra animals</td>\n",
       "    </tr>\n",
       "    <tr>\n",
       "      <th>1814</th>\n",
       "      <td>3</td>\n",
       "      <td>senescent, senescent cells, cells, sasp, senes...</td>\n",
       "      <td>9</td>\n",
       "      <td>2015-06-02 21:36:00.000</td>\n",
       "      <td>3_senescent_senescent cells_senescence_c...</td>\n",
       "      <td>2015</td>\n",
       "      <td>[senescent cells]</td>\n",
       "      <td>senescence c</td>\n",
       "    </tr>\n",
       "    <tr>\n",
       "      <th>1830</th>\n",
       "      <td>21</td>\n",
       "      <td>dna, dna damage, damage, nuclear dna, mutations</td>\n",
       "      <td>9</td>\n",
       "      <td>2015-06-02 21:36:00.000</td>\n",
       "      <td>21_dna_dna damage_mutations_damage</td>\n",
       "      <td>2015</td>\n",
       "      <td>[dna damage, nuclear dna]</td>\n",
       "      <td>dna damage mutations</td>\n",
       "    </tr>\n",
       "    <tr>\n",
       "      <th>1863</th>\n",
       "      <td>58</td>\n",
       "      <td>cmv, cytomegalovirus, immune, infection, cmv i...</td>\n",
       "      <td>8</td>\n",
       "      <td>2015-06-02 21:36:00.000</td>\n",
       "      <td>58_cmv_cytomegalovirus_immune_infection</td>\n",
       "      <td>2015</td>\n",
       "      <td>[cmv infection]</td>\n",
       "      <td>cytomegalovirus infection</td>\n",
       "    </tr>\n",
       "    <tr>\n",
       "      <th>1877</th>\n",
       "      <td>78</td>\n",
       "      <td>aging disease, disease, aging, classification,...</td>\n",
       "      <td>8</td>\n",
       "      <td>2015-06-02 21:36:00.000</td>\n",
       "      <td>78_aging disease_aging_disease_icd</td>\n",
       "      <td>2015</td>\n",
       "      <td>[aging disease]</td>\n",
       "      <td>aging disease icd</td>\n",
       "    </tr>\n",
       "    <tr>\n",
       "      <th>1892</th>\n",
       "      <td>95</td>\n",
       "      <td>testing, major mouse, testing program, major m...</td>\n",
       "      <td>8</td>\n",
       "      <td>2015-06-02 21:36:00.000</td>\n",
       "      <td>95_mouse_testing_interventions_testing p...</td>\n",
       "      <td>2015</td>\n",
       "      <td>[major mouse, testing program, major mouse tes...</td>\n",
       "      <td>mouse testing p</td>\n",
       "    </tr>\n",
       "    <tr>\n",
       "      <th>1835</th>\n",
       "      <td>26</td>\n",
       "      <td>exercise, physical, physical activity, activit...</td>\n",
       "      <td>7</td>\n",
       "      <td>2015-06-02 21:36:00.000</td>\n",
       "      <td>26_physical_physical activity_exercise_a...</td>\n",
       "      <td>2015</td>\n",
       "      <td>[physical activity]</td>\n",
       "      <td>physical activity a</td>\n",
       "    </tr>\n",
       "    <tr>\n",
       "      <th>1821</th>\n",
       "      <td>11</td>\n",
       "      <td>heart, stem, stem cells, cells, heart muscle</td>\n",
       "      <td>6</td>\n",
       "      <td>2015-06-02 21:36:00.000</td>\n",
       "      <td>11_heart_stem_stem cells_cells</td>\n",
       "      <td>2015</td>\n",
       "      <td>[stem cells, heart muscle]</td>\n",
       "      <td>heart stem stem cells cells</td>\n",
       "    </tr>\n",
       "    <tr>\n",
       "      <th>1838</th>\n",
       "      <td>29</td>\n",
       "      <td>stem, stem cells, stem cell, cell, klotho</td>\n",
       "      <td>6</td>\n",
       "      <td>2015-06-02 21:36:00.000</td>\n",
       "      <td>29_stem_stem cells_stem cell_cell</td>\n",
       "      <td>2015</td>\n",
       "      <td>[stem cells, stem cell]</td>\n",
       "      <td>stem cell cell category</td>\n",
       "    </tr>\n",
       "    <tr>\n",
       "      <th>1922</th>\n",
       "      <td>131</td>\n",
       "      <td>ttr, amyloidosis, amyloid, transthyretin, syst...</td>\n",
       "      <td>6</td>\n",
       "      <td>2015-06-02 21:36:00.000</td>\n",
       "      <td>131_ttr_amyloidosis_transthyretin_amyloi...</td>\n",
       "      <td>2015</td>\n",
       "      <td>[systemic amyloidosis]</td>\n",
       "      <td>Amyloidosis transthyretin amyloi</td>\n",
       "    </tr>\n",
       "    <tr>\n",
       "      <th>1823</th>\n",
       "      <td>14</td>\n",
       "      <td>muscle, sarcopenia, skeletal, skeletal muscle,...</td>\n",
       "      <td>5</td>\n",
       "      <td>2015-06-02 21:36:00.000</td>\n",
       "      <td>14_muscle_sarcopenia_muscle mass_mass</td>\n",
       "      <td>2015</td>\n",
       "      <td>[skeletal muscle, muscle mass]</td>\n",
       "      <td>sarcopenia</td>\n",
       "    </tr>\n",
       "    <tr>\n",
       "      <th>1995</th>\n",
       "      <td>0</td>\n",
       "      <td>mitochondrial, mitochondria, mtdna, dna, mitoc...</td>\n",
       "      <td>39</td>\n",
       "      <td>2016-07-24 19:12:00.000</td>\n",
       "      <td>0_mitochondrial_mitochondria_mtdna_mitoc...</td>\n",
       "      <td>2016</td>\n",
       "      <td>[mitochondrial dna]</td>\n",
       "      <td>mitochondrial mitochondria mtdna</td>\n",
       "    </tr>\n",
       "    <tr>\n",
       "      <th>1998</th>\n",
       "      <td>3</td>\n",
       "      <td>senescent, senescent cells, senescence, cells,...</td>\n",
       "      <td>32</td>\n",
       "      <td>2016-07-24 19:12:00.000</td>\n",
       "      <td>3_senescent_senescent cells_senescence_c...</td>\n",
       "      <td>2016</td>\n",
       "      <td>[senescent cells]</td>\n",
       "      <td>senescence c</td>\n",
       "    </tr>\n",
       "    <tr>\n",
       "      <th>2004</th>\n",
       "      <td>9</td>\n",
       "      <td>sens, foundation, sens research, sens research...</td>\n",
       "      <td>16</td>\n",
       "      <td>2016-07-24 19:12:00.000</td>\n",
       "      <td>9_sens_foundation_sens research_sens res...</td>\n",
       "      <td>2016</td>\n",
       "      <td>[sens research, sens research foundation, rese...</td>\n",
       "      <td>Sentence 1: res</td>\n",
       "    </tr>\n",
       "    <tr>\n",
       "      <th>2035</th>\n",
       "      <td>43</td>\n",
       "      <td>fibrosis, lung, pulmonary, senescent, pulmonar...</td>\n",
       "      <td>13</td>\n",
       "      <td>2016-07-24 19:12:00.000</td>\n",
       "      <td>43_fibrosis_lung_pulmonary_ipf</td>\n",
       "      <td>2016</td>\n",
       "      <td>[pulmonary fibrosis]</td>\n",
       "      <td>fibrosis pulmonary ipf</td>\n",
       "    </tr>\n",
       "    <tr>\n",
       "      <th>2013</th>\n",
       "      <td>19</td>\n",
       "      <td>immune, immunosenescence, cells, memory cells,...</td>\n",
       "      <td>11</td>\n",
       "      <td>2016-07-24 19:12:00.000</td>\n",
       "      <td>19_immune_immunosenescence_cells_immunit...</td>\n",
       "      <td>2016</td>\n",
       "      <td>[memory cells]</td>\n",
       "      <td>Immunosenescence cells</td>\n",
       "    </tr>\n",
       "    <tr>\n",
       "      <th>2001</th>\n",
       "      <td>6</td>\n",
       "      <td>cholesterol, ldl, atherosclerosis, ldl cholest...</td>\n",
       "      <td>10</td>\n",
       "      <td>2016-07-24 19:12:00.000</td>\n",
       "      <td>6_cholesterol_atherosclerosis_plaque_ldl</td>\n",
       "      <td>2016</td>\n",
       "      <td>[ldl cholesterol]</td>\n",
       "      <td>cholesterol atherosclerosis plaque</td>\n",
       "    </tr>\n",
       "    <tr>\n",
       "      <th>2009</th>\n",
       "      <td>15</td>\n",
       "      <td>methylation, epigenetic, dna methylation, cloc...</td>\n",
       "      <td>10</td>\n",
       "      <td>2016-07-24 19:12:00.000</td>\n",
       "      <td>15_epigenetic_clocks_methylation_clock</td>\n",
       "      <td>2016</td>\n",
       "      <td>[dna methylation]</td>\n",
       "      <td>Epigenetic clocks</td>\n",
       "    </tr>\n",
       "    <tr>\n",
       "      <th>2132</th>\n",
       "      <td>174</td>\n",
       "      <td>cellage, senescent, oisin, senescent cells, unity</td>\n",
       "      <td>10</td>\n",
       "      <td>2016-07-24 19:12:00.000</td>\n",
       "      <td>174_senescent_senescent cells_oisin_cell...</td>\n",
       "      <td>2016</td>\n",
       "      <td>[senescent cells]</td>\n",
       "      <td>oisin cell senescence</td>\n",
       "    </tr>\n",
       "    <tr>\n",
       "      <th>1999</th>\n",
       "      <td>4</td>\n",
       "      <td>telomere, telomeres, length, telomere length, ...</td>\n",
       "      <td>9</td>\n",
       "      <td>2016-07-24 19:12:00.000</td>\n",
       "      <td>4_telomere_telomeres_telomerase_length</td>\n",
       "      <td>2016</td>\n",
       "      <td>[telomere length]</td>\n",
       "      <td>telomerase length</td>\n",
       "    </tr>\n",
       "    <tr>\n",
       "      <th>2008</th>\n",
       "      <td>14</td>\n",
       "      <td>sarcopenia, muscle, muscle mass, mass, strength</td>\n",
       "      <td>9</td>\n",
       "      <td>2016-07-24 19:12:00.000</td>\n",
       "      <td>14_muscle_sarcopenia_muscle mass_mass</td>\n",
       "      <td>2016</td>\n",
       "      <td>[muscle mass]</td>\n",
       "      <td>sarcopenia</td>\n",
       "    </tr>\n",
       "    <tr>\n",
       "      <th>2072</th>\n",
       "      <td>91</td>\n",
       "      <td>young, blood, young blood, parabiosis, old</td>\n",
       "      <td>7</td>\n",
       "      <td>2016-07-24 19:12:00.000</td>\n",
       "      <td>91_young_parabiosis_blood_young blood</td>\n",
       "      <td>2016</td>\n",
       "      <td>[young blood]</td>\n",
       "      <td>parabiosis blood</td>\n",
       "    </tr>\n",
       "    <tr>\n",
       "      <th>2016</th>\n",
       "      <td>22</td>\n",
       "      <td>bone, osteoporosis, bone formation, osteoclast...</td>\n",
       "      <td>6</td>\n",
       "      <td>2016-07-24 19:12:00.000</td>\n",
       "      <td>22_bone_osteoporosis_osteoblasts_osteocl...</td>\n",
       "      <td>2016</td>\n",
       "      <td>[bone formation]</td>\n",
       "      <td>Osteoblasts osteocl</td>\n",
       "    </tr>\n",
       "    <tr>\n",
       "      <th>2022</th>\n",
       "      <td>30</td>\n",
       "      <td>amyloid, alzheimers, bace, alzheimers disease,...</td>\n",
       "      <td>6</td>\n",
       "      <td>2016-07-24 19:12:00.000</td>\n",
       "      <td>30_amyloid_alzheimers_alzheimers disease...</td>\n",
       "      <td>2016</td>\n",
       "      <td>[alzheimers disease]</td>\n",
       "      <td>Amyloid alzheimers disease</td>\n",
       "    </tr>\n",
       "    <tr>\n",
       "      <th>2028</th>\n",
       "      <td>36</td>\n",
       "      <td>biological, biomarkers, biological age, age, b...</td>\n",
       "      <td>6</td>\n",
       "      <td>2016-07-24 19:12:00.000</td>\n",
       "      <td>36_biological age_biological_age_biomark...</td>\n",
       "      <td>2016</td>\n",
       "      <td>[biological age]</td>\n",
       "      <td>biological age biomark</td>\n",
       "    </tr>\n",
       "    <tr>\n",
       "      <th>2033</th>\n",
       "      <td>41</td>\n",
       "      <td>alzheimers, alzheimers disease, neuregulin, di...</td>\n",
       "      <td>6</td>\n",
       "      <td>2016-07-24 19:12:00.000</td>\n",
       "      <td>41_alzheimers_alzheimers disease_brain_d...</td>\n",
       "      <td>2016</td>\n",
       "      <td>[alzheimers disease]</td>\n",
       "      <td>alzheimers disease brain d</td>\n",
       "    </tr>\n",
       "    <tr>\n",
       "      <th>2187</th>\n",
       "      <td>0</td>\n",
       "      <td>mitochondrial, mitochondria, mtdna, dna, mitoc...</td>\n",
       "      <td>41</td>\n",
       "      <td>2017-09-15 16:48:00.000</td>\n",
       "      <td>0_mitochondrial_mitochondria_mtdna_mitoc...</td>\n",
       "      <td>2017</td>\n",
       "      <td>[mitochondrial dna]</td>\n",
       "      <td>mitochondrial mitochondria mtdna</td>\n",
       "    </tr>\n",
       "    <tr>\n",
       "      <th>2190</th>\n",
       "      <td>3</td>\n",
       "      <td>senescent, senescent cells, senescence, cells,...</td>\n",
       "      <td>21</td>\n",
       "      <td>2017-09-15 16:48:00.000</td>\n",
       "      <td>3_senescent_senescent cells_senescence_c...</td>\n",
       "      <td>2017</td>\n",
       "      <td>[senescent cells]</td>\n",
       "      <td>senescence c</td>\n",
       "    </tr>\n",
       "    <tr>\n",
       "      <th>2195</th>\n",
       "      <td>9</td>\n",
       "      <td>sens, foundation, sens research, sens research...</td>\n",
       "      <td>16</td>\n",
       "      <td>2017-09-15 16:48:00.000</td>\n",
       "      <td>9_sens_foundation_sens research_sens res...</td>\n",
       "      <td>2017</td>\n",
       "      <td>[sens research, sens research foundation, rese...</td>\n",
       "      <td>Sentence 1: res</td>\n",
       "    </tr>\n",
       "    <tr>\n",
       "      <th>2191</th>\n",
       "      <td>4</td>\n",
       "      <td>telomerase, telomere, telomeres, telomere leng...</td>\n",
       "      <td>12</td>\n",
       "      <td>2017-09-15 16:48:00.000</td>\n",
       "      <td>4_telomere_telomeres_telomerase_length</td>\n",
       "      <td>2017</td>\n",
       "      <td>[telomere length]</td>\n",
       "      <td>telomerase length</td>\n",
       "    </tr>\n",
       "    <tr>\n",
       "      <th>2211</th>\n",
       "      <td>26</td>\n",
       "      <td>physical, physical activity, exercise, activit...</td>\n",
       "      <td>11</td>\n",
       "      <td>2017-09-15 16:48:00.000</td>\n",
       "      <td>26_physical_physical activity_exercise_a...</td>\n",
       "      <td>2017</td>\n",
       "      <td>[physical activity]</td>\n",
       "      <td>physical activity a</td>\n",
       "    </tr>\n",
       "    <tr>\n",
       "      <th>2224</th>\n",
       "      <td>39</td>\n",
       "      <td>senolytic, senescent, senescent cells, quercet...</td>\n",
       "      <td>11</td>\n",
       "      <td>2017-09-15 16:48:00.000</td>\n",
       "      <td>39_senolytic_senescent_senescent cells_q...</td>\n",
       "      <td>2017</td>\n",
       "      <td>[senescent cells]</td>\n",
       "      <td>Senolytic senescent cells q</td>\n",
       "    </tr>\n",
       "    <tr>\n",
       "      <th>2237</th>\n",
       "      <td>55</td>\n",
       "      <td>exosomes, vesicles, evs, extracellular vesicle...</td>\n",
       "      <td>11</td>\n",
       "      <td>2017-09-15 16:48:00.000</td>\n",
       "      <td>55_vesicles_exosomes_evs_extracellular v...</td>\n",
       "      <td>2017</td>\n",
       "      <td>[extracellular vesicles]</td>\n",
       "      <td>vesicles exosomes</td>\n",
       "    </tr>\n",
       "    <tr>\n",
       "      <th>2252</th>\n",
       "      <td>73</td>\n",
       "      <td>fluid, drainage, cerebrospinal, cerebrospinal ...</td>\n",
       "      <td>11</td>\n",
       "      <td>2017-09-15 16:48:00.000</td>\n",
       "      <td>73_fluid_drainage_cerebrospinal_cerebros...</td>\n",
       "      <td>2017</td>\n",
       "      <td>[cerebrospinal fluid]</td>\n",
       "      <td>Fluid drainage cerebrospinal cerebro</td>\n",
       "    </tr>\n",
       "    <tr>\n",
       "      <th>2228</th>\n",
       "      <td>43</td>\n",
       "      <td>fibrosis, lung, pulmonary, pulmonary fibrosis,...</td>\n",
       "      <td>9</td>\n",
       "      <td>2017-09-15 16:48:00.000</td>\n",
       "      <td>43_fibrosis_lung_pulmonary_ipf</td>\n",
       "      <td>2017</td>\n",
       "      <td>[pulmonary fibrosis]</td>\n",
       "      <td>fibrosis pulmonary ipf</td>\n",
       "    </tr>\n",
       "    <tr>\n",
       "      <th>2229</th>\n",
       "      <td>44</td>\n",
       "      <td>tau, alzheimers, amyloid, alzheimers disease, ...</td>\n",
       "      <td>9</td>\n",
       "      <td>2017-09-15 16:48:00.000</td>\n",
       "      <td>44_tau_alzheimers_amyloid_tangles</td>\n",
       "      <td>2017</td>\n",
       "      <td>[alzheimers disease]</td>\n",
       "      <td>tau alzheimer tangles</td>\n",
       "    </tr>\n",
       "    <tr>\n",
       "      <th>2193</th>\n",
       "      <td>7</td>\n",
       "      <td>gut, microbiota, microbiome, gut microbiota, b...</td>\n",
       "      <td>8</td>\n",
       "      <td>2017-09-15 16:48:00.000</td>\n",
       "      <td>7_gut_microbiome_microbiota_gut microbio...</td>\n",
       "      <td>2017</td>\n",
       "      <td>[gut microbiota]</td>\n",
       "      <td>microbiota gut microbio</td>\n",
       "    </tr>\n",
       "    <tr>\n",
       "      <th>2199</th>\n",
       "      <td>14</td>\n",
       "      <td>muscle, sarcopenia, muscle mass, mass, strength</td>\n",
       "      <td>8</td>\n",
       "      <td>2017-09-15 16:48:00.000</td>\n",
       "      <td>14_muscle_sarcopenia_muscle mass_mass</td>\n",
       "      <td>2017</td>\n",
       "      <td>[muscle mass]</td>\n",
       "      <td>sarcopenia</td>\n",
       "    </tr>\n",
       "    <tr>\n",
       "      <th>2206</th>\n",
       "      <td>21</td>\n",
       "      <td>dna, mutations, dna damage, somatic, damage</td>\n",
       "      <td>8</td>\n",
       "      <td>2017-09-15 16:48:00.000</td>\n",
       "      <td>21_dna_dna damage_mutations_damage</td>\n",
       "      <td>2017</td>\n",
       "      <td>[dna damage]</td>\n",
       "      <td>dna damage mutations</td>\n",
       "    </tr>\n",
       "    <tr>\n",
       "      <th>2215</th>\n",
       "      <td>30</td>\n",
       "      <td>amyloid, alzheimers, alzheimers disease, bace,...</td>\n",
       "      <td>8</td>\n",
       "      <td>2017-09-15 16:48:00.000</td>\n",
       "      <td>30_amyloid_alzheimers_alzheimers disease...</td>\n",
       "      <td>2017</td>\n",
       "      <td>[alzheimers disease]</td>\n",
       "      <td>Amyloid alzheimers disease</td>\n",
       "    </tr>\n",
       "    <tr>\n",
       "      <th>2239</th>\n",
       "      <td>57</td>\n",
       "      <td>neurogenesis, neurons, new neurons, adult, brain</td>\n",
       "      <td>8</td>\n",
       "      <td>2017-09-15 16:48:00.000</td>\n",
       "      <td>57_neurogenesis_neurons_new neurons_adul...</td>\n",
       "      <td>2017</td>\n",
       "      <td>[new neurons]</td>\n",
       "      <td>neurogenesis neurons new neurons</td>\n",
       "    </tr>\n",
       "    <tr>\n",
       "      <th>2369</th>\n",
       "      <td>0</td>\n",
       "      <td>mitochondrial, mitochondria, mtdna, oxidative,...</td>\n",
       "      <td>38</td>\n",
       "      <td>2018-11-07 14:24:00.000</td>\n",
       "      <td>0_mitochondrial_mitochondria_mtdna_mitoc...</td>\n",
       "      <td>2018</td>\n",
       "      <td>[mitochondrial dna]</td>\n",
       "      <td>mitochondrial mitochondria mtdna</td>\n",
       "    </tr>\n",
       "    <tr>\n",
       "      <th>2372</th>\n",
       "      <td>3</td>\n",
       "      <td>senescent, senescent cells, senescence, cells,...</td>\n",
       "      <td>35</td>\n",
       "      <td>2018-11-07 14:24:00.000</td>\n",
       "      <td>3_senescent_senescent cells_senescence_c...</td>\n",
       "      <td>2018</td>\n",
       "      <td>[senescent cells]</td>\n",
       "      <td>senescence c</td>\n",
       "    </tr>\n",
       "    <tr>\n",
       "      <th>2376</th>\n",
       "      <td>7</td>\n",
       "      <td>gut, microbiome, microbiota, gut microbiome, m...</td>\n",
       "      <td>15</td>\n",
       "      <td>2018-11-07 14:24:00.000</td>\n",
       "      <td>7_gut_microbiome_microbiota_gut microbio...</td>\n",
       "      <td>2018</td>\n",
       "      <td>[gut microbiome]</td>\n",
       "      <td>microbiota gut microbio</td>\n",
       "    </tr>\n",
       "    <tr>\n",
       "      <th>2382</th>\n",
       "      <td>14</td>\n",
       "      <td>muscle, sarcopenia, strength, muscle mass, mass</td>\n",
       "      <td>13</td>\n",
       "      <td>2018-11-07 14:24:00.000</td>\n",
       "      <td>14_muscle_sarcopenia_muscle mass_mass</td>\n",
       "      <td>2018</td>\n",
       "      <td>[muscle mass]</td>\n",
       "      <td>sarcopenia</td>\n",
       "    </tr>\n",
       "    <tr>\n",
       "      <th>2373</th>\n",
       "      <td>4</td>\n",
       "      <td>telomere, telomeres, telomerase, length, telom...</td>\n",
       "      <td>12</td>\n",
       "      <td>2018-11-07 14:24:00.000</td>\n",
       "      <td>4_telomere_telomeres_telomerase_length</td>\n",
       "      <td>2018</td>\n",
       "      <td>[telomere length]</td>\n",
       "      <td>telomerase length</td>\n",
       "    </tr>\n",
       "    <tr>\n",
       "      <th>2406</th>\n",
       "      <td>42</td>\n",
       "      <td>parkinsons, parkinsons disease, alphasynuclein...</td>\n",
       "      <td>12</td>\n",
       "      <td>2018-11-07 14:24:00.000</td>\n",
       "      <td>42_parkinsons_parkinsons disease_synucle...</td>\n",
       "      <td>2018</td>\n",
       "      <td>[parkinsons disease]</td>\n",
       "      <td>parkinsons disease synucle</td>\n",
       "    </tr>\n",
       "    <tr>\n",
       "      <th>2416</th>\n",
       "      <td>57</td>\n",
       "      <td>neurogenesis, neurons, new neurons, adult, brain</td>\n",
       "      <td>12</td>\n",
       "      <td>2018-11-07 14:24:00.000</td>\n",
       "      <td>57_neurogenesis_neurons_new neurons_adul...</td>\n",
       "      <td>2018</td>\n",
       "      <td>[new neurons]</td>\n",
       "      <td>neurogenesis neurons new neurons</td>\n",
       "    </tr>\n",
       "    <tr>\n",
       "      <th>2472</th>\n",
       "      <td>138</td>\n",
       "      <td>tau, microglia, amyloid, alzheimers, alzheimer...</td>\n",
       "      <td>12</td>\n",
       "      <td>2018-11-07 14:24:00.000</td>\n",
       "      <td>138_tau_amyloid_microglia_alzheimers</td>\n",
       "      <td>2018</td>\n",
       "      <td>[alzheimers disease]</td>\n",
       "      <td>Amyloid microglia alzheimers</td>\n",
       "    </tr>\n",
       "    <tr>\n",
       "      <th>2378</th>\n",
       "      <td>9</td>\n",
       "      <td>foundation, sens, sens research, sens research...</td>\n",
       "      <td>9</td>\n",
       "      <td>2018-11-07 14:24:00.000</td>\n",
       "      <td>9_sens_foundation_sens research_sens res...</td>\n",
       "      <td>2018</td>\n",
       "      <td>[sens research, sens research foundation, rese...</td>\n",
       "      <td>Sentence 1: res</td>\n",
       "    </tr>\n",
       "    <tr>\n",
       "      <th>2397</th>\n",
       "      <td>30</td>\n",
       "      <td>amyloid, alzheimers, alzheimers disease, disea...</td>\n",
       "      <td>9</td>\n",
       "      <td>2018-11-07 14:24:00.000</td>\n",
       "      <td>30_amyloid_alzheimers_alzheimers disease...</td>\n",
       "      <td>2018</td>\n",
       "      <td>[alzheimers disease]</td>\n",
       "      <td>Amyloid alzheimers disease</td>\n",
       "    </tr>\n",
       "    <tr>\n",
       "      <th>2414</th>\n",
       "      <td>55</td>\n",
       "      <td>exosomes, vesicles, evs, extracellular vesicle...</td>\n",
       "      <td>9</td>\n",
       "      <td>2018-11-07 14:24:00.000</td>\n",
       "      <td>55_vesicles_exosomes_evs_extracellular v...</td>\n",
       "      <td>2018</td>\n",
       "      <td>[extracellular vesicles]</td>\n",
       "      <td>vesicles exosomes</td>\n",
       "    </tr>\n",
       "    <tr>\n",
       "      <th>2389</th>\n",
       "      <td>21</td>\n",
       "      <td>dna, dna damage, mutations, damage, somatic</td>\n",
       "      <td>8</td>\n",
       "      <td>2018-11-07 14:24:00.000</td>\n",
       "      <td>21_dna_dna damage_mutations_damage</td>\n",
       "      <td>2018</td>\n",
       "      <td>[dna damage]</td>\n",
       "      <td>dna damage mutations</td>\n",
       "    </tr>\n",
       "    <tr>\n",
       "      <th>2426</th>\n",
       "      <td>72</td>\n",
       "      <td>nad, nicotinamide, nmn, nad levels, nampt</td>\n",
       "      <td>8</td>\n",
       "      <td>2018-11-07 14:24:00.000</td>\n",
       "      <td>72_nad_nmn_nicotinamide_nad levels</td>\n",
       "      <td>2018</td>\n",
       "      <td>[nad levels]</td>\n",
       "      <td>nicotinamide nad levels</td>\n",
       "    </tr>\n",
       "    <tr>\n",
       "      <th>2383</th>\n",
       "      <td>15</td>\n",
       "      <td>epigenetic, methylation, clocks, dna methylati...</td>\n",
       "      <td>7</td>\n",
       "      <td>2018-11-07 14:24:00.000</td>\n",
       "      <td>15_epigenetic_clocks_methylation_clock</td>\n",
       "      <td>2018</td>\n",
       "      <td>[dna methylation, epigenetic clocks]</td>\n",
       "      <td>Epigenetic clocks</td>\n",
       "    </tr>\n",
       "    <tr>\n",
       "      <th>2394</th>\n",
       "      <td>26</td>\n",
       "      <td>exercise, physical, physical activity, risk, a...</td>\n",
       "      <td>7</td>\n",
       "      <td>2018-11-07 14:24:00.000</td>\n",
       "      <td>26_physical_physical activity_exercise_a...</td>\n",
       "      <td>2018</td>\n",
       "      <td>[physical activity]</td>\n",
       "      <td>physical activity a</td>\n",
       "    </tr>\n",
       "    <tr>\n",
       "      <th>2537</th>\n",
       "      <td>0</td>\n",
       "      <td>mitochondrial, mitochondria, mitophagy, mtdna,...</td>\n",
       "      <td>54</td>\n",
       "      <td>2019-12-30 12:00:00.000</td>\n",
       "      <td>0_mitochondrial_mitochondria_mtdna_mitoc...</td>\n",
       "      <td>2019</td>\n",
       "      <td>[mitochondrial dna]</td>\n",
       "      <td>mitochondrial mitochondria mtdna</td>\n",
       "    </tr>\n",
       "    <tr>\n",
       "      <th>2539</th>\n",
       "      <td>3</td>\n",
       "      <td>senescent, senescent cells, senescence, sasp, ...</td>\n",
       "      <td>37</td>\n",
       "      <td>2019-12-30 12:00:00.000</td>\n",
       "      <td>3_senescent_senescent cells_senescence_c...</td>\n",
       "      <td>2019</td>\n",
       "      <td>[senescent cells]</td>\n",
       "      <td>senescence c</td>\n",
       "    </tr>\n",
       "    <tr>\n",
       "      <th>2546</th>\n",
       "      <td>12</td>\n",
       "      <td>industry, longevity industry, longevity, compa...</td>\n",
       "      <td>22</td>\n",
       "      <td>2019-12-30 12:00:00.000</td>\n",
       "      <td>12_industry_companies_company_longevity</td>\n",
       "      <td>2019</td>\n",
       "      <td>[longevity industry]</td>\n",
       "      <td>industry companies company longevity</td>\n",
       "    </tr>\n",
       "    <tr>\n",
       "      <th>2542</th>\n",
       "      <td>7</td>\n",
       "      <td>gut, microbiome, microbiota, gut microbiome, g...</td>\n",
       "      <td>20</td>\n",
       "      <td>2019-12-30 12:00:00.000</td>\n",
       "      <td>7_gut_microbiome_microbiota_gut microbio...</td>\n",
       "      <td>2019</td>\n",
       "      <td>[gut microbiome, gut microbiota]</td>\n",
       "      <td>microbiota gut microbio</td>\n",
       "    </tr>\n",
       "    <tr>\n",
       "      <th>2592</th>\n",
       "      <td>72</td>\n",
       "      <td>nad, nicotinamide, nmn, nad levels, levels</td>\n",
       "      <td>13</td>\n",
       "      <td>2019-12-30 12:00:00.000</td>\n",
       "      <td>72_nad_nmn_nicotinamide_nad levels</td>\n",
       "      <td>2019</td>\n",
       "      <td>[nad levels]</td>\n",
       "      <td>nicotinamide nad levels</td>\n",
       "    </tr>\n",
       "    <tr>\n",
       "      <th>2569</th>\n",
       "      <td>39</td>\n",
       "      <td>senolytic, senescent, senescent cells, senolyt...</td>\n",
       "      <td>12</td>\n",
       "      <td>2019-12-30 12:00:00.000</td>\n",
       "      <td>39_senolytic_senescent_senescent cells_q...</td>\n",
       "      <td>2019</td>\n",
       "      <td>[senescent cells]</td>\n",
       "      <td>Senolytic senescent cells q</td>\n",
       "    </tr>\n",
       "    <tr>\n",
       "      <th>2553</th>\n",
       "      <td>20</td>\n",
       "      <td>inflammation, chronic, chronic inflammation, i...</td>\n",
       "      <td>10</td>\n",
       "      <td>2019-12-30 12:00:00.000</td>\n",
       "      <td>20_inflammation_inflammatory_chronic_chr...</td>\n",
       "      <td>2019</td>\n",
       "      <td>[chronic inflammation]</td>\n",
       "      <td>inflammatory chronic chr</td>\n",
       "    </tr>\n",
       "    <tr>\n",
       "      <th>2579</th>\n",
       "      <td>52</td>\n",
       "      <td>hscs, hematopoietic, hematopoietic stem, bone ...</td>\n",
       "      <td>10</td>\n",
       "      <td>2019-12-30 12:00:00.000</td>\n",
       "      <td>52_hscs_hematopoietic_hematopoietic stem...</td>\n",
       "      <td>2019</td>\n",
       "      <td>[hematopoietic stem, bone marrow]</td>\n",
       "      <td>hscs hematopoietic stem</td>\n",
       "    </tr>\n",
       "    <tr>\n",
       "      <th>2544</th>\n",
       "      <td>10</td>\n",
       "      <td>exercise, physical, physical activity, cogniti...</td>\n",
       "      <td>9</td>\n",
       "      <td>2019-12-30 12:00:00.000</td>\n",
       "      <td>10_exercise_brain_physical_cognitive</td>\n",
       "      <td>2019</td>\n",
       "      <td>[physical activity]</td>\n",
       "      <td>exercise brain physical cognition</td>\n",
       "    </tr>\n",
       "    <tr>\n",
       "      <th>2559</th>\n",
       "      <td>26</td>\n",
       "      <td>physical activity, physical, activity, exercis...</td>\n",
       "      <td>9</td>\n",
       "      <td>2019-12-30 12:00:00.000</td>\n",
       "      <td>26_physical_physical activity_exercise_a...</td>\n",
       "      <td>2019</td>\n",
       "      <td>[physical activity]</td>\n",
       "      <td>physical activity a</td>\n",
       "    </tr>\n",
       "    <tr>\n",
       "      <th>2581</th>\n",
       "      <td>55</td>\n",
       "      <td>exosomes, vesicles, extracellular vesicles, ev...</td>\n",
       "      <td>9</td>\n",
       "      <td>2019-12-30 12:00:00.000</td>\n",
       "      <td>55_vesicles_exosomes_evs_extracellular v...</td>\n",
       "      <td>2019</td>\n",
       "      <td>[extracellular vesicles]</td>\n",
       "      <td>vesicles exosomes</td>\n",
       "    </tr>\n",
       "    <tr>\n",
       "      <th>2547</th>\n",
       "      <td>14</td>\n",
       "      <td>muscle, sarcopenia, muscle mass, strength, ske...</td>\n",
       "      <td>7</td>\n",
       "      <td>2019-12-30 12:00:00.000</td>\n",
       "      <td>14_muscle_sarcopenia_muscle mass_mass</td>\n",
       "      <td>2019</td>\n",
       "      <td>[muscle mass]</td>\n",
       "      <td>sarcopenia</td>\n",
       "    </tr>\n",
       "    <tr>\n",
       "      <th>2551</th>\n",
       "      <td>18</td>\n",
       "      <td>variants, genetic, longevity, longlived, genet...</td>\n",
       "      <td>7</td>\n",
       "      <td>2019-12-30 12:00:00.000</td>\n",
       "      <td>18_genetic_variants_longevity_genes</td>\n",
       "      <td>2019</td>\n",
       "      <td>[genetic variants]</td>\n",
       "      <td>Genetic variants of longevity</td>\n",
       "    </tr>\n",
       "    <tr>\n",
       "      <th>2567</th>\n",
       "      <td>37</td>\n",
       "      <td>thymus, thymic, involution, sex steroid, steroid</td>\n",
       "      <td>7</td>\n",
       "      <td>2019-12-30 12:00:00.000</td>\n",
       "      <td>37_thymus_thymic_immune_involution</td>\n",
       "      <td>2019</td>\n",
       "      <td>[sex steroid]</td>\n",
       "      <td>thymus immune involution</td>\n",
       "    </tr>\n",
       "    <tr>\n",
       "      <th>2588</th>\n",
       "      <td>66</td>\n",
       "      <td>amd, retinal, degeneration, macular, macular d...</td>\n",
       "      <td>7</td>\n",
       "      <td>2019-12-30 12:00:00.000</td>\n",
       "      <td>66_amd_macular_macular degeneration_dege...</td>\n",
       "      <td>2019</td>\n",
       "      <td>[macular degeneration]</td>\n",
       "      <td>macular degeneration dege</td>\n",
       "    </tr>\n",
       "    <tr>\n",
       "      <th>2699</th>\n",
       "      <td>0</td>\n",
       "      <td>mitochondrial, mitochondria, mitophagy, mitoch...</td>\n",
       "      <td>45</td>\n",
       "      <td>2021-02-20 09:36:00.000</td>\n",
       "      <td>0_mitochondrial_mitochondria_mtdna_mitoc...</td>\n",
       "      <td>2021</td>\n",
       "      <td>[mitochondrial function, mitochondrial dna]</td>\n",
       "      <td>mitochondrial mitochondria mtdna</td>\n",
       "    </tr>\n",
       "    <tr>\n",
       "      <th>2706</th>\n",
       "      <td>7</td>\n",
       "      <td>gut, microbiome, gut microbiome, microbiota, m...</td>\n",
       "      <td>25</td>\n",
       "      <td>2021-02-20 09:36:00.000</td>\n",
       "      <td>7_gut_microbiome_microbiota_gut microbio...</td>\n",
       "      <td>2021</td>\n",
       "      <td>[gut microbiome]</td>\n",
       "      <td>microbiota gut microbio</td>\n",
       "    </tr>\n",
       "    <tr>\n",
       "      <th>2702</th>\n",
       "      <td>3</td>\n",
       "      <td>senescent, senescent cells, senescence, cells,...</td>\n",
       "      <td>22</td>\n",
       "      <td>2021-02-20 09:36:00.000</td>\n",
       "      <td>3_senescent_senescent cells_senescence_c...</td>\n",
       "      <td>2021</td>\n",
       "      <td>[senescent cells]</td>\n",
       "      <td>senescence c</td>\n",
       "    </tr>\n",
       "    <tr>\n",
       "      <th>2729</th>\n",
       "      <td>33</td>\n",
       "      <td>reprogramming, partial reprogramming, partial,...</td>\n",
       "      <td>19</td>\n",
       "      <td>2021-02-20 09:36:00.000</td>\n",
       "      <td>33_reprogramming_partial_partial reprogr...</td>\n",
       "      <td>2021</td>\n",
       "      <td>[partial reprogramming, yamanaka factors]</td>\n",
       "      <td>reprogramming partial partial reprogr</td>\n",
       "    </tr>\n",
       "    <tr>\n",
       "      <th>2735</th>\n",
       "      <td>39</td>\n",
       "      <td>senolytic, fisetin, senescent, senescent cells...</td>\n",
       "      <td>16</td>\n",
       "      <td>2021-02-20 09:36:00.000</td>\n",
       "      <td>39_senolytic_senescent_senescent cells_q...</td>\n",
       "      <td>2021</td>\n",
       "      <td>[senescent cells]</td>\n",
       "      <td>Senolytic senescent cells q</td>\n",
       "    </tr>\n",
       "    <tr>\n",
       "      <th>2710</th>\n",
       "      <td>12</td>\n",
       "      <td>longevity, companies, industry, longevity indu...</td>\n",
       "      <td>13</td>\n",
       "      <td>2021-02-20 09:36:00.000</td>\n",
       "      <td>12_industry_companies_company_longevity</td>\n",
       "      <td>2021</td>\n",
       "      <td>[longevity industry]</td>\n",
       "      <td>industry companies company longevity</td>\n",
       "    </tr>\n",
       "    <tr>\n",
       "      <th>2712</th>\n",
       "      <td>15</td>\n",
       "      <td>epigenetic, clocks, methylation, epigenetic cl...</td>\n",
       "      <td>11</td>\n",
       "      <td>2021-02-20 09:36:00.000</td>\n",
       "      <td>15_epigenetic_clocks_methylation_clock</td>\n",
       "      <td>2021</td>\n",
       "      <td>[epigenetic clocks]</td>\n",
       "      <td>Epigenetic clocks</td>\n",
       "    </tr>\n",
       "    <tr>\n",
       "      <th>2722</th>\n",
       "      <td>26</td>\n",
       "      <td>physical, physical activity, activity, mortali...</td>\n",
       "      <td>10</td>\n",
       "      <td>2021-02-20 09:36:00.000</td>\n",
       "      <td>26_physical_physical activity_exercise_a...</td>\n",
       "      <td>2021</td>\n",
       "      <td>[physical activity]</td>\n",
       "      <td>physical activity a</td>\n",
       "    </tr>\n",
       "    <tr>\n",
       "      <th>2744</th>\n",
       "      <td>55</td>\n",
       "      <td>vesicles, exosomes, evs, extracellular vesicle...</td>\n",
       "      <td>9</td>\n",
       "      <td>2021-02-20 09:36:00.000</td>\n",
       "      <td>55_vesicles_exosomes_evs_extracellular v...</td>\n",
       "      <td>2021</td>\n",
       "      <td>[extracellular vesicles]</td>\n",
       "      <td>vesicles exosomes</td>\n",
       "    </tr>\n",
       "    <tr>\n",
       "      <th>2716</th>\n",
       "      <td>19</td>\n",
       "      <td>immune, cdcd, cdcd ratio, immunosenescence, ratio</td>\n",
       "      <td>8</td>\n",
       "      <td>2021-02-20 09:36:00.000</td>\n",
       "      <td>19_immune_immunosenescence_cells_immunit...</td>\n",
       "      <td>2021</td>\n",
       "      <td>[cdcd ratio]</td>\n",
       "      <td>Immunosenescence cells</td>\n",
       "    </tr>\n",
       "    <tr>\n",
       "      <th>2717</th>\n",
       "      <td>20</td>\n",
       "      <td>inflammation, inflammatory, chronic, chronic i...</td>\n",
       "      <td>8</td>\n",
       "      <td>2021-02-20 09:36:00.000</td>\n",
       "      <td>20_inflammation_inflammatory_chronic_chr...</td>\n",
       "      <td>2021</td>\n",
       "      <td>[chronic inflammation]</td>\n",
       "      <td>inflammatory chronic chr</td>\n",
       "    </tr>\n",
       "    <tr>\n",
       "      <th>2732</th>\n",
       "      <td>36</td>\n",
       "      <td>biomarkers, biological, biological age, age, vocs</td>\n",
       "      <td>8</td>\n",
       "      <td>2021-02-20 09:36:00.000</td>\n",
       "      <td>36_biological age_biological_age_biomark...</td>\n",
       "      <td>2021</td>\n",
       "      <td>[biological age]</td>\n",
       "      <td>biological age biomark</td>\n",
       "    </tr>\n",
       "    <tr>\n",
       "      <th>2758</th>\n",
       "      <td>72</td>\n",
       "      <td>nad, nicotinamide, nmn, nad levels, supplement...</td>\n",
       "      <td>8</td>\n",
       "      <td>2021-02-20 09:36:00.000</td>\n",
       "      <td>72_nad_nmn_nicotinamide_nad levels</td>\n",
       "      <td>2021</td>\n",
       "      <td>[nad levels]</td>\n",
       "      <td>nicotinamide nad levels</td>\n",
       "    </tr>\n",
       "    <tr>\n",
       "      <th>2711</th>\n",
       "      <td>14</td>\n",
       "      <td>sarcopenia, muscle, muscle mass, mass, tongue</td>\n",
       "      <td>7</td>\n",
       "      <td>2021-02-20 09:36:00.000</td>\n",
       "      <td>14_muscle_sarcopenia_muscle mass_mass</td>\n",
       "      <td>2021</td>\n",
       "      <td>[muscle mass]</td>\n",
       "      <td>sarcopenia</td>\n",
       "    </tr>\n",
       "    <tr>\n",
       "      <th>2801</th>\n",
       "      <td>137</td>\n",
       "      <td>mscs, mesenchymal, bmscs, mesenchymal stem, msc</td>\n",
       "      <td>7</td>\n",
       "      <td>2021-02-20 09:36:00.000</td>\n",
       "      <td>137_mscs_wound_healing_wounds</td>\n",
       "      <td>2021</td>\n",
       "      <td>[mesenchymal stem]</td>\n",
       "      <td>mscs wound healing</td>\n",
       "    </tr>\n",
       "    <tr>\n",
       "      <th>2870</th>\n",
       "      <td>7</td>\n",
       "      <td>gut, microbiota, microbiome, gut microbiome, g...</td>\n",
       "      <td>36</td>\n",
       "      <td>2022-04-14 07:12:00.000</td>\n",
       "      <td>7_gut_microbiome_microbiota_gut microbio...</td>\n",
       "      <td>2022</td>\n",
       "      <td>[gut microbiome, gut microbiota]</td>\n",
       "      <td>microbiota gut microbio</td>\n",
       "    </tr>\n",
       "    <tr>\n",
       "      <th>2866</th>\n",
       "      <td>3</td>\n",
       "      <td>senescent, senescent cells, sasp, senescence, ...</td>\n",
       "      <td>20</td>\n",
       "      <td>2022-04-14 07:12:00.000</td>\n",
       "      <td>3_senescent_senescent cells_senescence_c...</td>\n",
       "      <td>2022</td>\n",
       "      <td>[senescent cells]</td>\n",
       "      <td>senescence c</td>\n",
       "    </tr>\n",
       "    <tr>\n",
       "      <th>2877</th>\n",
       "      <td>15</td>\n",
       "      <td>epigenetic, clocks, epigenetic clocks, methyla...</td>\n",
       "      <td>16</td>\n",
       "      <td>2022-04-14 07:12:00.000</td>\n",
       "      <td>15_epigenetic_clocks_methylation_clock</td>\n",
       "      <td>2022</td>\n",
       "      <td>[epigenetic clocks]</td>\n",
       "      <td>Epigenetic clocks</td>\n",
       "    </tr>\n",
       "    <tr>\n",
       "      <th>2882</th>\n",
       "      <td>20</td>\n",
       "      <td>inflammation, inflammatory, chronic, inflammag...</td>\n",
       "      <td>16</td>\n",
       "      <td>2022-04-14 07:12:00.000</td>\n",
       "      <td>20_inflammation_inflammatory_chronic_chr...</td>\n",
       "      <td>2022</td>\n",
       "      <td>[chronic inflammation]</td>\n",
       "      <td>inflammatory chronic chr</td>\n",
       "    </tr>\n",
       "    <tr>\n",
       "      <th>2893</th>\n",
       "      <td>33</td>\n",
       "      <td>reprogramming, partial, partial reprogramming,...</td>\n",
       "      <td>15</td>\n",
       "      <td>2022-04-14 07:12:00.000</td>\n",
       "      <td>33_reprogramming_partial_partial reprogr...</td>\n",
       "      <td>2022</td>\n",
       "      <td>[partial reprogramming, yamanaka factors]</td>\n",
       "      <td>reprogramming partial partial reprogr</td>\n",
       "    </tr>\n",
       "    <tr>\n",
       "      <th>2873</th>\n",
       "      <td>10</td>\n",
       "      <td>exercise, bdnf, physical, physical activity, b...</td>\n",
       "      <td>13</td>\n",
       "      <td>2022-04-14 07:12:00.000</td>\n",
       "      <td>10_exercise_brain_physical_cognitive</td>\n",
       "      <td>2022</td>\n",
       "      <td>[physical activity]</td>\n",
       "      <td>exercise brain physical cognition</td>\n",
       "    </tr>\n",
       "    <tr>\n",
       "      <th>2902</th>\n",
       "      <td>43</td>\n",
       "      <td>fibrosis, lung, ipf, pulmonary, pulmonary fibr...</td>\n",
       "      <td>13</td>\n",
       "      <td>2022-04-14 07:12:00.000</td>\n",
       "      <td>43_fibrosis_lung_pulmonary_ipf</td>\n",
       "      <td>2022</td>\n",
       "      <td>[pulmonary fibrosis]</td>\n",
       "      <td>fibrosis pulmonary ipf</td>\n",
       "    </tr>\n",
       "    <tr>\n",
       "      <th>2883</th>\n",
       "      <td>21</td>\n",
       "      <td>dna, somatic, dna damage, mutations, damage</td>\n",
       "      <td>10</td>\n",
       "      <td>2022-04-14 07:12:00.000</td>\n",
       "      <td>21_dna_dna damage_mutations_damage</td>\n",
       "      <td>2022</td>\n",
       "      <td>[dna damage]</td>\n",
       "      <td>dna damage mutations</td>\n",
       "    </tr>\n",
       "    <tr>\n",
       "      <th>2898</th>\n",
       "      <td>39</td>\n",
       "      <td>senolytic, senescent cells, senescent, dasatin...</td>\n",
       "      <td>10</td>\n",
       "      <td>2022-04-14 07:12:00.000</td>\n",
       "      <td>39_senolytic_senescent_senescent cells_q...</td>\n",
       "      <td>2022</td>\n",
       "      <td>[senescent cells]</td>\n",
       "      <td>Senolytic senescent cells q</td>\n",
       "    </tr>\n",
       "    <tr>\n",
       "      <th>2888</th>\n",
       "      <td>26</td>\n",
       "      <td>physical, exercise, physical activity, activit...</td>\n",
       "      <td>9</td>\n",
       "      <td>2022-04-14 07:12:00.000</td>\n",
       "      <td>26_physical_physical activity_exercise_a...</td>\n",
       "      <td>2022</td>\n",
       "      <td>[physical activity]</td>\n",
       "      <td>physical activity a</td>\n",
       "    </tr>\n",
       "    <tr>\n",
       "      <th>2890</th>\n",
       "      <td>30</td>\n",
       "      <td>amyloid, alzheimers, alzheimers disease, disea...</td>\n",
       "      <td>9</td>\n",
       "      <td>2022-04-14 07:12:00.000</td>\n",
       "      <td>30_amyloid_alzheimers_alzheimers disease...</td>\n",
       "      <td>2022</td>\n",
       "      <td>[alzheimers disease]</td>\n",
       "      <td>Amyloid alzheimers disease</td>\n",
       "    </tr>\n",
       "    <tr>\n",
       "      <th>2906</th>\n",
       "      <td>52</td>\n",
       "      <td>hematopoietic, hscs, hematopoietic stem, stem,...</td>\n",
       "      <td>9</td>\n",
       "      <td>2022-04-14 07:12:00.000</td>\n",
       "      <td>52_hscs_hematopoietic_hematopoietic stem...</td>\n",
       "      <td>2022</td>\n",
       "      <td>[hematopoietic stem, bone marrow]</td>\n",
       "      <td>hscs hematopoietic stem</td>\n",
       "    </tr>\n",
       "    <tr>\n",
       "      <th>2875</th>\n",
       "      <td>12</td>\n",
       "      <td>industry, longevity, longevity industry, biote...</td>\n",
       "      <td>8</td>\n",
       "      <td>2022-04-14 07:12:00.000</td>\n",
       "      <td>12_industry_companies_company_longevity</td>\n",
       "      <td>2022</td>\n",
       "      <td>[longevity industry]</td>\n",
       "      <td>industry companies company longevity</td>\n",
       "    </tr>\n",
       "    <tr>\n",
       "      <th>2876</th>\n",
       "      <td>14</td>\n",
       "      <td>muscle, sarcopenia, strength, muscle mass, mass</td>\n",
       "      <td>8</td>\n",
       "      <td>2022-04-14 07:12:00.000</td>\n",
       "      <td>14_muscle_sarcopenia_muscle mass_mass</td>\n",
       "      <td>2022</td>\n",
       "      <td>[muscle mass]</td>\n",
       "      <td>sarcopenia</td>\n",
       "    </tr>\n",
       "    <tr>\n",
       "      <th>2896</th>\n",
       "      <td>36</td>\n",
       "      <td>biomarkers, biological, biological age, clocks...</td>\n",
       "      <td>8</td>\n",
       "      <td>2022-04-14 07:12:00.000</td>\n",
       "      <td>36_biological age_biological_age_biomark...</td>\n",
       "      <td>2022</td>\n",
       "      <td>[biological age]</td>\n",
       "      <td>biological age biomark</td>\n",
       "    </tr>\n",
       "    <tr>\n",
       "      <th>3024</th>\n",
       "      <td>0</td>\n",
       "      <td>mitochondrial, mitochondria, mitochondrial fun...</td>\n",
       "      <td>41</td>\n",
       "      <td>2023-06-06 04:48:00.000</td>\n",
       "      <td>0_mitochondrial_mitochondria_mtdna_mitoc...</td>\n",
       "      <td>2023</td>\n",
       "      <td>[mitochondrial function]</td>\n",
       "      <td>mitochondrial mitochondria mtdna</td>\n",
       "    </tr>\n",
       "    <tr>\n",
       "      <th>3031</th>\n",
       "      <td>7</td>\n",
       "      <td>gut, microbiome, gut microbiome, microbiota, g...</td>\n",
       "      <td>27</td>\n",
       "      <td>2023-06-06 04:48:00.000</td>\n",
       "      <td>7_gut_microbiome_microbiota_gut microbio...</td>\n",
       "      <td>2023</td>\n",
       "      <td>[gut microbiome, gut microbiota]</td>\n",
       "      <td>microbiota gut microbio</td>\n",
       "    </tr>\n",
       "    <tr>\n",
       "      <th>3041</th>\n",
       "      <td>20</td>\n",
       "      <td>inflammation, inflammatory, chronic, chronic i...</td>\n",
       "      <td>20</td>\n",
       "      <td>2023-06-06 04:48:00.000</td>\n",
       "      <td>20_inflammation_inflammatory_chronic_chr...</td>\n",
       "      <td>2023</td>\n",
       "      <td>[chronic inflammation]</td>\n",
       "      <td>inflammatory chronic chr</td>\n",
       "    </tr>\n",
       "    <tr>\n",
       "      <th>3027</th>\n",
       "      <td>3</td>\n",
       "      <td>senescent, senescent cells, senescence, sasp, ...</td>\n",
       "      <td>17</td>\n",
       "      <td>2023-06-06 04:48:00.000</td>\n",
       "      <td>3_senescent_senescent cells_senescence_c...</td>\n",
       "      <td>2023</td>\n",
       "      <td>[senescent cells]</td>\n",
       "      <td>senescence c</td>\n",
       "    </tr>\n",
       "    <tr>\n",
       "      <th>3036</th>\n",
       "      <td>15</td>\n",
       "      <td>epigenetic, clocks, methylation, epigenetic cl...</td>\n",
       "      <td>16</td>\n",
       "      <td>2023-06-06 04:48:00.000</td>\n",
       "      <td>15_epigenetic_clocks_methylation_clock</td>\n",
       "      <td>2023</td>\n",
       "      <td>[epigenetic clocks, dna methylation]</td>\n",
       "      <td>Epigenetic clocks</td>\n",
       "    </tr>\n",
       "    <tr>\n",
       "      <th>3035</th>\n",
       "      <td>14</td>\n",
       "      <td>sarcopenia, muscle, muscle mass, strength, mass</td>\n",
       "      <td>14</td>\n",
       "      <td>2023-06-06 04:48:00.000</td>\n",
       "      <td>14_muscle_sarcopenia_muscle mass_mass</td>\n",
       "      <td>2023</td>\n",
       "      <td>[muscle mass]</td>\n",
       "      <td>sarcopenia</td>\n",
       "    </tr>\n",
       "    <tr>\n",
       "      <th>3034</th>\n",
       "      <td>12</td>\n",
       "      <td>industry, company, companies, investors, longe...</td>\n",
       "      <td>12</td>\n",
       "      <td>2023-06-06 04:48:00.000</td>\n",
       "      <td>12_industry_companies_company_longevity</td>\n",
       "      <td>2023</td>\n",
       "      <td>[longevity industry]</td>\n",
       "      <td>industry companies company longevity</td>\n",
       "    </tr>\n",
       "    <tr>\n",
       "      <th>3054</th>\n",
       "      <td>36</td>\n",
       "      <td>biological age, biological, age, biomarkers, c...</td>\n",
       "      <td>12</td>\n",
       "      <td>2023-06-06 04:48:00.000</td>\n",
       "      <td>36_biological age_biological_age_biomark...</td>\n",
       "      <td>2023</td>\n",
       "      <td>[biological age]</td>\n",
       "      <td>biological age biomark</td>\n",
       "    </tr>\n",
       "    <tr>\n",
       "      <th>3057</th>\n",
       "      <td>39</td>\n",
       "      <td>senolytic, dasatinib, quercetin, senescent, se...</td>\n",
       "      <td>12</td>\n",
       "      <td>2023-06-06 04:48:00.000</td>\n",
       "      <td>39_senolytic_senescent_senescent cells_q...</td>\n",
       "      <td>2023</td>\n",
       "      <td>[senescent cells]</td>\n",
       "      <td>Senolytic senescent cells q</td>\n",
       "    </tr>\n",
       "    <tr>\n",
       "      <th>3040</th>\n",
       "      <td>19</td>\n",
       "      <td>immune, immunosenescence, immunity, immune cel...</td>\n",
       "      <td>10</td>\n",
       "      <td>2023-06-06 04:48:00.000</td>\n",
       "      <td>19_immune_immunosenescence_cells_immunit...</td>\n",
       "      <td>2023</td>\n",
       "      <td>[immune cell]</td>\n",
       "      <td>Immunosenescence cells</td>\n",
       "    </tr>\n",
       "    <tr>\n",
       "      <th>3123</th>\n",
       "      <td>149</td>\n",
       "      <td>gut, microbiome, gut microbiome, alzheimers, m...</td>\n",
       "      <td>10</td>\n",
       "      <td>2023-06-06 04:48:00.000</td>\n",
       "      <td>149_gut_microbiome_gut microbiome_alzhei...</td>\n",
       "      <td>2023</td>\n",
       "      <td>[gut microbiome]</td>\n",
       "      <td>Alzhei gut microbiome</td>\n",
       "    </tr>\n",
       "    <tr>\n",
       "      <th>3028</th>\n",
       "      <td>4</td>\n",
       "      <td>telomere, telomerase, telomeres, length, telom...</td>\n",
       "      <td>9</td>\n",
       "      <td>2023-06-06 04:48:00.000</td>\n",
       "      <td>4_telomere_telomeres_telomerase_length</td>\n",
       "      <td>2023</td>\n",
       "      <td>[telomere length]</td>\n",
       "      <td>telomerase length</td>\n",
       "    </tr>\n",
       "    <tr>\n",
       "      <th>3051</th>\n",
       "      <td>33</td>\n",
       "      <td>reprogramming, partial, partial reprogramming,...</td>\n",
       "      <td>9</td>\n",
       "      <td>2023-06-06 04:48:00.000</td>\n",
       "      <td>33_reprogramming_partial_partial reprogr...</td>\n",
       "      <td>2023</td>\n",
       "      <td>[partial reprogramming, yamanaka factors]</td>\n",
       "      <td>reprogramming partial partial reprogr</td>\n",
       "    </tr>\n",
       "    <tr>\n",
       "      <th>3067</th>\n",
       "      <td>55</td>\n",
       "      <td>vesicles, extracellular vesicles, exosomes, ex...</td>\n",
       "      <td>9</td>\n",
       "      <td>2023-06-06 04:48:00.000</td>\n",
       "      <td>55_vesicles_exosomes_evs_extracellular v...</td>\n",
       "      <td>2023</td>\n",
       "      <td>[extracellular vesicles]</td>\n",
       "      <td>vesicles exosomes</td>\n",
       "    </tr>\n",
       "    <tr>\n",
       "      <th>3073</th>\n",
       "      <td>69</td>\n",
       "      <td>klotho, serum klotho, klotho levels, kidney, sii</td>\n",
       "      <td>9</td>\n",
       "      <td>2023-06-06 04:48:00.000</td>\n",
       "      <td>69_klotho_fgf_kidney_klotho gene</td>\n",
       "      <td>2023</td>\n",
       "      <td>[serum klotho, klotho levels]</td>\n",
       "      <td>klotho fgf</td>\n",
       "    </tr>\n",
       "    <tr>\n",
       "      <th>3169</th>\n",
       "      <td>0</td>\n",
       "      <td>mitochondrial, mitochondria, mitochondrial dna...</td>\n",
       "      <td>51</td>\n",
       "      <td>2024-07-28 02:24:00.000</td>\n",
       "      <td>0_mitochondrial_mitochondria_mtdna_mitoc...</td>\n",
       "      <td>2024</td>\n",
       "      <td>[mitochondrial dna, mitochondrial function]</td>\n",
       "      <td>mitochondrial mitochondria mtdna</td>\n",
       "    </tr>\n",
       "    <tr>\n",
       "      <th>3175</th>\n",
       "      <td>7</td>\n",
       "      <td>gut, microbiome, gut microbiome, microbiota, g...</td>\n",
       "      <td>37</td>\n",
       "      <td>2024-07-28 02:24:00.000</td>\n",
       "      <td>7_gut_microbiome_microbiota_gut microbio...</td>\n",
       "      <td>2024</td>\n",
       "      <td>[gut microbiome, gut microbiota]</td>\n",
       "      <td>microbiota gut microbio</td>\n",
       "    </tr>\n",
       "    <tr>\n",
       "      <th>3172</th>\n",
       "      <td>3</td>\n",
       "      <td>senescent, senescent cells, senescence, cells,...</td>\n",
       "      <td>32</td>\n",
       "      <td>2024-07-28 02:24:00.000</td>\n",
       "      <td>3_senescent_senescent cells_senescence_c...</td>\n",
       "      <td>2024</td>\n",
       "      <td>[senescent cells]</td>\n",
       "      <td>senescence c</td>\n",
       "    </tr>\n",
       "    <tr>\n",
       "      <th>3180</th>\n",
       "      <td>15</td>\n",
       "      <td>clocks, epigenetic, methylation, clock, epigen...</td>\n",
       "      <td>21</td>\n",
       "      <td>2024-07-28 02:24:00.000</td>\n",
       "      <td>15_epigenetic_clocks_methylation_clock</td>\n",
       "      <td>2024</td>\n",
       "      <td>[epigenetic clocks]</td>\n",
       "      <td>Epigenetic clocks</td>\n",
       "    </tr>\n",
       "    <tr>\n",
       "      <th>3185</th>\n",
       "      <td>20</td>\n",
       "      <td>inflammation, sting, inflammatory, chronic, ch...</td>\n",
       "      <td>16</td>\n",
       "      <td>2024-07-28 02:24:00.000</td>\n",
       "      <td>20_inflammation_inflammatory_chronic_chr...</td>\n",
       "      <td>2024</td>\n",
       "      <td>[chronic inflammation]</td>\n",
       "      <td>inflammatory chronic chr</td>\n",
       "    </tr>\n",
       "    <tr>\n",
       "      <th>3198</th>\n",
       "      <td>36</td>\n",
       "      <td>biological age, biological, age, clock, clocks</td>\n",
       "      <td>14</td>\n",
       "      <td>2024-07-28 02:24:00.000</td>\n",
       "      <td>36_biological age_biological_age_biomark...</td>\n",
       "      <td>2024</td>\n",
       "      <td>[biological age]</td>\n",
       "      <td>biological age biomark</td>\n",
       "    </tr>\n",
       "    <tr>\n",
       "      <th>3179</th>\n",
       "      <td>14</td>\n",
       "      <td>sarcopenia, muscle, muscle mass, mass, strength</td>\n",
       "      <td>13</td>\n",
       "      <td>2024-07-28 02:24:00.000</td>\n",
       "      <td>14_muscle_sarcopenia_muscle mass_mass</td>\n",
       "      <td>2024</td>\n",
       "      <td>[muscle mass]</td>\n",
       "      <td>sarcopenia</td>\n",
       "    </tr>\n",
       "    <tr>\n",
       "      <th>3204</th>\n",
       "      <td>42</td>\n",
       "      <td>parkinsons, synuclein, parkinsons disease, syn...</td>\n",
       "      <td>12</td>\n",
       "      <td>2024-07-28 02:24:00.000</td>\n",
       "      <td>42_parkinsons_parkinsons disease_synucle...</td>\n",
       "      <td>2024</td>\n",
       "      <td>[parkinsons disease]</td>\n",
       "      <td>parkinsons disease synucle</td>\n",
       "    </tr>\n",
       "    <tr>\n",
       "      <th>3210</th>\n",
       "      <td>52</td>\n",
       "      <td>hematopoietic, hscs, hematopoietic stem, hsc, ...</td>\n",
       "      <td>10</td>\n",
       "      <td>2024-07-28 02:24:00.000</td>\n",
       "      <td>52_hscs_hematopoietic_hematopoietic stem...</td>\n",
       "      <td>2024</td>\n",
       "      <td>[hematopoietic stem, hematopoietic stem cells]</td>\n",
       "      <td>hscs hematopoietic stem</td>\n",
       "    </tr>\n",
       "    <tr>\n",
       "      <th>3259</th>\n",
       "      <td>128</td>\n",
       "      <td>pollution, air, air pollution, particulate, ex...</td>\n",
       "      <td>10</td>\n",
       "      <td>2024-07-28 02:24:00.000</td>\n",
       "      <td>128_pollution_air_air pollution_particul...</td>\n",
       "      <td>2024</td>\n",
       "      <td>[air pollution]</td>\n",
       "      <td>Particulate particules</td>\n",
       "    </tr>\n",
       "    <tr>\n",
       "      <th>3195</th>\n",
       "      <td>33</td>\n",
       "      <td>reprogramming, yamanaka, partial reprogramming...</td>\n",
       "      <td>9</td>\n",
       "      <td>2024-07-28 02:24:00.000</td>\n",
       "      <td>33_reprogramming_partial_partial reprogr...</td>\n",
       "      <td>2024</td>\n",
       "      <td>[partial reprogramming, yamanaka factors]</td>\n",
       "      <td>reprogramming partial partial reprogr</td>\n",
       "    </tr>\n",
       "    <tr>\n",
       "      <th>3184</th>\n",
       "      <td>19</td>\n",
       "      <td>immune, immunosenescence, immune resilience, i...</td>\n",
       "      <td>8</td>\n",
       "      <td>2024-07-28 02:24:00.000</td>\n",
       "      <td>19_immune_immunosenescence_cells_immunit...</td>\n",
       "      <td>2024</td>\n",
       "      <td>[immune resilience, immune aging]</td>\n",
       "      <td>Immunosenescence cells</td>\n",
       "    </tr>\n",
       "    <tr>\n",
       "      <th>3309</th>\n",
       "      <td>229</td>\n",
       "      <td>epigenetic, physical, clocks, physical activit...</td>\n",
       "      <td>8</td>\n",
       "      <td>2024-07-28 02:24:00.000</td>\n",
       "      <td>229_epigenetic_physical_clocks_fitness</td>\n",
       "      <td>2024</td>\n",
       "      <td>[physical activity]</td>\n",
       "      <td>Epigenetic physical clock fitness</td>\n",
       "    </tr>\n",
       "    <tr>\n",
       "      <th>3177</th>\n",
       "      <td>10</td>\n",
       "      <td>bdnf, physical activity, physical, exercise, c...</td>\n",
       "      <td>7</td>\n",
       "      <td>2024-07-28 02:24:00.000</td>\n",
       "      <td>10_exercise_brain_physical_cognitive</td>\n",
       "      <td>2024</td>\n",
       "      <td>[physical activity]</td>\n",
       "      <td>exercise brain physical cognition</td>\n",
       "    </tr>\n",
       "    <tr>\n",
       "      <th>3186</th>\n",
       "      <td>21</td>\n",
       "      <td>dna, dna damage, mutations, somatic, dna repair</td>\n",
       "      <td>7</td>\n",
       "      <td>2024-07-28 02:24:00.000</td>\n",
       "      <td>21_dna_dna damage_mutations_damage</td>\n",
       "      <td>2024</td>\n",
       "      <td>[dna damage, dna repair]</td>\n",
       "      <td>dna damage mutations</td>\n",
       "    </tr>\n",
       "  </tbody>\n",
       "</table>\n",
       "</div>"
      ],
      "text/plain": [
       "      Topic                                              Words  Frequency  \\\n",
       "30       51  cloning, theraputic cloning, theraputic, ban, ...         32   \n",
       "5         5     stem, stem cells, stem cell, adult, adult stem         22   \n",
       "10       13  stem cell research, cell research, stem cell, ...         21   \n",
       "29       50  calorie, calorie restriction, restriction, die...         21   \n",
       "34       60  council, kass, bioethics, council bioethics, p...         17   \n",
       "21       32  antiaging, antiaging medicine, medicine, marke...         16   \n",
       "71      153  european, ban, stem cell research, cell resear...         12   \n",
       "8        11   heart, stem, stem cells, stem cell, heart damage         10   \n",
       "25       41  alzheimers, alzheimers research, article, rese...         10   \n",
       "40       67  life extension, extension, healthy life extens...         10   \n",
       "57      112  longevity meme, meme, link httpwwwlongevitymem...         10   \n",
       "67      132  cancer, cancer research, advocacy funding, art...         10   \n",
       "77      168  prize, methuselah mouse, mouse prize, methusel...         10   \n",
       "88      234  suspended animation, animation, suspended, cry...         10   \n",
       "4         4  telomeres, telomere, telomere aging theories, ...          8   \n",
       "107      13  stem cell research, cell research, stem cell, ...         70   \n",
       "119      32  antiaging, marketplace, antiaging marketplace,...         31   \n",
       "134      60          council, bioethics, kass, leon kass, leon         30   \n",
       "103       5  stem, stem cells, stem cell, embryonic, embryo...         28   \n",
       "130      51  cloning, therapeutic cloning, ban, therapeutic...         28   \n",
       "153      87  california, stem cell research, cell research,...         27   \n",
       "104       8        grey, aubrey, aubrey grey, greys, interview         24   \n",
       "98        0  mitochondrial, mitochondria, mitochondrial dna...         21   \n",
       "129      50  calorie, calorie restriction, restriction, soc...         21   \n",
       "140      67  life extension, extension, healthy life, healt...         19   \n",
       "148      80  stem, stem cell, korean, cloning, stem cell re...         19   \n",
       "102       4  telomeres, telomere, telomerase, length, telom...         18   \n",
       "123      41  alzheimers, alzheimers research, research, dis...         18   \n",
       "106      11     heart, stem, stem cells, adult stem, stem cell         17   \n",
       "164     101  stem cell, stem cell research, cell research, ...         17   \n",
       "245       8  grey, aubrey, aubrey grey, gerontologist, biom...         43   \n",
       "243       5  stem, stem cells, embryonic, embryonic stem, s...         36   \n",
       "238       0  mitochondrial, mitochondria, dna, mitochondria...         34   \n",
       "248      11          heart, stem, stem cells, stem cell, cells         31   \n",
       "250      13  stem cell research, cell research, stem cell, ...         23   \n",
       "293      65  software, biotechnology, dna sequencing, open ...         16   \n",
       "305      80  stem, stem cell, hwang, stem cell research, ce...         16   \n",
       "262      27  mprize, methuselah, methuselah foundation, fou...         14   \n",
       "267      32  antiaging, marketplace, antiaging medicine, an...         14   \n",
       "307      83  nanomedicine, nanotechnology, freitas, robert ...         14   \n",
       "242       4  telomeres, telomere, telomerase, telomere leng...         13   \n",
       "289      61            brain, stem, stem cells, neurons, cells         13   \n",
       "322     101  stem cell, stem, stem cell research, cell rese...         13   \n",
       "239       1  cryonics, alcor, cryonics society, vitrificati...         12   \n",
       "277      47  tissue engineering, engineering, organs, tissu...         12   \n",
       "408       0  mitochondrial, mitochondria, mitochondrial dna...         37   \n",
       "433      27  methuselah, methuselah foundation, foundation,...         23   \n",
       "434      28  cancer stem, cancer stem cells, cancer, stem c...         22   \n",
       "411       4  telomere, telomeres, telomerase, length, telom...         18   \n",
       "418      11          heart, stem, stem cells, stem cell, cells         17   \n",
       "412       5  stem, embryonic, stem cells, embryonic stem, e...         16   \n",
       "444      41  alzheimers, brain, disease, alzheimers researc...         16   \n",
       "415       8  grey, aubrey, aubrey grey, sens, biomedical ge...         11   \n",
       "451      50  calorie, calorie restriction, restriction, soc...         11   \n",
       "465      67  life extension, extension, life, healthy life ...         11   \n",
       "438      32  antiaging, antiaging medicine, marketplace, an...         10   \n",
       "448      47  engineering, tissue engineering, tissue, organ...         10   \n",
       "484      89    cancer, cancer cells, metastasis, keys, cancers         10   \n",
       "427      21     dna, dna damage, damage, dna repair, mutations          8   \n",
       "437      31        retinal, eye, vision, restore vision, cells          8   \n",
       "590       0  mitochondrial, mitochondria, mitochondrial dna...         41   \n",
       "597       8  grey, aubrey, aubrey grey, gerontologist, biom...         28   \n",
       "593       4  telomere, telomeres, telomere length, telomera...         20   \n",
       "594       5  stem, stem cells, cells, embryonic, embryonic ...         16   \n",
       "615      28  cancer stem, cancer stem cells, cancer, stem c...         14   \n",
       "616      29           stem, stem cells, stem cell, niche, cell         10   \n",
       "609      21    dna, dna damage, damage, nuclear dna, mutations          9   \n",
       "613      25  ages, rage, glycation, advanced glycation, end...          9   \n",
       "614      27  methuselah, methuselah foundation, foundation,...          9   \n",
       "653      74      vessels, blood vessels, blood, tissue, vessel          8   \n",
       "599      11       heart, stem, stem cells, heart muscle, cells          7   \n",
       "607      19  immune, naive, naive tcells, tcells, aging immune          7   \n",
       "664      88  resveratrol, restriction, calorie, calorie res...          7   \n",
       "674     103  parkinsons, dopamine, neurons, parkinsons dise...          7   \n",
       "631      48  cartilage, tissue, engineering, cartilage cell...          6   \n",
       "757       0  mitochondrial, mitochondria, mitochondrial dna...         51   \n",
       "761       4  telomere, telomeres, telomerase, telomere leng...         19   \n",
       "762       5          stem, stem cells, pluripotent, ips, cells         18   \n",
       "781      27  methuselah, methuselah foundation, foundation,...         13   \n",
       "782      28  cancer stem, cancer stem cells, cancer, stem c...         13   \n",
       "921     252  carnival, hourglass, submissions, blog carniva...         11   \n",
       "819      76  nanoparticles, cancer cells, tumors, nanorods,...          9   \n",
       "765       8  grey, aubrey, aubrey grey, biomedical gerontol...          8   \n",
       "771      17       fat, weight, visceral, visceral fat, obesity          8   \n",
       "798      47  organs, tissue engineering, tissue, engineerin...          7   \n",
       "818      75  methionine, restriction, methionine restrictio...          7   \n",
       "794      42  alphasynuclein, parkinsons, parkinsons disease...          6   \n",
       "828      85    brain, brains, artificial, human brain, neurons          6   \n",
       "832      90  diabetes, alzheimers, insulin, alzheimers dise...          6   \n",
       "773      19   immune, memory, centenarians, memory cells, bmpc          5   \n",
       "935       0  mitochondrial, mitochondria, mtdna, mitochondr...         30   \n",
       "942       8     grey, aubrey, aubrey grey, gerontologist, sens         14   \n",
       "939       4  telomere, telomeres, length, telomere length, ...         13   \n",
       "940       5    stem, stem cells, cells, pluripotent, embryonic         12   \n",
       "950      18  genetic, longevity, variants, human longevity,...         10   \n",
       "947      14  sarcopenia, muscle, muscle mass, mass, muscle ...          8   \n",
       "966      38           nerve, spinal, spinal cord, cord, nerves          8   \n",
       "994      76  nanoparticles, cancer, cancer cells, gold, gol...          8   \n",
       "951      19  immune, innate, immunosenescence, innate immun...          7   \n",
       "957      27  methuselah, methuselah foundation, foundation,...          7   \n",
       "973      48  cartilage, tissue, enthesis, chondrocytes, car...          7   \n",
       "943       9  foundation, charities, sens, sens foundation, ...          6   \n",
       "946      12  lifestar, lifestar institute, institute, genes...          6   \n",
       "958      28  cancer stem, cancer stem cells, cancer, stem, ...          6   \n",
       "961      31  retinal, pigmentosa, retinitis, retinitis pigm...          6   \n",
       "1104      0  mitochondrial, mitochondria, ros, dna, mitocho...         35   \n",
       "1152     59       naked, mole, naked mole, mole rat, mole rats         11   \n",
       "1109      5    stem, stem cells, pluripotent, cells, embryonic         10   \n",
       "1108      4  telomeres, telomere, telomerase, length, telom...          9   \n",
       "1113      9  sens foundation, foundation, sens, research, a...          9   \n",
       "1119     18    longevity, genetic, blood type, variants, study          8   \n",
       "1120     19  immune, immunosenescence, immune cells, cells,...          8   \n",
       "1112      8   grey, aubrey, aubrey grey, sens, sens foundation          7   \n",
       "1158     65  sequencing, dna sequencing, software, open dev...          7   \n",
       "1165     74       vessels, blood vessels, blood, vessel, veins          7   \n",
       "1167     76  nanoparticles, cancer, cancer cells, nanoparti...          7   \n",
       "1115     11             heart, stem, stem cells, hearts, cells          6   \n",
       "1116     14    sarcopenia, muscle, muscle mass, strength, mass          6   \n",
       "1122     21  dna, dna damage, nuclear dna, nuclear dna dama...          6   \n",
       "1144     48  cartilage, tissue engineering, cartilage tissu...          5   \n",
       "1279      0  mitochondrial, mitochondria, mitochondrial dna...         28   \n",
       "1283      4  telomeres, telomere, length, telomere length, ...         21   \n",
       "1287      8             grey, aubrey, aubrey grey, sens, video         13   \n",
       "1281      2              aging, damage, slow, sens, slow aging         11   \n",
       "1289     10  exercise, brain, physical, cognitive, physical...         10   \n",
       "1282      3  senescent, senescent cells, cells, senescence,...          9   \n",
       "1288      9  sens, foundation, sens foundation, academic in...          9   \n",
       "1313     38            nerve, spinal, axons, spinal cord, cord          9   \n",
       "1339     74        vessels, blood vessels, blood, vecs, vessel          8   \n",
       "1394    151  russian, party, science, political party, long...          8   \n",
       "1322     49  life expectancy, expectancy, life, pharmaceuti...          7   \n",
       "1346     85         brain, human brain, uploading, mind, allen          7   \n",
       "1284      5        stem, stem cells, vsels, cells, pluripotent          6   \n",
       "1304     26  physical, physical activity, activity, life ex...          6   \n",
       "1305     28  cancer stem, cancer stem cells, cancer, stem c...          6   \n",
       "1452      0  mitochondrial, mitochondria, mtdna, mitochondr...         60   \n",
       "1461      9  sens, foundation, sens research, research foun...         21   \n",
       "1454      2  aging, programmed aging, programmed, damage, r...         17   \n",
       "1456      4  telomere, telomeres, telomere length, telomera...         15   \n",
       "1476     25  ages, glucosepane, glycation, advanced glycati...         11   \n",
       "1468     17           fat, overweight, bmi, weight, fat tissue          9   \n",
       "1457      5         stem, stem cells, cells, pluripotent, cell          8   \n",
       "1480     29           stem, stem cell, stem cells, cell, cells          8   \n",
       "1489     38            nerve, spinal, spinal cord, cord, axons          8   \n",
       "1460      8          grey, aubrey, aubrey grey, sens, research          7   \n",
       "1475     24  sirt, sirtuins, sirtuin, restriction, calorie ...          7   \n",
       "1477     26  exercise, physical, physical activity, activit...          7   \n",
       "1527     85  uploading, continuity, mind, brain, mind uploa...          7   \n",
       "1455      3  senescent, senescence, senescent cells, cells,...          6   \n",
       "1505     58  cmv, immune, cytomegalovirus, memory cells, in...          6   \n",
       "1630      0  mitochondrial, mitochondria, mtdna, mitochondr...         38   \n",
       "1639      9  sens, sens research, foundation, sens research...         22   \n",
       "1634      4  telomere, telomeres, telomerase, length, telom...         15   \n",
       "1654     25  ages, glycation, rage, glucosepane, advanced g...         12   \n",
       "1633      3  senescent, senescent cells, senescence, cells,...         10   \n",
       "1635      5        stem, stem cells, cells, pluripotent, vsels          9   \n",
       "1657     29           stem, stem cells, stem cell, cell, cells          9   \n",
       "1739    133       heat, heat shock, shock, hsp, shock proteins          8   \n",
       "1638      8          grey, aubrey, aubrey grey, sens, research          7   \n",
       "1655     26  exercise, moderate, physical, activity, physic...          7   \n",
       "1658     30  amyloid, alzheimers, alzheimers disease, disea...          7   \n",
       "1644     15  epigenetic, methylation, dna methylation, age,...          6   \n",
       "1646     17          weight, fat, overweight, weight loss, bmi          6   \n",
       "1666     38            nerve, axons, spinal, cord, spinal cord          6   \n",
       "1675     48  cartilage, cartilage cells, tissue, cartilage ...          6   \n",
       "1811      0  mitochondrial, mitochondria, ros, mtdna, mitoc...         41   \n",
       "1819      9  sens, sens research, foundation, sens research...         21   \n",
       "1815      4  telomere, telomeres, telomerase, length, telom...         13   \n",
       "1834     25  glucosepane, ages, glycation, advanced glycati...         10   \n",
       "1848     40          sea, species, urchins, sea urchins, hydra         10   \n",
       "1814      3  senescent, senescent cells, cells, sasp, senes...          9   \n",
       "1830     21    dna, dna damage, damage, nuclear dna, mutations          9   \n",
       "1863     58  cmv, cytomegalovirus, immune, infection, cmv i...          8   \n",
       "1877     78  aging disease, disease, aging, classification,...          8   \n",
       "1892     95  testing, major mouse, testing program, major m...          8   \n",
       "1835     26  exercise, physical, physical activity, activit...          7   \n",
       "1821     11       heart, stem, stem cells, cells, heart muscle          6   \n",
       "1838     29          stem, stem cells, stem cell, cell, klotho          6   \n",
       "1922    131  ttr, amyloidosis, amyloid, transthyretin, syst...          6   \n",
       "1823     14  muscle, sarcopenia, skeletal, skeletal muscle,...          5   \n",
       "1995      0  mitochondrial, mitochondria, mtdna, dna, mitoc...         39   \n",
       "1998      3  senescent, senescent cells, senescence, cells,...         32   \n",
       "2004      9  sens, foundation, sens research, sens research...         16   \n",
       "2035     43  fibrosis, lung, pulmonary, senescent, pulmonar...         13   \n",
       "2013     19  immune, immunosenescence, cells, memory cells,...         11   \n",
       "2001      6  cholesterol, ldl, atherosclerosis, ldl cholest...         10   \n",
       "2009     15  methylation, epigenetic, dna methylation, cloc...         10   \n",
       "2132    174  cellage, senescent, oisin, senescent cells, unity         10   \n",
       "1999      4  telomere, telomeres, length, telomere length, ...          9   \n",
       "2008     14    sarcopenia, muscle, muscle mass, mass, strength          9   \n",
       "2072     91         young, blood, young blood, parabiosis, old          7   \n",
       "2016     22  bone, osteoporosis, bone formation, osteoclast...          6   \n",
       "2022     30  amyloid, alzheimers, bace, alzheimers disease,...          6   \n",
       "2028     36  biological, biomarkers, biological age, age, b...          6   \n",
       "2033     41  alzheimers, alzheimers disease, neuregulin, di...          6   \n",
       "2187      0  mitochondrial, mitochondria, mtdna, dna, mitoc...         41   \n",
       "2190      3  senescent, senescent cells, senescence, cells,...         21   \n",
       "2195      9  sens, foundation, sens research, sens research...         16   \n",
       "2191      4  telomerase, telomere, telomeres, telomere leng...         12   \n",
       "2211     26  physical, physical activity, exercise, activit...         11   \n",
       "2224     39  senolytic, senescent, senescent cells, quercet...         11   \n",
       "2237     55  exosomes, vesicles, evs, extracellular vesicle...         11   \n",
       "2252     73  fluid, drainage, cerebrospinal, cerebrospinal ...         11   \n",
       "2228     43  fibrosis, lung, pulmonary, pulmonary fibrosis,...          9   \n",
       "2229     44  tau, alzheimers, amyloid, alzheimers disease, ...          9   \n",
       "2193      7  gut, microbiota, microbiome, gut microbiota, b...          8   \n",
       "2199     14    muscle, sarcopenia, muscle mass, mass, strength          8   \n",
       "2206     21        dna, mutations, dna damage, somatic, damage          8   \n",
       "2215     30  amyloid, alzheimers, alzheimers disease, bace,...          8   \n",
       "2239     57   neurogenesis, neurons, new neurons, adult, brain          8   \n",
       "2369      0  mitochondrial, mitochondria, mtdna, oxidative,...         38   \n",
       "2372      3  senescent, senescent cells, senescence, cells,...         35   \n",
       "2376      7  gut, microbiome, microbiota, gut microbiome, m...         15   \n",
       "2382     14    muscle, sarcopenia, strength, muscle mass, mass         13   \n",
       "2373      4  telomere, telomeres, telomerase, length, telom...         12   \n",
       "2406     42  parkinsons, parkinsons disease, alphasynuclein...         12   \n",
       "2416     57   neurogenesis, neurons, new neurons, adult, brain         12   \n",
       "2472    138  tau, microglia, amyloid, alzheimers, alzheimer...         12   \n",
       "2378      9  foundation, sens, sens research, sens research...          9   \n",
       "2397     30  amyloid, alzheimers, alzheimers disease, disea...          9   \n",
       "2414     55  exosomes, vesicles, evs, extracellular vesicle...          9   \n",
       "2389     21        dna, dna damage, mutations, damage, somatic          8   \n",
       "2426     72          nad, nicotinamide, nmn, nad levels, nampt          8   \n",
       "2383     15  epigenetic, methylation, clocks, dna methylati...          7   \n",
       "2394     26  exercise, physical, physical activity, risk, a...          7   \n",
       "2537      0  mitochondrial, mitochondria, mitophagy, mtdna,...         54   \n",
       "2539      3  senescent, senescent cells, senescence, sasp, ...         37   \n",
       "2546     12  industry, longevity industry, longevity, compa...         22   \n",
       "2542      7  gut, microbiome, microbiota, gut microbiome, g...         20   \n",
       "2592     72         nad, nicotinamide, nmn, nad levels, levels         13   \n",
       "2569     39  senolytic, senescent, senescent cells, senolyt...         12   \n",
       "2553     20  inflammation, chronic, chronic inflammation, i...         10   \n",
       "2579     52  hscs, hematopoietic, hematopoietic stem, bone ...         10   \n",
       "2544     10  exercise, physical, physical activity, cogniti...          9   \n",
       "2559     26  physical activity, physical, activity, exercis...          9   \n",
       "2581     55  exosomes, vesicles, extracellular vesicles, ev...          9   \n",
       "2547     14  muscle, sarcopenia, muscle mass, strength, ske...          7   \n",
       "2551     18  variants, genetic, longevity, longlived, genet...          7   \n",
       "2567     37   thymus, thymic, involution, sex steroid, steroid          7   \n",
       "2588     66  amd, retinal, degeneration, macular, macular d...          7   \n",
       "2699      0  mitochondrial, mitochondria, mitophagy, mitoch...         45   \n",
       "2706      7  gut, microbiome, gut microbiome, microbiota, m...         25   \n",
       "2702      3  senescent, senescent cells, senescence, cells,...         22   \n",
       "2729     33  reprogramming, partial reprogramming, partial,...         19   \n",
       "2735     39  senolytic, fisetin, senescent, senescent cells...         16   \n",
       "2710     12  longevity, companies, industry, longevity indu...         13   \n",
       "2712     15  epigenetic, clocks, methylation, epigenetic cl...         11   \n",
       "2722     26  physical, physical activity, activity, mortali...         10   \n",
       "2744     55  vesicles, exosomes, evs, extracellular vesicle...          9   \n",
       "2716     19  immune, cdcd, cdcd ratio, immunosenescence, ratio          8   \n",
       "2717     20  inflammation, inflammatory, chronic, chronic i...          8   \n",
       "2732     36  biomarkers, biological, biological age, age, vocs          8   \n",
       "2758     72  nad, nicotinamide, nmn, nad levels, supplement...          8   \n",
       "2711     14      sarcopenia, muscle, muscle mass, mass, tongue          7   \n",
       "2801    137    mscs, mesenchymal, bmscs, mesenchymal stem, msc          7   \n",
       "2870      7  gut, microbiota, microbiome, gut microbiome, g...         36   \n",
       "2866      3  senescent, senescent cells, sasp, senescence, ...         20   \n",
       "2877     15  epigenetic, clocks, epigenetic clocks, methyla...         16   \n",
       "2882     20  inflammation, inflammatory, chronic, inflammag...         16   \n",
       "2893     33  reprogramming, partial, partial reprogramming,...         15   \n",
       "2873     10  exercise, bdnf, physical, physical activity, b...         13   \n",
       "2902     43  fibrosis, lung, ipf, pulmonary, pulmonary fibr...         13   \n",
       "2883     21        dna, somatic, dna damage, mutations, damage         10   \n",
       "2898     39  senolytic, senescent cells, senescent, dasatin...         10   \n",
       "2888     26  physical, exercise, physical activity, activit...          9   \n",
       "2890     30  amyloid, alzheimers, alzheimers disease, disea...          9   \n",
       "2906     52  hematopoietic, hscs, hematopoietic stem, stem,...          9   \n",
       "2875     12  industry, longevity, longevity industry, biote...          8   \n",
       "2876     14    muscle, sarcopenia, strength, muscle mass, mass          8   \n",
       "2896     36  biomarkers, biological, biological age, clocks...          8   \n",
       "3024      0  mitochondrial, mitochondria, mitochondrial fun...         41   \n",
       "3031      7  gut, microbiome, gut microbiome, microbiota, g...         27   \n",
       "3041     20  inflammation, inflammatory, chronic, chronic i...         20   \n",
       "3027      3  senescent, senescent cells, senescence, sasp, ...         17   \n",
       "3036     15  epigenetic, clocks, methylation, epigenetic cl...         16   \n",
       "3035     14    sarcopenia, muscle, muscle mass, strength, mass         14   \n",
       "3034     12  industry, company, companies, investors, longe...         12   \n",
       "3054     36  biological age, biological, age, biomarkers, c...         12   \n",
       "3057     39  senolytic, dasatinib, quercetin, senescent, se...         12   \n",
       "3040     19  immune, immunosenescence, immunity, immune cel...         10   \n",
       "3123    149  gut, microbiome, gut microbiome, alzheimers, m...         10   \n",
       "3028      4  telomere, telomerase, telomeres, length, telom...          9   \n",
       "3051     33  reprogramming, partial, partial reprogramming,...          9   \n",
       "3067     55  vesicles, extracellular vesicles, exosomes, ex...          9   \n",
       "3073     69   klotho, serum klotho, klotho levels, kidney, sii          9   \n",
       "3169      0  mitochondrial, mitochondria, mitochondrial dna...         51   \n",
       "3175      7  gut, microbiome, gut microbiome, microbiota, g...         37   \n",
       "3172      3  senescent, senescent cells, senescence, cells,...         32   \n",
       "3180     15  clocks, epigenetic, methylation, clock, epigen...         21   \n",
       "3185     20  inflammation, sting, inflammatory, chronic, ch...         16   \n",
       "3198     36     biological age, biological, age, clock, clocks         14   \n",
       "3179     14    sarcopenia, muscle, muscle mass, mass, strength         13   \n",
       "3204     42  parkinsons, synuclein, parkinsons disease, syn...         12   \n",
       "3210     52  hematopoietic, hscs, hematopoietic stem, hsc, ...         10   \n",
       "3259    128  pollution, air, air pollution, particulate, ex...         10   \n",
       "3195     33  reprogramming, yamanaka, partial reprogramming...          9   \n",
       "3184     19  immune, immunosenescence, immune resilience, i...          8   \n",
       "3309    229  epigenetic, physical, clocks, physical activit...          8   \n",
       "3177     10  bdnf, physical activity, physical, exercise, c...          7   \n",
       "3186     21    dna, dna damage, mutations, somatic, dna repair          7   \n",
       "\n",
       "                   Timestamp                                         Name  \\\n",
       "30   2002-10-23 15:24:28.800  51_cloning_ban_therapeutic cloning_thera...   \n",
       "5    2002-10-23 15:24:28.800            5_stem_stem cells_cells_embryonic   \n",
       "10   2002-10-23 15:24:28.800  13_stem cell research_cell research_stem...   \n",
       "29   2002-10-23 15:24:28.800  50_calorie_calorie restriction_restricti...   \n",
       "34   2002-10-23 15:24:28.800          60_council_bioethics_kass_leon kass   \n",
       "21   2002-10-23 15:24:28.800  32_antiaging_marketplace_antiaging medic...   \n",
       "71   2002-10-23 15:24:28.800  153_stem cell research_cell research_ban...   \n",
       "8    2002-10-23 15:24:28.800               11_heart_stem_stem cells_cells   \n",
       "25   2002-10-23 15:24:28.800  41_alzheimers_alzheimers disease_brain_d...   \n",
       "40   2002-10-23 15:24:28.800  67_life extension_extension_life_healthy...   \n",
       "57   2002-10-23 15:24:28.800            112_fight aging_fight_spam_server   \n",
       "67   2002-10-23 15:24:28.800  132_cancer_rates_cancer mortality_cancer...   \n",
       "77   2002-10-23 15:24:28.800  168_prize_methuselah mouse_mouse prize_m...   \n",
       "88   2002-10-23 15:24:28.800  234_suspended animation_animation_suspen...   \n",
       "4    2002-10-23 15:24:28.800       4_telomere_telomeres_telomerase_length   \n",
       "107  2003-12-23 21:36:00.000  13_stem cell research_cell research_stem...   \n",
       "119  2003-12-23 21:36:00.000  32_antiaging_marketplace_antiaging medic...   \n",
       "134  2003-12-23 21:36:00.000          60_council_bioethics_kass_leon kass   \n",
       "103  2003-12-23 21:36:00.000            5_stem_stem cells_cells_embryonic   \n",
       "130  2003-12-23 21:36:00.000  51_cloning_ban_therapeutic cloning_thera...   \n",
       "153  2003-12-23 21:36:00.000  87_california_stem cell research_cell re...   \n",
       "104  2003-12-23 21:36:00.000               8_grey_aubrey_aubrey grey_sens   \n",
       "98   2003-12-23 21:36:00.000  0_mitochondrial_mitochondria_mtdna_mitoc...   \n",
       "129  2003-12-23 21:36:00.000  50_calorie_calorie restriction_restricti...   \n",
       "140  2003-12-23 21:36:00.000  67_life extension_extension_life_healthy...   \n",
       "148  2003-12-23 21:36:00.000  80_stem_stem cell_stem cell research_cel...   \n",
       "102  2003-12-23 21:36:00.000       4_telomere_telomeres_telomerase_length   \n",
       "123  2003-12-23 21:36:00.000  41_alzheimers_alzheimers disease_brain_d...   \n",
       "106  2003-12-23 21:36:00.000               11_heart_stem_stem cells_cells   \n",
       "164  2003-12-23 21:36:00.000  101_stem cell_stem_stem cell research_ce...   \n",
       "245  2005-02-13 19:12:00.000               8_grey_aubrey_aubrey grey_sens   \n",
       "243  2005-02-13 19:12:00.000            5_stem_stem cells_cells_embryonic   \n",
       "238  2005-02-13 19:12:00.000  0_mitochondrial_mitochondria_mtdna_mitoc...   \n",
       "248  2005-02-13 19:12:00.000               11_heart_stem_stem cells_cells   \n",
       "250  2005-02-13 19:12:00.000  13_stem cell research_cell research_stem...   \n",
       "293  2005-02-13 19:12:00.000  65_biotechnology_software_sequencing_ope...   \n",
       "305  2005-02-13 19:12:00.000  80_stem_stem cell_stem cell research_cel...   \n",
       "262  2005-02-13 19:12:00.000  27_methuselah_methuselah foundation_foun...   \n",
       "267  2005-02-13 19:12:00.000  32_antiaging_marketplace_antiaging medic...   \n",
       "307  2005-02-13 19:12:00.000  83_nanotechnology_nanomedicine_manufactu...   \n",
       "242  2005-02-13 19:12:00.000       4_telomere_telomeres_telomerase_length   \n",
       "289  2005-02-13 19:12:00.000             61_brain_neurons_stem_stem cells   \n",
       "322  2005-02-13 19:12:00.000  101_stem cell_stem_stem cell research_ce...   \n",
       "239  2005-02-13 19:12:00.000  1_cryonics_alcor_cryopreservation_preser...   \n",
       "277  2005-02-13 19:12:00.000  47_organs_organ_engineering_tissue engin...   \n",
       "408  2006-04-07 16:48:00.000  0_mitochondrial_mitochondria_mtdna_mitoc...   \n",
       "433  2006-04-07 16:48:00.000  27_methuselah_methuselah foundation_foun...   \n",
       "434  2006-04-07 16:48:00.000  28_cancer stem_cancer stem cells_cancer_...   \n",
       "411  2006-04-07 16:48:00.000       4_telomere_telomeres_telomerase_length   \n",
       "418  2006-04-07 16:48:00.000               11_heart_stem_stem cells_cells   \n",
       "412  2006-04-07 16:48:00.000            5_stem_stem cells_cells_embryonic   \n",
       "444  2006-04-07 16:48:00.000  41_alzheimers_alzheimers disease_brain_d...   \n",
       "415  2006-04-07 16:48:00.000               8_grey_aubrey_aubrey grey_sens   \n",
       "451  2006-04-07 16:48:00.000  50_calorie_calorie restriction_restricti...   \n",
       "465  2006-04-07 16:48:00.000  67_life extension_extension_life_healthy...   \n",
       "438  2006-04-07 16:48:00.000  32_antiaging_marketplace_antiaging medic...   \n",
       "448  2006-04-07 16:48:00.000  47_organs_organ_engineering_tissue engin...   \n",
       "484  2006-04-07 16:48:00.000  89_cancer_metastasis_cancer cells_cancer...   \n",
       "427  2006-04-07 16:48:00.000           21_dna_dna damage_mutations_damage   \n",
       "437  2006-04-07 16:48:00.000                 31_retinal_retina_eye_vision   \n",
       "590  2007-05-30 14:24:00.000  0_mitochondrial_mitochondria_mtdna_mitoc...   \n",
       "597  2007-05-30 14:24:00.000               8_grey_aubrey_aubrey grey_sens   \n",
       "593  2007-05-30 14:24:00.000       4_telomere_telomeres_telomerase_length   \n",
       "594  2007-05-30 14:24:00.000            5_stem_stem cells_cells_embryonic   \n",
       "615  2007-05-30 14:24:00.000  28_cancer stem_cancer stem cells_cancer_...   \n",
       "616  2007-05-30 14:24:00.000            29_stem_stem cells_stem cell_cell   \n",
       "609  2007-05-30 14:24:00.000           21_dna_dna damage_mutations_damage   \n",
       "613  2007-05-30 14:24:00.000           25_ages_glucosepane_glycation_rage   \n",
       "614  2007-05-30 14:24:00.000  27_methuselah_methuselah foundation_foun...   \n",
       "653  2007-05-30 14:24:00.000        74_vessels_blood vessels_blood_vessel   \n",
       "599  2007-05-30 14:24:00.000               11_heart_stem_stem cells_cells   \n",
       "607  2007-05-30 14:24:00.000  19_immune_immunosenescence_cells_immunit...   \n",
       "664  2007-05-30 14:24:00.000  88_resveratrol_restriction_calorie_sirtu...   \n",
       "674  2007-05-30 14:24:00.000  103_parkinsons_dopamine_neurons_parkinso...   \n",
       "631  2007-05-30 14:24:00.000  48_cartilage_tissue_cartilage tissue_joi...   \n",
       "757  2008-07-21 12:00:00.000  0_mitochondrial_mitochondria_mtdna_mitoc...   \n",
       "761  2008-07-21 12:00:00.000       4_telomere_telomeres_telomerase_length   \n",
       "762  2008-07-21 12:00:00.000            5_stem_stem cells_cells_embryonic   \n",
       "781  2008-07-21 12:00:00.000  27_methuselah_methuselah foundation_foun...   \n",
       "782  2008-07-21 12:00:00.000  28_cancer stem_cancer stem cells_cancer_...   \n",
       "921  2008-07-21 12:00:00.000  252_carnival_hourglass_blog carnival_sub...   \n",
       "819  2008-07-21 12:00:00.000  76_nanoparticles_cancer_cancer cells_tum...   \n",
       "765  2008-07-21 12:00:00.000               8_grey_aubrey_aubrey grey_sens   \n",
       "771  2008-07-21 12:00:00.000                 17_fat_weight_overweight_bmi   \n",
       "798  2008-07-21 12:00:00.000  47_organs_organ_engineering_tissue engin...   \n",
       "818  2008-07-21 12:00:00.000  75_methionine_restriction_methionine res...   \n",
       "794  2008-07-21 12:00:00.000  42_parkinsons_parkinsons disease_synucle...   \n",
       "828  2008-07-21 12:00:00.000          85_brain_mind_uploading_human brain   \n",
       "832  2008-07-21 12:00:00.000  90_diabetes_alzheimers_insulin_type diab...   \n",
       "773  2008-07-21 12:00:00.000  19_immune_immunosenescence_cells_immunit...   \n",
       "935  2009-09-12 09:36:00.000  0_mitochondrial_mitochondria_mtdna_mitoc...   \n",
       "942  2009-09-12 09:36:00.000               8_grey_aubrey_aubrey grey_sens   \n",
       "939  2009-09-12 09:36:00.000       4_telomere_telomeres_telomerase_length   \n",
       "940  2009-09-12 09:36:00.000            5_stem_stem cells_cells_embryonic   \n",
       "950  2009-09-12 09:36:00.000          18_genetic_variants_longevity_genes   \n",
       "947  2009-09-12 09:36:00.000        14_muscle_sarcopenia_muscle mass_mass   \n",
       "966  2009-09-12 09:36:00.000             38_nerve_spinal_spinal cord_cord   \n",
       "994  2009-09-12 09:36:00.000  76_nanoparticles_cancer_cancer cells_tum...   \n",
       "951  2009-09-12 09:36:00.000  19_immune_immunosenescence_cells_immunit...   \n",
       "957  2009-09-12 09:36:00.000  27_methuselah_methuselah foundation_foun...   \n",
       "973  2009-09-12 09:36:00.000  48_cartilage_tissue_cartilage tissue_joi...   \n",
       "943  2009-09-12 09:36:00.000  9_sens_foundation_sens research_sens res...   \n",
       "946  2009-09-12 09:36:00.000      12_industry_companies_company_longevity   \n",
       "958  2009-09-12 09:36:00.000  28_cancer stem_cancer stem cells_cancer_...   \n",
       "961  2009-09-12 09:36:00.000                 31_retinal_retina_eye_vision   \n",
       "1104 2010-11-04 07:12:00.000  0_mitochondrial_mitochondria_mtdna_mitoc...   \n",
       "1152 2010-11-04 07:12:00.000           59_naked_mole_naked mole_mole rats   \n",
       "1109 2010-11-04 07:12:00.000            5_stem_stem cells_cells_embryonic   \n",
       "1108 2010-11-04 07:12:00.000       4_telomere_telomeres_telomerase_length   \n",
       "1113 2010-11-04 07:12:00.000  9_sens_foundation_sens research_sens res...   \n",
       "1119 2010-11-04 07:12:00.000          18_genetic_variants_longevity_genes   \n",
       "1120 2010-11-04 07:12:00.000  19_immune_immunosenescence_cells_immunit...   \n",
       "1112 2010-11-04 07:12:00.000               8_grey_aubrey_aubrey grey_sens   \n",
       "1158 2010-11-04 07:12:00.000  65_biotechnology_software_sequencing_ope...   \n",
       "1165 2010-11-04 07:12:00.000        74_vessels_blood vessels_blood_vessel   \n",
       "1167 2010-11-04 07:12:00.000  76_nanoparticles_cancer_cancer cells_tum...   \n",
       "1115 2010-11-04 07:12:00.000               11_heart_stem_stem cells_cells   \n",
       "1116 2010-11-04 07:12:00.000        14_muscle_sarcopenia_muscle mass_mass   \n",
       "1122 2010-11-04 07:12:00.000           21_dna_dna damage_mutations_damage   \n",
       "1144 2010-11-04 07:12:00.000  48_cartilage_tissue_cartilage tissue_joi...   \n",
       "1279 2011-12-27 04:48:00.000  0_mitochondrial_mitochondria_mtdna_mitoc...   \n",
       "1283 2011-12-27 04:48:00.000       4_telomere_telomeres_telomerase_length   \n",
       "1287 2011-12-27 04:48:00.000               8_grey_aubrey_aubrey grey_sens   \n",
       "1281 2011-12-27 04:48:00.000                 2_aging_damage_research_slow   \n",
       "1289 2011-12-27 04:48:00.000         10_exercise_brain_physical_cognitive   \n",
       "1282 2011-12-27 04:48:00.000  3_senescent_senescent cells_senescence_c...   \n",
       "1288 2011-12-27 04:48:00.000  9_sens_foundation_sens research_sens res...   \n",
       "1313 2011-12-27 04:48:00.000             38_nerve_spinal_spinal cord_cord   \n",
       "1339 2011-12-27 04:48:00.000        74_vessels_blood vessels_blood_vessel   \n",
       "1394 2011-12-27 04:48:00.000  151_russian_science_party_science life e...   \n",
       "1322 2011-12-27 04:48:00.000  49_life expectancy_expectancy_life_morta...   \n",
       "1346 2011-12-27 04:48:00.000          85_brain_mind_uploading_human brain   \n",
       "1284 2011-12-27 04:48:00.000            5_stem_stem cells_cells_embryonic   \n",
       "1304 2011-12-27 04:48:00.000  26_physical_physical activity_exercise_a...   \n",
       "1305 2011-12-27 04:48:00.000  28_cancer stem_cancer stem cells_cancer_...   \n",
       "1452 2013-02-17 02:24:00.000  0_mitochondrial_mitochondria_mtdna_mitoc...   \n",
       "1461 2013-02-17 02:24:00.000  9_sens_foundation_sens research_sens res...   \n",
       "1454 2013-02-17 02:24:00.000                 2_aging_damage_research_slow   \n",
       "1456 2013-02-17 02:24:00.000       4_telomere_telomeres_telomerase_length   \n",
       "1476 2013-02-17 02:24:00.000           25_ages_glucosepane_glycation_rage   \n",
       "1468 2013-02-17 02:24:00.000                 17_fat_weight_overweight_bmi   \n",
       "1457 2013-02-17 02:24:00.000            5_stem_stem cells_cells_embryonic   \n",
       "1480 2013-02-17 02:24:00.000            29_stem_stem cells_stem cell_cell   \n",
       "1489 2013-02-17 02:24:00.000             38_nerve_spinal_spinal cord_cord   \n",
       "1460 2013-02-17 02:24:00.000               8_grey_aubrey_aubrey grey_sens   \n",
       "1475 2013-02-17 02:24:00.000                 24_sirt_sirtuins_sirtuin_sir   \n",
       "1477 2013-02-17 02:24:00.000  26_physical_physical activity_exercise_a...   \n",
       "1527 2013-02-17 02:24:00.000          85_brain_mind_uploading_human brain   \n",
       "1455 2013-02-17 02:24:00.000  3_senescent_senescent cells_senescence_c...   \n",
       "1505 2013-02-17 02:24:00.000      58_cmv_cytomegalovirus_immune_infection   \n",
       "1630 2014-04-11 00:00:00.000  0_mitochondrial_mitochondria_mtdna_mitoc...   \n",
       "1639 2014-04-11 00:00:00.000  9_sens_foundation_sens research_sens res...   \n",
       "1634 2014-04-11 00:00:00.000       4_telomere_telomeres_telomerase_length   \n",
       "1654 2014-04-11 00:00:00.000           25_ages_glucosepane_glycation_rage   \n",
       "1633 2014-04-11 00:00:00.000  3_senescent_senescent cells_senescence_c...   \n",
       "1635 2014-04-11 00:00:00.000            5_stem_stem cells_cells_embryonic   \n",
       "1657 2014-04-11 00:00:00.000            29_stem_stem cells_stem cell_cell   \n",
       "1739 2014-04-11 00:00:00.000                133_heat_shock_heat shock_hsp   \n",
       "1638 2014-04-11 00:00:00.000               8_grey_aubrey_aubrey grey_sens   \n",
       "1655 2014-04-11 00:00:00.000  26_physical_physical activity_exercise_a...   \n",
       "1658 2014-04-11 00:00:00.000  30_amyloid_alzheimers_alzheimers disease...   \n",
       "1644 2014-04-11 00:00:00.000       15_epigenetic_clocks_methylation_clock   \n",
       "1646 2014-04-11 00:00:00.000                 17_fat_weight_overweight_bmi   \n",
       "1666 2014-04-11 00:00:00.000             38_nerve_spinal_spinal cord_cord   \n",
       "1675 2014-04-11 00:00:00.000  48_cartilage_tissue_cartilage tissue_joi...   \n",
       "1811 2015-06-02 21:36:00.000  0_mitochondrial_mitochondria_mtdna_mitoc...   \n",
       "1819 2015-06-02 21:36:00.000  9_sens_foundation_sens research_sens res...   \n",
       "1815 2015-06-02 21:36:00.000       4_telomere_telomeres_telomerase_length   \n",
       "1834 2015-06-02 21:36:00.000           25_ages_glucosepane_glycation_rage   \n",
       "1848 2015-06-02 21:36:00.000                 40_species_sea_hydra_animals   \n",
       "1814 2015-06-02 21:36:00.000  3_senescent_senescent cells_senescence_c...   \n",
       "1830 2015-06-02 21:36:00.000           21_dna_dna damage_mutations_damage   \n",
       "1863 2015-06-02 21:36:00.000      58_cmv_cytomegalovirus_immune_infection   \n",
       "1877 2015-06-02 21:36:00.000           78_aging disease_aging_disease_icd   \n",
       "1892 2015-06-02 21:36:00.000  95_mouse_testing_interventions_testing p...   \n",
       "1835 2015-06-02 21:36:00.000  26_physical_physical activity_exercise_a...   \n",
       "1821 2015-06-02 21:36:00.000               11_heart_stem_stem cells_cells   \n",
       "1838 2015-06-02 21:36:00.000            29_stem_stem cells_stem cell_cell   \n",
       "1922 2015-06-02 21:36:00.000  131_ttr_amyloidosis_transthyretin_amyloi...   \n",
       "1823 2015-06-02 21:36:00.000        14_muscle_sarcopenia_muscle mass_mass   \n",
       "1995 2016-07-24 19:12:00.000  0_mitochondrial_mitochondria_mtdna_mitoc...   \n",
       "1998 2016-07-24 19:12:00.000  3_senescent_senescent cells_senescence_c...   \n",
       "2004 2016-07-24 19:12:00.000  9_sens_foundation_sens research_sens res...   \n",
       "2035 2016-07-24 19:12:00.000               43_fibrosis_lung_pulmonary_ipf   \n",
       "2013 2016-07-24 19:12:00.000  19_immune_immunosenescence_cells_immunit...   \n",
       "2001 2016-07-24 19:12:00.000     6_cholesterol_atherosclerosis_plaque_ldl   \n",
       "2009 2016-07-24 19:12:00.000       15_epigenetic_clocks_methylation_clock   \n",
       "2132 2016-07-24 19:12:00.000  174_senescent_senescent cells_oisin_cell...   \n",
       "1999 2016-07-24 19:12:00.000       4_telomere_telomeres_telomerase_length   \n",
       "2008 2016-07-24 19:12:00.000        14_muscle_sarcopenia_muscle mass_mass   \n",
       "2072 2016-07-24 19:12:00.000        91_young_parabiosis_blood_young blood   \n",
       "2016 2016-07-24 19:12:00.000  22_bone_osteoporosis_osteoblasts_osteocl...   \n",
       "2022 2016-07-24 19:12:00.000  30_amyloid_alzheimers_alzheimers disease...   \n",
       "2028 2016-07-24 19:12:00.000  36_biological age_biological_age_biomark...   \n",
       "2033 2016-07-24 19:12:00.000  41_alzheimers_alzheimers disease_brain_d...   \n",
       "2187 2017-09-15 16:48:00.000  0_mitochondrial_mitochondria_mtdna_mitoc...   \n",
       "2190 2017-09-15 16:48:00.000  3_senescent_senescent cells_senescence_c...   \n",
       "2195 2017-09-15 16:48:00.000  9_sens_foundation_sens research_sens res...   \n",
       "2191 2017-09-15 16:48:00.000       4_telomere_telomeres_telomerase_length   \n",
       "2211 2017-09-15 16:48:00.000  26_physical_physical activity_exercise_a...   \n",
       "2224 2017-09-15 16:48:00.000  39_senolytic_senescent_senescent cells_q...   \n",
       "2237 2017-09-15 16:48:00.000  55_vesicles_exosomes_evs_extracellular v...   \n",
       "2252 2017-09-15 16:48:00.000  73_fluid_drainage_cerebrospinal_cerebros...   \n",
       "2228 2017-09-15 16:48:00.000               43_fibrosis_lung_pulmonary_ipf   \n",
       "2229 2017-09-15 16:48:00.000            44_tau_alzheimers_amyloid_tangles   \n",
       "2193 2017-09-15 16:48:00.000  7_gut_microbiome_microbiota_gut microbio...   \n",
       "2199 2017-09-15 16:48:00.000        14_muscle_sarcopenia_muscle mass_mass   \n",
       "2206 2017-09-15 16:48:00.000           21_dna_dna damage_mutations_damage   \n",
       "2215 2017-09-15 16:48:00.000  30_amyloid_alzheimers_alzheimers disease...   \n",
       "2239 2017-09-15 16:48:00.000  57_neurogenesis_neurons_new neurons_adul...   \n",
       "2369 2018-11-07 14:24:00.000  0_mitochondrial_mitochondria_mtdna_mitoc...   \n",
       "2372 2018-11-07 14:24:00.000  3_senescent_senescent cells_senescence_c...   \n",
       "2376 2018-11-07 14:24:00.000  7_gut_microbiome_microbiota_gut microbio...   \n",
       "2382 2018-11-07 14:24:00.000        14_muscle_sarcopenia_muscle mass_mass   \n",
       "2373 2018-11-07 14:24:00.000       4_telomere_telomeres_telomerase_length   \n",
       "2406 2018-11-07 14:24:00.000  42_parkinsons_parkinsons disease_synucle...   \n",
       "2416 2018-11-07 14:24:00.000  57_neurogenesis_neurons_new neurons_adul...   \n",
       "2472 2018-11-07 14:24:00.000         138_tau_amyloid_microglia_alzheimers   \n",
       "2378 2018-11-07 14:24:00.000  9_sens_foundation_sens research_sens res...   \n",
       "2397 2018-11-07 14:24:00.000  30_amyloid_alzheimers_alzheimers disease...   \n",
       "2414 2018-11-07 14:24:00.000  55_vesicles_exosomes_evs_extracellular v...   \n",
       "2389 2018-11-07 14:24:00.000           21_dna_dna damage_mutations_damage   \n",
       "2426 2018-11-07 14:24:00.000           72_nad_nmn_nicotinamide_nad levels   \n",
       "2383 2018-11-07 14:24:00.000       15_epigenetic_clocks_methylation_clock   \n",
       "2394 2018-11-07 14:24:00.000  26_physical_physical activity_exercise_a...   \n",
       "2537 2019-12-30 12:00:00.000  0_mitochondrial_mitochondria_mtdna_mitoc...   \n",
       "2539 2019-12-30 12:00:00.000  3_senescent_senescent cells_senescence_c...   \n",
       "2546 2019-12-30 12:00:00.000      12_industry_companies_company_longevity   \n",
       "2542 2019-12-30 12:00:00.000  7_gut_microbiome_microbiota_gut microbio...   \n",
       "2592 2019-12-30 12:00:00.000           72_nad_nmn_nicotinamide_nad levels   \n",
       "2569 2019-12-30 12:00:00.000  39_senolytic_senescent_senescent cells_q...   \n",
       "2553 2019-12-30 12:00:00.000  20_inflammation_inflammatory_chronic_chr...   \n",
       "2579 2019-12-30 12:00:00.000  52_hscs_hematopoietic_hematopoietic stem...   \n",
       "2544 2019-12-30 12:00:00.000         10_exercise_brain_physical_cognitive   \n",
       "2559 2019-12-30 12:00:00.000  26_physical_physical activity_exercise_a...   \n",
       "2581 2019-12-30 12:00:00.000  55_vesicles_exosomes_evs_extracellular v...   \n",
       "2547 2019-12-30 12:00:00.000        14_muscle_sarcopenia_muscle mass_mass   \n",
       "2551 2019-12-30 12:00:00.000          18_genetic_variants_longevity_genes   \n",
       "2567 2019-12-30 12:00:00.000           37_thymus_thymic_immune_involution   \n",
       "2588 2019-12-30 12:00:00.000  66_amd_macular_macular degeneration_dege...   \n",
       "2699 2021-02-20 09:36:00.000  0_mitochondrial_mitochondria_mtdna_mitoc...   \n",
       "2706 2021-02-20 09:36:00.000  7_gut_microbiome_microbiota_gut microbio...   \n",
       "2702 2021-02-20 09:36:00.000  3_senescent_senescent cells_senescence_c...   \n",
       "2729 2021-02-20 09:36:00.000  33_reprogramming_partial_partial reprogr...   \n",
       "2735 2021-02-20 09:36:00.000  39_senolytic_senescent_senescent cells_q...   \n",
       "2710 2021-02-20 09:36:00.000      12_industry_companies_company_longevity   \n",
       "2712 2021-02-20 09:36:00.000       15_epigenetic_clocks_methylation_clock   \n",
       "2722 2021-02-20 09:36:00.000  26_physical_physical activity_exercise_a...   \n",
       "2744 2021-02-20 09:36:00.000  55_vesicles_exosomes_evs_extracellular v...   \n",
       "2716 2021-02-20 09:36:00.000  19_immune_immunosenescence_cells_immunit...   \n",
       "2717 2021-02-20 09:36:00.000  20_inflammation_inflammatory_chronic_chr...   \n",
       "2732 2021-02-20 09:36:00.000  36_biological age_biological_age_biomark...   \n",
       "2758 2021-02-20 09:36:00.000           72_nad_nmn_nicotinamide_nad levels   \n",
       "2711 2021-02-20 09:36:00.000        14_muscle_sarcopenia_muscle mass_mass   \n",
       "2801 2021-02-20 09:36:00.000                137_mscs_wound_healing_wounds   \n",
       "2870 2022-04-14 07:12:00.000  7_gut_microbiome_microbiota_gut microbio...   \n",
       "2866 2022-04-14 07:12:00.000  3_senescent_senescent cells_senescence_c...   \n",
       "2877 2022-04-14 07:12:00.000       15_epigenetic_clocks_methylation_clock   \n",
       "2882 2022-04-14 07:12:00.000  20_inflammation_inflammatory_chronic_chr...   \n",
       "2893 2022-04-14 07:12:00.000  33_reprogramming_partial_partial reprogr...   \n",
       "2873 2022-04-14 07:12:00.000         10_exercise_brain_physical_cognitive   \n",
       "2902 2022-04-14 07:12:00.000               43_fibrosis_lung_pulmonary_ipf   \n",
       "2883 2022-04-14 07:12:00.000           21_dna_dna damage_mutations_damage   \n",
       "2898 2022-04-14 07:12:00.000  39_senolytic_senescent_senescent cells_q...   \n",
       "2888 2022-04-14 07:12:00.000  26_physical_physical activity_exercise_a...   \n",
       "2890 2022-04-14 07:12:00.000  30_amyloid_alzheimers_alzheimers disease...   \n",
       "2906 2022-04-14 07:12:00.000  52_hscs_hematopoietic_hematopoietic stem...   \n",
       "2875 2022-04-14 07:12:00.000      12_industry_companies_company_longevity   \n",
       "2876 2022-04-14 07:12:00.000        14_muscle_sarcopenia_muscle mass_mass   \n",
       "2896 2022-04-14 07:12:00.000  36_biological age_biological_age_biomark...   \n",
       "3024 2023-06-06 04:48:00.000  0_mitochondrial_mitochondria_mtdna_mitoc...   \n",
       "3031 2023-06-06 04:48:00.000  7_gut_microbiome_microbiota_gut microbio...   \n",
       "3041 2023-06-06 04:48:00.000  20_inflammation_inflammatory_chronic_chr...   \n",
       "3027 2023-06-06 04:48:00.000  3_senescent_senescent cells_senescence_c...   \n",
       "3036 2023-06-06 04:48:00.000       15_epigenetic_clocks_methylation_clock   \n",
       "3035 2023-06-06 04:48:00.000        14_muscle_sarcopenia_muscle mass_mass   \n",
       "3034 2023-06-06 04:48:00.000      12_industry_companies_company_longevity   \n",
       "3054 2023-06-06 04:48:00.000  36_biological age_biological_age_biomark...   \n",
       "3057 2023-06-06 04:48:00.000  39_senolytic_senescent_senescent cells_q...   \n",
       "3040 2023-06-06 04:48:00.000  19_immune_immunosenescence_cells_immunit...   \n",
       "3123 2023-06-06 04:48:00.000  149_gut_microbiome_gut microbiome_alzhei...   \n",
       "3028 2023-06-06 04:48:00.000       4_telomere_telomeres_telomerase_length   \n",
       "3051 2023-06-06 04:48:00.000  33_reprogramming_partial_partial reprogr...   \n",
       "3067 2023-06-06 04:48:00.000  55_vesicles_exosomes_evs_extracellular v...   \n",
       "3073 2023-06-06 04:48:00.000             69_klotho_fgf_kidney_klotho gene   \n",
       "3169 2024-07-28 02:24:00.000  0_mitochondrial_mitochondria_mtdna_mitoc...   \n",
       "3175 2024-07-28 02:24:00.000  7_gut_microbiome_microbiota_gut microbio...   \n",
       "3172 2024-07-28 02:24:00.000  3_senescent_senescent cells_senescence_c...   \n",
       "3180 2024-07-28 02:24:00.000       15_epigenetic_clocks_methylation_clock   \n",
       "3185 2024-07-28 02:24:00.000  20_inflammation_inflammatory_chronic_chr...   \n",
       "3198 2024-07-28 02:24:00.000  36_biological age_biological_age_biomark...   \n",
       "3179 2024-07-28 02:24:00.000        14_muscle_sarcopenia_muscle mass_mass   \n",
       "3204 2024-07-28 02:24:00.000  42_parkinsons_parkinsons disease_synucle...   \n",
       "3210 2024-07-28 02:24:00.000  52_hscs_hematopoietic_hematopoietic stem...   \n",
       "3259 2024-07-28 02:24:00.000  128_pollution_air_air pollution_particul...   \n",
       "3195 2024-07-28 02:24:00.000  33_reprogramming_partial_partial reprogr...   \n",
       "3184 2024-07-28 02:24:00.000  19_immune_immunosenescence_cells_immunit...   \n",
       "3309 2024-07-28 02:24:00.000       229_epigenetic_physical_clocks_fitness   \n",
       "3177 2024-07-28 02:24:00.000         10_exercise_brain_physical_cognitive   \n",
       "3186 2024-07-28 02:24:00.000           21_dna_dna damage_mutations_damage   \n",
       "\n",
       "      Year                                       N-Grams_List  \\\n",
       "30    2002          [theraputic cloning, therapeutic cloning]   \n",
       "5     2002                [stem cells, stem cell, adult stem]   \n",
       "10    2002     [stem cell research, cell research, stem cell]   \n",
       "29    2002                              [calorie restriction]   \n",
       "34    2002            [council bioethics, presidents council]   \n",
       "21    2002                               [antiaging medicine]   \n",
       "71    2002  [stem cell research, cell research, european p...   \n",
       "8     2002              [stem cells, stem cell, heart damage]   \n",
       "25    2002                              [alzheimers research]   \n",
       "40    2002  [life extension, healthy life extension, healt...   \n",
       "57    2002     [longevity meme, link httpwwwlongevitymemeorg]   \n",
       "67    2002  [cancer research, advocacy funding, cancer tre...   \n",
       "77    2002  [methuselah mouse, mouse prize, methuselah mou...   \n",
       "88    2002                              [suspended animation]   \n",
       "4     2002          [telomere aging theories, telomere aging]   \n",
       "107   2003     [stem cell research, cell research, stem cell]   \n",
       "119   2003        [antiaging marketplace, antiaging medicine]   \n",
       "134   2003                                        [leon kass]   \n",
       "103   2003            [stem cells, stem cell, embryonic stem]   \n",
       "130   2003              [therapeutic cloning, united nations]   \n",
       "153   2003     [stem cell research, cell research, stem cell]   \n",
       "104   2003                                      [aubrey grey]   \n",
       "98    2003                                [mitochondrial dna]   \n",
       "129   2003                              [calorie restriction]   \n",
       "140   2003  [life extension, healthy life, healthy life ex...   \n",
       "148   2003                    [stem cell, stem cell research]   \n",
       "102   2003                                  [telomere length]   \n",
       "123   2003          [alzheimers research, alzheimers disease]   \n",
       "106   2003                [stem cells, adult stem, stem cell]   \n",
       "164   2003     [stem cell, stem cell research, cell research]   \n",
       "245   2005            [aubrey grey, biomedical gerontologist]   \n",
       "243   2005            [stem cells, embryonic stem, stem cell]   \n",
       "238   2005                                [mitochondrial dna]   \n",
       "248   2005                            [stem cells, stem cell]   \n",
       "250   2005     [stem cell research, cell research, stem cell]   \n",
       "293   2005                      [dna sequencing, open source]   \n",
       "305   2005     [stem cell, stem cell research, cell research]   \n",
       "262   2005                            [methuselah foundation]   \n",
       "267   2005        [antiaging medicine, antiaging marketplace]   \n",
       "307   2005                                   [robert freitas]   \n",
       "242   2005                                  [telomere length]   \n",
       "289   2005                                       [stem cells]   \n",
       "322   2005     [stem cell, stem cell research, cell research]   \n",
       "239   2005                                 [cryonics society]   \n",
       "277   2005                               [tissue engineering]   \n",
       "408   2006                                [mitochondrial dna]   \n",
       "433   2006                            [methuselah foundation]   \n",
       "434   2006       [cancer stem, cancer stem cells, stem cells]   \n",
       "411   2006                                  [telomere length]   \n",
       "418   2006                            [stem cells, stem cell]   \n",
       "412   2006  [stem cells, embryonic stem, embryonic stem ce...   \n",
       "444   2006          [alzheimers research, alzheimers disease]   \n",
       "415   2006            [aubrey grey, biomedical gerontologist]   \n",
       "451   2006                              [calorie restriction]   \n",
       "465   2006  [life extension, healthy life extension, healt...   \n",
       "438   2006        [antiaging medicine, antiaging marketplace]   \n",
       "448   2006                               [tissue engineering]   \n",
       "484   2006                                     [cancer cells]   \n",
       "427   2006                           [dna damage, dna repair]   \n",
       "437   2006                                   [restore vision]   \n",
       "590   2007                                [mitochondrial dna]   \n",
       "597   2007            [aubrey grey, biomedical gerontologist]   \n",
       "593   2007                                  [telomere length]   \n",
       "594   2007                       [stem cells, embryonic stem]   \n",
       "615   2007       [cancer stem, cancer stem cells, stem cells]   \n",
       "616   2007                            [stem cells, stem cell]   \n",
       "609   2007                          [dna damage, nuclear dna]   \n",
       "613   2007                               [advanced glycation]   \n",
       "614   2007                            [methuselah foundation]   \n",
       "653   2007                                    [blood vessels]   \n",
       "599   2007                         [stem cells, heart muscle]   \n",
       "607   2007                       [naive tcells, aging immune]   \n",
       "664   2007                              [calorie restriction]   \n",
       "674   2007                   [parkinsons disease, stem cells]   \n",
       "631   2007              [cartilage cells, tissue engineering]   \n",
       "757   2008                                [mitochondrial dna]   \n",
       "761   2008                                  [telomere length]   \n",
       "762   2008                                       [stem cells]   \n",
       "781   2008                            [methuselah foundation]   \n",
       "782   2008       [cancer stem, cancer stem cells, stem cells]   \n",
       "921   2008                     [blog carnival, biology aging]   \n",
       "819   2008                                     [cancer cells]   \n",
       "765   2008            [aubrey grey, biomedical gerontologist]   \n",
       "771   2008                                     [visceral fat]   \n",
       "798   2008                               [tissue engineering]   \n",
       "818   2008              [methionine restriction, amino acids]   \n",
       "794   2008                               [parkinsons disease]   \n",
       "828   2008                                      [human brain]   \n",
       "832   2008                               [alzheimers disease]   \n",
       "773   2008                                     [memory cells]   \n",
       "935   2009                                [mitochondrial dna]   \n",
       "942   2009                                      [aubrey grey]   \n",
       "939   2009                                  [telomere length]   \n",
       "940   2009                                       [stem cells]   \n",
       "950   2009                                  [human longevity]   \n",
       "947   2009                      [muscle mass, muscle protein]   \n",
       "966   2009                                      [spinal cord]   \n",
       "994   2009                 [cancer cells, gold nanoparticles]   \n",
       "951   2009                                    [innate immune]   \n",
       "957   2009                [methuselah foundation, donors key]   \n",
       "973   2009                                 [cartilage tissue]   \n",
       "943   2009                                  [sens foundation]   \n",
       "946   2009                               [lifestar institute]   \n",
       "958   2009       [cancer stem, cancer stem cells, stem cells]   \n",
       "961   2009                             [retinitis pigmentosa]   \n",
       "1104  2010                                [mitochondrial dna]   \n",
       "1152  2010                  [naked mole, mole rat, mole rats]   \n",
       "1109  2010                                       [stem cells]   \n",
       "1108  2010                                  [telomere length]   \n",
       "1113  2010             [sens foundation, academic initiative]   \n",
       "1119  2010                                       [blood type]   \n",
       "1120  2010                                     [immune cells]   \n",
       "1112  2010                     [aubrey grey, sens foundation]   \n",
       "1158  2010                 [dna sequencing, open development]   \n",
       "1165  2010                                    [blood vessels]   \n",
       "1167  2010                                     [cancer cells]   \n",
       "1115  2010                                       [stem cells]   \n",
       "1116  2010                                      [muscle mass]   \n",
       "1122  2010      [dna damage, nuclear dna, nuclear dna damage]   \n",
       "1144  2010             [tissue engineering, cartilage tissue]   \n",
       "1279  2011                                [mitochondrial dna]   \n",
       "1283  2011                                  [telomere length]   \n",
       "1287  2011                                      [aubrey grey]   \n",
       "1281  2011                                       [slow aging]   \n",
       "1289  2011                                [physical activity]   \n",
       "1282  2011                                  [senescent cells]   \n",
       "1288  2011             [sens foundation, academic initiative]   \n",
       "1313  2011                                      [spinal cord]   \n",
       "1339  2011                                    [blood vessels]   \n",
       "1394  2011                                  [political party]   \n",
       "1322  2011       [life expectancy, pharmaceutical innovation]   \n",
       "1346  2011                                      [human brain]   \n",
       "1284  2011                                       [stem cells]   \n",
       "1304  2011               [physical activity, life expectancy]   \n",
       "1305  2011       [cancer stem, cancer stem cells, stem cells]   \n",
       "1452  2013                                [mitochondrial dna]   \n",
       "1461  2013  [sens research, research foundation, sens rese...   \n",
       "1454  2013                                 [programmed aging]   \n",
       "1456  2013                                  [telomere length]   \n",
       "1476  2013                               [advanced glycation]   \n",
       "1468  2013                                       [fat tissue]   \n",
       "1457  2013                                       [stem cells]   \n",
       "1480  2013                            [stem cell, stem cells]   \n",
       "1489  2013                                      [spinal cord]   \n",
       "1460  2013                                      [aubrey grey]   \n",
       "1475  2013                              [calorie restriction]   \n",
       "1477  2013                                [physical activity]   \n",
       "1527  2013                                   [mind uploading]   \n",
       "1455  2013             [senescent cells, cellular senescence]   \n",
       "1505  2013                                     [memory cells]   \n",
       "1630  2014                                [mitochondrial dna]   \n",
       "1639  2014  [sens research, sens research foundation, rese...   \n",
       "1634  2014                                  [telomere length]   \n",
       "1654  2014                               [advanced glycation]   \n",
       "1633  2014             [senescent cells, cellular senescence]   \n",
       "1635  2014                                       [stem cells]   \n",
       "1657  2014                            [stem cells, stem cell]   \n",
       "1739  2014                       [heat shock, shock proteins]   \n",
       "1638  2014                                      [aubrey grey]   \n",
       "1655  2014                                [physical activity]   \n",
       "1658  2014                               [alzheimers disease]   \n",
       "1644  2014                                  [dna methylation]   \n",
       "1646  2014                                      [weight loss]   \n",
       "1666  2014                                      [spinal cord]   \n",
       "1675  2014                [cartilage cells, cartilage tissue]   \n",
       "1811  2015                                [mitochondrial dna]   \n",
       "1819  2015  [sens research, sens research foundation, rese...   \n",
       "1815  2015                                  [telomere length]   \n",
       "1834  2015                               [advanced glycation]   \n",
       "1848  2015                                      [sea urchins]   \n",
       "1814  2015                                  [senescent cells]   \n",
       "1830  2015                          [dna damage, nuclear dna]   \n",
       "1863  2015                                    [cmv infection]   \n",
       "1877  2015                                    [aging disease]   \n",
       "1892  2015  [major mouse, testing program, major mouse tes...   \n",
       "1835  2015                                [physical activity]   \n",
       "1821  2015                         [stem cells, heart muscle]   \n",
       "1838  2015                            [stem cells, stem cell]   \n",
       "1922  2015                             [systemic amyloidosis]   \n",
       "1823  2015                     [skeletal muscle, muscle mass]   \n",
       "1995  2016                                [mitochondrial dna]   \n",
       "1998  2016                                  [senescent cells]   \n",
       "2004  2016  [sens research, sens research foundation, rese...   \n",
       "2035  2016                               [pulmonary fibrosis]   \n",
       "2013  2016                                     [memory cells]   \n",
       "2001  2016                                  [ldl cholesterol]   \n",
       "2009  2016                                  [dna methylation]   \n",
       "2132  2016                                  [senescent cells]   \n",
       "1999  2016                                  [telomere length]   \n",
       "2008  2016                                      [muscle mass]   \n",
       "2072  2016                                      [young blood]   \n",
       "2016  2016                                   [bone formation]   \n",
       "2022  2016                               [alzheimers disease]   \n",
       "2028  2016                                   [biological age]   \n",
       "2033  2016                               [alzheimers disease]   \n",
       "2187  2017                                [mitochondrial dna]   \n",
       "2190  2017                                  [senescent cells]   \n",
       "2195  2017  [sens research, sens research foundation, rese...   \n",
       "2191  2017                                  [telomere length]   \n",
       "2211  2017                                [physical activity]   \n",
       "2224  2017                                  [senescent cells]   \n",
       "2237  2017                           [extracellular vesicles]   \n",
       "2252  2017                              [cerebrospinal fluid]   \n",
       "2228  2017                               [pulmonary fibrosis]   \n",
       "2229  2017                               [alzheimers disease]   \n",
       "2193  2017                                   [gut microbiota]   \n",
       "2199  2017                                      [muscle mass]   \n",
       "2206  2017                                       [dna damage]   \n",
       "2215  2017                               [alzheimers disease]   \n",
       "2239  2017                                      [new neurons]   \n",
       "2369  2018                                [mitochondrial dna]   \n",
       "2372  2018                                  [senescent cells]   \n",
       "2376  2018                                   [gut microbiome]   \n",
       "2382  2018                                      [muscle mass]   \n",
       "2373  2018                                  [telomere length]   \n",
       "2406  2018                               [parkinsons disease]   \n",
       "2416  2018                                      [new neurons]   \n",
       "2472  2018                               [alzheimers disease]   \n",
       "2378  2018  [sens research, sens research foundation, rese...   \n",
       "2397  2018                               [alzheimers disease]   \n",
       "2414  2018                           [extracellular vesicles]   \n",
       "2389  2018                                       [dna damage]   \n",
       "2426  2018                                       [nad levels]   \n",
       "2383  2018               [dna methylation, epigenetic clocks]   \n",
       "2394  2018                                [physical activity]   \n",
       "2537  2019                                [mitochondrial dna]   \n",
       "2539  2019                                  [senescent cells]   \n",
       "2546  2019                               [longevity industry]   \n",
       "2542  2019                   [gut microbiome, gut microbiota]   \n",
       "2592  2019                                       [nad levels]   \n",
       "2569  2019                                  [senescent cells]   \n",
       "2553  2019                             [chronic inflammation]   \n",
       "2579  2019                  [hematopoietic stem, bone marrow]   \n",
       "2544  2019                                [physical activity]   \n",
       "2559  2019                                [physical activity]   \n",
       "2581  2019                           [extracellular vesicles]   \n",
       "2547  2019                                      [muscle mass]   \n",
       "2551  2019                                 [genetic variants]   \n",
       "2567  2019                                      [sex steroid]   \n",
       "2588  2019                             [macular degeneration]   \n",
       "2699  2021        [mitochondrial function, mitochondrial dna]   \n",
       "2706  2021                                   [gut microbiome]   \n",
       "2702  2021                                  [senescent cells]   \n",
       "2729  2021          [partial reprogramming, yamanaka factors]   \n",
       "2735  2021                                  [senescent cells]   \n",
       "2710  2021                               [longevity industry]   \n",
       "2712  2021                                [epigenetic clocks]   \n",
       "2722  2021                                [physical activity]   \n",
       "2744  2021                           [extracellular vesicles]   \n",
       "2716  2021                                       [cdcd ratio]   \n",
       "2717  2021                             [chronic inflammation]   \n",
       "2732  2021                                   [biological age]   \n",
       "2758  2021                                       [nad levels]   \n",
       "2711  2021                                      [muscle mass]   \n",
       "2801  2021                                 [mesenchymal stem]   \n",
       "2870  2022                   [gut microbiome, gut microbiota]   \n",
       "2866  2022                                  [senescent cells]   \n",
       "2877  2022                                [epigenetic clocks]   \n",
       "2882  2022                             [chronic inflammation]   \n",
       "2893  2022          [partial reprogramming, yamanaka factors]   \n",
       "2873  2022                                [physical activity]   \n",
       "2902  2022                               [pulmonary fibrosis]   \n",
       "2883  2022                                       [dna damage]   \n",
       "2898  2022                                  [senescent cells]   \n",
       "2888  2022                                [physical activity]   \n",
       "2890  2022                               [alzheimers disease]   \n",
       "2906  2022                  [hematopoietic stem, bone marrow]   \n",
       "2875  2022                               [longevity industry]   \n",
       "2876  2022                                      [muscle mass]   \n",
       "2896  2022                                   [biological age]   \n",
       "3024  2023                           [mitochondrial function]   \n",
       "3031  2023                   [gut microbiome, gut microbiota]   \n",
       "3041  2023                             [chronic inflammation]   \n",
       "3027  2023                                  [senescent cells]   \n",
       "3036  2023               [epigenetic clocks, dna methylation]   \n",
       "3035  2023                                      [muscle mass]   \n",
       "3034  2023                               [longevity industry]   \n",
       "3054  2023                                   [biological age]   \n",
       "3057  2023                                  [senescent cells]   \n",
       "3040  2023                                      [immune cell]   \n",
       "3123  2023                                   [gut microbiome]   \n",
       "3028  2023                                  [telomere length]   \n",
       "3051  2023          [partial reprogramming, yamanaka factors]   \n",
       "3067  2023                           [extracellular vesicles]   \n",
       "3073  2023                      [serum klotho, klotho levels]   \n",
       "3169  2024        [mitochondrial dna, mitochondrial function]   \n",
       "3175  2024                   [gut microbiome, gut microbiota]   \n",
       "3172  2024                                  [senescent cells]   \n",
       "3180  2024                                [epigenetic clocks]   \n",
       "3185  2024                             [chronic inflammation]   \n",
       "3198  2024                                   [biological age]   \n",
       "3179  2024                                      [muscle mass]   \n",
       "3204  2024                               [parkinsons disease]   \n",
       "3210  2024     [hematopoietic stem, hematopoietic stem cells]   \n",
       "3259  2024                                    [air pollution]   \n",
       "3195  2024          [partial reprogramming, yamanaka factors]   \n",
       "3184  2024                  [immune resilience, immune aging]   \n",
       "3309  2024                                [physical activity]   \n",
       "3177  2024                                [physical activity]   \n",
       "3186  2024                           [dna damage, dna repair]   \n",
       "\n",
       "                                  Interpreted_Name  \n",
       "30                               Thera cloning ban  \n",
       "5                         embryonic stem cell cell  \n",
       "10                         Stem cell research stem  \n",
       "29       calorie restriction restricti - wikipedia  \n",
       "34                     council bioethics kass leon  \n",
       "21                    antiaging marketplace medics  \n",
       "71                       ban on stem cell research  \n",
       "8                      heart stem stem cells cells  \n",
       "25                      alzheimers disease brain d  \n",
       "40           Life Extension Extension Life Healthy  \n",
       "57                            spam server category  \n",
       "67            cancer rates: cancer mortality rates  \n",
       "77                             mouse mouse prize m  \n",
       "88       suspension animation animation suspension  \n",
       "4                                telomerase length  \n",
       "107                        Stem cell research stem  \n",
       "119                   antiaging marketplace medics  \n",
       "134                    council bioethics kass leon  \n",
       "103                       embryonic stem cell cell  \n",
       "130                              Thera cloning ban  \n",
       "153                  california stem cell research  \n",
       "104                          grey aubrey grey sens  \n",
       "98                mitochondrial mitochondria mtdna  \n",
       "129      calorie restriction restricti - wikipedia  \n",
       "140          Life Extension Extension Life Healthy  \n",
       "148                    stem stem cell research cel  \n",
       "102                              telomerase length  \n",
       "123                     alzheimers disease brain d  \n",
       "106                    heart stem stem cells cells  \n",
       "164                          stem cell research ce  \n",
       "245                          grey aubrey grey sens  \n",
       "243                       embryonic stem cell cell  \n",
       "238               mitochondrial mitochondria mtdna  \n",
       "248                    heart stem stem cells cells  \n",
       "250                        Stem cell research stem  \n",
       "293                Biotechnology Software Sequence  \n",
       "305                    stem stem cell research cel  \n",
       "262              Funding for methuselah foundation  \n",
       "267                   antiaging marketplace medics  \n",
       "307   Nanotechnology Manufactured for Nanomedicine  \n",
       "242                              telomerase length  \n",
       "289                       Brain neurons stem cells  \n",
       "322                          stem cell research ce  \n",
       "239                      cryonics alcor cryopreser  \n",
       "277                 Organ engineering tissue engin  \n",
       "408               mitochondrial mitochondria mtdna  \n",
       "433              Funding for methuselah foundation  \n",
       "434           cancer stem cancer stem cells cancer  \n",
       "411                              telomerase length  \n",
       "418                    heart stem stem cells cells  \n",
       "412                       embryonic stem cell cell  \n",
       "444                     alzheimers disease brain d  \n",
       "415                          grey aubrey grey sens  \n",
       "451      calorie restriction restricti - wikipedia  \n",
       "465          Life Extension Extension Life Healthy  \n",
       "438                   antiaging marketplace medics  \n",
       "448                 Organ engineering tissue engin  \n",
       "484                  cancer metastasis cancer cell  \n",
       "427                           dna damage mutations  \n",
       "437                             retinal eye vision  \n",
       "590               mitochondrial mitochondria mtdna  \n",
       "597                          grey aubrey grey sens  \n",
       "593                              telomerase length  \n",
       "594                       embryonic stem cell cell  \n",
       "615           cancer stem cancer stem cells cancer  \n",
       "616                        stem cell cell category  \n",
       "609                           dna damage mutations  \n",
       "613                    glucose pane glycation rage  \n",
       "614              Funding for methuselah foundation  \n",
       "653                          vessels blood vessels  \n",
       "599                    heart stem stem cells cells  \n",
       "607                         Immunosenescence cells  \n",
       "664   resveratrol restriction: calorie restriction  \n",
       "674                   dopamine neurons in parkinso  \n",
       "631                       cartilage tissue vs. joi  \n",
       "757               mitochondrial mitochondria mtdna  \n",
       "761                              telomerase length  \n",
       "762                       embryonic stem cell cell  \n",
       "781              Funding for methuselah foundation  \n",
       "782           cancer stem cancer stem cells cancer  \n",
       "921                        carnival hourglass blog  \n",
       "819          Nanoparticles for cancer cancer cells  \n",
       "765                          grey aubrey grey sens  \n",
       "771                           Weight-loss category  \n",
       "798                 Organ engineering tissue engin  \n",
       "818                                 methionine res  \n",
       "794                     parkinsons disease synucle  \n",
       "828                     brain mind uploading brain  \n",
       "832                   diabetes alzheimer type diab  \n",
       "773                         Immunosenescence cells  \n",
       "935               mitochondrial mitochondria mtdna  \n",
       "942                          grey aubrey grey sens  \n",
       "939                              telomerase length  \n",
       "940                       embryonic stem cell cell  \n",
       "950                  Genetic variants of longevity  \n",
       "947                                     sarcopenia  \n",
       "966                      spinal cord cord category  \n",
       "994          Nanoparticles for cancer cancer cells  \n",
       "951                         Immunosenescence cells  \n",
       "957              Funding for methuselah foundation  \n",
       "973                       cartilage tissue vs. joi  \n",
       "943                                Sentence 1: res  \n",
       "946           industry companies company longevity  \n",
       "958           cancer stem cancer stem cells cancer  \n",
       "961                             retinal eye vision  \n",
       "1104              mitochondrial mitochondria mtdna  \n",
       "1152                          naked mole mole rats  \n",
       "1109                      embryonic stem cell cell  \n",
       "1108                             telomerase length  \n",
       "1113                               Sentence 1: res  \n",
       "1119                 Genetic variants of longevity  \n",
       "1120                        Immunosenescence cells  \n",
       "1112                         grey aubrey grey sens  \n",
       "1158               Biotechnology Software Sequence  \n",
       "1165                         vessels blood vessels  \n",
       "1167         Nanoparticles for cancer cancer cells  \n",
       "1115                   heart stem stem cells cells  \n",
       "1116                                    sarcopenia  \n",
       "1122                          dna damage mutations  \n",
       "1144                      cartilage tissue vs. joi  \n",
       "1279              mitochondrial mitochondria mtdna  \n",
       "1283                             telomerase length  \n",
       "1287                         grey aubrey grey sens  \n",
       "1281                   aging damage research slows  \n",
       "1289             exercise brain physical cognition  \n",
       "1282                                  senescence c  \n",
       "1288                               Sentence 1: res  \n",
       "1313                     spinal cord cord category  \n",
       "1339                         vessels blood vessels  \n",
       "1394            russian science party science life  \n",
       "1322         Life expectancy expectancy life death  \n",
       "1346                    brain mind uploading brain  \n",
       "1284                      embryonic stem cell cell  \n",
       "1304                           physical activity a  \n",
       "1305          cancer stem cancer stem cells cancer  \n",
       "1452              mitochondrial mitochondria mtdna  \n",
       "1461                               Sentence 1: res  \n",
       "1454                   aging damage research slows  \n",
       "1456                             telomerase length  \n",
       "1476                   glucose pane glycation rage  \n",
       "1468                          Weight-loss category  \n",
       "1457                      embryonic stem cell cell  \n",
       "1480                       stem cell cell category  \n",
       "1489                     spinal cord cord category  \n",
       "1460                         grey aubrey grey sens  \n",
       "1475                                 sirt sirtuins  \n",
       "1477                           physical activity a  \n",
       "1527                    brain mind uploading brain  \n",
       "1455                                  senescence c  \n",
       "1505                     cytomegalovirus infection  \n",
       "1630              mitochondrial mitochondria mtdna  \n",
       "1639                               Sentence 1: res  \n",
       "1634                             telomerase length  \n",
       "1654                   glucose pane glycation rage  \n",
       "1633                                  senescence c  \n",
       "1635                      embryonic stem cell cell  \n",
       "1657                       stem cell cell category  \n",
       "1739                                heat shock hsp  \n",
       "1638                         grey aubrey grey sens  \n",
       "1655                           physical activity a  \n",
       "1658                    Amyloid alzheimers disease  \n",
       "1644                             Epigenetic clocks  \n",
       "1646                          Weight-loss category  \n",
       "1666                     spinal cord cord category  \n",
       "1675                      cartilage tissue vs. joi  \n",
       "1811              mitochondrial mitochondria mtdna  \n",
       "1819                               Sentence 1: res  \n",
       "1815                             telomerase length  \n",
       "1834                   glucose pane glycation rage  \n",
       "1848                     species sea hydra animals  \n",
       "1814                                  senescence c  \n",
       "1830                          dna damage mutations  \n",
       "1863                     cytomegalovirus infection  \n",
       "1877                             aging disease icd  \n",
       "1892                               mouse testing p  \n",
       "1835                           physical activity a  \n",
       "1821                   heart stem stem cells cells  \n",
       "1838                       stem cell cell category  \n",
       "1922              Amyloidosis transthyretin amyloi  \n",
       "1823                                    sarcopenia  \n",
       "1995              mitochondrial mitochondria mtdna  \n",
       "1998                                  senescence c  \n",
       "2004                               Sentence 1: res  \n",
       "2035                        fibrosis pulmonary ipf  \n",
       "2013                        Immunosenescence cells  \n",
       "2001            cholesterol atherosclerosis plaque  \n",
       "2009                             Epigenetic clocks  \n",
       "2132                         oisin cell senescence  \n",
       "1999                             telomerase length  \n",
       "2008                                    sarcopenia  \n",
       "2072                              parabiosis blood  \n",
       "2016                           Osteoblasts osteocl  \n",
       "2022                    Amyloid alzheimers disease  \n",
       "2028                        biological age biomark  \n",
       "2033                    alzheimers disease brain d  \n",
       "2187              mitochondrial mitochondria mtdna  \n",
       "2190                                  senescence c  \n",
       "2195                               Sentence 1: res  \n",
       "2191                             telomerase length  \n",
       "2211                           physical activity a  \n",
       "2224                   Senolytic senescent cells q  \n",
       "2237                             vesicles exosomes  \n",
       "2252          Fluid drainage cerebrospinal cerebro  \n",
       "2228                        fibrosis pulmonary ipf  \n",
       "2229                         tau alzheimer tangles  \n",
       "2193                       microbiota gut microbio  \n",
       "2199                                    sarcopenia  \n",
       "2206                          dna damage mutations  \n",
       "2215                    Amyloid alzheimers disease  \n",
       "2239              neurogenesis neurons new neurons  \n",
       "2369              mitochondrial mitochondria mtdna  \n",
       "2372                                  senescence c  \n",
       "2376                       microbiota gut microbio  \n",
       "2382                                    sarcopenia  \n",
       "2373                             telomerase length  \n",
       "2406                    parkinsons disease synucle  \n",
       "2416              neurogenesis neurons new neurons  \n",
       "2472                  Amyloid microglia alzheimers  \n",
       "2378                               Sentence 1: res  \n",
       "2397                    Amyloid alzheimers disease  \n",
       "2414                             vesicles exosomes  \n",
       "2389                          dna damage mutations  \n",
       "2426                       nicotinamide nad levels  \n",
       "2383                             Epigenetic clocks  \n",
       "2394                           physical activity a  \n",
       "2537              mitochondrial mitochondria mtdna  \n",
       "2539                                  senescence c  \n",
       "2546          industry companies company longevity  \n",
       "2542                       microbiota gut microbio  \n",
       "2592                       nicotinamide nad levels  \n",
       "2569                   Senolytic senescent cells q  \n",
       "2553                      inflammatory chronic chr  \n",
       "2579                       hscs hematopoietic stem  \n",
       "2544             exercise brain physical cognition  \n",
       "2559                           physical activity a  \n",
       "2581                             vesicles exosomes  \n",
       "2547                                    sarcopenia  \n",
       "2551                 Genetic variants of longevity  \n",
       "2567                      thymus immune involution  \n",
       "2588                     macular degeneration dege  \n",
       "2699              mitochondrial mitochondria mtdna  \n",
       "2706                       microbiota gut microbio  \n",
       "2702                                  senescence c  \n",
       "2729         reprogramming partial partial reprogr  \n",
       "2735                   Senolytic senescent cells q  \n",
       "2710          industry companies company longevity  \n",
       "2712                             Epigenetic clocks  \n",
       "2722                           physical activity a  \n",
       "2744                             vesicles exosomes  \n",
       "2716                        Immunosenescence cells  \n",
       "2717                      inflammatory chronic chr  \n",
       "2732                        biological age biomark  \n",
       "2758                       nicotinamide nad levels  \n",
       "2711                                    sarcopenia  \n",
       "2801                            mscs wound healing  \n",
       "2870                       microbiota gut microbio  \n",
       "2866                                  senescence c  \n",
       "2877                             Epigenetic clocks  \n",
       "2882                      inflammatory chronic chr  \n",
       "2893         reprogramming partial partial reprogr  \n",
       "2873             exercise brain physical cognition  \n",
       "2902                        fibrosis pulmonary ipf  \n",
       "2883                          dna damage mutations  \n",
       "2898                   Senolytic senescent cells q  \n",
       "2888                           physical activity a  \n",
       "2890                    Amyloid alzheimers disease  \n",
       "2906                       hscs hematopoietic stem  \n",
       "2875          industry companies company longevity  \n",
       "2876                                    sarcopenia  \n",
       "2896                        biological age biomark  \n",
       "3024              mitochondrial mitochondria mtdna  \n",
       "3031                       microbiota gut microbio  \n",
       "3041                      inflammatory chronic chr  \n",
       "3027                                  senescence c  \n",
       "3036                             Epigenetic clocks  \n",
       "3035                                    sarcopenia  \n",
       "3034          industry companies company longevity  \n",
       "3054                        biological age biomark  \n",
       "3057                   Senolytic senescent cells q  \n",
       "3040                        Immunosenescence cells  \n",
       "3123                         Alzhei gut microbiome  \n",
       "3028                             telomerase length  \n",
       "3051         reprogramming partial partial reprogr  \n",
       "3067                             vesicles exosomes  \n",
       "3073                                    klotho fgf  \n",
       "3169              mitochondrial mitochondria mtdna  \n",
       "3175                       microbiota gut microbio  \n",
       "3172                                  senescence c  \n",
       "3180                             Epigenetic clocks  \n",
       "3185                      inflammatory chronic chr  \n",
       "3198                        biological age biomark  \n",
       "3179                                    sarcopenia  \n",
       "3204                    parkinsons disease synucle  \n",
       "3210                       hscs hematopoietic stem  \n",
       "3259                        Particulate particules  \n",
       "3195         reprogramming partial partial reprogr  \n",
       "3184                        Immunosenescence cells  \n",
       "3309             Epigenetic physical clock fitness  \n",
       "3177             exercise brain physical cognition  \n",
       "3186                          dna damage mutations  "
      ]
     },
     "metadata": {},
     "output_type": "display_data"
    }
   ],
   "source": [
    "# 4. Display the final, synchronized result\n",
    "print(\"\\n--- Summary Table with Interpreted Names ---\")\n",
    "# display(top_15_summary_table[[\n",
    "#     'Year', \n",
    "#     'Topic', \n",
    "#     'Name',\n",
    "#     'Interpreted_Name', \n",
    "#     'N-Grams_List', \n",
    "#     'Frequency'\n",
    "# ]])\n",
    "\n",
    "# # --- Temporarily set pandas display options to show all rows ---\n",
    "with pd.option_context('display.max_rows', None, 'display.max_columns', None):\n",
    "    # Display the resulting summary table, now including Topic ID and the N-Grams\n",
    "    display(top_15_summary_table)\n"
   ]
  },
  {
   "cell_type": "code",
   "execution_count": 12,
   "id": "547892b9",
   "metadata": {},
   "outputs": [
    {
     "name": "stdout",
     "output_type": "stream",
     "text": [
      "\n",
      "--- Generating Faceted Plot: Top 5 Topics per Year ---\n"
     ]
    },
    {
     "data": {
      "application/vnd.plotly.v1+json": {
       "config": {
        "plotlyServerURL": "https://plot.ly"
       },
       "data": [
        {
         "customdata": [
          [
           51,
           [
            "theraputic cloning",
            "therapeutic cloning"
           ]
          ]
         ],
         "hovertemplate": "Topic Name=%{x}<br>Year=2002<br>Frequency=%{y}<br>Topic=%{customdata[0]}<br>N-Grams_List=%{customdata[1]}<extra></extra>",
         "legendgroup": "51_cloning_ban_therapeutic cloning_thera...",
         "marker": {
          "color": "#636efa",
          "pattern": {
           "shape": ""
          }
         },
         "name": "51_cloning_ban_therapeutic cloning_thera...",
         "orientation": "v",
         "showlegend": true,
         "textposition": "auto",
         "type": "bar",
         "x": [
          "51_cloning_ban_therapeutic cloning_thera..."
         ],
         "xaxis": "x17",
         "y": {
          "bdata": "IA==",
          "dtype": "i1"
         },
         "yaxis": "y17"
        },
        {
         "customdata": [
          [
           51,
           [
            "therapeutic cloning",
            "united nations"
           ]
          ]
         ],
         "hovertemplate": "Topic Name=%{x}<br>Year=2003<br>Frequency=%{y}<br>Topic=%{customdata[0]}<br>N-Grams_List=%{customdata[1]}<extra></extra>",
         "legendgroup": "51_cloning_ban_therapeutic cloning_thera...",
         "marker": {
          "color": "#636efa",
          "pattern": {
           "shape": ""
          }
         },
         "name": "51_cloning_ban_therapeutic cloning_thera...",
         "orientation": "v",
         "showlegend": false,
         "textposition": "auto",
         "type": "bar",
         "x": [
          "51_cloning_ban_therapeutic cloning_thera..."
         ],
         "xaxis": "x18",
         "y": {
          "bdata": "HA==",
          "dtype": "i1"
         },
         "yaxis": "y18"
        },
        {
         "customdata": [
          [
           5,
           [
            "stem cells",
            "stem cell",
            "adult stem"
           ]
          ]
         ],
         "hovertemplate": "Topic Name=%{x}<br>Year=2002<br>Frequency=%{y}<br>Topic=%{customdata[0]}<br>N-Grams_List=%{customdata[1]}<extra></extra>",
         "legendgroup": "5_stem_stem cells_cells_embryonic",
         "marker": {
          "color": "#EF553B",
          "pattern": {
           "shape": ""
          }
         },
         "name": "5_stem_stem cells_cells_embryonic",
         "orientation": "v",
         "showlegend": true,
         "textposition": "auto",
         "type": "bar",
         "x": [
          "5_stem_stem cells_cells_embryonic"
         ],
         "xaxis": "x17",
         "y": {
          "bdata": "Fg==",
          "dtype": "i1"
         },
         "yaxis": "y17"
        },
        {
         "customdata": [
          [
           5,
           [
            "stem cells",
            "stem cell",
            "embryonic stem"
           ]
          ]
         ],
         "hovertemplate": "Topic Name=%{x}<br>Year=2003<br>Frequency=%{y}<br>Topic=%{customdata[0]}<br>N-Grams_List=%{customdata[1]}<extra></extra>",
         "legendgroup": "5_stem_stem cells_cells_embryonic",
         "marker": {
          "color": "#EF553B",
          "pattern": {
           "shape": ""
          }
         },
         "name": "5_stem_stem cells_cells_embryonic",
         "orientation": "v",
         "showlegend": false,
         "textposition": "auto",
         "type": "bar",
         "x": [
          "5_stem_stem cells_cells_embryonic"
         ],
         "xaxis": "x18",
         "y": {
          "bdata": "HA==",
          "dtype": "i1"
         },
         "yaxis": "y18"
        },
        {
         "customdata": [
          [
           5,
           [
            "stem cells",
            "embryonic stem",
            "stem cell"
           ]
          ]
         ],
         "hovertemplate": "Topic Name=%{x}<br>Year=2005<br>Frequency=%{y}<br>Topic=%{customdata[0]}<br>N-Grams_List=%{customdata[1]}<extra></extra>",
         "legendgroup": "5_stem_stem cells_cells_embryonic",
         "marker": {
          "color": "#EF553B",
          "pattern": {
           "shape": ""
          }
         },
         "name": "5_stem_stem cells_cells_embryonic",
         "orientation": "v",
         "showlegend": false,
         "textposition": "auto",
         "type": "bar",
         "x": [
          "5_stem_stem cells_cells_embryonic"
         ],
         "xaxis": "x19",
         "y": {
          "bdata": "JA==",
          "dtype": "i1"
         },
         "yaxis": "y19"
        },
        {
         "customdata": [
          [
           5,
           [
            "stem cells",
            "embryonic stem"
           ]
          ]
         ],
         "hovertemplate": "Topic Name=%{x}<br>Year=2007<br>Frequency=%{y}<br>Topic=%{customdata[0]}<br>N-Grams_List=%{customdata[1]}<extra></extra>",
         "legendgroup": "5_stem_stem cells_cells_embryonic",
         "marker": {
          "color": "#EF553B",
          "pattern": {
           "shape": ""
          }
         },
         "name": "5_stem_stem cells_cells_embryonic",
         "orientation": "v",
         "showlegend": false,
         "textposition": "auto",
         "type": "bar",
         "x": [
          "5_stem_stem cells_cells_embryonic"
         ],
         "xaxis": "x13",
         "y": {
          "bdata": "EA==",
          "dtype": "i1"
         },
         "yaxis": "y13"
        },
        {
         "customdata": [
          [
           5,
           [
            "stem cells"
           ]
          ]
         ],
         "hovertemplate": "Topic Name=%{x}<br>Year=2008<br>Frequency=%{y}<br>Topic=%{customdata[0]}<br>N-Grams_List=%{customdata[1]}<extra></extra>",
         "legendgroup": "5_stem_stem cells_cells_embryonic",
         "marker": {
          "color": "#EF553B",
          "pattern": {
           "shape": ""
          }
         },
         "name": "5_stem_stem cells_cells_embryonic",
         "orientation": "v",
         "showlegend": false,
         "textposition": "auto",
         "type": "bar",
         "x": [
          "5_stem_stem cells_cells_embryonic"
         ],
         "xaxis": "x14",
         "y": {
          "bdata": "Eg==",
          "dtype": "i1"
         },
         "yaxis": "y14"
        },
        {
         "customdata": [
          [
           5,
           [
            "stem cells"
           ]
          ]
         ],
         "hovertemplate": "Topic Name=%{x}<br>Year=2009<br>Frequency=%{y}<br>Topic=%{customdata[0]}<br>N-Grams_List=%{customdata[1]}<extra></extra>",
         "legendgroup": "5_stem_stem cells_cells_embryonic",
         "marker": {
          "color": "#EF553B",
          "pattern": {
           "shape": ""
          }
         },
         "name": "5_stem_stem cells_cells_embryonic",
         "orientation": "v",
         "showlegend": false,
         "textposition": "auto",
         "type": "bar",
         "x": [
          "5_stem_stem cells_cells_embryonic"
         ],
         "xaxis": "x15",
         "y": {
          "bdata": "DA==",
          "dtype": "i1"
         },
         "yaxis": "y15"
        },
        {
         "customdata": [
          [
           5,
           [
            "stem cells"
           ]
          ]
         ],
         "hovertemplate": "Topic Name=%{x}<br>Year=2010<br>Frequency=%{y}<br>Topic=%{customdata[0]}<br>N-Grams_List=%{customdata[1]}<extra></extra>",
         "legendgroup": "5_stem_stem cells_cells_embryonic",
         "marker": {
          "color": "#EF553B",
          "pattern": {
           "shape": ""
          }
         },
         "name": "5_stem_stem cells_cells_embryonic",
         "orientation": "v",
         "showlegend": false,
         "textposition": "auto",
         "type": "bar",
         "x": [
          "5_stem_stem cells_cells_embryonic"
         ],
         "xaxis": "x16",
         "y": {
          "bdata": "Cg==",
          "dtype": "i1"
         },
         "yaxis": "y16"
        },
        {
         "customdata": [
          [
           13,
           [
            "stem cell research",
            "cell research",
            "stem cell"
           ]
          ]
         ],
         "hovertemplate": "Topic Name=%{x}<br>Year=2002<br>Frequency=%{y}<br>Topic=%{customdata[0]}<br>N-Grams_List=%{customdata[1]}<extra></extra>",
         "legendgroup": "13_stem cell research_cell research_stem...",
         "marker": {
          "color": "#00cc96",
          "pattern": {
           "shape": ""
          }
         },
         "name": "13_stem cell research_cell research_stem...",
         "orientation": "v",
         "showlegend": true,
         "textposition": "auto",
         "type": "bar",
         "x": [
          "13_stem cell research_cell research_stem..."
         ],
         "xaxis": "x17",
         "y": {
          "bdata": "FQ==",
          "dtype": "i1"
         },
         "yaxis": "y17"
        },
        {
         "customdata": [
          [
           13,
           [
            "stem cell research",
            "cell research",
            "stem cell"
           ]
          ]
         ],
         "hovertemplate": "Topic Name=%{x}<br>Year=2003<br>Frequency=%{y}<br>Topic=%{customdata[0]}<br>N-Grams_List=%{customdata[1]}<extra></extra>",
         "legendgroup": "13_stem cell research_cell research_stem...",
         "marker": {
          "color": "#00cc96",
          "pattern": {
           "shape": ""
          }
         },
         "name": "13_stem cell research_cell research_stem...",
         "orientation": "v",
         "showlegend": false,
         "textposition": "auto",
         "type": "bar",
         "x": [
          "13_stem cell research_cell research_stem..."
         ],
         "xaxis": "x18",
         "y": {
          "bdata": "Rg==",
          "dtype": "i1"
         },
         "yaxis": "y18"
        },
        {
         "customdata": [
          [
           13,
           [
            "stem cell research",
            "cell research",
            "stem cell"
           ]
          ]
         ],
         "hovertemplate": "Topic Name=%{x}<br>Year=2005<br>Frequency=%{y}<br>Topic=%{customdata[0]}<br>N-Grams_List=%{customdata[1]}<extra></extra>",
         "legendgroup": "13_stem cell research_cell research_stem...",
         "marker": {
          "color": "#00cc96",
          "pattern": {
           "shape": ""
          }
         },
         "name": "13_stem cell research_cell research_stem...",
         "orientation": "v",
         "showlegend": false,
         "textposition": "auto",
         "type": "bar",
         "x": [
          "13_stem cell research_cell research_stem..."
         ],
         "xaxis": "x19",
         "y": {
          "bdata": "Fw==",
          "dtype": "i1"
         },
         "yaxis": "y19"
        },
        {
         "customdata": [
          [
           50,
           [
            "calorie restriction"
           ]
          ]
         ],
         "hovertemplate": "Topic Name=%{x}<br>Year=2002<br>Frequency=%{y}<br>Topic=%{customdata[0]}<br>N-Grams_List=%{customdata[1]}<extra></extra>",
         "legendgroup": "50_calorie_calorie restriction_restricti...",
         "marker": {
          "color": "#ab63fa",
          "pattern": {
           "shape": ""
          }
         },
         "name": "50_calorie_calorie restriction_restricti...",
         "orientation": "v",
         "showlegend": true,
         "textposition": "auto",
         "type": "bar",
         "x": [
          "50_calorie_calorie restriction_restricti..."
         ],
         "xaxis": "x17",
         "y": {
          "bdata": "FQ==",
          "dtype": "i1"
         },
         "yaxis": "y17"
        },
        {
         "customdata": [
          [
           60,
           [
            "council bioethics",
            "presidents council"
           ]
          ]
         ],
         "hovertemplate": "Topic Name=%{x}<br>Year=2002<br>Frequency=%{y}<br>Topic=%{customdata[0]}<br>N-Grams_List=%{customdata[1]}<extra></extra>",
         "legendgroup": "60_council_bioethics_kass_leon kass",
         "marker": {
          "color": "#FFA15A",
          "pattern": {
           "shape": ""
          }
         },
         "name": "60_council_bioethics_kass_leon kass",
         "orientation": "v",
         "showlegend": true,
         "textposition": "auto",
         "type": "bar",
         "x": [
          "60_council_bioethics_kass_leon kass"
         ],
         "xaxis": "x17",
         "y": {
          "bdata": "EQ==",
          "dtype": "i1"
         },
         "yaxis": "y17"
        },
        {
         "customdata": [
          [
           60,
           [
            "leon kass"
           ]
          ]
         ],
         "hovertemplate": "Topic Name=%{x}<br>Year=2003<br>Frequency=%{y}<br>Topic=%{customdata[0]}<br>N-Grams_List=%{customdata[1]}<extra></extra>",
         "legendgroup": "60_council_bioethics_kass_leon kass",
         "marker": {
          "color": "#FFA15A",
          "pattern": {
           "shape": ""
          }
         },
         "name": "60_council_bioethics_kass_leon kass",
         "orientation": "v",
         "showlegend": false,
         "textposition": "auto",
         "type": "bar",
         "x": [
          "60_council_bioethics_kass_leon kass"
         ],
         "xaxis": "x18",
         "y": {
          "bdata": "Hg==",
          "dtype": "i1"
         },
         "yaxis": "y18"
        },
        {
         "customdata": [
          [
           32,
           [
            "antiaging marketplace",
            "antiaging medicine"
           ]
          ]
         ],
         "hovertemplate": "Topic Name=%{x}<br>Year=2003<br>Frequency=%{y}<br>Topic=%{customdata[0]}<br>N-Grams_List=%{customdata[1]}<extra></extra>",
         "legendgroup": "32_antiaging_marketplace_antiaging medic...",
         "marker": {
          "color": "#19d3f3",
          "pattern": {
           "shape": ""
          }
         },
         "name": "32_antiaging_marketplace_antiaging medic...",
         "orientation": "v",
         "showlegend": true,
         "textposition": "auto",
         "type": "bar",
         "x": [
          "32_antiaging_marketplace_antiaging medic..."
         ],
         "xaxis": "x18",
         "y": {
          "bdata": "Hw==",
          "dtype": "i1"
         },
         "yaxis": "y18"
        },
        {
         "customdata": [
          [
           8,
           [
            "aubrey grey",
            "biomedical gerontologist"
           ]
          ]
         ],
         "hovertemplate": "Topic Name=%{x}<br>Year=2005<br>Frequency=%{y}<br>Topic=%{customdata[0]}<br>N-Grams_List=%{customdata[1]}<extra></extra>",
         "legendgroup": "8_grey_aubrey_aubrey grey_sens",
         "marker": {
          "color": "#FF6692",
          "pattern": {
           "shape": ""
          }
         },
         "name": "8_grey_aubrey_aubrey grey_sens",
         "orientation": "v",
         "showlegend": true,
         "textposition": "auto",
         "type": "bar",
         "x": [
          "8_grey_aubrey_aubrey grey_sens"
         ],
         "xaxis": "x19",
         "y": {
          "bdata": "Kw==",
          "dtype": "i1"
         },
         "yaxis": "y19"
        },
        {
         "customdata": [
          [
           8,
           [
            "aubrey grey",
            "biomedical gerontologist"
           ]
          ]
         ],
         "hovertemplate": "Topic Name=%{x}<br>Year=2007<br>Frequency=%{y}<br>Topic=%{customdata[0]}<br>N-Grams_List=%{customdata[1]}<extra></extra>",
         "legendgroup": "8_grey_aubrey_aubrey grey_sens",
         "marker": {
          "color": "#FF6692",
          "pattern": {
           "shape": ""
          }
         },
         "name": "8_grey_aubrey_aubrey grey_sens",
         "orientation": "v",
         "showlegend": false,
         "textposition": "auto",
         "type": "bar",
         "x": [
          "8_grey_aubrey_aubrey grey_sens"
         ],
         "xaxis": "x13",
         "y": {
          "bdata": "HA==",
          "dtype": "i1"
         },
         "yaxis": "y13"
        },
        {
         "customdata": [
          [
           8,
           [
            "aubrey grey"
           ]
          ]
         ],
         "hovertemplate": "Topic Name=%{x}<br>Year=2009<br>Frequency=%{y}<br>Topic=%{customdata[0]}<br>N-Grams_List=%{customdata[1]}<extra></extra>",
         "legendgroup": "8_grey_aubrey_aubrey grey_sens",
         "marker": {
          "color": "#FF6692",
          "pattern": {
           "shape": ""
          }
         },
         "name": "8_grey_aubrey_aubrey grey_sens",
         "orientation": "v",
         "showlegend": false,
         "textposition": "auto",
         "type": "bar",
         "x": [
          "8_grey_aubrey_aubrey grey_sens"
         ],
         "xaxis": "x15",
         "y": {
          "bdata": "Dg==",
          "dtype": "i1"
         },
         "yaxis": "y15"
        },
        {
         "customdata": [
          [
           8,
           [
            "aubrey grey"
           ]
          ]
         ],
         "hovertemplate": "Topic Name=%{x}<br>Year=2011<br>Frequency=%{y}<br>Topic=%{customdata[0]}<br>N-Grams_List=%{customdata[1]}<extra></extra>",
         "legendgroup": "8_grey_aubrey_aubrey grey_sens",
         "marker": {
          "color": "#FF6692",
          "pattern": {
           "shape": ""
          }
         },
         "name": "8_grey_aubrey_aubrey grey_sens",
         "orientation": "v",
         "showlegend": false,
         "textposition": "auto",
         "type": "bar",
         "x": [
          "8_grey_aubrey_aubrey grey_sens"
         ],
         "xaxis": "x9",
         "y": {
          "bdata": "DQ==",
          "dtype": "i1"
         },
         "yaxis": "y9"
        },
        {
         "customdata": [
          [
           0,
           [
            "mitochondrial dna"
           ]
          ]
         ],
         "hovertemplate": "Topic Name=%{x}<br>Year=2005<br>Frequency=%{y}<br>Topic=%{customdata[0]}<br>N-Grams_List=%{customdata[1]}<extra></extra>",
         "legendgroup": "0_mitochondrial_mitochondria_mtdna_mitoc...",
         "marker": {
          "color": "#B6E880",
          "pattern": {
           "shape": ""
          }
         },
         "name": "0_mitochondrial_mitochondria_mtdna_mitoc...",
         "orientation": "v",
         "showlegend": true,
         "textposition": "auto",
         "type": "bar",
         "x": [
          "0_mitochondrial_mitochondria_mtdna_mitoc..."
         ],
         "xaxis": "x19",
         "y": {
          "bdata": "Ig==",
          "dtype": "i1"
         },
         "yaxis": "y19"
        },
        {
         "customdata": [
          [
           0,
           [
            "mitochondrial dna"
           ]
          ]
         ],
         "hovertemplate": "Topic Name=%{x}<br>Year=2006<br>Frequency=%{y}<br>Topic=%{customdata[0]}<br>N-Grams_List=%{customdata[1]}<extra></extra>",
         "legendgroup": "0_mitochondrial_mitochondria_mtdna_mitoc...",
         "marker": {
          "color": "#B6E880",
          "pattern": {
           "shape": ""
          }
         },
         "name": "0_mitochondrial_mitochondria_mtdna_mitoc...",
         "orientation": "v",
         "showlegend": false,
         "textposition": "auto",
         "type": "bar",
         "x": [
          "0_mitochondrial_mitochondria_mtdna_mitoc..."
         ],
         "xaxis": "x20",
         "y": {
          "bdata": "JQ==",
          "dtype": "i1"
         },
         "yaxis": "y20"
        },
        {
         "customdata": [
          [
           0,
           [
            "mitochondrial dna"
           ]
          ]
         ],
         "hovertemplate": "Topic Name=%{x}<br>Year=2007<br>Frequency=%{y}<br>Topic=%{customdata[0]}<br>N-Grams_List=%{customdata[1]}<extra></extra>",
         "legendgroup": "0_mitochondrial_mitochondria_mtdna_mitoc...",
         "marker": {
          "color": "#B6E880",
          "pattern": {
           "shape": ""
          }
         },
         "name": "0_mitochondrial_mitochondria_mtdna_mitoc...",
         "orientation": "v",
         "showlegend": false,
         "textposition": "auto",
         "type": "bar",
         "x": [
          "0_mitochondrial_mitochondria_mtdna_mitoc..."
         ],
         "xaxis": "x13",
         "y": {
          "bdata": "KQ==",
          "dtype": "i1"
         },
         "yaxis": "y13"
        },
        {
         "customdata": [
          [
           0,
           [
            "mitochondrial dna"
           ]
          ]
         ],
         "hovertemplate": "Topic Name=%{x}<br>Year=2008<br>Frequency=%{y}<br>Topic=%{customdata[0]}<br>N-Grams_List=%{customdata[1]}<extra></extra>",
         "legendgroup": "0_mitochondrial_mitochondria_mtdna_mitoc...",
         "marker": {
          "color": "#B6E880",
          "pattern": {
           "shape": ""
          }
         },
         "name": "0_mitochondrial_mitochondria_mtdna_mitoc...",
         "orientation": "v",
         "showlegend": false,
         "textposition": "auto",
         "type": "bar",
         "x": [
          "0_mitochondrial_mitochondria_mtdna_mitoc..."
         ],
         "xaxis": "x14",
         "y": {
          "bdata": "Mw==",
          "dtype": "i1"
         },
         "yaxis": "y14"
        },
        {
         "customdata": [
          [
           0,
           [
            "mitochondrial dna"
           ]
          ]
         ],
         "hovertemplate": "Topic Name=%{x}<br>Year=2009<br>Frequency=%{y}<br>Topic=%{customdata[0]}<br>N-Grams_List=%{customdata[1]}<extra></extra>",
         "legendgroup": "0_mitochondrial_mitochondria_mtdna_mitoc...",
         "marker": {
          "color": "#B6E880",
          "pattern": {
           "shape": ""
          }
         },
         "name": "0_mitochondrial_mitochondria_mtdna_mitoc...",
         "orientation": "v",
         "showlegend": false,
         "textposition": "auto",
         "type": "bar",
         "x": [
          "0_mitochondrial_mitochondria_mtdna_mitoc..."
         ],
         "xaxis": "x15",
         "y": {
          "bdata": "Hg==",
          "dtype": "i1"
         },
         "yaxis": "y15"
        },
        {
         "customdata": [
          [
           0,
           [
            "mitochondrial dna"
           ]
          ]
         ],
         "hovertemplate": "Topic Name=%{x}<br>Year=2010<br>Frequency=%{y}<br>Topic=%{customdata[0]}<br>N-Grams_List=%{customdata[1]}<extra></extra>",
         "legendgroup": "0_mitochondrial_mitochondria_mtdna_mitoc...",
         "marker": {
          "color": "#B6E880",
          "pattern": {
           "shape": ""
          }
         },
         "name": "0_mitochondrial_mitochondria_mtdna_mitoc...",
         "orientation": "v",
         "showlegend": false,
         "textposition": "auto",
         "type": "bar",
         "x": [
          "0_mitochondrial_mitochondria_mtdna_mitoc..."
         ],
         "xaxis": "x16",
         "y": {
          "bdata": "Iw==",
          "dtype": "i1"
         },
         "yaxis": "y16"
        },
        {
         "customdata": [
          [
           0,
           [
            "mitochondrial dna"
           ]
          ]
         ],
         "hovertemplate": "Topic Name=%{x}<br>Year=2011<br>Frequency=%{y}<br>Topic=%{customdata[0]}<br>N-Grams_List=%{customdata[1]}<extra></extra>",
         "legendgroup": "0_mitochondrial_mitochondria_mtdna_mitoc...",
         "marker": {
          "color": "#B6E880",
          "pattern": {
           "shape": ""
          }
         },
         "name": "0_mitochondrial_mitochondria_mtdna_mitoc...",
         "orientation": "v",
         "showlegend": false,
         "textposition": "auto",
         "type": "bar",
         "x": [
          "0_mitochondrial_mitochondria_mtdna_mitoc..."
         ],
         "xaxis": "x9",
         "y": {
          "bdata": "HA==",
          "dtype": "i1"
         },
         "yaxis": "y9"
        },
        {
         "customdata": [
          [
           0,
           [
            "mitochondrial dna"
           ]
          ]
         ],
         "hovertemplate": "Topic Name=%{x}<br>Year=2013<br>Frequency=%{y}<br>Topic=%{customdata[0]}<br>N-Grams_List=%{customdata[1]}<extra></extra>",
         "legendgroup": "0_mitochondrial_mitochondria_mtdna_mitoc...",
         "marker": {
          "color": "#B6E880",
          "pattern": {
           "shape": ""
          }
         },
         "name": "0_mitochondrial_mitochondria_mtdna_mitoc...",
         "orientation": "v",
         "showlegend": false,
         "textposition": "auto",
         "type": "bar",
         "x": [
          "0_mitochondrial_mitochondria_mtdna_mitoc..."
         ],
         "xaxis": "x10",
         "y": {
          "bdata": "PA==",
          "dtype": "i1"
         },
         "yaxis": "y10"
        },
        {
         "customdata": [
          [
           0,
           [
            "mitochondrial dna"
           ]
          ]
         ],
         "hovertemplate": "Topic Name=%{x}<br>Year=2014<br>Frequency=%{y}<br>Topic=%{customdata[0]}<br>N-Grams_List=%{customdata[1]}<extra></extra>",
         "legendgroup": "0_mitochondrial_mitochondria_mtdna_mitoc...",
         "marker": {
          "color": "#B6E880",
          "pattern": {
           "shape": ""
          }
         },
         "name": "0_mitochondrial_mitochondria_mtdna_mitoc...",
         "orientation": "v",
         "showlegend": false,
         "textposition": "auto",
         "type": "bar",
         "x": [
          "0_mitochondrial_mitochondria_mtdna_mitoc..."
         ],
         "xaxis": "x11",
         "y": {
          "bdata": "Jg==",
          "dtype": "i1"
         },
         "yaxis": "y11"
        },
        {
         "customdata": [
          [
           0,
           [
            "mitochondrial dna"
           ]
          ]
         ],
         "hovertemplate": "Topic Name=%{x}<br>Year=2015<br>Frequency=%{y}<br>Topic=%{customdata[0]}<br>N-Grams_List=%{customdata[1]}<extra></extra>",
         "legendgroup": "0_mitochondrial_mitochondria_mtdna_mitoc...",
         "marker": {
          "color": "#B6E880",
          "pattern": {
           "shape": ""
          }
         },
         "name": "0_mitochondrial_mitochondria_mtdna_mitoc...",
         "orientation": "v",
         "showlegend": false,
         "textposition": "auto",
         "type": "bar",
         "x": [
          "0_mitochondrial_mitochondria_mtdna_mitoc..."
         ],
         "xaxis": "x12",
         "y": {
          "bdata": "KQ==",
          "dtype": "i1"
         },
         "yaxis": "y12"
        },
        {
         "customdata": [
          [
           0,
           [
            "mitochondrial dna"
           ]
          ]
         ],
         "hovertemplate": "Topic Name=%{x}<br>Year=2016<br>Frequency=%{y}<br>Topic=%{customdata[0]}<br>N-Grams_List=%{customdata[1]}<extra></extra>",
         "legendgroup": "0_mitochondrial_mitochondria_mtdna_mitoc...",
         "marker": {
          "color": "#B6E880",
          "pattern": {
           "shape": ""
          }
         },
         "name": "0_mitochondrial_mitochondria_mtdna_mitoc...",
         "orientation": "v",
         "showlegend": false,
         "textposition": "auto",
         "type": "bar",
         "x": [
          "0_mitochondrial_mitochondria_mtdna_mitoc..."
         ],
         "xaxis": "x5",
         "y": {
          "bdata": "Jw==",
          "dtype": "i1"
         },
         "yaxis": "y5"
        },
        {
         "customdata": [
          [
           0,
           [
            "mitochondrial dna"
           ]
          ]
         ],
         "hovertemplate": "Topic Name=%{x}<br>Year=2017<br>Frequency=%{y}<br>Topic=%{customdata[0]}<br>N-Grams_List=%{customdata[1]}<extra></extra>",
         "legendgroup": "0_mitochondrial_mitochondria_mtdna_mitoc...",
         "marker": {
          "color": "#B6E880",
          "pattern": {
           "shape": ""
          }
         },
         "name": "0_mitochondrial_mitochondria_mtdna_mitoc...",
         "orientation": "v",
         "showlegend": false,
         "textposition": "auto",
         "type": "bar",
         "x": [
          "0_mitochondrial_mitochondria_mtdna_mitoc..."
         ],
         "xaxis": "x6",
         "y": {
          "bdata": "KQ==",
          "dtype": "i1"
         },
         "yaxis": "y6"
        },
        {
         "customdata": [
          [
           0,
           [
            "mitochondrial dna"
           ]
          ]
         ],
         "hovertemplate": "Topic Name=%{x}<br>Year=2018<br>Frequency=%{y}<br>Topic=%{customdata[0]}<br>N-Grams_List=%{customdata[1]}<extra></extra>",
         "legendgroup": "0_mitochondrial_mitochondria_mtdna_mitoc...",
         "marker": {
          "color": "#B6E880",
          "pattern": {
           "shape": ""
          }
         },
         "name": "0_mitochondrial_mitochondria_mtdna_mitoc...",
         "orientation": "v",
         "showlegend": false,
         "textposition": "auto",
         "type": "bar",
         "x": [
          "0_mitochondrial_mitochondria_mtdna_mitoc..."
         ],
         "xaxis": "x7",
         "y": {
          "bdata": "Jg==",
          "dtype": "i1"
         },
         "yaxis": "y7"
        },
        {
         "customdata": [
          [
           0,
           [
            "mitochondrial dna"
           ]
          ]
         ],
         "hovertemplate": "Topic Name=%{x}<br>Year=2019<br>Frequency=%{y}<br>Topic=%{customdata[0]}<br>N-Grams_List=%{customdata[1]}<extra></extra>",
         "legendgroup": "0_mitochondrial_mitochondria_mtdna_mitoc...",
         "marker": {
          "color": "#B6E880",
          "pattern": {
           "shape": ""
          }
         },
         "name": "0_mitochondrial_mitochondria_mtdna_mitoc...",
         "orientation": "v",
         "showlegend": false,
         "textposition": "auto",
         "type": "bar",
         "x": [
          "0_mitochondrial_mitochondria_mtdna_mitoc..."
         ],
         "xaxis": "x8",
         "y": {
          "bdata": "Ng==",
          "dtype": "i1"
         },
         "yaxis": "y8"
        },
        {
         "customdata": [
          [
           0,
           [
            "mitochondrial function",
            "mitochondrial dna"
           ]
          ]
         ],
         "hovertemplate": "Topic Name=%{x}<br>Year=2021<br>Frequency=%{y}<br>Topic=%{customdata[0]}<br>N-Grams_List=%{customdata[1]}<extra></extra>",
         "legendgroup": "0_mitochondrial_mitochondria_mtdna_mitoc...",
         "marker": {
          "color": "#B6E880",
          "pattern": {
           "shape": ""
          }
         },
         "name": "0_mitochondrial_mitochondria_mtdna_mitoc...",
         "orientation": "v",
         "showlegend": false,
         "textposition": "auto",
         "type": "bar",
         "x": [
          "0_mitochondrial_mitochondria_mtdna_mitoc..."
         ],
         "xaxis": "x",
         "y": {
          "bdata": "LQ==",
          "dtype": "i1"
         },
         "yaxis": "y"
        },
        {
         "customdata": [
          [
           0,
           [
            "mitochondrial function"
           ]
          ]
         ],
         "hovertemplate": "Topic Name=%{x}<br>Year=2023<br>Frequency=%{y}<br>Topic=%{customdata[0]}<br>N-Grams_List=%{customdata[1]}<extra></extra>",
         "legendgroup": "0_mitochondrial_mitochondria_mtdna_mitoc...",
         "marker": {
          "color": "#B6E880",
          "pattern": {
           "shape": ""
          }
         },
         "name": "0_mitochondrial_mitochondria_mtdna_mitoc...",
         "orientation": "v",
         "showlegend": false,
         "textposition": "auto",
         "type": "bar",
         "x": [
          "0_mitochondrial_mitochondria_mtdna_mitoc..."
         ],
         "xaxis": "x3",
         "y": {
          "bdata": "KQ==",
          "dtype": "i1"
         },
         "yaxis": "y3"
        },
        {
         "customdata": [
          [
           0,
           [
            "mitochondrial dna",
            "mitochondrial function"
           ]
          ]
         ],
         "hovertemplate": "Topic Name=%{x}<br>Year=2024<br>Frequency=%{y}<br>Topic=%{customdata[0]}<br>N-Grams_List=%{customdata[1]}<extra></extra>",
         "legendgroup": "0_mitochondrial_mitochondria_mtdna_mitoc...",
         "marker": {
          "color": "#B6E880",
          "pattern": {
           "shape": ""
          }
         },
         "name": "0_mitochondrial_mitochondria_mtdna_mitoc...",
         "orientation": "v",
         "showlegend": false,
         "textposition": "auto",
         "type": "bar",
         "x": [
          "0_mitochondrial_mitochondria_mtdna_mitoc..."
         ],
         "xaxis": "x4",
         "y": {
          "bdata": "Mw==",
          "dtype": "i1"
         },
         "yaxis": "y4"
        },
        {
         "customdata": [
          [
           11,
           [
            "stem cells",
            "stem cell"
           ]
          ]
         ],
         "hovertemplate": "Topic Name=%{x}<br>Year=2005<br>Frequency=%{y}<br>Topic=%{customdata[0]}<br>N-Grams_List=%{customdata[1]}<extra></extra>",
         "legendgroup": "11_heart_stem_stem cells_cells",
         "marker": {
          "color": "#FF97FF",
          "pattern": {
           "shape": ""
          }
         },
         "name": "11_heart_stem_stem cells_cells",
         "orientation": "v",
         "showlegend": true,
         "textposition": "auto",
         "type": "bar",
         "x": [
          "11_heart_stem_stem cells_cells"
         ],
         "xaxis": "x19",
         "y": {
          "bdata": "Hw==",
          "dtype": "i1"
         },
         "yaxis": "y19"
        },
        {
         "customdata": [
          [
           11,
           [
            "stem cells",
            "stem cell"
           ]
          ]
         ],
         "hovertemplate": "Topic Name=%{x}<br>Year=2006<br>Frequency=%{y}<br>Topic=%{customdata[0]}<br>N-Grams_List=%{customdata[1]}<extra></extra>",
         "legendgroup": "11_heart_stem_stem cells_cells",
         "marker": {
          "color": "#FF97FF",
          "pattern": {
           "shape": ""
          }
         },
         "name": "11_heart_stem_stem cells_cells",
         "orientation": "v",
         "showlegend": false,
         "textposition": "auto",
         "type": "bar",
         "x": [
          "11_heart_stem_stem cells_cells"
         ],
         "xaxis": "x20",
         "y": {
          "bdata": "EQ==",
          "dtype": "i1"
         },
         "yaxis": "y20"
        },
        {
         "customdata": [
          [
           27,
           [
            "methuselah foundation"
           ]
          ]
         ],
         "hovertemplate": "Topic Name=%{x}<br>Year=2006<br>Frequency=%{y}<br>Topic=%{customdata[0]}<br>N-Grams_List=%{customdata[1]}<extra></extra>",
         "legendgroup": "27_methuselah_methuselah foundation_foun...",
         "marker": {
          "color": "#FECB52",
          "pattern": {
           "shape": ""
          }
         },
         "name": "27_methuselah_methuselah foundation_foun...",
         "orientation": "v",
         "showlegend": true,
         "textposition": "auto",
         "type": "bar",
         "x": [
          "27_methuselah_methuselah foundation_foun..."
         ],
         "xaxis": "x20",
         "y": {
          "bdata": "Fw==",
          "dtype": "i1"
         },
         "yaxis": "y20"
        },
        {
         "customdata": [
          [
           27,
           [
            "methuselah foundation"
           ]
          ]
         ],
         "hovertemplate": "Topic Name=%{x}<br>Year=2008<br>Frequency=%{y}<br>Topic=%{customdata[0]}<br>N-Grams_List=%{customdata[1]}<extra></extra>",
         "legendgroup": "27_methuselah_methuselah foundation_foun...",
         "marker": {
          "color": "#FECB52",
          "pattern": {
           "shape": ""
          }
         },
         "name": "27_methuselah_methuselah foundation_foun...",
         "orientation": "v",
         "showlegend": false,
         "textposition": "auto",
         "type": "bar",
         "x": [
          "27_methuselah_methuselah foundation_foun..."
         ],
         "xaxis": "x14",
         "y": {
          "bdata": "DQ==",
          "dtype": "i1"
         },
         "yaxis": "y14"
        },
        {
         "customdata": [
          [
           28,
           [
            "cancer stem",
            "cancer stem cells",
            "stem cells"
           ]
          ]
         ],
         "hovertemplate": "Topic Name=%{x}<br>Year=2006<br>Frequency=%{y}<br>Topic=%{customdata[0]}<br>N-Grams_List=%{customdata[1]}<extra></extra>",
         "legendgroup": "28_cancer stem_cancer stem cells_cancer_...",
         "marker": {
          "color": "#636efa",
          "pattern": {
           "shape": ""
          }
         },
         "name": "28_cancer stem_cancer stem cells_cancer_...",
         "orientation": "v",
         "showlegend": true,
         "textposition": "auto",
         "type": "bar",
         "x": [
          "28_cancer stem_cancer stem cells_cancer_..."
         ],
         "xaxis": "x20",
         "y": {
          "bdata": "Fg==",
          "dtype": "i1"
         },
         "yaxis": "y20"
        },
        {
         "customdata": [
          [
           28,
           [
            "cancer stem",
            "cancer stem cells",
            "stem cells"
           ]
          ]
         ],
         "hovertemplate": "Topic Name=%{x}<br>Year=2007<br>Frequency=%{y}<br>Topic=%{customdata[0]}<br>N-Grams_List=%{customdata[1]}<extra></extra>",
         "legendgroup": "28_cancer stem_cancer stem cells_cancer_...",
         "marker": {
          "color": "#636efa",
          "pattern": {
           "shape": ""
          }
         },
         "name": "28_cancer stem_cancer stem cells_cancer_...",
         "orientation": "v",
         "showlegend": false,
         "textposition": "auto",
         "type": "bar",
         "x": [
          "28_cancer stem_cancer stem cells_cancer_..."
         ],
         "xaxis": "x13",
         "y": {
          "bdata": "Dg==",
          "dtype": "i1"
         },
         "yaxis": "y13"
        },
        {
         "customdata": [
          [
           28,
           [
            "cancer stem",
            "cancer stem cells",
            "stem cells"
           ]
          ]
         ],
         "hovertemplate": "Topic Name=%{x}<br>Year=2008<br>Frequency=%{y}<br>Topic=%{customdata[0]}<br>N-Grams_List=%{customdata[1]}<extra></extra>",
         "legendgroup": "28_cancer stem_cancer stem cells_cancer_...",
         "marker": {
          "color": "#636efa",
          "pattern": {
           "shape": ""
          }
         },
         "name": "28_cancer stem_cancer stem cells_cancer_...",
         "orientation": "v",
         "showlegend": false,
         "textposition": "auto",
         "type": "bar",
         "x": [
          "28_cancer stem_cancer stem cells_cancer_..."
         ],
         "xaxis": "x14",
         "y": {
          "bdata": "DQ==",
          "dtype": "i1"
         },
         "yaxis": "y14"
        },
        {
         "customdata": [
          [
           4,
           [
            "telomere length"
           ]
          ]
         ],
         "hovertemplate": "Topic Name=%{x}<br>Year=2006<br>Frequency=%{y}<br>Topic=%{customdata[0]}<br>N-Grams_List=%{customdata[1]}<extra></extra>",
         "legendgroup": "4_telomere_telomeres_telomerase_length",
         "marker": {
          "color": "#EF553B",
          "pattern": {
           "shape": ""
          }
         },
         "name": "4_telomere_telomeres_telomerase_length",
         "orientation": "v",
         "showlegend": true,
         "textposition": "auto",
         "type": "bar",
         "x": [
          "4_telomere_telomeres_telomerase_length"
         ],
         "xaxis": "x20",
         "y": {
          "bdata": "Eg==",
          "dtype": "i1"
         },
         "yaxis": "y20"
        },
        {
         "customdata": [
          [
           4,
           [
            "telomere length"
           ]
          ]
         ],
         "hovertemplate": "Topic Name=%{x}<br>Year=2007<br>Frequency=%{y}<br>Topic=%{customdata[0]}<br>N-Grams_List=%{customdata[1]}<extra></extra>",
         "legendgroup": "4_telomere_telomeres_telomerase_length",
         "marker": {
          "color": "#EF553B",
          "pattern": {
           "shape": ""
          }
         },
         "name": "4_telomere_telomeres_telomerase_length",
         "orientation": "v",
         "showlegend": false,
         "textposition": "auto",
         "type": "bar",
         "x": [
          "4_telomere_telomeres_telomerase_length"
         ],
         "xaxis": "x13",
         "y": {
          "bdata": "FA==",
          "dtype": "i1"
         },
         "yaxis": "y13"
        },
        {
         "customdata": [
          [
           4,
           [
            "telomere length"
           ]
          ]
         ],
         "hovertemplate": "Topic Name=%{x}<br>Year=2008<br>Frequency=%{y}<br>Topic=%{customdata[0]}<br>N-Grams_List=%{customdata[1]}<extra></extra>",
         "legendgroup": "4_telomere_telomeres_telomerase_length",
         "marker": {
          "color": "#EF553B",
          "pattern": {
           "shape": ""
          }
         },
         "name": "4_telomere_telomeres_telomerase_length",
         "orientation": "v",
         "showlegend": false,
         "textposition": "auto",
         "type": "bar",
         "x": [
          "4_telomere_telomeres_telomerase_length"
         ],
         "xaxis": "x14",
         "y": {
          "bdata": "Ew==",
          "dtype": "i1"
         },
         "yaxis": "y14"
        },
        {
         "customdata": [
          [
           4,
           [
            "telomere length"
           ]
          ]
         ],
         "hovertemplate": "Topic Name=%{x}<br>Year=2009<br>Frequency=%{y}<br>Topic=%{customdata[0]}<br>N-Grams_List=%{customdata[1]}<extra></extra>",
         "legendgroup": "4_telomere_telomeres_telomerase_length",
         "marker": {
          "color": "#EF553B",
          "pattern": {
           "shape": ""
          }
         },
         "name": "4_telomere_telomeres_telomerase_length",
         "orientation": "v",
         "showlegend": false,
         "textposition": "auto",
         "type": "bar",
         "x": [
          "4_telomere_telomeres_telomerase_length"
         ],
         "xaxis": "x15",
         "y": {
          "bdata": "DQ==",
          "dtype": "i1"
         },
         "yaxis": "y15"
        },
        {
         "customdata": [
          [
           4,
           [
            "telomere length"
           ]
          ]
         ],
         "hovertemplate": "Topic Name=%{x}<br>Year=2010<br>Frequency=%{y}<br>Topic=%{customdata[0]}<br>N-Grams_List=%{customdata[1]}<extra></extra>",
         "legendgroup": "4_telomere_telomeres_telomerase_length",
         "marker": {
          "color": "#EF553B",
          "pattern": {
           "shape": ""
          }
         },
         "name": "4_telomere_telomeres_telomerase_length",
         "orientation": "v",
         "showlegend": false,
         "textposition": "auto",
         "type": "bar",
         "x": [
          "4_telomere_telomeres_telomerase_length"
         ],
         "xaxis": "x16",
         "y": {
          "bdata": "CQ==",
          "dtype": "i1"
         },
         "yaxis": "y16"
        },
        {
         "customdata": [
          [
           4,
           [
            "telomere length"
           ]
          ]
         ],
         "hovertemplate": "Topic Name=%{x}<br>Year=2011<br>Frequency=%{y}<br>Topic=%{customdata[0]}<br>N-Grams_List=%{customdata[1]}<extra></extra>",
         "legendgroup": "4_telomere_telomeres_telomerase_length",
         "marker": {
          "color": "#EF553B",
          "pattern": {
           "shape": ""
          }
         },
         "name": "4_telomere_telomeres_telomerase_length",
         "orientation": "v",
         "showlegend": false,
         "textposition": "auto",
         "type": "bar",
         "x": [
          "4_telomere_telomeres_telomerase_length"
         ],
         "xaxis": "x9",
         "y": {
          "bdata": "FQ==",
          "dtype": "i1"
         },
         "yaxis": "y9"
        },
        {
         "customdata": [
          [
           4,
           [
            "telomere length"
           ]
          ]
         ],
         "hovertemplate": "Topic Name=%{x}<br>Year=2013<br>Frequency=%{y}<br>Topic=%{customdata[0]}<br>N-Grams_List=%{customdata[1]}<extra></extra>",
         "legendgroup": "4_telomere_telomeres_telomerase_length",
         "marker": {
          "color": "#EF553B",
          "pattern": {
           "shape": ""
          }
         },
         "name": "4_telomere_telomeres_telomerase_length",
         "orientation": "v",
         "showlegend": false,
         "textposition": "auto",
         "type": "bar",
         "x": [
          "4_telomere_telomeres_telomerase_length"
         ],
         "xaxis": "x10",
         "y": {
          "bdata": "Dw==",
          "dtype": "i1"
         },
         "yaxis": "y10"
        },
        {
         "customdata": [
          [
           4,
           [
            "telomere length"
           ]
          ]
         ],
         "hovertemplate": "Topic Name=%{x}<br>Year=2014<br>Frequency=%{y}<br>Topic=%{customdata[0]}<br>N-Grams_List=%{customdata[1]}<extra></extra>",
         "legendgroup": "4_telomere_telomeres_telomerase_length",
         "marker": {
          "color": "#EF553B",
          "pattern": {
           "shape": ""
          }
         },
         "name": "4_telomere_telomeres_telomerase_length",
         "orientation": "v",
         "showlegend": false,
         "textposition": "auto",
         "type": "bar",
         "x": [
          "4_telomere_telomeres_telomerase_length"
         ],
         "xaxis": "x11",
         "y": {
          "bdata": "Dw==",
          "dtype": "i1"
         },
         "yaxis": "y11"
        },
        {
         "customdata": [
          [
           4,
           [
            "telomere length"
           ]
          ]
         ],
         "hovertemplate": "Topic Name=%{x}<br>Year=2015<br>Frequency=%{y}<br>Topic=%{customdata[0]}<br>N-Grams_List=%{customdata[1]}<extra></extra>",
         "legendgroup": "4_telomere_telomeres_telomerase_length",
         "marker": {
          "color": "#EF553B",
          "pattern": {
           "shape": ""
          }
         },
         "name": "4_telomere_telomeres_telomerase_length",
         "orientation": "v",
         "showlegend": false,
         "textposition": "auto",
         "type": "bar",
         "x": [
          "4_telomere_telomeres_telomerase_length"
         ],
         "xaxis": "x12",
         "y": {
          "bdata": "DQ==",
          "dtype": "i1"
         },
         "yaxis": "y12"
        },
        {
         "customdata": [
          [
           4,
           [
            "telomere length"
           ]
          ]
         ],
         "hovertemplate": "Topic Name=%{x}<br>Year=2017<br>Frequency=%{y}<br>Topic=%{customdata[0]}<br>N-Grams_List=%{customdata[1]}<extra></extra>",
         "legendgroup": "4_telomere_telomeres_telomerase_length",
         "marker": {
          "color": "#EF553B",
          "pattern": {
           "shape": ""
          }
         },
         "name": "4_telomere_telomeres_telomerase_length",
         "orientation": "v",
         "showlegend": false,
         "textposition": "auto",
         "type": "bar",
         "x": [
          "4_telomere_telomeres_telomerase_length"
         ],
         "xaxis": "x6",
         "y": {
          "bdata": "DA==",
          "dtype": "i1"
         },
         "yaxis": "y6"
        },
        {
         "customdata": [
          [
           4,
           [
            "telomere length"
           ]
          ]
         ],
         "hovertemplate": "Topic Name=%{x}<br>Year=2018<br>Frequency=%{y}<br>Topic=%{customdata[0]}<br>N-Grams_List=%{customdata[1]}<extra></extra>",
         "legendgroup": "4_telomere_telomeres_telomerase_length",
         "marker": {
          "color": "#EF553B",
          "pattern": {
           "shape": ""
          }
         },
         "name": "4_telomere_telomeres_telomerase_length",
         "orientation": "v",
         "showlegend": false,
         "textposition": "auto",
         "type": "bar",
         "x": [
          "4_telomere_telomeres_telomerase_length"
         ],
         "xaxis": "x7",
         "y": {
          "bdata": "DA==",
          "dtype": "i1"
         },
         "yaxis": "y7"
        },
        {
         "customdata": [
          [
           18,
           [
            "human longevity"
           ]
          ]
         ],
         "hovertemplate": "Topic Name=%{x}<br>Year=2009<br>Frequency=%{y}<br>Topic=%{customdata[0]}<br>N-Grams_List=%{customdata[1]}<extra></extra>",
         "legendgroup": "18_genetic_variants_longevity_genes",
         "marker": {
          "color": "#00cc96",
          "pattern": {
           "shape": ""
          }
         },
         "name": "18_genetic_variants_longevity_genes",
         "orientation": "v",
         "showlegend": true,
         "textposition": "auto",
         "type": "bar",
         "x": [
          "18_genetic_variants_longevity_genes"
         ],
         "xaxis": "x15",
         "y": {
          "bdata": "Cg==",
          "dtype": "i1"
         },
         "yaxis": "y15"
        },
        {
         "customdata": [
          [
           59,
           [
            "naked mole",
            "mole rat",
            "mole rats"
           ]
          ]
         ],
         "hovertemplate": "Topic Name=%{x}<br>Year=2010<br>Frequency=%{y}<br>Topic=%{customdata[0]}<br>N-Grams_List=%{customdata[1]}<extra></extra>",
         "legendgroup": "59_naked_mole_naked mole_mole rats",
         "marker": {
          "color": "#ab63fa",
          "pattern": {
           "shape": ""
          }
         },
         "name": "59_naked_mole_naked mole_mole rats",
         "orientation": "v",
         "showlegend": true,
         "textposition": "auto",
         "type": "bar",
         "x": [
          "59_naked_mole_naked mole_mole rats"
         ],
         "xaxis": "x16",
         "y": {
          "bdata": "Cw==",
          "dtype": "i1"
         },
         "yaxis": "y16"
        },
        {
         "customdata": [
          [
           9,
           [
            "sens foundation",
            "academic initiative"
           ]
          ]
         ],
         "hovertemplate": "Topic Name=%{x}<br>Year=2010<br>Frequency=%{y}<br>Topic=%{customdata[0]}<br>N-Grams_List=%{customdata[1]}<extra></extra>",
         "legendgroup": "9_sens_foundation_sens research_sens res...",
         "marker": {
          "color": "#FFA15A",
          "pattern": {
           "shape": ""
          }
         },
         "name": "9_sens_foundation_sens research_sens res...",
         "orientation": "v",
         "showlegend": true,
         "textposition": "auto",
         "type": "bar",
         "x": [
          "9_sens_foundation_sens research_sens res..."
         ],
         "xaxis": "x16",
         "y": {
          "bdata": "CQ==",
          "dtype": "i1"
         },
         "yaxis": "y16"
        },
        {
         "customdata": [
          [
           9,
           [
            "sens research",
            "research foundation",
            "sens research foundation"
           ]
          ]
         ],
         "hovertemplate": "Topic Name=%{x}<br>Year=2013<br>Frequency=%{y}<br>Topic=%{customdata[0]}<br>N-Grams_List=%{customdata[1]}<extra></extra>",
         "legendgroup": "9_sens_foundation_sens research_sens res...",
         "marker": {
          "color": "#FFA15A",
          "pattern": {
           "shape": ""
          }
         },
         "name": "9_sens_foundation_sens research_sens res...",
         "orientation": "v",
         "showlegend": false,
         "textposition": "auto",
         "type": "bar",
         "x": [
          "9_sens_foundation_sens research_sens res..."
         ],
         "xaxis": "x10",
         "y": {
          "bdata": "FQ==",
          "dtype": "i1"
         },
         "yaxis": "y10"
        },
        {
         "customdata": [
          [
           9,
           [
            "sens research",
            "sens research foundation",
            "research foundation"
           ]
          ]
         ],
         "hovertemplate": "Topic Name=%{x}<br>Year=2014<br>Frequency=%{y}<br>Topic=%{customdata[0]}<br>N-Grams_List=%{customdata[1]}<extra></extra>",
         "legendgroup": "9_sens_foundation_sens research_sens res...",
         "marker": {
          "color": "#FFA15A",
          "pattern": {
           "shape": ""
          }
         },
         "name": "9_sens_foundation_sens research_sens res...",
         "orientation": "v",
         "showlegend": false,
         "textposition": "auto",
         "type": "bar",
         "x": [
          "9_sens_foundation_sens research_sens res..."
         ],
         "xaxis": "x11",
         "y": {
          "bdata": "Fg==",
          "dtype": "i1"
         },
         "yaxis": "y11"
        },
        {
         "customdata": [
          [
           9,
           [
            "sens research",
            "sens research foundation",
            "research foundation"
           ]
          ]
         ],
         "hovertemplate": "Topic Name=%{x}<br>Year=2015<br>Frequency=%{y}<br>Topic=%{customdata[0]}<br>N-Grams_List=%{customdata[1]}<extra></extra>",
         "legendgroup": "9_sens_foundation_sens research_sens res...",
         "marker": {
          "color": "#FFA15A",
          "pattern": {
           "shape": ""
          }
         },
         "name": "9_sens_foundation_sens research_sens res...",
         "orientation": "v",
         "showlegend": false,
         "textposition": "auto",
         "type": "bar",
         "x": [
          "9_sens_foundation_sens research_sens res..."
         ],
         "xaxis": "x12",
         "y": {
          "bdata": "FQ==",
          "dtype": "i1"
         },
         "yaxis": "y12"
        },
        {
         "customdata": [
          [
           9,
           [
            "sens research",
            "sens research foundation",
            "research foundation"
           ]
          ]
         ],
         "hovertemplate": "Topic Name=%{x}<br>Year=2016<br>Frequency=%{y}<br>Topic=%{customdata[0]}<br>N-Grams_List=%{customdata[1]}<extra></extra>",
         "legendgroup": "9_sens_foundation_sens research_sens res...",
         "marker": {
          "color": "#FFA15A",
          "pattern": {
           "shape": ""
          }
         },
         "name": "9_sens_foundation_sens research_sens res...",
         "orientation": "v",
         "showlegend": false,
         "textposition": "auto",
         "type": "bar",
         "x": [
          "9_sens_foundation_sens research_sens res..."
         ],
         "xaxis": "x5",
         "y": {
          "bdata": "EA==",
          "dtype": "i1"
         },
         "yaxis": "y5"
        },
        {
         "customdata": [
          [
           9,
           [
            "sens research",
            "sens research foundation",
            "research foundation"
           ]
          ]
         ],
         "hovertemplate": "Topic Name=%{x}<br>Year=2017<br>Frequency=%{y}<br>Topic=%{customdata[0]}<br>N-Grams_List=%{customdata[1]}<extra></extra>",
         "legendgroup": "9_sens_foundation_sens research_sens res...",
         "marker": {
          "color": "#FFA15A",
          "pattern": {
           "shape": ""
          }
         },
         "name": "9_sens_foundation_sens research_sens res...",
         "orientation": "v",
         "showlegend": false,
         "textposition": "auto",
         "type": "bar",
         "x": [
          "9_sens_foundation_sens research_sens res..."
         ],
         "xaxis": "x6",
         "y": {
          "bdata": "EA==",
          "dtype": "i1"
         },
         "yaxis": "y6"
        },
        {
         "customdata": [
          [
           2,
           [
            "slow aging"
           ]
          ]
         ],
         "hovertemplate": "Topic Name=%{x}<br>Year=2011<br>Frequency=%{y}<br>Topic=%{customdata[0]}<br>N-Grams_List=%{customdata[1]}<extra></extra>",
         "legendgroup": "2_aging_damage_research_slow",
         "marker": {
          "color": "#19d3f3",
          "pattern": {
           "shape": ""
          }
         },
         "name": "2_aging_damage_research_slow",
         "orientation": "v",
         "showlegend": true,
         "textposition": "auto",
         "type": "bar",
         "x": [
          "2_aging_damage_research_slow"
         ],
         "xaxis": "x9",
         "y": {
          "bdata": "Cw==",
          "dtype": "i1"
         },
         "yaxis": "y9"
        },
        {
         "customdata": [
          [
           2,
           [
            "programmed aging"
           ]
          ]
         ],
         "hovertemplate": "Topic Name=%{x}<br>Year=2013<br>Frequency=%{y}<br>Topic=%{customdata[0]}<br>N-Grams_List=%{customdata[1]}<extra></extra>",
         "legendgroup": "2_aging_damage_research_slow",
         "marker": {
          "color": "#19d3f3",
          "pattern": {
           "shape": ""
          }
         },
         "name": "2_aging_damage_research_slow",
         "orientation": "v",
         "showlegend": false,
         "textposition": "auto",
         "type": "bar",
         "x": [
          "2_aging_damage_research_slow"
         ],
         "xaxis": "x10",
         "y": {
          "bdata": "EQ==",
          "dtype": "i1"
         },
         "yaxis": "y10"
        },
        {
         "customdata": [
          [
           10,
           [
            "physical activity"
           ]
          ]
         ],
         "hovertemplate": "Topic Name=%{x}<br>Year=2011<br>Frequency=%{y}<br>Topic=%{customdata[0]}<br>N-Grams_List=%{customdata[1]}<extra></extra>",
         "legendgroup": "10_exercise_brain_physical_cognitive",
         "marker": {
          "color": "#FF6692",
          "pattern": {
           "shape": ""
          }
         },
         "name": "10_exercise_brain_physical_cognitive",
         "orientation": "v",
         "showlegend": true,
         "textposition": "auto",
         "type": "bar",
         "x": [
          "10_exercise_brain_physical_cognitive"
         ],
         "xaxis": "x9",
         "y": {
          "bdata": "Cg==",
          "dtype": "i1"
         },
         "yaxis": "y9"
        },
        {
         "customdata": [
          [
           25,
           [
            "advanced glycation"
           ]
          ]
         ],
         "hovertemplate": "Topic Name=%{x}<br>Year=2013<br>Frequency=%{y}<br>Topic=%{customdata[0]}<br>N-Grams_List=%{customdata[1]}<extra></extra>",
         "legendgroup": "25_ages_glucosepane_glycation_rage",
         "marker": {
          "color": "#B6E880",
          "pattern": {
           "shape": ""
          }
         },
         "name": "25_ages_glucosepane_glycation_rage",
         "orientation": "v",
         "showlegend": true,
         "textposition": "auto",
         "type": "bar",
         "x": [
          "25_ages_glucosepane_glycation_rage"
         ],
         "xaxis": "x10",
         "y": {
          "bdata": "Cw==",
          "dtype": "i1"
         },
         "yaxis": "y10"
        },
        {
         "customdata": [
          [
           25,
           [
            "advanced glycation"
           ]
          ]
         ],
         "hovertemplate": "Topic Name=%{x}<br>Year=2014<br>Frequency=%{y}<br>Topic=%{customdata[0]}<br>N-Grams_List=%{customdata[1]}<extra></extra>",
         "legendgroup": "25_ages_glucosepane_glycation_rage",
         "marker": {
          "color": "#B6E880",
          "pattern": {
           "shape": ""
          }
         },
         "name": "25_ages_glucosepane_glycation_rage",
         "orientation": "v",
         "showlegend": false,
         "textposition": "auto",
         "type": "bar",
         "x": [
          "25_ages_glucosepane_glycation_rage"
         ],
         "xaxis": "x11",
         "y": {
          "bdata": "DA==",
          "dtype": "i1"
         },
         "yaxis": "y11"
        },
        {
         "customdata": [
          [
           25,
           [
            "advanced glycation"
           ]
          ]
         ],
         "hovertemplate": "Topic Name=%{x}<br>Year=2015<br>Frequency=%{y}<br>Topic=%{customdata[0]}<br>N-Grams_List=%{customdata[1]}<extra></extra>",
         "legendgroup": "25_ages_glucosepane_glycation_rage",
         "marker": {
          "color": "#B6E880",
          "pattern": {
           "shape": ""
          }
         },
         "name": "25_ages_glucosepane_glycation_rage",
         "orientation": "v",
         "showlegend": false,
         "textposition": "auto",
         "type": "bar",
         "x": [
          "25_ages_glucosepane_glycation_rage"
         ],
         "xaxis": "x12",
         "y": {
          "bdata": "Cg==",
          "dtype": "i1"
         },
         "yaxis": "y12"
        },
        {
         "customdata": [
          [
           3,
           [
            "senescent cells",
            "cellular senescence"
           ]
          ]
         ],
         "hovertemplate": "Topic Name=%{x}<br>Year=2014<br>Frequency=%{y}<br>Topic=%{customdata[0]}<br>N-Grams_List=%{customdata[1]}<extra></extra>",
         "legendgroup": "3_senescent_senescent cells_senescence_c...",
         "marker": {
          "color": "#FF97FF",
          "pattern": {
           "shape": ""
          }
         },
         "name": "3_senescent_senescent cells_senescence_c...",
         "orientation": "v",
         "showlegend": true,
         "textposition": "auto",
         "type": "bar",
         "x": [
          "3_senescent_senescent cells_senescence_c..."
         ],
         "xaxis": "x11",
         "y": {
          "bdata": "Cg==",
          "dtype": "i1"
         },
         "yaxis": "y11"
        },
        {
         "customdata": [
          [
           3,
           [
            "senescent cells"
           ]
          ]
         ],
         "hovertemplate": "Topic Name=%{x}<br>Year=2016<br>Frequency=%{y}<br>Topic=%{customdata[0]}<br>N-Grams_List=%{customdata[1]}<extra></extra>",
         "legendgroup": "3_senescent_senescent cells_senescence_c...",
         "marker": {
          "color": "#FF97FF",
          "pattern": {
           "shape": ""
          }
         },
         "name": "3_senescent_senescent cells_senescence_c...",
         "orientation": "v",
         "showlegend": false,
         "textposition": "auto",
         "type": "bar",
         "x": [
          "3_senescent_senescent cells_senescence_c..."
         ],
         "xaxis": "x5",
         "y": {
          "bdata": "IA==",
          "dtype": "i1"
         },
         "yaxis": "y5"
        },
        {
         "customdata": [
          [
           3,
           [
            "senescent cells"
           ]
          ]
         ],
         "hovertemplate": "Topic Name=%{x}<br>Year=2017<br>Frequency=%{y}<br>Topic=%{customdata[0]}<br>N-Grams_List=%{customdata[1]}<extra></extra>",
         "legendgroup": "3_senescent_senescent cells_senescence_c...",
         "marker": {
          "color": "#FF97FF",
          "pattern": {
           "shape": ""
          }
         },
         "name": "3_senescent_senescent cells_senescence_c...",
         "orientation": "v",
         "showlegend": false,
         "textposition": "auto",
         "type": "bar",
         "x": [
          "3_senescent_senescent cells_senescence_c..."
         ],
         "xaxis": "x6",
         "y": {
          "bdata": "FQ==",
          "dtype": "i1"
         },
         "yaxis": "y6"
        },
        {
         "customdata": [
          [
           3,
           [
            "senescent cells"
           ]
          ]
         ],
         "hovertemplate": "Topic Name=%{x}<br>Year=2018<br>Frequency=%{y}<br>Topic=%{customdata[0]}<br>N-Grams_List=%{customdata[1]}<extra></extra>",
         "legendgroup": "3_senescent_senescent cells_senescence_c...",
         "marker": {
          "color": "#FF97FF",
          "pattern": {
           "shape": ""
          }
         },
         "name": "3_senescent_senescent cells_senescence_c...",
         "orientation": "v",
         "showlegend": false,
         "textposition": "auto",
         "type": "bar",
         "x": [
          "3_senescent_senescent cells_senescence_c..."
         ],
         "xaxis": "x7",
         "y": {
          "bdata": "Iw==",
          "dtype": "i1"
         },
         "yaxis": "y7"
        },
        {
         "customdata": [
          [
           3,
           [
            "senescent cells"
           ]
          ]
         ],
         "hovertemplate": "Topic Name=%{x}<br>Year=2019<br>Frequency=%{y}<br>Topic=%{customdata[0]}<br>N-Grams_List=%{customdata[1]}<extra></extra>",
         "legendgroup": "3_senescent_senescent cells_senescence_c...",
         "marker": {
          "color": "#FF97FF",
          "pattern": {
           "shape": ""
          }
         },
         "name": "3_senescent_senescent cells_senescence_c...",
         "orientation": "v",
         "showlegend": false,
         "textposition": "auto",
         "type": "bar",
         "x": [
          "3_senescent_senescent cells_senescence_c..."
         ],
         "xaxis": "x8",
         "y": {
          "bdata": "JQ==",
          "dtype": "i1"
         },
         "yaxis": "y8"
        },
        {
         "customdata": [
          [
           3,
           [
            "senescent cells"
           ]
          ]
         ],
         "hovertemplate": "Topic Name=%{x}<br>Year=2021<br>Frequency=%{y}<br>Topic=%{customdata[0]}<br>N-Grams_List=%{customdata[1]}<extra></extra>",
         "legendgroup": "3_senescent_senescent cells_senescence_c...",
         "marker": {
          "color": "#FF97FF",
          "pattern": {
           "shape": ""
          }
         },
         "name": "3_senescent_senescent cells_senescence_c...",
         "orientation": "v",
         "showlegend": false,
         "textposition": "auto",
         "type": "bar",
         "x": [
          "3_senescent_senescent cells_senescence_c..."
         ],
         "xaxis": "x",
         "y": {
          "bdata": "Fg==",
          "dtype": "i1"
         },
         "yaxis": "y"
        },
        {
         "customdata": [
          [
           3,
           [
            "senescent cells"
           ]
          ]
         ],
         "hovertemplate": "Topic Name=%{x}<br>Year=2022<br>Frequency=%{y}<br>Topic=%{customdata[0]}<br>N-Grams_List=%{customdata[1]}<extra></extra>",
         "legendgroup": "3_senescent_senescent cells_senescence_c...",
         "marker": {
          "color": "#FF97FF",
          "pattern": {
           "shape": ""
          }
         },
         "name": "3_senescent_senescent cells_senescence_c...",
         "orientation": "v",
         "showlegend": false,
         "textposition": "auto",
         "type": "bar",
         "x": [
          "3_senescent_senescent cells_senescence_c..."
         ],
         "xaxis": "x2",
         "y": {
          "bdata": "FA==",
          "dtype": "i1"
         },
         "yaxis": "y2"
        },
        {
         "customdata": [
          [
           3,
           [
            "senescent cells"
           ]
          ]
         ],
         "hovertemplate": "Topic Name=%{x}<br>Year=2023<br>Frequency=%{y}<br>Topic=%{customdata[0]}<br>N-Grams_List=%{customdata[1]}<extra></extra>",
         "legendgroup": "3_senescent_senescent cells_senescence_c...",
         "marker": {
          "color": "#FF97FF",
          "pattern": {
           "shape": ""
          }
         },
         "name": "3_senescent_senescent cells_senescence_c...",
         "orientation": "v",
         "showlegend": false,
         "textposition": "auto",
         "type": "bar",
         "x": [
          "3_senescent_senescent cells_senescence_c..."
         ],
         "xaxis": "x3",
         "y": {
          "bdata": "EQ==",
          "dtype": "i1"
         },
         "yaxis": "y3"
        },
        {
         "customdata": [
          [
           3,
           [
            "senescent cells"
           ]
          ]
         ],
         "hovertemplate": "Topic Name=%{x}<br>Year=2024<br>Frequency=%{y}<br>Topic=%{customdata[0]}<br>N-Grams_List=%{customdata[1]}<extra></extra>",
         "legendgroup": "3_senescent_senescent cells_senescence_c...",
         "marker": {
          "color": "#FF97FF",
          "pattern": {
           "shape": ""
          }
         },
         "name": "3_senescent_senescent cells_senescence_c...",
         "orientation": "v",
         "showlegend": false,
         "textposition": "auto",
         "type": "bar",
         "x": [
          "3_senescent_senescent cells_senescence_c..."
         ],
         "xaxis": "x4",
         "y": {
          "bdata": "IA==",
          "dtype": "i1"
         },
         "yaxis": "y4"
        },
        {
         "customdata": [
          [
           40,
           [
            "sea urchins"
           ]
          ]
         ],
         "hovertemplate": "Topic Name=%{x}<br>Year=2015<br>Frequency=%{y}<br>Topic=%{customdata[0]}<br>N-Grams_List=%{customdata[1]}<extra></extra>",
         "legendgroup": "40_species_sea_hydra_animals",
         "marker": {
          "color": "#FECB52",
          "pattern": {
           "shape": ""
          }
         },
         "name": "40_species_sea_hydra_animals",
         "orientation": "v",
         "showlegend": true,
         "textposition": "auto",
         "type": "bar",
         "x": [
          "40_species_sea_hydra_animals"
         ],
         "xaxis": "x12",
         "y": {
          "bdata": "Cg==",
          "dtype": "i1"
         },
         "yaxis": "y12"
        },
        {
         "customdata": [
          [
           43,
           [
            "pulmonary fibrosis"
           ]
          ]
         ],
         "hovertemplate": "Topic Name=%{x}<br>Year=2016<br>Frequency=%{y}<br>Topic=%{customdata[0]}<br>N-Grams_List=%{customdata[1]}<extra></extra>",
         "legendgroup": "43_fibrosis_lung_pulmonary_ipf",
         "marker": {
          "color": "#636efa",
          "pattern": {
           "shape": ""
          }
         },
         "name": "43_fibrosis_lung_pulmonary_ipf",
         "orientation": "v",
         "showlegend": true,
         "textposition": "auto",
         "type": "bar",
         "x": [
          "43_fibrosis_lung_pulmonary_ipf"
         ],
         "xaxis": "x5",
         "y": {
          "bdata": "DQ==",
          "dtype": "i1"
         },
         "yaxis": "y5"
        },
        {
         "customdata": [
          [
           19,
           [
            "memory cells"
           ]
          ]
         ],
         "hovertemplate": "Topic Name=%{x}<br>Year=2016<br>Frequency=%{y}<br>Topic=%{customdata[0]}<br>N-Grams_List=%{customdata[1]}<extra></extra>",
         "legendgroup": "19_immune_immunosenescence_cells_immunit...",
         "marker": {
          "color": "#EF553B",
          "pattern": {
           "shape": ""
          }
         },
         "name": "19_immune_immunosenescence_cells_immunit...",
         "orientation": "v",
         "showlegend": true,
         "textposition": "auto",
         "type": "bar",
         "x": [
          "19_immune_immunosenescence_cells_immunit..."
         ],
         "xaxis": "x5",
         "y": {
          "bdata": "Cw==",
          "dtype": "i1"
         },
         "yaxis": "y5"
        },
        {
         "customdata": [
          [
           26,
           [
            "physical activity"
           ]
          ]
         ],
         "hovertemplate": "Topic Name=%{x}<br>Year=2017<br>Frequency=%{y}<br>Topic=%{customdata[0]}<br>N-Grams_List=%{customdata[1]}<extra></extra>",
         "legendgroup": "26_physical_physical activity_exercise_a...",
         "marker": {
          "color": "#00cc96",
          "pattern": {
           "shape": ""
          }
         },
         "name": "26_physical_physical activity_exercise_a...",
         "orientation": "v",
         "showlegend": true,
         "textposition": "auto",
         "type": "bar",
         "x": [
          "26_physical_physical activity_exercise_a..."
         ],
         "xaxis": "x6",
         "y": {
          "bdata": "Cw==",
          "dtype": "i1"
         },
         "yaxis": "y6"
        },
        {
         "customdata": [
          [
           7,
           [
            "gut microbiome"
           ]
          ]
         ],
         "hovertemplate": "Topic Name=%{x}<br>Year=2018<br>Frequency=%{y}<br>Topic=%{customdata[0]}<br>N-Grams_List=%{customdata[1]}<extra></extra>",
         "legendgroup": "7_gut_microbiome_microbiota_gut microbio...",
         "marker": {
          "color": "#ab63fa",
          "pattern": {
           "shape": ""
          }
         },
         "name": "7_gut_microbiome_microbiota_gut microbio...",
         "orientation": "v",
         "showlegend": true,
         "textposition": "auto",
         "type": "bar",
         "x": [
          "7_gut_microbiome_microbiota_gut microbio..."
         ],
         "xaxis": "x7",
         "y": {
          "bdata": "Dw==",
          "dtype": "i1"
         },
         "yaxis": "y7"
        },
        {
         "customdata": [
          [
           7,
           [
            "gut microbiome",
            "gut microbiota"
           ]
          ]
         ],
         "hovertemplate": "Topic Name=%{x}<br>Year=2019<br>Frequency=%{y}<br>Topic=%{customdata[0]}<br>N-Grams_List=%{customdata[1]}<extra></extra>",
         "legendgroup": "7_gut_microbiome_microbiota_gut microbio...",
         "marker": {
          "color": "#ab63fa",
          "pattern": {
           "shape": ""
          }
         },
         "name": "7_gut_microbiome_microbiota_gut microbio...",
         "orientation": "v",
         "showlegend": false,
         "textposition": "auto",
         "type": "bar",
         "x": [
          "7_gut_microbiome_microbiota_gut microbio..."
         ],
         "xaxis": "x8",
         "y": {
          "bdata": "FA==",
          "dtype": "i1"
         },
         "yaxis": "y8"
        },
        {
         "customdata": [
          [
           7,
           [
            "gut microbiome"
           ]
          ]
         ],
         "hovertemplate": "Topic Name=%{x}<br>Year=2021<br>Frequency=%{y}<br>Topic=%{customdata[0]}<br>N-Grams_List=%{customdata[1]}<extra></extra>",
         "legendgroup": "7_gut_microbiome_microbiota_gut microbio...",
         "marker": {
          "color": "#ab63fa",
          "pattern": {
           "shape": ""
          }
         },
         "name": "7_gut_microbiome_microbiota_gut microbio...",
         "orientation": "v",
         "showlegend": false,
         "textposition": "auto",
         "type": "bar",
         "x": [
          "7_gut_microbiome_microbiota_gut microbio..."
         ],
         "xaxis": "x",
         "y": {
          "bdata": "GQ==",
          "dtype": "i1"
         },
         "yaxis": "y"
        },
        {
         "customdata": [
          [
           7,
           [
            "gut microbiome",
            "gut microbiota"
           ]
          ]
         ],
         "hovertemplate": "Topic Name=%{x}<br>Year=2022<br>Frequency=%{y}<br>Topic=%{customdata[0]}<br>N-Grams_List=%{customdata[1]}<extra></extra>",
         "legendgroup": "7_gut_microbiome_microbiota_gut microbio...",
         "marker": {
          "color": "#ab63fa",
          "pattern": {
           "shape": ""
          }
         },
         "name": "7_gut_microbiome_microbiota_gut microbio...",
         "orientation": "v",
         "showlegend": false,
         "textposition": "auto",
         "type": "bar",
         "x": [
          "7_gut_microbiome_microbiota_gut microbio..."
         ],
         "xaxis": "x2",
         "y": {
          "bdata": "JA==",
          "dtype": "i1"
         },
         "yaxis": "y2"
        },
        {
         "customdata": [
          [
           7,
           [
            "gut microbiome",
            "gut microbiota"
           ]
          ]
         ],
         "hovertemplate": "Topic Name=%{x}<br>Year=2023<br>Frequency=%{y}<br>Topic=%{customdata[0]}<br>N-Grams_List=%{customdata[1]}<extra></extra>",
         "legendgroup": "7_gut_microbiome_microbiota_gut microbio...",
         "marker": {
          "color": "#ab63fa",
          "pattern": {
           "shape": ""
          }
         },
         "name": "7_gut_microbiome_microbiota_gut microbio...",
         "orientation": "v",
         "showlegend": false,
         "textposition": "auto",
         "type": "bar",
         "x": [
          "7_gut_microbiome_microbiota_gut microbio..."
         ],
         "xaxis": "x3",
         "y": {
          "bdata": "Gw==",
          "dtype": "i1"
         },
         "yaxis": "y3"
        },
        {
         "customdata": [
          [
           7,
           [
            "gut microbiome",
            "gut microbiota"
           ]
          ]
         ],
         "hovertemplate": "Topic Name=%{x}<br>Year=2024<br>Frequency=%{y}<br>Topic=%{customdata[0]}<br>N-Grams_List=%{customdata[1]}<extra></extra>",
         "legendgroup": "7_gut_microbiome_microbiota_gut microbio...",
         "marker": {
          "color": "#ab63fa",
          "pattern": {
           "shape": ""
          }
         },
         "name": "7_gut_microbiome_microbiota_gut microbio...",
         "orientation": "v",
         "showlegend": false,
         "textposition": "auto",
         "type": "bar",
         "x": [
          "7_gut_microbiome_microbiota_gut microbio..."
         ],
         "xaxis": "x4",
         "y": {
          "bdata": "JQ==",
          "dtype": "i1"
         },
         "yaxis": "y4"
        },
        {
         "customdata": [
          [
           14,
           [
            "muscle mass"
           ]
          ]
         ],
         "hovertemplate": "Topic Name=%{x}<br>Year=2018<br>Frequency=%{y}<br>Topic=%{customdata[0]}<br>N-Grams_List=%{customdata[1]}<extra></extra>",
         "legendgroup": "14_muscle_sarcopenia_muscle mass_mass",
         "marker": {
          "color": "#FFA15A",
          "pattern": {
           "shape": ""
          }
         },
         "name": "14_muscle_sarcopenia_muscle mass_mass",
         "orientation": "v",
         "showlegend": true,
         "textposition": "auto",
         "type": "bar",
         "x": [
          "14_muscle_sarcopenia_muscle mass_mass"
         ],
         "xaxis": "x7",
         "y": {
          "bdata": "DQ==",
          "dtype": "i1"
         },
         "yaxis": "y7"
        },
        {
         "customdata": [
          [
           12,
           [
            "longevity industry"
           ]
          ]
         ],
         "hovertemplate": "Topic Name=%{x}<br>Year=2019<br>Frequency=%{y}<br>Topic=%{customdata[0]}<br>N-Grams_List=%{customdata[1]}<extra></extra>",
         "legendgroup": "12_industry_companies_company_longevity",
         "marker": {
          "color": "#19d3f3",
          "pattern": {
           "shape": ""
          }
         },
         "name": "12_industry_companies_company_longevity",
         "orientation": "v",
         "showlegend": true,
         "textposition": "auto",
         "type": "bar",
         "x": [
          "12_industry_companies_company_longevity"
         ],
         "xaxis": "x8",
         "y": {
          "bdata": "Fg==",
          "dtype": "i1"
         },
         "yaxis": "y8"
        },
        {
         "customdata": [
          [
           72,
           [
            "nad levels"
           ]
          ]
         ],
         "hovertemplate": "Topic Name=%{x}<br>Year=2019<br>Frequency=%{y}<br>Topic=%{customdata[0]}<br>N-Grams_List=%{customdata[1]}<extra></extra>",
         "legendgroup": "72_nad_nmn_nicotinamide_nad levels",
         "marker": {
          "color": "#FF6692",
          "pattern": {
           "shape": ""
          }
         },
         "name": "72_nad_nmn_nicotinamide_nad levels",
         "orientation": "v",
         "showlegend": true,
         "textposition": "auto",
         "type": "bar",
         "x": [
          "72_nad_nmn_nicotinamide_nad levels"
         ],
         "xaxis": "x8",
         "y": {
          "bdata": "DQ==",
          "dtype": "i1"
         },
         "yaxis": "y8"
        },
        {
         "customdata": [
          [
           33,
           [
            "partial reprogramming",
            "yamanaka factors"
           ]
          ]
         ],
         "hovertemplate": "Topic Name=%{x}<br>Year=2021<br>Frequency=%{y}<br>Topic=%{customdata[0]}<br>N-Grams_List=%{customdata[1]}<extra></extra>",
         "legendgroup": "33_reprogramming_partial_partial reprogr...",
         "marker": {
          "color": "#B6E880",
          "pattern": {
           "shape": ""
          }
         },
         "name": "33_reprogramming_partial_partial reprogr...",
         "orientation": "v",
         "showlegend": true,
         "textposition": "auto",
         "type": "bar",
         "x": [
          "33_reprogramming_partial_partial reprogr..."
         ],
         "xaxis": "x",
         "y": {
          "bdata": "Ew==",
          "dtype": "i1"
         },
         "yaxis": "y"
        },
        {
         "customdata": [
          [
           33,
           [
            "partial reprogramming",
            "yamanaka factors"
           ]
          ]
         ],
         "hovertemplate": "Topic Name=%{x}<br>Year=2022<br>Frequency=%{y}<br>Topic=%{customdata[0]}<br>N-Grams_List=%{customdata[1]}<extra></extra>",
         "legendgroup": "33_reprogramming_partial_partial reprogr...",
         "marker": {
          "color": "#B6E880",
          "pattern": {
           "shape": ""
          }
         },
         "name": "33_reprogramming_partial_partial reprogr...",
         "orientation": "v",
         "showlegend": false,
         "textposition": "auto",
         "type": "bar",
         "x": [
          "33_reprogramming_partial_partial reprogr..."
         ],
         "xaxis": "x2",
         "y": {
          "bdata": "Dw==",
          "dtype": "i1"
         },
         "yaxis": "y2"
        },
        {
         "customdata": [
          [
           39,
           [
            "senescent cells"
           ]
          ]
         ],
         "hovertemplate": "Topic Name=%{x}<br>Year=2021<br>Frequency=%{y}<br>Topic=%{customdata[0]}<br>N-Grams_List=%{customdata[1]}<extra></extra>",
         "legendgroup": "39_senolytic_senescent_senescent cells_q...",
         "marker": {
          "color": "#FF97FF",
          "pattern": {
           "shape": ""
          }
         },
         "name": "39_senolytic_senescent_senescent cells_q...",
         "orientation": "v",
         "showlegend": true,
         "textposition": "auto",
         "type": "bar",
         "x": [
          "39_senolytic_senescent_senescent cells_q..."
         ],
         "xaxis": "x",
         "y": {
          "bdata": "EA==",
          "dtype": "i1"
         },
         "yaxis": "y"
        },
        {
         "customdata": [
          [
           15,
           [
            "epigenetic clocks"
           ]
          ]
         ],
         "hovertemplate": "Topic Name=%{x}<br>Year=2022<br>Frequency=%{y}<br>Topic=%{customdata[0]}<br>N-Grams_List=%{customdata[1]}<extra></extra>",
         "legendgroup": "15_epigenetic_clocks_methylation_clock",
         "marker": {
          "color": "#FECB52",
          "pattern": {
           "shape": ""
          }
         },
         "name": "15_epigenetic_clocks_methylation_clock",
         "orientation": "v",
         "showlegend": true,
         "textposition": "auto",
         "type": "bar",
         "x": [
          "15_epigenetic_clocks_methylation_clock"
         ],
         "xaxis": "x2",
         "y": {
          "bdata": "EA==",
          "dtype": "i1"
         },
         "yaxis": "y2"
        },
        {
         "customdata": [
          [
           15,
           [
            "epigenetic clocks",
            "dna methylation"
           ]
          ]
         ],
         "hovertemplate": "Topic Name=%{x}<br>Year=2023<br>Frequency=%{y}<br>Topic=%{customdata[0]}<br>N-Grams_List=%{customdata[1]}<extra></extra>",
         "legendgroup": "15_epigenetic_clocks_methylation_clock",
         "marker": {
          "color": "#FECB52",
          "pattern": {
           "shape": ""
          }
         },
         "name": "15_epigenetic_clocks_methylation_clock",
         "orientation": "v",
         "showlegend": false,
         "textposition": "auto",
         "type": "bar",
         "x": [
          "15_epigenetic_clocks_methylation_clock"
         ],
         "xaxis": "x3",
         "y": {
          "bdata": "EA==",
          "dtype": "i1"
         },
         "yaxis": "y3"
        },
        {
         "customdata": [
          [
           15,
           [
            "epigenetic clocks"
           ]
          ]
         ],
         "hovertemplate": "Topic Name=%{x}<br>Year=2024<br>Frequency=%{y}<br>Topic=%{customdata[0]}<br>N-Grams_List=%{customdata[1]}<extra></extra>",
         "legendgroup": "15_epigenetic_clocks_methylation_clock",
         "marker": {
          "color": "#FECB52",
          "pattern": {
           "shape": ""
          }
         },
         "name": "15_epigenetic_clocks_methylation_clock",
         "orientation": "v",
         "showlegend": false,
         "textposition": "auto",
         "type": "bar",
         "x": [
          "15_epigenetic_clocks_methylation_clock"
         ],
         "xaxis": "x4",
         "y": {
          "bdata": "FQ==",
          "dtype": "i1"
         },
         "yaxis": "y4"
        },
        {
         "customdata": [
          [
           20,
           [
            "chronic inflammation"
           ]
          ]
         ],
         "hovertemplate": "Topic Name=%{x}<br>Year=2022<br>Frequency=%{y}<br>Topic=%{customdata[0]}<br>N-Grams_List=%{customdata[1]}<extra></extra>",
         "legendgroup": "20_inflammation_inflammatory_chronic_chr...",
         "marker": {
          "color": "#636efa",
          "pattern": {
           "shape": ""
          }
         },
         "name": "20_inflammation_inflammatory_chronic_chr...",
         "orientation": "v",
         "showlegend": true,
         "textposition": "auto",
         "type": "bar",
         "x": [
          "20_inflammation_inflammatory_chronic_chr..."
         ],
         "xaxis": "x2",
         "y": {
          "bdata": "EA==",
          "dtype": "i1"
         },
         "yaxis": "y2"
        },
        {
         "customdata": [
          [
           20,
           [
            "chronic inflammation"
           ]
          ]
         ],
         "hovertemplate": "Topic Name=%{x}<br>Year=2023<br>Frequency=%{y}<br>Topic=%{customdata[0]}<br>N-Grams_List=%{customdata[1]}<extra></extra>",
         "legendgroup": "20_inflammation_inflammatory_chronic_chr...",
         "marker": {
          "color": "#636efa",
          "pattern": {
           "shape": ""
          }
         },
         "name": "20_inflammation_inflammatory_chronic_chr...",
         "orientation": "v",
         "showlegend": false,
         "textposition": "auto",
         "type": "bar",
         "x": [
          "20_inflammation_inflammatory_chronic_chr..."
         ],
         "xaxis": "x3",
         "y": {
          "bdata": "FA==",
          "dtype": "i1"
         },
         "yaxis": "y3"
        },
        {
         "customdata": [
          [
           20,
           [
            "chronic inflammation"
           ]
          ]
         ],
         "hovertemplate": "Topic Name=%{x}<br>Year=2024<br>Frequency=%{y}<br>Topic=%{customdata[0]}<br>N-Grams_List=%{customdata[1]}<extra></extra>",
         "legendgroup": "20_inflammation_inflammatory_chronic_chr...",
         "marker": {
          "color": "#636efa",
          "pattern": {
           "shape": ""
          }
         },
         "name": "20_inflammation_inflammatory_chronic_chr...",
         "orientation": "v",
         "showlegend": false,
         "textposition": "auto",
         "type": "bar",
         "x": [
          "20_inflammation_inflammatory_chronic_chr..."
         ],
         "xaxis": "x4",
         "y": {
          "bdata": "EA==",
          "dtype": "i1"
         },
         "yaxis": "y4"
        }
       ],
       "layout": {
        "annotations": [
         {
          "font": {},
          "showarrow": false,
          "text": "Year=2021",
          "x": 0.1175,
          "xanchor": "center",
          "xref": "paper",
          "y": 0.144,
          "yanchor": "bottom",
          "yref": "paper"
         },
         {
          "font": {},
          "showarrow": false,
          "text": "Year=2022",
          "x": 0.3725,
          "xanchor": "center",
          "xref": "paper",
          "y": 0.144,
          "yanchor": "bottom",
          "yref": "paper"
         },
         {
          "font": {},
          "showarrow": false,
          "text": "Year=2023",
          "x": 0.6275,
          "xanchor": "center",
          "xref": "paper",
          "y": 0.144,
          "yanchor": "bottom",
          "yref": "paper"
         },
         {
          "font": {},
          "showarrow": false,
          "text": "Year=2024",
          "x": 0.8824999999999998,
          "xanchor": "center",
          "xref": "paper",
          "y": 0.144,
          "yanchor": "bottom",
          "yref": "paper"
         },
         {
          "font": {},
          "showarrow": false,
          "text": "Year=2016",
          "x": 0.1175,
          "xanchor": "center",
          "xref": "paper",
          "y": 0.358,
          "yanchor": "bottom",
          "yref": "paper"
         },
         {
          "font": {},
          "showarrow": false,
          "text": "Year=2017",
          "x": 0.3725,
          "xanchor": "center",
          "xref": "paper",
          "y": 0.358,
          "yanchor": "bottom",
          "yref": "paper"
         },
         {
          "font": {},
          "showarrow": false,
          "text": "Year=2018",
          "x": 0.6275,
          "xanchor": "center",
          "xref": "paper",
          "y": 0.358,
          "yanchor": "bottom",
          "yref": "paper"
         },
         {
          "font": {},
          "showarrow": false,
          "text": "Year=2019",
          "x": 0.8824999999999998,
          "xanchor": "center",
          "xref": "paper",
          "y": 0.358,
          "yanchor": "bottom",
          "yref": "paper"
         },
         {
          "font": {},
          "showarrow": false,
          "text": "Year=2011",
          "x": 0.1175,
          "xanchor": "center",
          "xref": "paper",
          "y": 0.572,
          "yanchor": "bottom",
          "yref": "paper"
         },
         {
          "font": {},
          "showarrow": false,
          "text": "Year=2013",
          "x": 0.3725,
          "xanchor": "center",
          "xref": "paper",
          "y": 0.572,
          "yanchor": "bottom",
          "yref": "paper"
         },
         {
          "font": {},
          "showarrow": false,
          "text": "Year=2014",
          "x": 0.6275,
          "xanchor": "center",
          "xref": "paper",
          "y": 0.572,
          "yanchor": "bottom",
          "yref": "paper"
         },
         {
          "font": {},
          "showarrow": false,
          "text": "Year=2015",
          "x": 0.8824999999999998,
          "xanchor": "center",
          "xref": "paper",
          "y": 0.572,
          "yanchor": "bottom",
          "yref": "paper"
         },
         {
          "font": {},
          "showarrow": false,
          "text": "Year=2007",
          "x": 0.1175,
          "xanchor": "center",
          "xref": "paper",
          "y": 0.7859999999999999,
          "yanchor": "bottom",
          "yref": "paper"
         },
         {
          "font": {},
          "showarrow": false,
          "text": "Year=2008",
          "x": 0.3725,
          "xanchor": "center",
          "xref": "paper",
          "y": 0.7859999999999999,
          "yanchor": "bottom",
          "yref": "paper"
         },
         {
          "font": {},
          "showarrow": false,
          "text": "Year=2009",
          "x": 0.6275,
          "xanchor": "center",
          "xref": "paper",
          "y": 0.7859999999999999,
          "yanchor": "bottom",
          "yref": "paper"
         },
         {
          "font": {},
          "showarrow": false,
          "text": "Year=2010",
          "x": 0.8824999999999998,
          "xanchor": "center",
          "xref": "paper",
          "y": 0.7859999999999999,
          "yanchor": "bottom",
          "yref": "paper"
         },
         {
          "font": {},
          "showarrow": false,
          "text": "Year=2002",
          "x": 0.1175,
          "xanchor": "center",
          "xref": "paper",
          "y": 1,
          "yanchor": "bottom",
          "yref": "paper"
         },
         {
          "font": {},
          "showarrow": false,
          "text": "Year=2003",
          "x": 0.3725,
          "xanchor": "center",
          "xref": "paper",
          "y": 1,
          "yanchor": "bottom",
          "yref": "paper"
         },
         {
          "font": {},
          "showarrow": false,
          "text": "Year=2005",
          "x": 0.6275,
          "xanchor": "center",
          "xref": "paper",
          "y": 1,
          "yanchor": "bottom",
          "yref": "paper"
         },
         {
          "font": {},
          "showarrow": false,
          "text": "Year=2006",
          "x": 0.8824999999999998,
          "xanchor": "center",
          "xref": "paper",
          "y": 1,
          "yanchor": "bottom",
          "yref": "paper"
         }
        ],
        "barmode": "relative",
        "height": 800,
        "legend": {
         "title": {
          "text": "Topic Name"
         },
         "tracegroupgap": 0
        },
        "template": {
         "data": {
          "bar": [
           {
            "error_x": {
             "color": "#2a3f5f"
            },
            "error_y": {
             "color": "#2a3f5f"
            },
            "marker": {
             "line": {
              "color": "#E5ECF6",
              "width": 0.5
             },
             "pattern": {
              "fillmode": "overlay",
              "size": 10,
              "solidity": 0.2
             }
            },
            "type": "bar"
           }
          ],
          "barpolar": [
           {
            "marker": {
             "line": {
              "color": "#E5ECF6",
              "width": 0.5
             },
             "pattern": {
              "fillmode": "overlay",
              "size": 10,
              "solidity": 0.2
             }
            },
            "type": "barpolar"
           }
          ],
          "carpet": [
           {
            "aaxis": {
             "endlinecolor": "#2a3f5f",
             "gridcolor": "white",
             "linecolor": "white",
             "minorgridcolor": "white",
             "startlinecolor": "#2a3f5f"
            },
            "baxis": {
             "endlinecolor": "#2a3f5f",
             "gridcolor": "white",
             "linecolor": "white",
             "minorgridcolor": "white",
             "startlinecolor": "#2a3f5f"
            },
            "type": "carpet"
           }
          ],
          "choropleth": [
           {
            "colorbar": {
             "outlinewidth": 0,
             "ticks": ""
            },
            "type": "choropleth"
           }
          ],
          "contour": [
           {
            "colorbar": {
             "outlinewidth": 0,
             "ticks": ""
            },
            "colorscale": [
             [
              0,
              "#0d0887"
             ],
             [
              0.1111111111111111,
              "#46039f"
             ],
             [
              0.2222222222222222,
              "#7201a8"
             ],
             [
              0.3333333333333333,
              "#9c179e"
             ],
             [
              0.4444444444444444,
              "#bd3786"
             ],
             [
              0.5555555555555556,
              "#d8576b"
             ],
             [
              0.6666666666666666,
              "#ed7953"
             ],
             [
              0.7777777777777778,
              "#fb9f3a"
             ],
             [
              0.8888888888888888,
              "#fdca26"
             ],
             [
              1,
              "#f0f921"
             ]
            ],
            "type": "contour"
           }
          ],
          "contourcarpet": [
           {
            "colorbar": {
             "outlinewidth": 0,
             "ticks": ""
            },
            "type": "contourcarpet"
           }
          ],
          "heatmap": [
           {
            "colorbar": {
             "outlinewidth": 0,
             "ticks": ""
            },
            "colorscale": [
             [
              0,
              "#0d0887"
             ],
             [
              0.1111111111111111,
              "#46039f"
             ],
             [
              0.2222222222222222,
              "#7201a8"
             ],
             [
              0.3333333333333333,
              "#9c179e"
             ],
             [
              0.4444444444444444,
              "#bd3786"
             ],
             [
              0.5555555555555556,
              "#d8576b"
             ],
             [
              0.6666666666666666,
              "#ed7953"
             ],
             [
              0.7777777777777778,
              "#fb9f3a"
             ],
             [
              0.8888888888888888,
              "#fdca26"
             ],
             [
              1,
              "#f0f921"
             ]
            ],
            "type": "heatmap"
           }
          ],
          "histogram": [
           {
            "marker": {
             "pattern": {
              "fillmode": "overlay",
              "size": 10,
              "solidity": 0.2
             }
            },
            "type": "histogram"
           }
          ],
          "histogram2d": [
           {
            "colorbar": {
             "outlinewidth": 0,
             "ticks": ""
            },
            "colorscale": [
             [
              0,
              "#0d0887"
             ],
             [
              0.1111111111111111,
              "#46039f"
             ],
             [
              0.2222222222222222,
              "#7201a8"
             ],
             [
              0.3333333333333333,
              "#9c179e"
             ],
             [
              0.4444444444444444,
              "#bd3786"
             ],
             [
              0.5555555555555556,
              "#d8576b"
             ],
             [
              0.6666666666666666,
              "#ed7953"
             ],
             [
              0.7777777777777778,
              "#fb9f3a"
             ],
             [
              0.8888888888888888,
              "#fdca26"
             ],
             [
              1,
              "#f0f921"
             ]
            ],
            "type": "histogram2d"
           }
          ],
          "histogram2dcontour": [
           {
            "colorbar": {
             "outlinewidth": 0,
             "ticks": ""
            },
            "colorscale": [
             [
              0,
              "#0d0887"
             ],
             [
              0.1111111111111111,
              "#46039f"
             ],
             [
              0.2222222222222222,
              "#7201a8"
             ],
             [
              0.3333333333333333,
              "#9c179e"
             ],
             [
              0.4444444444444444,
              "#bd3786"
             ],
             [
              0.5555555555555556,
              "#d8576b"
             ],
             [
              0.6666666666666666,
              "#ed7953"
             ],
             [
              0.7777777777777778,
              "#fb9f3a"
             ],
             [
              0.8888888888888888,
              "#fdca26"
             ],
             [
              1,
              "#f0f921"
             ]
            ],
            "type": "histogram2dcontour"
           }
          ],
          "mesh3d": [
           {
            "colorbar": {
             "outlinewidth": 0,
             "ticks": ""
            },
            "type": "mesh3d"
           }
          ],
          "parcoords": [
           {
            "line": {
             "colorbar": {
              "outlinewidth": 0,
              "ticks": ""
             }
            },
            "type": "parcoords"
           }
          ],
          "pie": [
           {
            "automargin": true,
            "type": "pie"
           }
          ],
          "scatter": [
           {
            "fillpattern": {
             "fillmode": "overlay",
             "size": 10,
             "solidity": 0.2
            },
            "type": "scatter"
           }
          ],
          "scatter3d": [
           {
            "line": {
             "colorbar": {
              "outlinewidth": 0,
              "ticks": ""
             }
            },
            "marker": {
             "colorbar": {
              "outlinewidth": 0,
              "ticks": ""
             }
            },
            "type": "scatter3d"
           }
          ],
          "scattercarpet": [
           {
            "marker": {
             "colorbar": {
              "outlinewidth": 0,
              "ticks": ""
             }
            },
            "type": "scattercarpet"
           }
          ],
          "scattergeo": [
           {
            "marker": {
             "colorbar": {
              "outlinewidth": 0,
              "ticks": ""
             }
            },
            "type": "scattergeo"
           }
          ],
          "scattergl": [
           {
            "marker": {
             "colorbar": {
              "outlinewidth": 0,
              "ticks": ""
             }
            },
            "type": "scattergl"
           }
          ],
          "scattermap": [
           {
            "marker": {
             "colorbar": {
              "outlinewidth": 0,
              "ticks": ""
             }
            },
            "type": "scattermap"
           }
          ],
          "scattermapbox": [
           {
            "marker": {
             "colorbar": {
              "outlinewidth": 0,
              "ticks": ""
             }
            },
            "type": "scattermapbox"
           }
          ],
          "scatterpolar": [
           {
            "marker": {
             "colorbar": {
              "outlinewidth": 0,
              "ticks": ""
             }
            },
            "type": "scatterpolar"
           }
          ],
          "scatterpolargl": [
           {
            "marker": {
             "colorbar": {
              "outlinewidth": 0,
              "ticks": ""
             }
            },
            "type": "scatterpolargl"
           }
          ],
          "scatterternary": [
           {
            "marker": {
             "colorbar": {
              "outlinewidth": 0,
              "ticks": ""
             }
            },
            "type": "scatterternary"
           }
          ],
          "surface": [
           {
            "colorbar": {
             "outlinewidth": 0,
             "ticks": ""
            },
            "colorscale": [
             [
              0,
              "#0d0887"
             ],
             [
              0.1111111111111111,
              "#46039f"
             ],
             [
              0.2222222222222222,
              "#7201a8"
             ],
             [
              0.3333333333333333,
              "#9c179e"
             ],
             [
              0.4444444444444444,
              "#bd3786"
             ],
             [
              0.5555555555555556,
              "#d8576b"
             ],
             [
              0.6666666666666666,
              "#ed7953"
             ],
             [
              0.7777777777777778,
              "#fb9f3a"
             ],
             [
              0.8888888888888888,
              "#fdca26"
             ],
             [
              1,
              "#f0f921"
             ]
            ],
            "type": "surface"
           }
          ],
          "table": [
           {
            "cells": {
             "fill": {
              "color": "#EBF0F8"
             },
             "line": {
              "color": "white"
             }
            },
            "header": {
             "fill": {
              "color": "#C8D4E3"
             },
             "line": {
              "color": "white"
             }
            },
            "type": "table"
           }
          ]
         },
         "layout": {
          "annotationdefaults": {
           "arrowcolor": "#2a3f5f",
           "arrowhead": 0,
           "arrowwidth": 1
          },
          "autotypenumbers": "strict",
          "coloraxis": {
           "colorbar": {
            "outlinewidth": 0,
            "ticks": ""
           }
          },
          "colorscale": {
           "diverging": [
            [
             0,
             "#8e0152"
            ],
            [
             0.1,
             "#c51b7d"
            ],
            [
             0.2,
             "#de77ae"
            ],
            [
             0.3,
             "#f1b6da"
            ],
            [
             0.4,
             "#fde0ef"
            ],
            [
             0.5,
             "#f7f7f7"
            ],
            [
             0.6,
             "#e6f5d0"
            ],
            [
             0.7,
             "#b8e186"
            ],
            [
             0.8,
             "#7fbc41"
            ],
            [
             0.9,
             "#4d9221"
            ],
            [
             1,
             "#276419"
            ]
           ],
           "sequential": [
            [
             0,
             "#0d0887"
            ],
            [
             0.1111111111111111,
             "#46039f"
            ],
            [
             0.2222222222222222,
             "#7201a8"
            ],
            [
             0.3333333333333333,
             "#9c179e"
            ],
            [
             0.4444444444444444,
             "#bd3786"
            ],
            [
             0.5555555555555556,
             "#d8576b"
            ],
            [
             0.6666666666666666,
             "#ed7953"
            ],
            [
             0.7777777777777778,
             "#fb9f3a"
            ],
            [
             0.8888888888888888,
             "#fdca26"
            ],
            [
             1,
             "#f0f921"
            ]
           ],
           "sequentialminus": [
            [
             0,
             "#0d0887"
            ],
            [
             0.1111111111111111,
             "#46039f"
            ],
            [
             0.2222222222222222,
             "#7201a8"
            ],
            [
             0.3333333333333333,
             "#9c179e"
            ],
            [
             0.4444444444444444,
             "#bd3786"
            ],
            [
             0.5555555555555556,
             "#d8576b"
            ],
            [
             0.6666666666666666,
             "#ed7953"
            ],
            [
             0.7777777777777778,
             "#fb9f3a"
            ],
            [
             0.8888888888888888,
             "#fdca26"
            ],
            [
             1,
             "#f0f921"
            ]
           ]
          },
          "colorway": [
           "#636efa",
           "#EF553B",
           "#00cc96",
           "#ab63fa",
           "#FFA15A",
           "#19d3f3",
           "#FF6692",
           "#B6E880",
           "#FF97FF",
           "#FECB52"
          ],
          "font": {
           "color": "#2a3f5f"
          },
          "geo": {
           "bgcolor": "white",
           "lakecolor": "white",
           "landcolor": "#E5ECF6",
           "showlakes": true,
           "showland": true,
           "subunitcolor": "white"
          },
          "hoverlabel": {
           "align": "left"
          },
          "hovermode": "closest",
          "mapbox": {
           "style": "light"
          },
          "paper_bgcolor": "white",
          "plot_bgcolor": "#E5ECF6",
          "polar": {
           "angularaxis": {
            "gridcolor": "white",
            "linecolor": "white",
            "ticks": ""
           },
           "bgcolor": "#E5ECF6",
           "radialaxis": {
            "gridcolor": "white",
            "linecolor": "white",
            "ticks": ""
           }
          },
          "scene": {
           "xaxis": {
            "backgroundcolor": "#E5ECF6",
            "gridcolor": "white",
            "gridwidth": 2,
            "linecolor": "white",
            "showbackground": true,
            "ticks": "",
            "zerolinecolor": "white"
           },
           "yaxis": {
            "backgroundcolor": "#E5ECF6",
            "gridcolor": "white",
            "gridwidth": 2,
            "linecolor": "white",
            "showbackground": true,
            "ticks": "",
            "zerolinecolor": "white"
           },
           "zaxis": {
            "backgroundcolor": "#E5ECF6",
            "gridcolor": "white",
            "gridwidth": 2,
            "linecolor": "white",
            "showbackground": true,
            "ticks": "",
            "zerolinecolor": "white"
           }
          },
          "shapedefaults": {
           "line": {
            "color": "#2a3f5f"
           }
          },
          "ternary": {
           "aaxis": {
            "gridcolor": "white",
            "linecolor": "white",
            "ticks": ""
           },
           "baxis": {
            "gridcolor": "white",
            "linecolor": "white",
            "ticks": ""
           },
           "bgcolor": "#E5ECF6",
           "caxis": {
            "gridcolor": "white",
            "linecolor": "white",
            "ticks": ""
           }
          },
          "title": {
           "x": 0.05
          },
          "xaxis": {
           "automargin": true,
           "gridcolor": "white",
           "linecolor": "white",
           "ticks": "",
           "title": {
            "standoff": 15
           },
           "zerolinecolor": "white",
           "zerolinewidth": 2
          },
          "yaxis": {
           "automargin": true,
           "gridcolor": "white",
           "linecolor": "white",
           "ticks": "",
           "title": {
            "standoff": 15
           },
           "zerolinecolor": "white",
           "zerolinewidth": 2
          }
         }
        },
        "title": {
         "text": "Top 5 Most Frequent Topics per Year",
         "x": 0.5
        },
        "width": 1400,
        "xaxis": {
         "anchor": "y",
         "categoryarray": [
          "51_cloning_ban_therapeutic cloning_thera...",
          "5_stem_stem cells_cells_embryonic",
          "13_stem cell research_cell research_stem...",
          "50_calorie_calorie restriction_restricti...",
          "60_council_bioethics_kass_leon kass",
          "32_antiaging_marketplace_antiaging medic...",
          "8_grey_aubrey_aubrey grey_sens",
          "0_mitochondrial_mitochondria_mtdna_mitoc...",
          "11_heart_stem_stem cells_cells",
          "27_methuselah_methuselah foundation_foun...",
          "28_cancer stem_cancer stem cells_cancer_...",
          "4_telomere_telomeres_telomerase_length",
          "18_genetic_variants_longevity_genes",
          "59_naked_mole_naked mole_mole rats",
          "9_sens_foundation_sens research_sens res...",
          "2_aging_damage_research_slow",
          "10_exercise_brain_physical_cognitive",
          "25_ages_glucosepane_glycation_rage",
          "3_senescent_senescent cells_senescence_c...",
          "40_species_sea_hydra_animals",
          "43_fibrosis_lung_pulmonary_ipf",
          "19_immune_immunosenescence_cells_immunit...",
          "26_physical_physical activity_exercise_a...",
          "7_gut_microbiome_microbiota_gut microbio...",
          "14_muscle_sarcopenia_muscle mass_mass",
          "12_industry_companies_company_longevity",
          "72_nad_nmn_nicotinamide_nad levels",
          "33_reprogramming_partial_partial reprogr...",
          "39_senolytic_senescent_senescent cells_q...",
          "15_epigenetic_clocks_methylation_clock",
          "20_inflammation_inflammatory_chronic_chr..."
         ],
         "categoryorder": "array",
         "domain": [
          0,
          0.235
         ],
         "showticklabels": false,
         "title": {
          "text": "Topic Name"
         }
        },
        "xaxis10": {
         "anchor": "y10",
         "domain": [
          0.255,
          0.49
         ],
         "matches": "x",
         "showticklabels": false
        },
        "xaxis11": {
         "anchor": "y11",
         "domain": [
          0.51,
          0.745
         ],
         "matches": "x",
         "showticklabels": false
        },
        "xaxis12": {
         "anchor": "y12",
         "domain": [
          0.7649999999999999,
          0.9999999999999999
         ],
         "matches": "x",
         "showticklabels": false
        },
        "xaxis13": {
         "anchor": "y13",
         "domain": [
          0,
          0.235
         ],
         "matches": "x",
         "showticklabels": false
        },
        "xaxis14": {
         "anchor": "y14",
         "domain": [
          0.255,
          0.49
         ],
         "matches": "x",
         "showticklabels": false
        },
        "xaxis15": {
         "anchor": "y15",
         "domain": [
          0.51,
          0.745
         ],
         "matches": "x",
         "showticklabels": false
        },
        "xaxis16": {
         "anchor": "y16",
         "domain": [
          0.7649999999999999,
          0.9999999999999999
         ],
         "matches": "x",
         "showticklabels": false
        },
        "xaxis17": {
         "anchor": "y17",
         "domain": [
          0,
          0.235
         ],
         "matches": "x",
         "showticklabels": false
        },
        "xaxis18": {
         "anchor": "y18",
         "domain": [
          0.255,
          0.49
         ],
         "matches": "x",
         "showticklabels": false
        },
        "xaxis19": {
         "anchor": "y19",
         "domain": [
          0.51,
          0.745
         ],
         "matches": "x",
         "showticklabels": false
        },
        "xaxis2": {
         "anchor": "y2",
         "categoryarray": [
          "51_cloning_ban_therapeutic cloning_thera...",
          "5_stem_stem cells_cells_embryonic",
          "13_stem cell research_cell research_stem...",
          "50_calorie_calorie restriction_restricti...",
          "60_council_bioethics_kass_leon kass",
          "32_antiaging_marketplace_antiaging medic...",
          "8_grey_aubrey_aubrey grey_sens",
          "0_mitochondrial_mitochondria_mtdna_mitoc...",
          "11_heart_stem_stem cells_cells",
          "27_methuselah_methuselah foundation_foun...",
          "28_cancer stem_cancer stem cells_cancer_...",
          "4_telomere_telomeres_telomerase_length",
          "18_genetic_variants_longevity_genes",
          "59_naked_mole_naked mole_mole rats",
          "9_sens_foundation_sens research_sens res...",
          "2_aging_damage_research_slow",
          "10_exercise_brain_physical_cognitive",
          "25_ages_glucosepane_glycation_rage",
          "3_senescent_senescent cells_senescence_c...",
          "40_species_sea_hydra_animals",
          "43_fibrosis_lung_pulmonary_ipf",
          "19_immune_immunosenescence_cells_immunit...",
          "26_physical_physical activity_exercise_a...",
          "7_gut_microbiome_microbiota_gut microbio...",
          "14_muscle_sarcopenia_muscle mass_mass",
          "12_industry_companies_company_longevity",
          "72_nad_nmn_nicotinamide_nad levels",
          "33_reprogramming_partial_partial reprogr...",
          "39_senolytic_senescent_senescent cells_q...",
          "15_epigenetic_clocks_methylation_clock",
          "20_inflammation_inflammatory_chronic_chr..."
         ],
         "categoryorder": "array",
         "domain": [
          0.255,
          0.49
         ],
         "matches": "x",
         "showticklabels": false,
         "title": {
          "text": "Topic Name"
         }
        },
        "xaxis20": {
         "anchor": "y20",
         "domain": [
          0.7649999999999999,
          0.9999999999999999
         ],
         "matches": "x",
         "showticklabels": false
        },
        "xaxis3": {
         "anchor": "y3",
         "categoryarray": [
          "51_cloning_ban_therapeutic cloning_thera...",
          "5_stem_stem cells_cells_embryonic",
          "13_stem cell research_cell research_stem...",
          "50_calorie_calorie restriction_restricti...",
          "60_council_bioethics_kass_leon kass",
          "32_antiaging_marketplace_antiaging medic...",
          "8_grey_aubrey_aubrey grey_sens",
          "0_mitochondrial_mitochondria_mtdna_mitoc...",
          "11_heart_stem_stem cells_cells",
          "27_methuselah_methuselah foundation_foun...",
          "28_cancer stem_cancer stem cells_cancer_...",
          "4_telomere_telomeres_telomerase_length",
          "18_genetic_variants_longevity_genes",
          "59_naked_mole_naked mole_mole rats",
          "9_sens_foundation_sens research_sens res...",
          "2_aging_damage_research_slow",
          "10_exercise_brain_physical_cognitive",
          "25_ages_glucosepane_glycation_rage",
          "3_senescent_senescent cells_senescence_c...",
          "40_species_sea_hydra_animals",
          "43_fibrosis_lung_pulmonary_ipf",
          "19_immune_immunosenescence_cells_immunit...",
          "26_physical_physical activity_exercise_a...",
          "7_gut_microbiome_microbiota_gut microbio...",
          "14_muscle_sarcopenia_muscle mass_mass",
          "12_industry_companies_company_longevity",
          "72_nad_nmn_nicotinamide_nad levels",
          "33_reprogramming_partial_partial reprogr...",
          "39_senolytic_senescent_senescent cells_q...",
          "15_epigenetic_clocks_methylation_clock",
          "20_inflammation_inflammatory_chronic_chr..."
         ],
         "categoryorder": "array",
         "domain": [
          0.51,
          0.745
         ],
         "matches": "x",
         "showticklabels": false,
         "title": {
          "text": "Topic Name"
         }
        },
        "xaxis4": {
         "anchor": "y4",
         "categoryarray": [
          "51_cloning_ban_therapeutic cloning_thera...",
          "5_stem_stem cells_cells_embryonic",
          "13_stem cell research_cell research_stem...",
          "50_calorie_calorie restriction_restricti...",
          "60_council_bioethics_kass_leon kass",
          "32_antiaging_marketplace_antiaging medic...",
          "8_grey_aubrey_aubrey grey_sens",
          "0_mitochondrial_mitochondria_mtdna_mitoc...",
          "11_heart_stem_stem cells_cells",
          "27_methuselah_methuselah foundation_foun...",
          "28_cancer stem_cancer stem cells_cancer_...",
          "4_telomere_telomeres_telomerase_length",
          "18_genetic_variants_longevity_genes",
          "59_naked_mole_naked mole_mole rats",
          "9_sens_foundation_sens research_sens res...",
          "2_aging_damage_research_slow",
          "10_exercise_brain_physical_cognitive",
          "25_ages_glucosepane_glycation_rage",
          "3_senescent_senescent cells_senescence_c...",
          "40_species_sea_hydra_animals",
          "43_fibrosis_lung_pulmonary_ipf",
          "19_immune_immunosenescence_cells_immunit...",
          "26_physical_physical activity_exercise_a...",
          "7_gut_microbiome_microbiota_gut microbio...",
          "14_muscle_sarcopenia_muscle mass_mass",
          "12_industry_companies_company_longevity",
          "72_nad_nmn_nicotinamide_nad levels",
          "33_reprogramming_partial_partial reprogr...",
          "39_senolytic_senescent_senescent cells_q...",
          "15_epigenetic_clocks_methylation_clock",
          "20_inflammation_inflammatory_chronic_chr..."
         ],
         "categoryorder": "array",
         "domain": [
          0.7649999999999999,
          0.9999999999999999
         ],
         "matches": "x",
         "showticklabels": false,
         "title": {
          "text": "Topic Name"
         }
        },
        "xaxis5": {
         "anchor": "y5",
         "domain": [
          0,
          0.235
         ],
         "matches": "x",
         "showticklabels": false
        },
        "xaxis6": {
         "anchor": "y6",
         "domain": [
          0.255,
          0.49
         ],
         "matches": "x",
         "showticklabels": false
        },
        "xaxis7": {
         "anchor": "y7",
         "domain": [
          0.51,
          0.745
         ],
         "matches": "x",
         "showticklabels": false
        },
        "xaxis8": {
         "anchor": "y8",
         "domain": [
          0.7649999999999999,
          0.9999999999999999
         ],
         "matches": "x",
         "showticklabels": false
        },
        "xaxis9": {
         "anchor": "y9",
         "domain": [
          0,
          0.235
         ],
         "matches": "x",
         "showticklabels": false
        },
        "yaxis": {
         "anchor": "x",
         "domain": [
          0,
          0.144
         ],
         "title": {
          "text": "Frequency"
         }
        },
        "yaxis10": {
         "anchor": "x10",
         "domain": [
          0.428,
          0.572
         ],
         "matches": "y",
         "showticklabels": false
        },
        "yaxis11": {
         "anchor": "x11",
         "domain": [
          0.428,
          0.572
         ],
         "matches": "y",
         "showticklabels": false
        },
        "yaxis12": {
         "anchor": "x12",
         "domain": [
          0.428,
          0.572
         ],
         "matches": "y",
         "showticklabels": false
        },
        "yaxis13": {
         "anchor": "x13",
         "domain": [
          0.6419999999999999,
          0.7859999999999999
         ],
         "matches": "y",
         "title": {
          "text": "Frequency"
         }
        },
        "yaxis14": {
         "anchor": "x14",
         "domain": [
          0.6419999999999999,
          0.7859999999999999
         ],
         "matches": "y",
         "showticklabels": false
        },
        "yaxis15": {
         "anchor": "x15",
         "domain": [
          0.6419999999999999,
          0.7859999999999999
         ],
         "matches": "y",
         "showticklabels": false
        },
        "yaxis16": {
         "anchor": "x16",
         "domain": [
          0.6419999999999999,
          0.7859999999999999
         ],
         "matches": "y",
         "showticklabels": false
        },
        "yaxis17": {
         "anchor": "x17",
         "domain": [
          0.856,
          1
         ],
         "matches": "y",
         "title": {
          "text": "Frequency"
         }
        },
        "yaxis18": {
         "anchor": "x18",
         "domain": [
          0.856,
          1
         ],
         "matches": "y",
         "showticklabels": false
        },
        "yaxis19": {
         "anchor": "x19",
         "domain": [
          0.856,
          1
         ],
         "matches": "y",
         "showticklabels": false
        },
        "yaxis2": {
         "anchor": "x2",
         "domain": [
          0,
          0.144
         ],
         "matches": "y",
         "showticklabels": false
        },
        "yaxis20": {
         "anchor": "x20",
         "domain": [
          0.856,
          1
         ],
         "matches": "y",
         "showticklabels": false
        },
        "yaxis3": {
         "anchor": "x3",
         "domain": [
          0,
          0.144
         ],
         "matches": "y",
         "showticklabels": false
        },
        "yaxis4": {
         "anchor": "x4",
         "domain": [
          0,
          0.144
         ],
         "matches": "y",
         "showticklabels": false
        },
        "yaxis5": {
         "anchor": "x5",
         "domain": [
          0.214,
          0.358
         ],
         "matches": "y",
         "title": {
          "text": "Frequency"
         }
        },
        "yaxis6": {
         "anchor": "x6",
         "domain": [
          0.214,
          0.358
         ],
         "matches": "y",
         "showticklabels": false
        },
        "yaxis7": {
         "anchor": "x7",
         "domain": [
          0.214,
          0.358
         ],
         "matches": "y",
         "showticklabels": false
        },
        "yaxis8": {
         "anchor": "x8",
         "domain": [
          0.214,
          0.358
         ],
         "matches": "y",
         "showticklabels": false
        },
        "yaxis9": {
         "anchor": "x9",
         "domain": [
          0.428,
          0.572
         ],
         "matches": "y",
         "title": {
          "text": "Frequency"
         }
        }
       }
      }
     },
     "metadata": {},
     "output_type": "display_data"
    },
    {
     "name": "stdout",
     "output_type": "stream",
     "text": [
      "✅ Faceted graph generated. Each year has its own subplot for clarity.\n"
     ]
    }
   ],
   "source": [
    "# Cell 10: Faceted Graph for Maximum Clarity\n",
    "\n",
    "import plotly.express as px\n",
    "import pandas as pd\n",
    "\n",
    "if 'df_ngrams_prepared' in locals():\n",
    "    print(f\"\\n--- Generating Faceted Plot: Top 5 Topics per Year ---\")\n",
    "\n",
    "    # 1. Prepare data\n",
    "    top_topics_per_year_5 = df_ngrams_prepared.groupby('Year').head(5).reset_index(drop=True)\n",
    "    \n",
    "    # IMPORTANT: Ensure 'Year' is treated as a category for proper sorting and display\n",
    "    top_topics_per_year_5['Year'] = top_topics_per_year_5['Year'].astype(str)\n",
    "\n",
    "    # 2. Create the Faceted Plotly Express Bar Chart\n",
    "    fig = px.bar(\n",
    "        top_topics_per_year_5,\n",
    "        x='Name',           # Put the Topic Name on the x-axis now\n",
    "        y='Frequency',\n",
    "        color='Name',       # Still color by name for consistency\n",
    "        hover_data=['Topic', 'N-Grams_List', 'Frequency'],\n",
    "        \n",
    "        # ==============================================================================\n",
    "        facet_col='Year',         # Create a new column of plots for each year\n",
    "        facet_col_wrap=4,         # Wrap to a new row after every 4 years\n",
    "        # ==============================================================================\n",
    "        \n",
    "        title='Top 5 Most Frequent Topics per Year',\n",
    "        labels={'Frequency': 'Frequency', 'Name': 'Topic Name'},\n",
    "    )\n",
    "    \n",
    "    # 3. Customize layout\n",
    "    # Remove x-axis labels since they are redundant with the color legend\n",
    "    fig.update_xaxes(showticklabels=False) \n",
    "    fig.update_layout(\n",
    "        height=800, # May need a taller figure to accommodate the rows\n",
    "        width=1400,\n",
    "        title_x=0.5,\n",
    "        legend_title_text='Topic Name'\n",
    "    )\n",
    "    \n",
    "    # Display the interactive plot\n",
    "    fig.show()\n",
    "    \n",
    "    print(\"✅ Faceted graph generated. Each year has its own subplot for clarity.\")\n",
    "        \n",
    "else:\n",
    "    print(\"The prepared dataframe ('df_ngrams_prepared') is not available. Please run the previous cells first.\")"
   ]
  },
  {
   "cell_type": "code",
   "execution_count": 13,
   "id": "3bfd92e1",
   "metadata": {},
   "outputs": [],
   "source": [
    "# # Celda 8: Reducción y Refinamiento de Tópicos\n",
    "# #\n",
    "# # EJECUTA ESTA CELDA SÓLO SI DESPUÉS DEL ANÁLISIS INICIAL CONSIDERAS\n",
    "# # QUE EL NÚMERO DE TÓPICOS ES DEMASIADO ALTO Y QUIERES UNA VERSIÓN MÁS RESUMIDA.\n",
    "# #\n",
    "# # NOTA: Esta operación modifica el objeto 'topic_model'. Si quieres volver al\n",
    "# # modelo original, simplemente vuelve a ejecutar la \"Celda 2\".\n",
    "\n",
    "# if 'topic_model' in locals():\n",
    "#     # --- Parámetro de ajuste ---\n",
    "#     # Define a cuántos tópicos quieres reducir el modelo.\n",
    "#     desired_topics = 30 \n",
    "    \n",
    "#     print(f\"--- 🔬 Herramienta de Refinamiento ---\")\n",
    "#     print(f\"Reduciendo el número de tópicos a {desired_topics}...\")\n",
    "    \n",
    "#     # --- Lógica de Reducción ---\n",
    "#     # Este comando es muy rápido. No re-entrena, solo fusiona los tópicos existentes.\n",
    "#     topic_model.reduce_topics(documents, nr_topics=desired_topics)\n",
    "    \n",
    "#     print(\"\\n✅ ¡Reducción completada!\")\n",
    "#     print(\"Para ver los resultados, vuelve a ejecutar las celdas de análisis y visualización (Celda 4 y 5).\")\n",
    "    \n",
    "#     # Muestra un resumen rápido de los nuevos tópicos\n",
    "#     topic_info_df = topic_model.get_topic_info()\n",
    "#     display(topic_info_df.head(10))\n",
    "\n",
    "# else:\n",
    "#     print(\"❌ El modelo no ha sido cargado o entrenado. Ejecuta la Celda 2 primero.\")"
   ]
  }
 ],
 "metadata": {
  "kernelspec": {
   "display_name": ".venv",
   "language": "python",
   "name": "python3"
  },
  "language_info": {
   "codemirror_mode": {
    "name": "ipython",
    "version": 3
   },
   "file_extension": ".py",
   "mimetype": "text/x-python",
   "name": "python",
   "nbconvert_exporter": "python",
   "pygments_lexer": "ipython3",
   "version": "3.10.12"
  }
 },
 "nbformat": 4,
 "nbformat_minor": 5
}
